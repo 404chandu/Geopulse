{
 "cells": [
  {
   "cell_type": "code",
   "execution_count": 70,
   "id": "e0913c5b",
   "metadata": {},
   "outputs": [],
   "source": [
    "import pandas as pd\n",
    "import plotly.express as px\n",
    "import seaborn as sns\n",
    "import matplotlib.pyplot as plt\n",
    "import mpld3\n",
    "import warnings\n",
    "import numpy as np"
   ]
  },
  {
   "cell_type": "code",
   "execution_count": 47,
   "id": "3adf6fe2",
   "metadata": {},
   "outputs": [],
   "source": [
    "\n",
    "df = pd.read_csv('povertyindex.csv')\n",
    "\n",
    "# Ensure positive marker sizes\n",
    "df['GDP_Growth_Size'] = df['GDP_Growth'].abs() + 0.1  # Add small value to avoid zero\n",
    "\n",
    "fig = px.scatter(\n",
    "    df,\n",
    "    x='Population_Density',\n",
    "    y='MPI',\n",
    "    color='Region' if 'Region' in df.columns else 'Country',\n",
    "    size='GDP_Growth_Size',\n",
    "    hover_name='Country',\n",
    "    animation_frame='Year',\n",
    "    animation_group='Country',\n",
    "    facet_col='Region' if 'Region' in df.columns else None,\n",
    "    title='Population Density vs. Multidimensional Poverty Index (MPI)',\n",
    "    labels={\n",
    "        'Population_Density': 'Population Density (per km²)',\n",
    "        'MPI': 'Multidimensional Poverty Index',\n",
    "        'GDP_Growth_Size': 'GDP Growth (absolute, %)',\n",
    "        'accesstoelec': 'Access to Electricity (%)'\n",
    "    }\n",
    ")\n",
    "\n",
    "fig.update_traces(marker=dict(line=dict(width=0.5, color='DarkSlateGrey')))\n",
    "fig.update_layout(legend_title_text='Region', height=700)\n",
    "fig.write_html('scatter_density_vs_mpi.html')\n"
   ]
  },
  {
   "cell_type": "code",
   "execution_count": 62,
   "id": "243a72b7",
   "metadata": {},
   "outputs": [],
   "source": [
    "\n",
    "df = pd.read_csv('povertyindex.csv')\n",
    "\n",
    "# Optional: filter data for reasonable values\n",
    "elec_min, elec_max = 0, 100\n",
    "gdp_min, gdp_max = -10, 15\n",
    "\n",
    "filtered = df[\n",
    "    (df['accesstoelec'] >= elec_min) & (df['accesstoelec'] <= elec_max) &\n",
    "    (df['GDP_Growth'] >= gdp_min) & (df['GDP_Growth'] <= gdp_max) &\n",
    "    (df['Year'].between(2000, 2022))\n",
    "]\n",
    "\n",
    "# Use 95th percentile to stretch the color scale\n",
    "mpi_max = filtered['MPI'].quantile(0.95)\n",
    "\n",
    "fig = px.choropleth(\n",
    "    filtered,\n",
    "    locations='Country Code',\n",
    "    color='MPI',\n",
    "    hover_name='Country',\n",
    "    animation_frame='Year',  # <- Adds slider for year\n",
    "    color_continuous_scale='Inferno',\n",
    "    range_color=[0, mpi_max],\n",
    "    title='Multidimensional Poverty Index (MPI) by Country (2000–2022)',\n",
    "    labels={'MPI': 'MPI'}\n",
    ")\n",
    "\n",
    "fig.update_geos(showcoastlines=True, showland=True, fitbounds=\"locations\")\n",
    "fig.write_html('choropleth_mpi_slider.html')\n"
   ]
  },
  {
   "cell_type": "code",
   "execution_count": 73,
   "id": "ab15d6d4",
   "metadata": {},
   "outputs": [
    {
     "data": {
      "application/vnd.plotly.v1+json": {
       "config": {
        "plotlyServerURL": "https://plot.ly"
       },
       "data": [
        {
         "coloraxis": "coloraxis",
         "customdata": {
          "bdata": "lYmKFSXdPkB7In7lwZneP/WPhhf6+ilAF0D2uWH04T86PW26QzIrQNubkC7WhuA/8yVl99PQA0BVVVVVVVXVP4prQupPH3VAAAAAAAAAAAAA0m1MQeCMQAAAAAAAAAAAevpNpgsdJUBIa7uBM4TZP7SX0F5Cz5FAAAAAAAAAAACVuNHmNscfQLu7u7u7u9s/c3n2N5cLg0AAAAAAAAAAAKH1y12LjClAuMgcnPVD4T92DxsTlK0HQIJOG+i0geI/OwOSoQidGEBcj8L1KFzvPwk50w2CYQtAVVVVVVVV1T991g2myNdyQAAAAAAAAAAAMxaGCzZvbUAAAAAAAAAAAN4eruVxPzZAPpo2yMub6T/5cr8hOM0TQNrDS+ezu+c/zgABbrFtbkAAAAAAAAAAAM3MzMzMpaVACtnsw2fYNT+dEx/e+AvFP1VVVVVVVdU/q6qqqqqGckAAAAAAAAAAAGxUdW7eGg9ACat1xNfH5T9+PKdzt3AGQFVVVVVVVdU/IYIRV+gpckAAAAAAAAAAAHG42tF2nnVAAAAAAAAAAACfSrYSl/cWQDdCGb0ta9U/GDaIrLoeCEDFSzeJQWDVPwAAAAAAgWlAAAAAAAAAAAC45IdkrEXPQAAAAAAAAAAAUSfhPapmPECcvGMaLyreP02noUJb8iJAO1wj78gU6D8McrL4t7H4P7U6JngwT9w/GrjeUfgNN0BBwUNLWQjiP8YtGK3nSARAXEiaUnH27T8Mw7TNB6wBQHA9CtejcOE/HBfG8DAsIkBw6QKnC37sP/a2MvGie31AAAAAAAAAAAAJYOKFkn4dQFVVVVVVVdU/mEwVjKrHNEBaClvGYHPVP4HskFwpdChAzRnUM2AV7j9t4Thne60pQHTpYmqGr+U/EXkwtTgaHkBVVVVVVVXVP5janTNKyC1AROZ261+T4T/EAFGKxXu3QAAAAAAAAAAAZmZmZmbqe0AAAAAAAAAAAJI49myqLSxACBGwetUE5D+WorVXvMEHQIN5ov6NUNY/tLS0tLRIjEAAAAAAAAAAAHRLnPo9tzNAvKcShETt2D8Ip0u0wwUbQE1d7S+cr+s/2Vvquu+AI0A3Qhm9LWvVP8+qYmByqTJAFu3kgMUH4z9raJaNG5AuQOhq1eCTjuE/W7y5rILzKkAaKas/C6DiP29KUBehvT5AOG8APN3f5j8=",
          "dtype": "f8",
          "shape": "56, 2"
         },
         "geo": "geo",
         "hovertemplate": "<b>%{hovertext}</b><br><br>Year=2000<br>Country Code=%{location}<br>Population_Density=%{customdata[0]:.2f}<br>MPI=%{z:.3f}<extra></extra>",
         "hovertext": [
          "Afghanistan",
          "Angola",
          "Argentina",
          "Australia",
          "Belgium",
          "Bahrain",
          "Belize",
          "Bermuda",
          "Bolivia",
          "Barbados",
          "Bhutan",
          "Botswana",
          "Central African Republic",
          "Canada",
          "Curacao",
          "Germany",
          "Eritrea",
          "Gabon",
          "United Kingdom",
          "Gibraltar",
          "Greenland",
          "Guam",
          "Guyana",
          "Iceland",
          "Israel",
          "Japan",
          "Kazakhstan",
          "Libya",
          "Liechtenstein",
          "Monaco",
          "Madagascar",
          "Mali",
          "Mongolia",
          "Mozambique",
          "Mauritania",
          "Namibia",
          "Niger",
          "Netherlands",
          "Oman",
          "Peru",
          "Papua New Guinea",
          "Paraguay",
          "Saudi Arabia",
          "Sudan",
          "Singapore",
          "San Marino",
          "Somalia",
          "Suriname",
          "Sint Maarten (Dutch part)",
          "Turks and Caicos Islands",
          "Chad",
          "Turkmenistan",
          "Uruguay",
          "Vanuatu",
          "Zambia",
          "Zimbabwe"
         ],
         "locations": [
          "AFG",
          "AGO",
          "ARG",
          "AUS",
          "BEL",
          "BHR",
          "BLZ",
          "BMU",
          "BOL",
          "BRB",
          "BTN",
          "BWA",
          "CAF",
          "CAN",
          "CUW",
          "DEU",
          "ERI",
          "GAB",
          "GBR",
          "GIB",
          "GRL",
          "GUM",
          "GUY",
          "ISL",
          "ISR",
          "JPN",
          "KAZ",
          "LBY",
          "LIE",
          "MCO",
          "MDG",
          "MLI",
          "MNG",
          "MOZ",
          "MRT",
          "NAM",
          "NER",
          "NLD",
          "OMN",
          "PER",
          "PNG",
          "PRY",
          "SAU",
          "SDN",
          "SGP",
          "SMR",
          "SOM",
          "SUR",
          "SXM",
          "TCA",
          "TCD",
          "TKM",
          "URY",
          "VUT",
          "ZMB",
          "ZWE"
         ],
         "name": "",
         "type": "choropleth",
         "z": {
          "bdata": "eyJ+5cGZ3j8XQPa5YfThP9ubkC7WhuA/VVVVVVVV1T8AAAAAAAAAAAAAAAAAAAAASGu7gTOE2T8AAAAAAAAAALu7u7u7u9s/AAAAAAAAAAC4yByc9UPhP4JOG+i0geI/XI/C9Shc7z9VVVVVVVXVPwAAAAAAAAAAAAAAAAAAAAA+mjbIy5vpP9rDS+ezu+c/AAAAAAAAAAAK2ezDZ9g1P1VVVVVVVdU/AAAAAAAAAAAJq3XE18flP1VVVVVVVdU/AAAAAAAAAAAAAAAAAAAAADdCGb0ta9U/xUs3iUFg1T8AAAAAAAAAAAAAAAAAAAAAnLxjGi8q3j87XCPvyBToP7U6JngwT9w/QcFDS1kI4j9cSJpScfbtP3A9CtejcOE/cOkCpwt+7D8AAAAAAAAAAFVVVVVVVdU/WgpbxmBz1T/NGdQzYBXuP3TpYmqGr+U/VVVVVVVV1T9E5nbrX5PhPwAAAAAAAAAAAAAAAAAAAAAIEbB61QTkP4N5ov6NUNY/AAAAAAAAAAC8pxKERO3YP01d7S+cr+s/N0IZvS1r1T8W7eSAxQfjP+hq1eCTjuE/GimrPwug4j84bwA83d/mPw==",
          "dtype": "f8"
         }
        }
       ],
       "frames": [
        {
         "data": [
          {
           "coloraxis": "coloraxis",
           "customdata": {
            "bdata": "lYmKFSXdPkB7In7lwZneP/WPhhf6+ilAF0D2uWH04T86PW26QzIrQNubkC7WhuA/8yVl99PQA0BVVVVVVVXVP4prQupPH3VAAAAAAAAAAAAA0m1MQeCMQAAAAAAAAAAAevpNpgsdJUBIa7uBM4TZP7SX0F5Cz5FAAAAAAAAAAACVuNHmNscfQLu7u7u7u9s/c3n2N5cLg0AAAAAAAAAAAKH1y12LjClAuMgcnPVD4T92DxsTlK0HQIJOG+i0geI/OwOSoQidGEBcj8L1KFzvPwk50w2CYQtAVVVVVVVV1T991g2myNdyQAAAAAAAAAAAMxaGCzZvbUAAAAAAAAAAAN4eruVxPzZAPpo2yMub6T/5cr8hOM0TQNrDS+ezu+c/zgABbrFtbkAAAAAAAAAAAM3MzMzMpaVACtnsw2fYNT+dEx/e+AvFP1VVVVVVVdU/q6qqqqqGckAAAAAAAAAAAGxUdW7eGg9ACat1xNfH5T9+PKdzt3AGQFVVVVVVVdU/IYIRV+gpckAAAAAAAAAAAHG42tF2nnVAAAAAAAAAAACfSrYSl/cWQDdCGb0ta9U/GDaIrLoeCEDFSzeJQWDVPwAAAAAAgWlAAAAAAAAAAAC45IdkrEXPQAAAAAAAAAAAUSfhPapmPECcvGMaLyreP02noUJb8iJAO1wj78gU6D8McrL4t7H4P7U6JngwT9w/GrjeUfgNN0BBwUNLWQjiP8YtGK3nSARAXEiaUnH27T8Mw7TNB6wBQHA9CtejcOE/HBfG8DAsIkBw6QKnC37sP/a2MvGie31AAAAAAAAAAAAJYOKFkn4dQFVVVVVVVdU/mEwVjKrHNEBaClvGYHPVP4HskFwpdChAzRnUM2AV7j9t4Thne60pQHTpYmqGr+U/EXkwtTgaHkBVVVVVVVXVP5janTNKyC1AROZ261+T4T/EAFGKxXu3QAAAAAAAAAAAZmZmZmbqe0AAAAAAAAAAAJI49myqLSxACBGwetUE5D+WorVXvMEHQIN5ov6NUNY/tLS0tLRIjEAAAAAAAAAAAHRLnPo9tzNAvKcShETt2D8Ip0u0wwUbQE1d7S+cr+s/2Vvquu+AI0A3Qhm9LWvVP8+qYmByqTJAFu3kgMUH4z9raJaNG5AuQOhq1eCTjuE/W7y5rILzKkAaKas/C6DiP29KUBehvT5AOG8APN3f5j8=",
            "dtype": "f8",
            "shape": "56, 2"
           },
           "geo": "geo",
           "hovertemplate": "<b>%{hovertext}</b><br><br>Year=2000<br>Country Code=%{location}<br>Population_Density=%{customdata[0]:.2f}<br>MPI=%{z:.3f}<extra></extra>",
           "hovertext": [
            "Afghanistan",
            "Angola",
            "Argentina",
            "Australia",
            "Belgium",
            "Bahrain",
            "Belize",
            "Bermuda",
            "Bolivia",
            "Barbados",
            "Bhutan",
            "Botswana",
            "Central African Republic",
            "Canada",
            "Curacao",
            "Germany",
            "Eritrea",
            "Gabon",
            "United Kingdom",
            "Gibraltar",
            "Greenland",
            "Guam",
            "Guyana",
            "Iceland",
            "Israel",
            "Japan",
            "Kazakhstan",
            "Libya",
            "Liechtenstein",
            "Monaco",
            "Madagascar",
            "Mali",
            "Mongolia",
            "Mozambique",
            "Mauritania",
            "Namibia",
            "Niger",
            "Netherlands",
            "Oman",
            "Peru",
            "Papua New Guinea",
            "Paraguay",
            "Saudi Arabia",
            "Sudan",
            "Singapore",
            "San Marino",
            "Somalia",
            "Suriname",
            "Sint Maarten (Dutch part)",
            "Turks and Caicos Islands",
            "Chad",
            "Turkmenistan",
            "Uruguay",
            "Vanuatu",
            "Zambia",
            "Zimbabwe"
           ],
           "locations": [
            "AFG",
            "AGO",
            "ARG",
            "AUS",
            "BEL",
            "BHR",
            "BLZ",
            "BMU",
            "BOL",
            "BRB",
            "BTN",
            "BWA",
            "CAF",
            "CAN",
            "CUW",
            "DEU",
            "ERI",
            "GAB",
            "GBR",
            "GIB",
            "GRL",
            "GUM",
            "GUY",
            "ISL",
            "ISR",
            "JPN",
            "KAZ",
            "LBY",
            "LIE",
            "MCO",
            "MDG",
            "MLI",
            "MNG",
            "MOZ",
            "MRT",
            "NAM",
            "NER",
            "NLD",
            "OMN",
            "PER",
            "PNG",
            "PRY",
            "SAU",
            "SDN",
            "SGP",
            "SMR",
            "SOM",
            "SUR",
            "SXM",
            "TCA",
            "TCD",
            "TKM",
            "URY",
            "VUT",
            "ZMB",
            "ZWE"
           ],
           "name": "",
           "type": "choropleth",
           "z": {
            "bdata": "eyJ+5cGZ3j8XQPa5YfThP9ubkC7WhuA/VVVVVVVV1T8AAAAAAAAAAAAAAAAAAAAASGu7gTOE2T8AAAAAAAAAALu7u7u7u9s/AAAAAAAAAAC4yByc9UPhP4JOG+i0geI/XI/C9Shc7z9VVVVVVVXVPwAAAAAAAAAAAAAAAAAAAAA+mjbIy5vpP9rDS+ezu+c/AAAAAAAAAAAK2ezDZ9g1P1VVVVVVVdU/AAAAAAAAAAAJq3XE18flP1VVVVVVVdU/AAAAAAAAAAAAAAAAAAAAADdCGb0ta9U/xUs3iUFg1T8AAAAAAAAAAAAAAAAAAAAAnLxjGi8q3j87XCPvyBToP7U6JngwT9w/QcFDS1kI4j9cSJpScfbtP3A9CtejcOE/cOkCpwt+7D8AAAAAAAAAAFVVVVVVVdU/WgpbxmBz1T/NGdQzYBXuP3TpYmqGr+U/VVVVVVVV1T9E5nbrX5PhPwAAAAAAAAAAAAAAAAAAAAAIEbB61QTkP4N5ov6NUNY/AAAAAAAAAAC8pxKERO3YP01d7S+cr+s/N0IZvS1r1T8W7eSAxQfjP+hq1eCTjuE/GimrPwug4j84bwA83d/mPw==",
            "dtype": "f8"
           }
          }
         ],
         "name": "2000"
        },
        {
         "data": [
          {
           "coloraxis": "coloraxis",
           "customdata": {
            "bdata": "P+mTPum/f0AAAAAAAAAAAF9KWfqUGT9APig8S6Bh6T/10tpW0N0qQIqOnifTSOI/goVMsSB/K0Amej1jVNDkP7f4S6VhEgRAVVVVVVVV1T/iRPZU8TF1QAAAAAAAAAAApiD0j27zjUAAAAAAAAAAAEzdsTwwxyVAzhJmM0sV2T9MaC+hveaRQAAAAAAAAAAA9HH/Es4oIEBHmlJx9uHbP7sbvv0zJSpAjHjCTNg54D8CpyeJmCsIQPTU0rFFWuU/rt8ue4IqGUCGXQFyr7nkP8PPcW0PrgtAVVVVVVVV1T/J4u7d5XttQAAAAAAAAAAAkXU6rVHkNkB/rdpmtlPdP+/QbMdnVBRAzBP1b4Qy2j8nsbNEvYtuQAAAAAAAAAAAZmZmZmabpUAK2ezDZ9g1P1Lb3H6THsU/VVVVVVVV1T8CyTpXHqxyQAAAAAAAAAAA2KN0QSwXD0Bxr7mQNKXaP1F3tjWXvQZAVVVVVVVV1T9fLo720xMXQP9GKKO3ZdU/N4CDwoORCEDEpwVbHdLkPxPjbjazQ89AAAAAAAAAAAB6v4MDFEo9QA5MNWW/ON0/97fgPq3/+D/3DLsC5F7bPxqT3ubQkjdA5s+SVhEb4T/5caCbscoEQCRaB4oQXek/ETqUWY4LAkB+seQXS37hP6uSw/5S0iJACh7ME/Vv5D8PvOcb07R9QAAAAAAAAAAAfM1bI3/bHUBVVVVVVVXVP8cpOpLrEDVAS/1ypsIZ2D8vZ74thkwpQMVgBGRKQuc/2bxoP14dKkDP6cS3G1XhP3H+sJOhtR9Ae3zMCnf+2T85ek7fKIguQJEUYoUHy+A/F4d1tcALMEBcXhs6vJPtPyIiIiIiRnxAAAAAAAAAAABv+f1STFMtQE4TP4KvluM/5vA8mUVACEC8dJMYBFbWPxdIUPwY8xtAkqZUnH345D/cR+Zd+OUjQDdCGb0ta9U/OUfW0Da1MkANNit7rkHjP9XVU4ydVy9AMmVUxH3t6z+QuyqNVccrQMXrojk6JOI/HZKiv3fyPkCSR1Np6DLYPw==",
            "dtype": "f8",
            "shape": "49, 2"
           },
           "geo": "geo",
           "hovertemplate": "<b>%{hovertext}</b><br><br>Year=2001<br>Country Code=%{location}<br>Population_Density=%{customdata[0]:.2f}<br>MPI=%{z:.3f}<extra></extra>",
           "hovertext": [
            "Aruba",
            "Afghanistan",
            "Angola",
            "Argentina",
            "Australia",
            "Belgium",
            "Bahrain",
            "Belize",
            "Bermuda",
            "Bolivia",
            "Bhutan",
            "Botswana",
            "Central African Republic",
            "Canada",
            "Germany",
            "Eritrea",
            "Gabon",
            "United Kingdom",
            "Gibraltar",
            "Greenland",
            "Guam",
            "Guyana",
            "Iceland",
            "Kazakhstan",
            "Libya",
            "Monaco",
            "Madagascar",
            "Mongolia",
            "Mozambique",
            "Mauritania",
            "Namibia",
            "Niger",
            "Netherlands",
            "Oman",
            "Peru",
            "Papua New Guinea",
            "Paraguay",
            "Saudi Arabia",
            "Sudan",
            "Solomon Islands",
            "San Marino",
            "Somalia",
            "Suriname",
            "Chad",
            "Turkmenistan",
            "Uruguay",
            "Vanuatu",
            "Zambia",
            "Zimbabwe"
           ],
           "locations": [
            "ABW",
            "AFG",
            "AGO",
            "ARG",
            "AUS",
            "BEL",
            "BHR",
            "BLZ",
            "BMU",
            "BOL",
            "BTN",
            "BWA",
            "CAF",
            "CAN",
            "DEU",
            "ERI",
            "GAB",
            "GBR",
            "GIB",
            "GRL",
            "GUM",
            "GUY",
            "ISL",
            "KAZ",
            "LBY",
            "MCO",
            "MDG",
            "MNG",
            "MOZ",
            "MRT",
            "NAM",
            "NER",
            "NLD",
            "OMN",
            "PER",
            "PNG",
            "PRY",
            "SAU",
            "SDN",
            "SLB",
            "SMR",
            "SOM",
            "SUR",
            "TCD",
            "TKM",
            "URY",
            "VUT",
            "ZMB",
            "ZWE"
           ],
           "name": "",
           "type": "choropleth",
           "z": {
            "bdata": "AAAAAAAAAAA+KDxLoGHpP4qOnifTSOI/Jno9Y1TQ5D9VVVVVVVXVPwAAAAAAAAAAAAAAAAAAAADOEmYzSxXZPwAAAAAAAAAAR5pScfbh2z+MeMJM2DngP/TU0rFFWuU/hl0Bcq+55D9VVVVVVVXVPwAAAAAAAAAAf63aZrZT3T/ME/VvhDLaPwAAAAAAAAAACtnsw2fYNT9VVVVVVVXVPwAAAAAAAAAAca+5kDSl2j9VVVVVVVXVP/9GKKO3ZdU/xKcFWx3S5D8AAAAAAAAAAA5MNWW/ON0/9wy7AuRe2z/mz5JWERvhPyRaB4oQXek/frHkF0t+4T8KHswT9W/kPwAAAAAAAAAAVVVVVVVV1T9L/XKmwhnYP8VgBGRKQuc/z+nEtxtV4T97fMwKd/7ZP5EUYoUHy+A/XF4bOryT7T8AAAAAAAAAAE4TP4KvluM/vHSTGARW1j+SplScffjkPzdCGb0ta9U/DTYre65B4z8yZVTEfe3rP8Xrojk6JOI/kkdTaegy2D8=",
            "dtype": "f8"
           }
          }
         ],
         "name": "2001"
        },
        {
         "data": [
          {
           "coloraxis": "coloraxis",
           "customdata": {
            "bdata": "bdcBWjbMK0CKtbagAX3hP4oyoo0qTQRAVVVVVVVV1T+vyfPyUUp1QAAAAAAAAAAA+TDu1yUXkEAAAAAAAAAAADgjGyN0ciZAl1n1ru672D82Anz6km4gQAOdNtBpA90/VecxJGa6KkBMl3yK6XbfP5Ye0/USoQhAdNpApw104j+u2bC41rgZQBVnHz7DruQ/TgqECln7C0BVVVVVVVXVP6uyBbdesTdAX5J6MJZ+3D+IJ4P5quEUQHQr4rzFeeE/zNej0emsbkAAAAAAAAAAADMzMzMzvqVAPuDsw2fYRT9QXRw3SjPFPyVmaEXgrOE/VVVVVVXJckAAAAAAAAAAAJ7afWWVDg9AHcwT9W+E2j87nuJcyfEGQK7sJFA0d9g/ejwmfZkyF0DFSzeJQWDVP7jeZD92CwlA02XHQsUk4j/yvWCGiD3PQAAAAAAAAAAASd8CLSYkJEAKTEfbhu3jP83MzMycVZNAAAAAAAAAAAA9Ec9/dlL5P4lBYOXQIts/mjM3+L0bOEAl7kV806zgP/YOBIG0QQVA0tuyVscE4z+KPVReRouCQBWp8dJNYmA/themwXNdAkD/Riijt2XhPzMBu8uFfyNAmCfq3whl5D8EMZ+zkjQeQJruaG2nAuE/sfKBvaEpKkAm+7xCHzznP3XVgUJEfCpA8fvU0kuj3D+GPTku6akgQH5L/RR6q+A/yROgxkxLL0D+QvaU0ajgPx+onN3CWLhAAAAAAAAAAAAwjulg6lkwQH7dgNizL+0/VkcY4jpyLkAIYxczsybjP9VKJpLAvwhA9G+EMnpb1j+0tLS0tHSMQArZ7MNn2DU/A2MN+7bwHEAgsHJoke3kPxw2g0pyTCRA7BZ6PQ6f2j92YUpF97syQMcGWIImPeM/SCjvnkgRMEAeqNJ6AqTrP6WiJTSipSxA3FbR0gtT4j+KJrE3ET8/QBJaP66xr+Y/",
            "dtype": "f8",
            "shape": "45, 2"
           },
           "geo": "geo",
           "hovertemplate": "<b>%{hovertext}</b><br><br>Year=2002<br>Country Code=%{location}<br>Population_Density=%{customdata[0]:.2f}<br>MPI=%{z:.3f}<extra></extra>",
           "hovertext": [
            "Angola",
            "Australia",
            "Belgium",
            "Bahrain",
            "Belize",
            "Bolivia",
            "Bhutan",
            "Botswana",
            "Central African Republic",
            "Canada",
            "Eritrea",
            "Gabon",
            "United Kingdom",
            "Gibraltar",
            "Greenland",
            "Guam",
            "Guyana",
            "Iceland",
            "Kazakhstan",
            "Libya",
            "Monaco",
            "Mali",
            "Malta",
            "Mongolia",
            "Mozambique",
            "Mauritania",
            "Mauritius",
            "Namibia",
            "Niger",
            "Oman",
            "Papua New Guinea",
            "Paraguay",
            "Saudi Arabia",
            "Sudan",
            "Singapore",
            "Solomon Islands",
            "Somalia",
            "Suriname",
            "Sint Maarten (Dutch part)",
            "Chad",
            "Turkmenistan",
            "Uruguay",
            "Vanuatu",
            "Zambia",
            "Zimbabwe"
           ],
           "locations": [
            "AGO",
            "AUS",
            "BEL",
            "BHR",
            "BLZ",
            "BOL",
            "BTN",
            "BWA",
            "CAF",
            "CAN",
            "ERI",
            "GAB",
            "GBR",
            "GIB",
            "GRL",
            "GUM",
            "GUY",
            "ISL",
            "KAZ",
            "LBY",
            "MCO",
            "MLI",
            "MLT",
            "MNG",
            "MOZ",
            "MRT",
            "MUS",
            "NAM",
            "NER",
            "OMN",
            "PNG",
            "PRY",
            "SAU",
            "SDN",
            "SGP",
            "SLB",
            "SOM",
            "SUR",
            "SXM",
            "TCD",
            "TKM",
            "URY",
            "VUT",
            "ZMB",
            "ZWE"
           ],
           "name": "",
           "type": "choropleth",
           "z": {
            "bdata": "irW2oAF94T9VVVVVVVXVPwAAAAAAAAAAAAAAAAAAAACXWfWu7rvYPwOdNtBpA90/TJd8iul23z902kCnDXTiPxVnHz7DruQ/VVVVVVVV1T9fknowln7cP3Qr4rzFeeE/AAAAAAAAAAA+4OzDZ9hFPyVmaEXgrOE/AAAAAAAAAAAdzBP1b4TaP67sJFA0d9g/xUs3iUFg1T/TZcdCxSTiPwAAAAAAAAAACkxH24bt4z8AAAAAAAAAAIlBYOXQIts/Je5FfNOs4D/S27JWxwTjPxWp8dJNYmA//0Yoo7dl4T+YJ+rfCGXkP5ruaG2nAuE/Jvu8Qh885z/x+9TSS6PcP35L/RR6q+A//kL2lNGo4D8AAAAAAAAAAH7dgNizL+0/CGMXM7Mm4z/0b4QyelvWPwrZ7MNn2DU/ILByaJHt5D/sFno9Dp/aP8cGWIImPeM/HqjSegKk6z/cVtHSC1PiPxJaP66xr+Y/",
            "dtype": "f8"
           }
          }
         ],
         "name": "2002"
        },
        {
         "data": [
          {
           "coloraxis": "coloraxis",
           "customdata": {
            "bdata": "sAVbsAUrgEAAAAAAAAAAAMb/lfkyySxATiiPyTw94T+3DZ/rSYkEQFVVVVVVVdU/iSQjbC9hdUAAAAAAAAAAAJdUPoz7T5FAAAAAAAAAAAA+cTdC4iAnQIzzZRu6Ydg/E9pLaC8NkkAAAAAAAAAAAEUo2LWhtSBAoykVZx8+2z+3CuF1q1CDQAAAAAAAAAAA3QUblKNLK0AhVfOHBfTfP3kNKGoAEQlANOwKkHvN4T/+/EQtS1gaQLKd76fGS+8/A1eQlA08DEBVVVVVVVXVPyOMsQwusThALEfrXkig6D/VYU8mkHUVQOpRuB6F69k/KDnNpJDRbkAAAAAAAAAAAM3MzMzMFqZAPuDsw2fYRT+mVxH1P0LFP1VVVVVVVdU/GvMz09gID0DNWaXOQALjP21AooOaGgdAVVVVVVVV1T9bCwh7LFJzQAAAAAAAAAAAY/UHeqTEdUAAAAAAAAAAAKuO9toAVRdAjVBGb8ta1T/G/hc1pYwJQLgehetRuNY/GLTKcbExz0AAAAAAAAAAAOgOvmBrEz9A2H2UfnUY2z8QKpByscokQAZA1krmqOM/ZmZmZkZ2k0AAAAAAAAAAAJXJKt1vpfk/yehtWatj2j+TmPpxEqk4QMgHt4JUj+A/vtBvt6m/BUDhehSuR+HiP7ClPoDYoQJAgNxrLiRN4T9xTOEdijQkQCZ2vkVgUOQ/3A5LHsSMHkBVVVVVVVXlP3saf1O+CytAPdZlxOz24j8WHt1hhHohQFVVVVVVVdU/8WBh5RkBMEBuDmdp+IrgP+8JHQaI/bdAAAAAAAAAAAD/niSKgKcwQHDAKCIoIeI/zczMzMwAfUAAAAAAAAAAAIvBJ3RNly9AJp3acBa+4j+u43NwmT0JQC5rdUzwYNY/jnmIL78eHkBMN4lBYOXkP6qmgKfUdzBAbLHdW9is4D9QtZwqzowtQHO7vpovFuI/",
            "dtype": "f8",
            "shape": "45, 2"
           },
           "geo": "geo",
           "hovertemplate": "<b>%{hovertext}</b><br><br>Year=2003<br>Country Code=%{location}<br>Population_Density=%{customdata[0]:.2f}<br>MPI=%{z:.3f}<extra></extra>",
           "hovertext": [
            "Aruba",
            "Angola",
            "Australia",
            "Belgium",
            "Bahrain",
            "Belize",
            "Bermuda",
            "Bolivia",
            "Barbados",
            "Bhutan",
            "Botswana",
            "Central African Republic",
            "Canada",
            "Eritrea",
            "Gabon",
            "United Kingdom",
            "Gibraltar",
            "Greenland",
            "Guyana",
            "Iceland",
            "Israel",
            "Japan",
            "Kazakhstan",
            "Libya",
            "Monaco",
            "Madagascar",
            "Mali",
            "Malta",
            "Mongolia",
            "Mozambique",
            "Mauritania",
            "Namibia",
            "Niger",
            "Oman",
            "Papua New Guinea",
            "Saudi Arabia",
            "Sudan",
            "Singapore",
            "Solomon Islands",
            "San Marino",
            "Somalia",
            "Suriname",
            "Chad",
            "Vanuatu",
            "Zambia"
           ],
           "locations": [
            "ABW",
            "AGO",
            "AUS",
            "BEL",
            "BHR",
            "BLZ",
            "BMU",
            "BOL",
            "BRB",
            "BTN",
            "BWA",
            "CAF",
            "CAN",
            "ERI",
            "GAB",
            "GBR",
            "GIB",
            "GRL",
            "GUY",
            "ISL",
            "ISR",
            "JPN",
            "KAZ",
            "LBY",
            "MCO",
            "MDG",
            "MLI",
            "MLT",
            "MNG",
            "MOZ",
            "MRT",
            "NAM",
            "NER",
            "OMN",
            "PNG",
            "SAU",
            "SDN",
            "SGP",
            "SLB",
            "SMR",
            "SOM",
            "SUR",
            "TCD",
            "VUT",
            "ZMB"
           ],
           "name": "",
           "type": "choropleth",
           "z": {
            "bdata": "AAAAAAAAAABOKI/JPD3hP1VVVVVVVdU/AAAAAAAAAAAAAAAAAAAAAIzzZRu6Ydg/AAAAAAAAAACjKRVnHz7bPwAAAAAAAAAAIVXzhwX03z807AqQe83hP7Kd76fGS+8/VVVVVVVV1T8sR+teSKDoP+pRuB6F69k/AAAAAAAAAAA+4OzDZ9hFP1VVVVVVVdU/zVmlzkAC4z9VVVVVVVXVPwAAAAAAAAAAAAAAAAAAAACNUEZvy1rVP7gehetRuNY/AAAAAAAAAADYfZR+dRjbPwZA1krmqOM/AAAAAAAAAADJ6G1Zq2PaP8gHt4JUj+A/4XoUrkfh4j+A3GsuJE3hPyZ2vkVgUOQ/VVVVVVVV5T891mXE7PbiP1VVVVVVVdU/bg5nafiK4D8AAAAAAAAAAHDAKCIoIeI/AAAAAAAAAAAmndpwFr7iPy5rdUzwYNY/TDeJQWDl5D9ssd1b2KzgP3O7vpovFuI/",
            "dtype": "f8"
           }
          }
         ],
         "name": "2003"
        },
        {
         "data": [
          {
           "coloraxis": "coloraxis",
           "customdata": {
            "bdata": "BluwBVuEgEAAAAAAAAAAAK+0j2Pm1i1AJTn9ffj94D+VRNwYzcEEQFVVVVVVVdU/4ohJg+x4dUAAAAAAAAAAAMpwqGVPp5JAAAAAAAAAAABJY92dY9InQF/705mzBtg/fAntJbQZkkAAAAAAAAAAAFm1zbM4/iBArNUxwYN52j/HT4tt/GyDQArZ7MNn2DU/QlCYo8rYK0AP8CeSjoDdP+eaeSSCgglAxCCwcmiR4T+OwCbozOsaQJb8YskvluQ/BKk+Pr9/DEBVVVVVVVXVP5qtBMIki21AAAAAAAAAAABH5Cbiv7k5QKkXHdGDJ9s/59Cx0JQRFkAgBwrVdfrbPx7WdYCU/m5AAAAAAAAAAAAAAAAAAG+mQPyp8dJNYlA/N1euwFhQxT9VVVVVVVXVP9pLaC+h9XJAAAAAAAAAAADo1qNvvAEPQK4AuddcSNo/x1YlNcJOB0BVVVVVVVXVP97njnphqnNAAAAAAAAAAAATFC6V3pNoQAAAAAAAAAAAcGg4yITGdUAAAAAAAAAAADMZvdD8exdAVVVVVVVV1T8xXxbzZRl8QArZ7MNn2DU/5kvQdCsVCkB8zYWkKRXXP2ZmZmZm6WpAAAAAAAAAAABZRrmPKiHPQAAAAAAAAAAAn6JCFNx5JUBvttdpH2PjP5vKoPum7/k/G6GM3pa12j+i5hG/3Do5QOT9YpR0IeA/i1+3aQhEBkDwGXYFyL3iP7Oh4b8V3wJAAXKvuZA04T+usG2oDPIkQObu6HBEb+Y/IanZoXskfkAAAAAAAAAAAK50QvZ/FB9AVVVVVVVV1T9UXy4cb/IrQHy0n1M+zeI/nSWOnMFMIkBVVVVVVVXVP7YIUiKiWzBAliT57aJq4D9ZBTfI5kq4QAAAAAAAAAAApOj20tn0MECg+lJSV73hPzMzMzMzr35AAAAAAAAAAABP0HWlY2MwQHascnqgTuI/ZBFpHWmdCUBmZmZmZmbWP7SreIkZ4DBAslg9ZZ5i4D8I8ySQCIEuQFwAeF94xOE/",
            "dtype": "f8",
            "shape": "48, 2"
           },
           "geo": "geo",
           "hovertemplate": "<b>%{hovertext}</b><br><br>Year=2004<br>Country Code=%{location}<br>Population_Density=%{customdata[0]:.2f}<br>MPI=%{z:.3f}<extra></extra>",
           "hovertext": [
            "Aruba",
            "Angola",
            "Australia",
            "Belgium",
            "Bahrain",
            "Belize",
            "Bermuda",
            "Bolivia",
            "Barbados",
            "Bhutan",
            "Botswana",
            "Central African Republic",
            "Canada",
            "Germany",
            "Eritrea",
            "Gabon",
            "United Kingdom",
            "Gibraltar",
            "Greenland",
            "Guam",
            "Guyana",
            "Iceland",
            "Israel",
            "Italy",
            "Japan",
            "Kazakhstan",
            "Lebanon",
            "Libya",
            "Liechtenstein",
            "Monaco",
            "Mali",
            "Mongolia",
            "Mozambique",
            "Mauritania",
            "Namibia",
            "Niger",
            "Netherlands",
            "Oman",
            "Papua New Guinea",
            "Saudi Arabia",
            "Sudan",
            "Singapore",
            "Solomon Islands",
            "San Marino",
            "Somalia",
            "Suriname",
            "Vanuatu",
            "Zambia"
           ],
           "locations": [
            "ABW",
            "AGO",
            "AUS",
            "BEL",
            "BHR",
            "BLZ",
            "BMU",
            "BOL",
            "BRB",
            "BTN",
            "BWA",
            "CAF",
            "CAN",
            "DEU",
            "ERI",
            "GAB",
            "GBR",
            "GIB",
            "GRL",
            "GUM",
            "GUY",
            "ISL",
            "ISR",
            "ITA",
            "JPN",
            "KAZ",
            "LBN",
            "LBY",
            "LIE",
            "MCO",
            "MLI",
            "MNG",
            "MOZ",
            "MRT",
            "NAM",
            "NER",
            "NLD",
            "OMN",
            "PNG",
            "SAU",
            "SDN",
            "SGP",
            "SLB",
            "SMR",
            "SOM",
            "SUR",
            "VUT",
            "ZMB"
           ],
           "name": "",
           "type": "choropleth",
           "z": {
            "bdata": "AAAAAAAAAAAlOf19+P3gP1VVVVVVVdU/AAAAAAAAAAAAAAAAAAAAAF/705mzBtg/AAAAAAAAAACs1THBg3naPwrZ7MNn2DU/D/Anko6A3T/EILByaJHhP5b8YskvluQ/VVVVVVVV1T8AAAAAAAAAAKkXHdGDJ9s/IAcK1XX62z8AAAAAAAAAAPyp8dJNYlA/VVVVVVVV1T8AAAAAAAAAAK4AuddcSNo/VVVVVVVV1T8AAAAAAAAAAAAAAAAAAAAAAAAAAAAAAABVVVVVVVXVPwrZ7MNn2DU/fM2FpCkV1z8AAAAAAAAAAAAAAAAAAAAAb7bXaR9j4z8boYzelrXaP+T9YpR0IeA/8Bl2Bci94j8Bcq+5kDThP+bu6HBEb+Y/AAAAAAAAAABVVVVVVVXVP3y0n1M+zeI/VVVVVVVV1T+WJPntomrgPwAAAAAAAAAAoPpSUle94T8AAAAAAAAAAHascnqgTuI/ZmZmZmZm1j+yWD1lnmLgP1wAeF94xOE/",
            "dtype": "f8"
           }
          }
         ],
         "name": "2004"
        },
        {
         "data": [
          {
           "coloraxis": "coloraxis",
           "customdata": {
            "bdata": "ZN27gOECBUBVVVVVVVXVP+BMB0s+l3VAAAAAAAAAAADlw7hflyCUQAAAAAAAAAAASkf4t+yGKEAtg9wgaKXXP7SX0F5CJZJAAAAAAAAAAACIqKwnLEghQH9qvHSTGNw/5/Lsby6Hg0AK2ezDZ9g1P+7Bv27ZVCxA7PXQjQew2z89lAnxyfgJQFVVVVVVVeE/MJxUDZKJG0CB7Y8V0N7kP6QX9hssxQxAVVVVVVVV1T+pupsAQlk6QOPZYYFelto/8k4aGAq4FkAO5on6N0LZPyoLFE0/NW9AAAAAAAAAAACamZmZmcimQPyp8dJNYlA/arPCFuVTxT9VVVVVVVXVP6G9hPYSBnNAAAAAAAAAAACiIV3ZE/IOQESEUgYYj+c//hXmGfWtB0BVVVVVVVXVP4Ry5i3rA3RAAAAAAAAAAAAyNSLSCsd1QAAAAAAAAAAAqKCHrLqoF0BVVVVVVVXVP5snYe9KowpAPnyGXQFy1z+amZmZmSZrQAAAAAAAAAAAcBLKQD0Jz0AAAAAAAAAAAG3vv3noMCZAErXWcpAZ4z/NzMzM7LeTQAAAAAAAAAAAfinY9sA5+j/gwTxR/0bYP578/E3/0TlA4miHFDu23z8aLtdc6M8GQDEIrBxaZOM/fUhx2gccA0CCB/NE/RvhP6TQR1RAuCVASoX6fcFY5D9E91vbiDZ+QAAAAAAAAAAAiFHCbGjKH0CNUEZvy1rVPxwF1IVx3SxA8osGhbel4j/UqG8l1CAjQFVVVVVVVdU/d7Z/Uly8MEBsfQOHpkjgP3+GsBfP3rhAAAAAAAAAAAAOGJc0T0IxQAFvaAR/WeE/REREREQUf0AAAAAAAAAAAIuuRAGd9zBAdNEPZhrg4T98yN81L+IJQJ5hV4Dca9Y/09LS0tJ2jUD8qfHSTWJQP4rQdQUiSjFAN89N9DAV4D/wGnVdLocvQNtkG+GYT+E/",
            "dtype": "f8",
            "shape": "45, 2"
           },
           "geo": "geo",
           "hovertemplate": "<b>%{hovertext}</b><br><br>Year=2005<br>Country Code=%{location}<br>Population_Density=%{customdata[0]:.2f}<br>MPI=%{z:.3f}<extra></extra>",
           "hovertext": [
            "Australia",
            "Belgium",
            "Bahrain",
            "Belize",
            "Bermuda",
            "Bolivia",
            "Barbados",
            "Bhutan",
            "Botswana",
            "Central African Republic",
            "Canada",
            "Eritrea",
            "Gabon",
            "United Kingdom",
            "Gibraltar",
            "Greenland",
            "Guam",
            "Guyana",
            "Iceland",
            "Israel",
            "Japan",
            "Kazakhstan",
            "Libya",
            "Liechtenstein",
            "Monaco",
            "Mali",
            "Malta",
            "Mongolia",
            "Mozambique",
            "Mauritania",
            "Namibia",
            "Niger",
            "Netherlands",
            "Oman",
            "Papua New Guinea",
            "Saudi Arabia",
            "Sudan",
            "Singapore",
            "Solomon Islands",
            "San Marino",
            "Somalia",
            "Suriname",
            "Sint Maarten (Dutch part)",
            "Vanuatu",
            "Zambia"
           ],
           "locations": [
            "AUS",
            "BEL",
            "BHR",
            "BLZ",
            "BMU",
            "BOL",
            "BRB",
            "BTN",
            "BWA",
            "CAF",
            "CAN",
            "ERI",
            "GAB",
            "GBR",
            "GIB",
            "GRL",
            "GUM",
            "GUY",
            "ISL",
            "ISR",
            "JPN",
            "KAZ",
            "LBY",
            "LIE",
            "MCO",
            "MLI",
            "MLT",
            "MNG",
            "MOZ",
            "MRT",
            "NAM",
            "NER",
            "NLD",
            "OMN",
            "PNG",
            "SAU",
            "SDN",
            "SGP",
            "SLB",
            "SMR",
            "SOM",
            "SUR",
            "SXM",
            "VUT",
            "ZMB"
           ],
           "name": "",
           "type": "choropleth",
           "z": {
            "bdata": "VVVVVVVV1T8AAAAAAAAAAAAAAAAAAAAALYPcIGil1z8AAAAAAAAAAH9qvHSTGNw/Ctnsw2fYNT/s9dCNB7DbP1VVVVVVVeE/ge2PFdDe5D9VVVVVVVXVP+PZYYFelto/DuaJ+jdC2T8AAAAAAAAAAPyp8dJNYlA/VVVVVVVV1T8AAAAAAAAAAESEUgYYj+c/VVVVVVVV1T8AAAAAAAAAAAAAAAAAAAAAVVVVVVVV1T8+fIZdAXLXPwAAAAAAAAAAAAAAAAAAAAAStdZykBnjPwAAAAAAAAAA4ME8Uf9G2D/iaIcUO7bfPzEIrBxaZOM/ggfzRP0b4T9Khfp9wVjkPwAAAAAAAAAAjVBGb8ta1T/yiwaFt6XiP1VVVVVVVdU/bH0Dh6ZI4D8AAAAAAAAAAAFvaAR/WeE/AAAAAAAAAAB00Q9mGuDhP55hV4Dca9Y//Knx0k1iUD83z030MBXgP9tkG+GYT+E/",
            "dtype": "f8"
           }
          }
         ],
         "name": "2005"
        },
        {
         "data": [
          {
           "coloraxis": "coloraxis",
           "customdata": {
            "bdata": "AAAAAABCgUAAAAAAAAAAAOYXiL/6DTBAxrh48iZ34D8cFaRL9UsFQFVVVVVVVdU/3IGJt9G7dUAAAAAAAAAAAF6Ai+Ssv5VAAAAAAAAAAACWVUduyz0pQG2Q6ZoK29U/JrSX0F4ukkAAAAAAAAAAALIImzQ8lCFAAuRecyFp2j+wdJIDS5+DQAAAAAAAAAAAzOoJ+r+2LEA/5mlPYpvbP2ILFdr2dQpA5on6N0IZ4T9vvNExexscQLQPn2FXgOQ/urdiyTMQDUBVVVVVVVXVP9vv6JWx4XNA/Knx0k1iUD/v7u7u7h5pQAAAAAAAAAAA/c8mRlR+bUAAAAAAAAAAABoJj9JwxDpAgcd7hf0Q5D8q0fCyPmoXQGoDnTbQaec/YlmBQDBwb0AAAAAAAAAAAM3MzMzMHqdA/Knx0k1iUD9N9PsljUTFP1VVVVVVVdU/oYxB4MvdDkAzXrpJDALbPyQVLsXwPQhAVVVVVVVV1T+T0t8TTl90QAAAAAAAAAAAJUrv8BHSaEAAAAAAAAAAAFBbDJWTynVAAAAAAAAAAACMenp+KdwXQMVLN4lBYNU/B4JuIOgGfUAVqfHSTWJgP/HCLTicMAtAAiuHFtnO1z9mZmZmZl9rQAAAAAAAAAAACdMrr3/jzkAAAAAAAAAAAG9dU3Jb7iZAGm/Tuv4r4z+amZmZWcqTQAAAAAAAAAAA029PPi2L+j89CtejcD3aPwJ0AMwTbzpAWi+gM+sg3z+F0QI8+1oDQAOdNtBpA+E/Yjd13luHJkCPEgAbEQHkP9Uu4aD3Qn5AAAAAAAAAAADK3ZuGLUAgQI1QRm/LWtU/v/TQeuvMLUA+odxANbTiP0O5/OsB9yNAVVVVVVVV1T/M71j4ZiAxQBrCit7HJeA/JtIDlTOpuUAAAAAAAAAAABplO/MtkDFAo8VthM3H4T8REREREXF/QAAAAAAAAAAAeCxnCMx+MUAvPa/Bl7bhPxg/dKO1KgpAQKcNdNpA1z8dHh4eHs6NQPyp8dJNYlA/9YlTAYz+IEA8MUci/jLqPwTCSDtWoG9AAAAAAAAAAAA9DsNkj7YxQB+VrFHjdeA/k/9iywhRMEBoN9WTCBThPw==",
            "dtype": "f8",
            "shape": "52, 2"
           },
           "geo": "geo",
           "hovertemplate": "<b>%{hovertext}</b><br><br>Year=2006<br>Country Code=%{location}<br>Population_Density=%{customdata[0]:.2f}<br>MPI=%{z:.3f}<extra></extra>",
           "hovertext": [
            "Aruba",
            "Angola",
            "Australia",
            "Belgium",
            "Bahrain",
            "Belize",
            "Bermuda",
            "Bolivia",
            "Barbados",
            "Bhutan",
            "Botswana",
            "Central African Republic",
            "Canada",
            "Curacao",
            "Cayman Islands",
            "Germany",
            "Eritrea",
            "Gabon",
            "United Kingdom",
            "Gibraltar",
            "Greenland",
            "Guyana",
            "Iceland",
            "Israel",
            "Italy",
            "Japan",
            "Kazakhstan",
            "Lebanon",
            "Libya",
            "Liechtenstein",
            "Monaco",
            "Mali",
            "Malta",
            "Mongolia",
            "Mozambique",
            "Namibia",
            "Niger",
            "Netherlands",
            "Oman",
            "Papua New Guinea",
            "Saudi Arabia",
            "Sudan",
            "Singapore",
            "Solomon Islands",
            "San Marino",
            "Somalia",
            "Suriname",
            "Sint Maarten (Dutch part)",
            "Chad",
            "Trinidad and Tobago",
            "Vanuatu",
            "Zambia"
           ],
           "locations": [
            "ABW",
            "AGO",
            "AUS",
            "BEL",
            "BHR",
            "BLZ",
            "BMU",
            "BOL",
            "BRB",
            "BTN",
            "BWA",
            "CAF",
            "CAN",
            "CUW",
            "CYM",
            "DEU",
            "ERI",
            "GAB",
            "GBR",
            "GIB",
            "GRL",
            "GUY",
            "ISL",
            "ISR",
            "ITA",
            "JPN",
            "KAZ",
            "LBN",
            "LBY",
            "LIE",
            "MCO",
            "MLI",
            "MLT",
            "MNG",
            "MOZ",
            "NAM",
            "NER",
            "NLD",
            "OMN",
            "PNG",
            "SAU",
            "SDN",
            "SGP",
            "SLB",
            "SMR",
            "SOM",
            "SUR",
            "SXM",
            "TCD",
            "TTO",
            "VUT",
            "ZMB"
           ],
           "name": "",
           "type": "choropleth",
           "z": {
            "bdata": "AAAAAAAAAADGuHjyJnfgP1VVVVVVVdU/AAAAAAAAAAAAAAAAAAAAAG2Q6ZoK29U/AAAAAAAAAAAC5F5zIWnaPwAAAAAAAAAAP+ZpT2Kb2z/mifo3QhnhP7QPn2FXgOQ/VVVVVVVV1T/8qfHSTWJQPwAAAAAAAAAAAAAAAAAAAACBx3uF/RDkP2oDnTbQaec/AAAAAAAAAAD8qfHSTWJQP1VVVVVVVdU/M166SQwC2z9VVVVVVVXVPwAAAAAAAAAAAAAAAAAAAAAAAAAAAAAAAMVLN4lBYNU/Fanx0k1iYD8CK4cW2c7XPwAAAAAAAAAAAAAAAAAAAAAab9O6/ivjPwAAAAAAAAAAPQrXo3A92j9aL6Az6yDfPwOdNtBpA+E/jxIAGxEB5D8AAAAAAAAAAI1QRm/LWtU/PqHcQDW04j9VVVVVVVXVPxrCit7HJeA/AAAAAAAAAACjxW2EzcfhPwAAAAAAAAAALz2vwZe24T9Apw102kDXP/yp8dJNYlA/PDFHIv4y6j8AAAAAAAAAAB+VrFHjdeA/aDfVkwgU4T8=",
            "dtype": "f8"
           }
          }
         ],
         "name": "2006"
        },
        {
         "data": [
          {
           "coloraxis": "coloraxis",
           "customdata": {
            "bdata": "chzHcRxjgUAAAAAAAAAAAEIAcqK2qjBAZYgYZWsc3z8RTpilXrAFQFVVVVVVVdU/jKaykNPkdUAAAAAAAAAAAB6YawfmiJdAAAAAAAAAAACJeJ4cWfYpQK0tWqKV5tY/9xLaS2g7kkAAAAAAAAAAAGTDt+Pf4SFAKKO3Za2O2T9/c3n2N7eDQAAAAAAAAAAAnsbriYj6CkB2vp8aL93gP4adxb+CpxxACh7ME/Vv5D8CoW7GxVgNQFVVVVVVVdU/cxKICzVHdED8qfHSTWJQP+/u7u7u4GlAAAAAAAAAAAAggEVgPXRtQAAAAAAAAAAAEPBx/R0pO0DOaqCMXK/ZP6ZEmWaaKBhAuNdcSJpS2T+eIA8EGq9vQAAAAAAAAAAAMzMzMzNxp0D8qfHSTWJQP4it6jp0L8U/VVVVVVVV1T8Qlg504ccOQOpRuB6F69k/XuN9k/XcCEBVVVVVVVXVP7zPHfXCvHRAAAAAAAAAAABc3BaM2PhoQAAAAAAAAAAAmmd8jv3QdUAAAAAAAAAAABkF7FNiFhhAVVVVVVVV1T9IL6+0IsELQIzelrU6Jtg/ZmZmZmaMa0AAAAAAAAAAAOMlfDs7rc5AAAAAAAAAAADy2WiYlLInQMK+gmSRhuI/zczMzAzck0AAAAAAAAAAAOqOznj65vo/zj58hl0B2j/zLnPjBhI7QOqdxMLH6t4/4a/00OcBCEBYaKtDDF/sP/KfOfxtnQNAeOkmMQis4D/epSwWnl8nQORbh4NZsOM/rzN1Q9ZTfkAAAAAAAAAAAHHcA0/KmyBAVVVVVVVV1T+KXtIrtMAuQBKC7dNvT+I/y4SI6iiKMUABmZT/YgHgP7mSwLynwLpAAAAAAAAAAAA5SRcVfd4xQObTF2Dh2+E/d3d3d3dBgEAAAAAAAAAAAGSpAUJuDDJARoL9XEoI4T/ioemiu4wqQMxBcnHsX+Q/EVmsUoJ3CkAQWDm0yHbWP4mHh4eHI45A/Knx0k1iUD/CTTgUBpchQL5Y8oslv+Q/EXipRgzBb0AAAAAAAAAAAAwg6z76JjJA75r0npom3z/dllWOBOcwQFSaiYv0hOE/",
            "dtype": "f8",
            "shape": "51, 2"
           },
           "geo": "geo",
           "hovertemplate": "<b>%{hovertext}</b><br><br>Year=2007<br>Country Code=%{location}<br>Population_Density=%{customdata[0]:.2f}<br>MPI=%{z:.3f}<extra></extra>",
           "hovertext": [
            "Aruba",
            "Angola",
            "Australia",
            "Belgium",
            "Bahrain",
            "Belize",
            "Bermuda",
            "Bolivia",
            "Barbados",
            "Botswana",
            "Central African Republic",
            "Canada",
            "Curacao",
            "Cayman Islands",
            "Germany",
            "Eritrea",
            "Gabon",
            "United Kingdom",
            "Gibraltar",
            "Greenland",
            "Guyana",
            "Iceland",
            "Israel",
            "Italy",
            "Japan",
            "Kazakhstan",
            "Libya",
            "Liechtenstein",
            "Monaco",
            "Mali",
            "Malta",
            "Mongolia",
            "Mozambique",
            "Mauritania",
            "Namibia",
            "Niger",
            "Netherlands",
            "Oman",
            "Papua New Guinea",
            "Sudan",
            "Singapore",
            "Solomon Islands",
            "San Marino",
            "Somalia",
            "South Sudan",
            "Suriname",
            "Sint Maarten (Dutch part)",
            "Chad",
            "Trinidad and Tobago",
            "Vanuatu",
            "Zambia"
           ],
           "locations": [
            "ABW",
            "AGO",
            "AUS",
            "BEL",
            "BHR",
            "BLZ",
            "BMU",
            "BOL",
            "BRB",
            "BWA",
            "CAF",
            "CAN",
            "CUW",
            "CYM",
            "DEU",
            "ERI",
            "GAB",
            "GBR",
            "GIB",
            "GRL",
            "GUY",
            "ISL",
            "ISR",
            "ITA",
            "JPN",
            "KAZ",
            "LBY",
            "LIE",
            "MCO",
            "MLI",
            "MLT",
            "MNG",
            "MOZ",
            "MRT",
            "NAM",
            "NER",
            "NLD",
            "OMN",
            "PNG",
            "SDN",
            "SGP",
            "SLB",
            "SMR",
            "SOM",
            "SSD",
            "SUR",
            "SXM",
            "TCD",
            "TTO",
            "VUT",
            "ZMB"
           ],
           "name": "",
           "type": "choropleth",
           "z": {
            "bdata": "AAAAAAAAAABliBhlaxzfP1VVVVVVVdU/AAAAAAAAAAAAAAAAAAAAAK0tWqKV5tY/AAAAAAAAAAAoo7dlrY7ZPwAAAAAAAAAAdr6fGi/d4D8KHswT9W/kP1VVVVVVVdU//Knx0k1iUD8AAAAAAAAAAAAAAAAAAAAAzmqgjFyv2T+411xImlLZPwAAAAAAAAAA/Knx0k1iUD9VVVVVVVXVP+pRuB6F69k/VVVVVVVV1T8AAAAAAAAAAAAAAAAAAAAAAAAAAAAAAABVVVVVVVXVP4zelrU6Jtg/AAAAAAAAAAAAAAAAAAAAAMK+gmSRhuI/AAAAAAAAAADOPnyGXQHaP+qdxMLH6t4/WGirQwxf7D946SYxCKzgP+Rbh4NZsOM/AAAAAAAAAABVVVVVVVXVPxKC7dNvT+I/AZmU/2IB4D8AAAAAAAAAAObTF2Dh2+E/AAAAAAAAAABGgv1cSgjhP8xBcnHsX+Q/EFg5tMh21j/8qfHSTWJQP75Y8oslv+Q/AAAAAAAAAADvmvSemibfP1SaiYv0hOE/",
            "dtype": "f8"
           }
          }
         ],
         "name": "2007"
        },
        {
         "data": [
          {
           "coloraxis": "coloraxis",
           "customdata": {
            "bdata": "MzMzMzOFgUAAAAAAAAAAACxBfaMBTzFAsbeo6S6O3j/3QeOvwSAGQFVVVVVVVdU/VoPnCBT9mEAAAAAAAAAAAFgrieXGrypA9W6AfFDL5D8uTrNvzy8iQDJ6W9bqmNg/ncXf/SthLUCuaeQqfr7ZP/7pByiihgtAlvxiyS+W4D9m6RatqEUdQIiIiIiIiOQ/TT7V66SqDUDMsfgmsl3VP49eGdvviHRA/Knx0k1iUD/SGLi5aeI7QFpNw9rlMuc/rj4t2gjzGEBApw102kDnP5qZmZmZwqdA/Knx0k1iUD9nTup2rxnFP1VVVVVVVdU/F2zBFmwtc0AAAAAAAAAAAC6S9DxnsA5AmG4Sg8DK2T/cEId6bVQJQFVVVVVVVdU/hHLmLesbdUAAAAAAAAAAAMOhSZ+aVhhAVVVVVVVV1T8nN3ZyYxd+QArZ7MNn2DU/yIHvg6tZDECLA9YUQmPgP5qZmZmZtmtAAAAAAAAAAABpAAHjQH0oQEBiMqAfPeI/zczMzDz9k0AAAAAAAAAAAMH0G8BuVPs/XnMhaUrF2T9IWME7Bb87QHsFLSn7TN4/alXhGCe1CEC7Lp8Stt3mP5/x5Fk35ANAaUrF2YfP4D/s+tfKSEEoQGrn8nLggeM/nakbsh5yfkAAAAAAAAAAABJFfJUXHCpAlXCI92Bj1z/VpDIlii0wQHNauUHgMOA/iZ5tbAT5IEBVVVVVVVXVPyt50tkLuS9ALIgVcXe/5j/mVl9M//8xQJCk90AREeE/tk6Xpvo2vEAAAAAAAAAAAPaPxst0LTJAWE4r0cIn4D+MnmdNYZcyQPKJJGKCmeA/qE2NljPoK0CScvnt8CPkP9b7i/X8xgpAEFg5tMh21j/+2ZFhP6I2QFrJBQxXRdw/2ibYPmI3IkBOYhBYObTkPywPSNa54m9AAAAAAAAAAADHDciLAJ0yQLumh2NHSd4/xhW8zyGEMUBiApw6c5bgPw==",
            "dtype": "f8",
            "shape": "46, 2"
           },
           "geo": "geo",
           "hovertemplate": "<b>%{hovertext}</b><br><br>Year=2008<br>Country Code=%{location}<br>Population_Density=%{customdata[0]:.2f}<br>MPI=%{z:.3f}<extra></extra>",
           "hovertext": [
            "Aruba",
            "Angola",
            "Australia",
            "Bahrain",
            "Belize",
            "Bolivia",
            "Bhutan",
            "Botswana",
            "Central African Republic",
            "Canada",
            "Curacao",
            "Eritrea",
            "Gabon",
            "Gibraltar",
            "Greenland",
            "Guam",
            "Guyana",
            "Iceland",
            "Israel",
            "Kazakhstan",
            "Lebanon",
            "Libya",
            "Liechtenstein",
            "Mali",
            "Malta",
            "Mongolia",
            "Mozambique",
            "Mauritania",
            "Namibia",
            "Niger",
            "Netherlands",
            "Norway",
            "New Zealand",
            "Oman",
            "Papua New Guinea",
            "Sudan",
            "Singapore",
            "Solomon Islands",
            "Somalia",
            "South Sudan",
            "Suriname",
            "Sweden",
            "Chad",
            "Trinidad and Tobago",
            "Vanuatu",
            "Zambia"
           ],
           "locations": [
            "ABW",
            "AGO",
            "AUS",
            "BHR",
            "BLZ",
            "BOL",
            "BTN",
            "BWA",
            "CAF",
            "CAN",
            "CUW",
            "ERI",
            "GAB",
            "GIB",
            "GRL",
            "GUM",
            "GUY",
            "ISL",
            "ISR",
            "KAZ",
            "LBN",
            "LBY",
            "LIE",
            "MLI",
            "MLT",
            "MNG",
            "MOZ",
            "MRT",
            "NAM",
            "NER",
            "NLD",
            "NOR",
            "NZL",
            "OMN",
            "PNG",
            "SDN",
            "SGP",
            "SLB",
            "SOM",
            "SSD",
            "SUR",
            "SWE",
            "TCD",
            "TTO",
            "VUT",
            "ZMB"
           ],
           "name": "",
           "type": "choropleth",
           "z": {
            "bdata": "AAAAAAAAAACxt6jpLo7eP1VVVVVVVdU/AAAAAAAAAAD1boB8UMvkPzJ6W9bqmNg/rmnkKn6+2T+W/GLJL5bgP4iIiIiIiOQ/zLH4JrJd1T/8qfHSTWJQP1pNw9rlMuc/QKcNdNpA5z/8qfHSTWJQP1VVVVVVVdU/AAAAAAAAAACYbhKDwMrZP1VVVVVVVdU/AAAAAAAAAABVVVVVVVXVPwrZ7MNn2DU/iwPWFEJj4D8AAAAAAAAAAEBiMqAfPeI/AAAAAAAAAABecyFpSsXZP3sFLSn7TN4/uy6fErbd5j9pSsXZh8/gP2rn8nLggeM/AAAAAAAAAACVcIj3YGPXP3NauUHgMOA/VVVVVVVV1T8siBVxd7/mP5Ck90AREeE/AAAAAAAAAABYTivRwifgP/KJJGKCmeA/knL57fAj5D8QWDm0yHbWP1rJBQxXRdw/TmIQWDm05D8AAAAAAAAAALumh2NHSd4/YgKcOnOW4D8=",
            "dtype": "f8"
           }
          }
         ],
         "name": "2008"
        },
        {
         "data": [
          {
           "coloraxis": "coloraxis",
           "customdata": {
            "bdata": "BqBPVrL6MUCrAml7FBngP0EMaL5r2y1AREGirvNA5D8Tg/eAtZYGQFVVVVVVVdU/spCFLGSvmkAAAAAAAAAAAPkVIbYGaStAluCJ1wkE4D9w6FTH/X0iQIzelrU6Jtg/5HJp2y77NkAU+nqchabWP/xYBRDctC1ABEFGIS/T2D9+5l15cxQdQO41F5KmVOQ/YwcyhxQCDkBVVVVVVVXlPw66fp1+4DZAKjgLPdGc3T8/GTOoyZc8QPi9cpCnc9g/kYnexC6HMUAMl7P+alPjP2qw5hUmyxlABBME8FM13z+amZmZmRSoQAAAAAAAAAAAcBhktzQZxT+hBWsTXEnWPzV5fgtAlg5A6SYxCKwc2j8mqkzRl2oJQFVVVVVVVeU/gXv3uaOedUAAAAAAAAAAAGBrwVDunxhAVVVVVVVV1T+qad60cfIMQBhLfrHkF+c/n0H2WttMKUA5vT4gDxHiPxzWT0BC0/s/5tSig4nV5D+Omqojdnk8QKO+YFMWnd0/qjm1/zF+CUDNQlK5OjnlP/yNnTavLwRA15QZqO4h4z9kqByCbiwpQICgZNXeVOM/DjcluutwKkBAjckkMkPkPx6MXMMmVzBApN+nT01U2T8u9mc+LlkhQFVVVVVVVdU/dJR0pdRaMECltx9Q1s3hP4HBwrmDjCxAUEN0edyu3D90FO80A4gmQJjwq9RvreE/a6MQ4oWBMkDLADkSb6PqP2Y3hEz7gjJA5g1qx17N4D8BVgWJCBEzQL8wNTQSMuA/7/0YqkdBLUD0RzNkgsfjP2gA9qOqFwtASFMqzj581j92wSzk0dM2QAJmSeWl6eE/RqbGegThIkCuKTZ+1/nsP9ZJPruKFzNAHEOs3a+23j+kSQrJqSUyQOxndZTMUuA/",
            "dtype": "f8",
            "shape": "42, 2"
           },
           "geo": "geo",
           "hovertemplate": "<b>%{hovertext}</b><br><br>Year=2009<br>Country Code=%{location}<br>Population_Density=%{customdata[0]:.2f}<br>MPI=%{z:.3f}<extra></extra>",
           "hovertext": [
            "Angola",
            "Argentina",
            "Australia",
            "Bahrain",
            "Belize",
            "Bolivia",
            "Brazil",
            "Bhutan",
            "Central African Republic",
            "Canada",
            "Chile",
            "Eritrea",
            "Finland",
            "Gabon",
            "Gibraltar",
            "Greenland",
            "Guyana",
            "Iceland",
            "Israel",
            "Kazakhstan",
            "Libya",
            "Mali",
            "Mongolia",
            "Mozambique",
            "Mauritania",
            "Namibia",
            "Niger",
            "Norway",
            "New Zealand",
            "Oman",
            "Papua New Guinea",
            "Paraguay",
            "Saudi Arabia",
            "Sudan",
            "Solomon Islands",
            "Somalia",
            "South Sudan",
            "Suriname",
            "Sweden",
            "Chad",
            "Vanuatu",
            "Zambia"
           ],
           "locations": [
            "AGO",
            "ARG",
            "AUS",
            "BHR",
            "BLZ",
            "BOL",
            "BRA",
            "BTN",
            "CAF",
            "CAN",
            "CHL",
            "ERI",
            "FIN",
            "GAB",
            "GIB",
            "GRL",
            "GUY",
            "ISL",
            "ISR",
            "KAZ",
            "LBY",
            "MLI",
            "MNG",
            "MOZ",
            "MRT",
            "NAM",
            "NER",
            "NOR",
            "NZL",
            "OMN",
            "PNG",
            "PRY",
            "SAU",
            "SDN",
            "SLB",
            "SOM",
            "SSD",
            "SUR",
            "SWE",
            "TCD",
            "VUT",
            "ZMB"
           ],
           "name": "",
           "type": "choropleth",
           "z": {
            "bdata": "qwJpexQZ4D9EQaKu80DkP1VVVVVVVdU/AAAAAAAAAACW4InXCQTgP4zelrU6Jtg/FPp6nIWm1j8EQUYhL9PYP+41F5KmVOQ/VVVVVVVV5T8qOAs90ZzdP/i9cpCnc9g/DJez/mpT4z8EEwTwUzXfPwAAAAAAAAAAoQVrE1xJ1j/pJjEIrBzaP1VVVVVVVeU/AAAAAAAAAABVVVVVVVXVPxhLfrHkF+c/Ob0+IA8R4j/m1KKDidXkP6O+YFMWnd0/zUJSuTo55T/XlBmo7iHjP4CgZNXeVOM/QI3JJDJD5D+k36dPTVTZP1VVVVVVVdU/pbcfUNbN4T9QQ3R53K7cP5jwq9RvreE/ywA5Em+j6j/mDWrHXs3gP78wNTQSMuA/9EczZILH4z9IUyrOPnzWPwJmSeWl6eE/rik2ftf57D8cQ6zdr7beP+xndZTMUuA/",
            "dtype": "f8"
           }
          }
         ],
         "name": "2009"
        },
        {
         "data": [
          {
           "coloraxis": "coloraxis",
           "customdata": {
            "bdata": "fXcnimivMkACfHPYYZHeP1lGX9df8QZAVVVVVVVV1T/Xvxl5L3N2QAAAAAAAAAAAuo0pCP3Rm0AAAAAAAAAAAOu0lFtQFCxA6LkvrGBV1T/fGCohe8wiQOQXS36x5Nc/fZhDxZ8ILkApl937ilrYPxHZd8kUswxAkl8s+cWS3z9nYocjMdkcQHw/NV66SeQ/MOh+au5XDkBVVVVVVVXVP0IoUyetvmhAAAAAAAAAAADvx/wWYUdtQAAAAAAAAAAAaIFyoQYpPUAHBON+qOTXPzQa1MPtshpABFYOLbKd1z/LafIDCzdwQAAAAAAAAAAAmpmZmZlpqEAAAAAAAAAAAHRkHbBwLcU/VVVVVVVV1T/gphg1/EVzQAAAAAAAAAAArAwZ+LN4DkBMN4lBYOXYP0jZEJE8YQlAVVVVVVVV5T+oTHY+rAR2QAAAAAAAAAAA2AXNTIVsaUAAAAAAAAAAAPbAfEcA1HVAAAAAAAAAAAAaQ3rFOfIYQFVVVVVVVdU/DWbLYLbMfkAbGui0gU5bP9sG9jQZiw1AZPS2rNUx2T9mZmZmZiRsQAAAAAAAAAAAcH815FGdaEAAAAAAAAAAAAT2LNRQ9M9AAAAAAAAAAABQNDyWtiIqQOA5n/mfouE/mpmZmVk9lEAAAAAAAAAAAEJ95fUBUfw/6lG4HoXr2T9XKk+nOT89QOrFYwifXtw/Ls7CMNhRCkB8hl0Bcq/hP6xoZ0qvP4NAFanx0k1iYD8Y54UGU4AEQDJ6W9bqmOA/an4MiwkhKkDkAGL4wRDjP08n4iSYwn5AAAAAAAAAAAA1sIo+l9EhQFVVVVVVVdU/wNpmbzPbMECFBr+8zGzhP4vOAXxd9TJAoMEdZXU13j/LKrhBNpm9QAAAAAAAAAAAsRydWZcKM0AlWfnw50reP3UxF3WuizNAIO0qsRdr2j81STuHVNguQDa8aCsyuuM/QfUG2cBoC0DOsCtA7jXXP4mHh4eHD49AAAAAAAAAAAAZzhSANIsjQEDuNReSpuQ/3asOSdQNcEAAAAAAAAAAAPdoM0hnizNAmzYq9hEr3D/sPxcNT8kyQIrrfl/FpOA/",
            "dtype": "f8",
            "shape": "51, 2"
           },
           "geo": "geo",
           "hovertemplate": "<b>%{hovertext}</b><br><br>Year=2010<br>Country Code=%{location}<br>Population_Density=%{customdata[0]:.2f}<br>MPI=%{z:.3f}<extra></extra>",
           "hovertext": [
            "Angola",
            "Australia",
            "Belgium",
            "Bahrain",
            "Belize",
            "Bolivia",
            "Bhutan",
            "Botswana",
            "Central African Republic",
            "Canada",
            "Switzerland",
            "Germany",
            "Eritrea",
            "Gabon",
            "United Kingdom",
            "Gibraltar",
            "Greenland",
            "Guam",
            "Guyana",
            "Iceland",
            "Israel",
            "Italy",
            "Japan",
            "Kazakhstan",
            "Lebanon",
            "Libya",
            "Liechtenstein",
            "Luxembourg",
            "Monaco",
            "Mali",
            "Malta",
            "Mongolia",
            "Mozambique",
            "Mauritania",
            "Mauritius",
            "Namibia",
            "Niger",
            "Netherlands",
            "Oman",
            "Papua New Guinea",
            "Sudan",
            "Singapore",
            "Solomon Islands",
            "Somalia",
            "South Sudan",
            "Suriname",
            "Sint Maarten (Dutch part)",
            "Chad",
            "Trinidad and Tobago",
            "Vanuatu",
            "Zambia"
           ],
           "locations": [
            "AGO",
            "AUS",
            "BEL",
            "BHR",
            "BLZ",
            "BOL",
            "BTN",
            "BWA",
            "CAF",
            "CAN",
            "CHE",
            "DEU",
            "ERI",
            "GAB",
            "GBR",
            "GIB",
            "GRL",
            "GUM",
            "GUY",
            "ISL",
            "ISR",
            "ITA",
            "JPN",
            "KAZ",
            "LBN",
            "LBY",
            "LIE",
            "LUX",
            "MCO",
            "MLI",
            "MLT",
            "MNG",
            "MOZ",
            "MRT",
            "MUS",
            "NAM",
            "NER",
            "NLD",
            "OMN",
            "PNG",
            "SDN",
            "SGP",
            "SLB",
            "SOM",
            "SSD",
            "SUR",
            "SXM",
            "TCD",
            "TTO",
            "VUT",
            "ZMB"
           ],
           "name": "",
           "type": "choropleth",
           "z": {
            "bdata": "Anxz2GGR3j9VVVVVVVXVPwAAAAAAAAAAAAAAAAAAAADouS+sYFXVP+QXS36x5Nc/KZfd+4pa2D+SXyz5xZLfP3w/NV66SeQ/VVVVVVVV1T8AAAAAAAAAAAAAAAAAAAAABwTjfqjk1z8EVg4tsp3XPwAAAAAAAAAAAAAAAAAAAABVVVVVVVXVPwAAAAAAAAAATDeJQWDl2D9VVVVVVVXlPwAAAAAAAAAAAAAAAAAAAAAAAAAAAAAAAFVVVVVVVdU/GxrotIFOWz9k9Las1THZPwAAAAAAAAAAAAAAAAAAAAAAAAAAAAAAAOA5n/mfouE/AAAAAAAAAADqUbgehevZP+rFYwifXtw/fIZdAXKv4T8VqfHSTWJgPzJ6W9bqmOA/5ABi+MEQ4z8AAAAAAAAAAFVVVVVVVdU/hQa/vMxs4T+gwR1ldTXePwAAAAAAAAAAJVn58OdK3j8g7SqxF2vaPza8aCsyuuM/zrArQO411z8AAAAAAAAAAEDuNReSpuQ/AAAAAAAAAACbNir2ESvcP4rrfl/FpOA/",
            "dtype": "f8"
           }
          }
         ],
         "name": "2010"
        },
        {
         "data": [
          {
           "coloraxis": "coloraxis",
           "customdata": {
            "bdata": "mpmZmZnPgUAAAAAAAAAAAB4xHh4MbTNAjrCRNRZC3j/qSQxhjkMHQFVVVVVVVdU/2sse63G+dkAAAAAAAAAAANOb3vSmD5tAAAAAAAAAAAAkVauroLIsQEWABr16ot0/XkbGqzYbI0A6JngwT9TXP5qLU9B+XS5AuR8JfrJz1j9mOX12KUUNQOqY4ME8Ud8/Dbbc/JRPHUDSTWIQWDnkP0bUuC0SpA5AVVVVVVVV1T8s69nagAVpQAAAAAAAAAAAISIiIiL2bEAAAAAAAAAAANyPtli3vWxAAAAAAAAAAACrXEbSHrA9QLjUsHqIYNc/ARI0Ib6pG0BYObTIdr7XP+wAKV2cV3BAAAAAAAAAAAAAAAAAALyoQD7g7MNn2EU/q80KW5RPxT+xc0rrqfnfP8Iq15dlWA5ATGIQWDm02D8Q09oqHXUJQFVVVVVVVdU/dwncu89tdkAAAAAAAAAAACjOj5QoSRlAxUs3iUFg1T9mZmZmZl5sQAAAAAAAAAAAAXjR5vEqaUAAAAAAAAAAAFw7/qm6WtBAAAAAAAAAAACn+EhQhv4qQIEXiyoqVOE/mpmZmVlTlEDMqh3WZUJNP651T5HDEj5AdnXAoM2m2z+RQA8YFTALQMQgsHJokeE/451iD5VHg0AL4uzDZ9hVP922NuQn2wRABci95kLS4D9ZkCvVph4rQJDkCenT2+I/4iSY02jnfkAAAAAAAAAAAAaCQ7TU4SNAVVVVVVVV1T++JLmX21oxQAaLriTVhuE/59uXZOpYM0BGpSQ5C2zpPy2r4AbZOL5AAAAAAAAAAACCCI2mTcEzQA1q+uVjH90/sZh9xTavM0B3Y+mghmjaP+3rkQLMRzBA2uEzpcsG7j+F9jioubkLQEhTKs4+fNY/09LS0tJ+j0AAAAAAAAAAAEjC2p/7PiRAeBLt9CxX5D+CfgRbJ/kzQCwtXYQ5Y9w/ay3ck+trM0Df6zV7wJrfPw==",
            "dtype": "f8",
            "shape": "46, 2"
           },
           "geo": "geo",
           "hovertemplate": "<b>%{hovertext}</b><br><br>Year=2011<br>Country Code=%{location}<br>Population_Density=%{customdata[0]:.2f}<br>MPI=%{z:.3f}<extra></extra>",
           "hovertext": [
            "Aruba",
            "Angola",
            "Australia",
            "Belgium",
            "Bahrain",
            "Belize",
            "Bolivia",
            "Bhutan",
            "Botswana",
            "Central African Republic",
            "Canada",
            "Switzerland",
            "Cayman Islands",
            "Germany",
            "Eritrea",
            "Gabon",
            "United Kingdom",
            "Gibraltar",
            "Greenland",
            "Guyana",
            "Iceland",
            "Israel",
            "Kazakhstan",
            "Liechtenstein",
            "Luxembourg",
            "Monaco",
            "Mali",
            "Malta",
            "Mozambique",
            "Mauritania",
            "Mauritius",
            "Namibia",
            "Niger",
            "Netherlands",
            "Oman",
            "Papua New Guinea",
            "Sudan",
            "Singapore",
            "Solomon Islands",
            "Somalia",
            "South Sudan",
            "Suriname",
            "Sint Maarten (Dutch part)",
            "Chad",
            "Vanuatu",
            "Zambia"
           ],
           "locations": [
            "ABW",
            "AGO",
            "AUS",
            "BEL",
            "BHR",
            "BLZ",
            "BOL",
            "BTN",
            "BWA",
            "CAF",
            "CAN",
            "CHE",
            "CYM",
            "DEU",
            "ERI",
            "GAB",
            "GBR",
            "GIB",
            "GRL",
            "GUY",
            "ISL",
            "ISR",
            "KAZ",
            "LIE",
            "LUX",
            "MCO",
            "MLI",
            "MLT",
            "MOZ",
            "MRT",
            "MUS",
            "NAM",
            "NER",
            "NLD",
            "OMN",
            "PNG",
            "SDN",
            "SGP",
            "SLB",
            "SOM",
            "SSD",
            "SUR",
            "SXM",
            "TCD",
            "VUT",
            "ZMB"
           ],
           "name": "",
           "type": "choropleth",
           "z": {
            "bdata": "AAAAAAAAAACOsJE1FkLeP1VVVVVVVdU/AAAAAAAAAAAAAAAAAAAAAEWABr16ot0/OiZ4ME/U1z+5Hwl+snPWP+qY4ME8Ud8/0k1iEFg55D9VVVVVVVXVPwAAAAAAAAAAAAAAAAAAAAAAAAAAAAAAALjUsHqIYNc/WDm0yHa+1z8AAAAAAAAAAD7g7MNn2EU/sXNK66n53z9MYhBYObTYP1VVVVVVVdU/AAAAAAAAAADFSzeJQWDVPwAAAAAAAAAAAAAAAAAAAAAAAAAAAAAAAIEXiyoqVOE/zKod1mVCTT92dcCgzabbP8QgsHJokeE/C+Lsw2fYVT8FyL3mQtLgP5DkCenT2+I/AAAAAAAAAABVVVVVVVXVPwaLriTVhuE/RqUkOQts6T8AAAAAAAAAAA1q+uVjH90/d2PpoIZo2j/a4TOlywbuP0hTKs4+fNY/AAAAAAAAAAB4Eu30LFfkPywtXYQ5Y9w/3+s1e8Ca3z8=",
            "dtype": "f8"
           }
          }
         ],
         "name": "2011"
        },
        {
         "data": [
          {
           "coloraxis": "coloraxis",
           "customdata": {
            "bdata": "XAEYovoxNEBhoEy7mUXdP5IgcGXszy5AASgP3K2G4D+66KKLLspoQAAAAAAAAAAA+7lQPnGsB0BVVVVVVVXVP3K/Lql8YJtAAAAAAAAAAABbR9LIFWojQJSKsw+fYdc/oaV9MvDDDUAmMldx5oXjP2JclYzomh1AKFyPwvUo5D94BkQNi/kOQFVVVVVVVdU/SPhobuFJaUAAAAAAAAAAACEiIiIiwm1AAAAAAAAAAACckQNQthE+QPJfCLUXwOU/naIyY03GMUBnRbq4Q5DhP6mPshOtqxxABFYOLbKd1z8yfKcshHVwQAAAAAAAAAAAzczMzMwFqUAK2ezDZ9g1Px5up2LoR8U/VVVVVVVV1T/GqOFvU0BzQAAAAAAAAAAAioMNaM1ZDkBQjZduEoPYP/fh3EvilwlAVVVVVVVV1T+wm+NrzNh2QAAAAAAAAAAAGZwsW8LAdUAAAAAAAAAAACsMBPU6pBlAVVVVVVVV1T8ugM0C2Px/QBsa6LSBTls/ZmZmZmajbEAAAAAAAAAAACAS+ECMx2lAAAAAAAAAAADc2QmWFLnQQAAAAAAAAAAA5RMlO0nLK0A4NOhD1CXnP5qZmZlZgpRAAAAAAAAAAADVQWPbkVz9P2hKxdmHz9g/GxpV8v/yPkCwbyDymPjaP84SMHQEFwxADbsC5F5z4T/DHUbmSVWDQBWp8dJNYmA/V+XYymBTBUD8qfHSTWLgP24JJryeKSxAaPDeVoC14j8uJIDeYNgxQGoHESvmX+E/qAi1dXevLUC/8ZRssF3fP6VYtKwC+b5AAAAAAAAAAAAkHVV5RX40QPhpypsT69s/N2ipfQ3dM0AHuG9QAFvaP/PeKEPtCgxASFMqzj581j+z2pRqn143QCINOg7kQtg/WlpaWloYkEAAAAAAAAAAAGp2NU9H+CRAyN2Gzjxf5D9G268GWURwQAAAAAAAAAAALlCFRr9qNEC7sRNN4L7bP1nP8TTIDzRALmuP9zQS3z8=",
            "dtype": "f8",
            "shape": "47, 2"
           },
           "geo": "geo",
           "hovertemplate": "<b>%{hovertext}</b><br><br>Year=2012<br>Country Code=%{location}<br>Population_Density=%{customdata[0]:.2f}<br>MPI=%{z:.3f}<extra></extra>",
           "hovertext": [
            "Angola",
            "Argentina",
            "Antigua and Barbuda",
            "Australia",
            "Bahrain",
            "Bolivia",
            "Botswana",
            "Central African Republic",
            "Canada",
            "Switzerland",
            "Cayman Islands",
            "Eritrea",
            "Finland",
            "Gabon",
            "United Kingdom",
            "Gibraltar",
            "Greenland",
            "Guam",
            "Guyana",
            "Iceland",
            "Israel",
            "Japan",
            "Kazakhstan",
            "Lebanon",
            "Liechtenstein",
            "Luxembourg",
            "Monaco",
            "Mali",
            "Malta",
            "Mongolia",
            "Mozambique",
            "Mauritania",
            "Mauritius",
            "Namibia",
            "Niger",
            "Papua New Guinea",
            "Paraguay",
            "Singapore",
            "Solomon Islands",
            "Somalia",
            "Suriname",
            "Sweden",
            "Sint Maarten (Dutch part)",
            "Chad",
            "Trinidad and Tobago",
            "Vanuatu",
            "Zambia"
           ],
           "locations": [
            "AGO",
            "ARG",
            "ATG",
            "AUS",
            "BHR",
            "BOL",
            "BWA",
            "CAF",
            "CAN",
            "CHE",
            "CYM",
            "ERI",
            "FIN",
            "GAB",
            "GBR",
            "GIB",
            "GRL",
            "GUM",
            "GUY",
            "ISL",
            "ISR",
            "JPN",
            "KAZ",
            "LBN",
            "LIE",
            "LUX",
            "MCO",
            "MLI",
            "MLT",
            "MNG",
            "MOZ",
            "MRT",
            "MUS",
            "NAM",
            "NER",
            "PNG",
            "PRY",
            "SGP",
            "SLB",
            "SOM",
            "SUR",
            "SWE",
            "SXM",
            "TCD",
            "TTO",
            "VUT",
            "ZMB"
           ],
           "name": "",
           "type": "choropleth",
           "z": {
            "bdata": "YaBMu5lF3T8BKA/crYbgPwAAAAAAAAAAVVVVVVVV1T8AAAAAAAAAAJSKsw+fYdc/JjJXceaF4z8oXI/C9SjkP1VVVVVVVdU/AAAAAAAAAAAAAAAAAAAAAPJfCLUXwOU/Z0W6uEOQ4T8EVg4tsp3XPwAAAAAAAAAACtnsw2fYNT9VVVVVVVXVPwAAAAAAAAAAUI2XbhKD2D9VVVVVVVXVPwAAAAAAAAAAAAAAAAAAAABVVVVVVVXVPxsa6LSBTls/AAAAAAAAAAAAAAAAAAAAAAAAAAAAAAAAODToQ9Ql5z8AAAAAAAAAAGhKxdmHz9g/sG8g8pj42j8NuwLkXnPhPxWp8dJNYmA//Knx0k1i4D9o8N5WgLXiP2oHESvmX+E/v/GUbLBd3z8AAAAAAAAAAPhpypsT69s/B7hvUABb2j9IUyrOPnzWPyINOg7kQtg/AAAAAAAAAADI3YbOPF/kPwAAAAAAAAAAu7ETTeC+2z8ua4/3NBLfPw==",
            "dtype": "f8"
           }
          }
         ],
         "name": "2012"
        },
        {
         "data": [
          {
           "coloraxis": "coloraxis",
           "customdata": {
            "bdata": "q6qqqqpYgkAAAAAAAAAAAKI36kfn/DRAZx7oq0yd3D9kZqiSpxUIQFVVVVVVVdU/krO+F+BgnEAAAAAAAAAAADFg2ZTruCNAkl8s+cWS1z+xGWDfzzcOQEp+seQXS94/xioIUYNND0BVVVVVVVXVP9L684fAlGlAAAAAAAAAAACpqqqqqoxuQAAAAAAAAAAANvIn7m9wPkBUU2XGPqPhPxr6AqNQ2zFAHIWN+6M43z9V15ABpLIdQG7LWh0TPNg/swqNb9KRcEAAAAAAAAAAAGZmZmZmUalACtnsw2fYNT+J1yqojCjFP4TeL+Kc1uI/2IIt2II1c0AAAAAAAAAAAMUDTemqgA5AUrgehetR2D+ae1O+JtYJQFVVVVVVVdU/c7FdAvdGd0AAAAAAAAAAACQDgRi7uHVAAAAAAAAAAACxm/GyNAMaQFVVVVVVVdU/NytwoCibaEAAAAAAAAAAAPsgtw9yi4FAC+Lsw2fYVT/NzMzMzORsQAAAAAAAAAAAtv5X7tlhakAAAAAAAAAAAGIliN7aE9FAAAAAAAAAAABERERERNaUQBWp8dJNYmA/hXSEQSyeLECsBxricLrgPwAAAAAgvpRAAAAAAAAAAAAmZgPPjPn9P/DSTWIQWNk/gXrCKxb8DEC511xImlLhP8MdRuZJYYNAFanx0k1iYD8n2rxoS+MFQODBPFH/RuA/KpYioL09LUAXRugD13riP83MzMzMboBAFanx0k1iYD/TKYGie1UyQEjAnotYNuE/5atFR1w6NECYWpuCXwTcP62CG2Rzer9AAAAAAAAAAAC4Z47FcEE1QFi6QrGuINs/0LLyJrmDNEAbtT2IfhLaPwHvmpOMqzFAVF9JdPTh4j8QxOD+a1wMQEhTKs4+fNY/Hx4eHh56kEAAAAAAAAAAAFGXCu1buyVAkGDn5wg95D/QkBEQE1VwQAAAAAAAAAAA9/XgrFTgNEC7hFFjqPXgP0/i6mzttjRAJZ1vI+mH3j8=",
            "dtype": "f8",
            "shape": "47, 2"
           },
           "geo": "geo",
           "hovertemplate": "<b>%{hovertext}</b><br><br>Year=2013<br>Country Code=%{location}<br>Population_Density=%{customdata[0]:.2f}<br>MPI=%{z:.3f}<extra></extra>",
           "hovertext": [
            "Aruba",
            "Angola",
            "Australia",
            "Bahrain",
            "Bolivia",
            "Botswana",
            "Canada",
            "Switzerland",
            "Cayman Islands",
            "Eritrea",
            "Finland",
            "Gabon",
            "United Kingdom",
            "Gibraltar",
            "Greenland",
            "Guam",
            "Guyana",
            "Iceland",
            "Israel",
            "Japan",
            "Kazakhstan",
            "Kuwait",
            "Lebanon",
            "Liechtenstein",
            "Luxembourg",
            "Monaco",
            "Maldives",
            "Mali",
            "Malta",
            "Mongolia",
            "Mauritania",
            "Mauritius",
            "Namibia",
            "Niger",
            "Nauru",
            "Papua New Guinea",
            "Sudan",
            "Singapore",
            "Solomon Islands",
            "Somalia",
            "South Sudan",
            "Suriname",
            "Sint Maarten (Dutch part)",
            "Chad",
            "Trinidad and Tobago",
            "Vanuatu",
            "Zambia"
           ],
           "locations": [
            "ABW",
            "AGO",
            "AUS",
            "BHR",
            "BOL",
            "BWA",
            "CAN",
            "CHE",
            "CYM",
            "ERI",
            "FIN",
            "GAB",
            "GBR",
            "GIB",
            "GRL",
            "GUM",
            "GUY",
            "ISL",
            "ISR",
            "JPN",
            "KAZ",
            "KWT",
            "LBN",
            "LIE",
            "LUX",
            "MCO",
            "MDV",
            "MLI",
            "MLT",
            "MNG",
            "MRT",
            "MUS",
            "NAM",
            "NER",
            "NRU",
            "PNG",
            "SDN",
            "SGP",
            "SLB",
            "SOM",
            "SSD",
            "SUR",
            "SXM",
            "TCD",
            "TTO",
            "VUT",
            "ZMB"
           ],
           "name": "",
           "type": "choropleth",
           "z": {
            "bdata": "AAAAAAAAAABnHuirTJ3cP1VVVVVVVdU/AAAAAAAAAACSXyz5xZLXP0p+seQXS94/VVVVVVVV1T8AAAAAAAAAAAAAAAAAAAAAVFNlxj6j4T8chY37ozjfP27LWh0TPNg/AAAAAAAAAAAK2ezDZ9g1P4TeL+Kc1uI/AAAAAAAAAABSuB6F61HYP1VVVVVVVdU/AAAAAAAAAAAAAAAAAAAAAFVVVVVVVdU/AAAAAAAAAAAL4uzDZ9hVPwAAAAAAAAAAAAAAAAAAAAAAAAAAAAAAABWp8dJNYmA/rAca4nC64D8AAAAAAAAAAPDSTWIQWNk/uddcSJpS4T8VqfHSTWJgP+DBPFH/RuA/F0boA9d64j8VqfHSTWJgP0jAnotYNuE/mFqbgl8E3D8AAAAAAAAAAFi6QrGuINs/G7U9iH4S2j9UX0l09OHiP0hTKs4+fNY/AAAAAAAAAACQYOfnCD3kPwAAAAAAAAAAu4RRY6j14D8lnW8j6YfePw==",
            "dtype": "f8"
           }
          }
         ],
         "name": "2013"
        },
        {
         "data": [
          {
           "coloraxis": "coloraxis",
           "customdata": {
            "bdata": "Etyf2j/JNUC8ciwe143dP222rxdCcS9ARoHX/MPO4z+NLrroojdpQAAAAAAAAAAA1ez6Bk9yCEBVVVVVVVXVP7Kdf9uIGHdAAAAAAAAAAABD/+g2psSdQAAAAAAAAAAAZpVHV4IHJED0pKjXdnXXP9zy7jElqQ5A3t3d3d3d3T8j+u+TLq8dQCQ60VcVUuc/2uHgTiqeD0BVVVVVVVXVP9m5caEk5WlAAAAAAAAAAABUVVVVVVVvQAAAAAAAAAAAggCbjZD+bEAAAAAAAAAAAD/sbeMwpT5AfAhFuyQk1j97KLlfQu4xQBHUQxRFnds/99EUhk62HkDi7MNn2BXYP+UbtAOisXBAAAAAAAAAAACamZmZmaKpQArZ7MNn2DU//7anU4UWxT9VVVVVVVXVP/VJn/RJJ3NAAAAAAAAAAADV2BJteqwOQFLjpZvEINg/wKZTGSUgCkBVVVVVVVXVP8J/Gmh0undAAAAAAAAAAACx9PLtvWUaQFVVVVVVVdU/u+22225jg0D8qfHSTWJQP5qZmZmZGW1AAAAAAAAAAAANDQ/Q7QJrQAAAAAAAAAAAQ3uQmNhn0UAAAAAAAAAAABhLfrHkipVAAAAAAAAAAABAfSYfbYktQJVCNv3raeA/MzMzM4MqlUAAAAAAAAAAAD3zn6A5o/4/UrgehetR2D/ov/9z/t4NQGX0tqzVMeE/KRIIIEdqg0AbGui0gU5bP+OB8aehdwZAxdmHz7Ar4D9JD7d7EVcuQGxKPh2tR+I/oj2+EOU4f0AAAAAAAAAAALh30KJE0jJA8nb1ueAM4T8q1JNVisg0QMxFxGM9Vts/6yPfZMTjv0AAAAAAAAAAAEZemhtRCjZAJm6jgMp42T/MIvOieUM1QDQOyBuwsdk/IFFLdWvHMUDGe9mQ3sziP+RJh6t7rQxAqzY1io/H2z9aWlpaWtqQQAAAAAAAAAAAGzxHoGjTaEAAAAAAAAAAAJsuANyOhSZAjtOHB+IZ5D/ATDNmAGRwQAAAAAAAAAAANip95EBZNUC/AiX4riPaP0L+PfrXYTVALjZOm+ek3j8=",
            "dtype": "f8",
            "shape": "50, 2"
           },
           "geo": "geo",
           "hovertemplate": "<b>%{hovertext}</b><br><br>Year=2014<br>Country Code=%{location}<br>Population_Density=%{customdata[0]:.2f}<br>MPI=%{z:.3f}<extra></extra>",
           "hovertext": [
            "Angola",
            "Argentina",
            "Antigua and Barbuda",
            "Australia",
            "Belgium",
            "Bahrain",
            "Bolivia",
            "Botswana",
            "Central African Republic",
            "Canada",
            "Switzerland",
            "Cayman Islands",
            "Germany",
            "Eritrea",
            "Finland",
            "Gabon",
            "United Kingdom",
            "Gibraltar",
            "Greenland",
            "Guam",
            "Guyana",
            "Iceland",
            "Israel",
            "Kazakhstan",
            "Lebanon",
            "Liechtenstein",
            "Luxembourg",
            "Monaco",
            "Maldives",
            "Mali",
            "Malta",
            "Mongolia",
            "Mauritania",
            "Mauritius",
            "Namibia",
            "Niger",
            "Netherlands",
            "Papua New Guinea",
            "Sudan",
            "Singapore",
            "Solomon Islands",
            "Somalia",
            "South Sudan",
            "Suriname",
            "Sint Maarten (Dutch part)",
            "Seychelles",
            "Chad",
            "Trinidad and Tobago",
            "Vanuatu",
            "Zambia"
           ],
           "locations": [
            "AGO",
            "ARG",
            "ATG",
            "AUS",
            "BEL",
            "BHR",
            "BOL",
            "BWA",
            "CAF",
            "CAN",
            "CHE",
            "CYM",
            "DEU",
            "ERI",
            "FIN",
            "GAB",
            "GBR",
            "GIB",
            "GRL",
            "GUM",
            "GUY",
            "ISL",
            "ISR",
            "KAZ",
            "LBN",
            "LIE",
            "LUX",
            "MCO",
            "MDV",
            "MLI",
            "MLT",
            "MNG",
            "MRT",
            "MUS",
            "NAM",
            "NER",
            "NLD",
            "PNG",
            "SDN",
            "SGP",
            "SLB",
            "SOM",
            "SSD",
            "SUR",
            "SXM",
            "SYC",
            "TCD",
            "TTO",
            "VUT",
            "ZMB"
           ],
           "name": "",
           "type": "choropleth",
           "z": {
            "bdata": "vHIsHteN3T9Ggdf8w87jPwAAAAAAAAAAVVVVVVVV1T8AAAAAAAAAAAAAAAAAAAAA9KSo13Z11z/e3d3d3d3dPyQ60VcVUuc/VVVVVVVV1T8AAAAAAAAAAAAAAAAAAAAAAAAAAAAAAAB8CEW7JCTWPxHUQxRFnds/4uzDZ9gV2D8AAAAAAAAAAArZ7MNn2DU/VVVVVVVV1T8AAAAAAAAAAFLjpZvEINg/VVVVVVVV1T8AAAAAAAAAAFVVVVVVVdU//Knx0k1iUD8AAAAAAAAAAAAAAAAAAAAAAAAAAAAAAAAAAAAAAAAAAJVCNv3raeA/AAAAAAAAAABSuB6F61HYP2X0tqzVMeE/GxrotIFOWz/F2YfPsCvgP2xKPh2tR+I/AAAAAAAAAADydvW54AzhP8xFxGM9Vts/AAAAAAAAAAAmbqOAynjZPzQOyBuwsdk/xnvZkN7M4j+rNjWKj8fbPwAAAAAAAAAAAAAAAAAAAACO04cH4hnkPwAAAAAAAAAAvwIl+K4j2j8uNk6b56TePw==",
            "dtype": "f8"
           }
          }
         ],
         "name": "2014"
        },
        {
         "data": [
          {
           "coloraxis": "coloraxis",
           "customdata": {
            "bdata": "eOEOQfuVNkDNqeDLPWXbP0qQpwR5ZmlAAAAAAAAAAAB+qz7VB80IQFVVVVVVVdU/mu3T3eQ6d0AAAAAAAAAAAI37dUnlB59AAAAAAAAAAACd754U4VUkQB5dLkKlDtc/keMemxUhOEAEGr8w+JjhP9xNUnr/GQ9Axks3iUFg6T8moKpjRbkdQMcED+aJ+uM/dxTBk/DbD0DlGmuritLXP1lUNEYJMWpAAAAAAAAAAAB3d3d3dw1wQAAAAAAAAAAAXXtb1xk/bUAAAAAAAAAAAPiMWKF7vz5ALf1ZyZXU1T8UetZKC68fQHD24TPsCtg/+mMYf5XQcEAAAAAAAAAAAJqZmZmZ7qlAAAAAAAAAAADOrhPYKQXFP1VVVVVVVeU/E9pozN7bDkB5rECDwR3aP5YTGRoyZgpAVVVVVVVV1T+X9Y3kATR4QAAAAAAAAAAAmmqzcnerdUAAAAAAAAAAAIq8xsZZyxpAVVVVVVVV1T+2e68vprINQNZj7fdTA+Q/zczMzMxKbUAAAAAAAAAAACuy+ggPqGtAAAAAAAAAAADPi8d8bLXRQAAAAAAAAAAAH4XrUbhMlkA+4OzDZ9hFP9TlahXCeS5AoOlY4BHa3z8AAAAAwLCVQAAAAAAAAAAA+7/7mfhL/z/kF0t+seTXPzS472hbyA5AHoXrUbge4T+qhB7x3HCDQAvi7MNn2FU/3BwXD0MSB0B0TPBgnqjfP+UysvqKey9A2IWChhoI4j/gHFdHZlx/QAAAAAAAAAAAQZfO5IVOM0A8fgwbjePgPxo4KDAsPmlAAAAAAAAAAADsl6uYJW01QGVPq/klVdo/p/rIN5kiwEAAAAAAAAAAALKvcSsr2DZARdpJNcgP2D9ERERERCKBQAAAAAAAAAAAWIcpyjwCNkAX4Grl3lbZP2BYmfdH/QxA3t3d3d3d5T/DcwSKtmJpQAAAAAAAAAAAzGpKlgxAJ0CsGAXSIRTkPxEtAdxW1DVAM6s2aUYz2T89wH3WUw82QNWa2Qmemd0/",
            "dtype": "f8",
            "shape": "48, 2"
           },
           "geo": "geo",
           "hovertemplate": "<b>%{hovertext}</b><br><br>Year=2015<br>Country Code=%{location}<br>Population_Density=%{customdata[0]:.2f}<br>MPI=%{z:.3f}<extra></extra>",
           "hovertext": [
            "Angola",
            "Antigua and Barbuda",
            "Australia",
            "Belgium",
            "Bahrain",
            "Bolivia",
            "Brazil",
            "Botswana",
            "Central African Republic",
            "Canada",
            "Switzerland",
            "Cayman Islands",
            "Germany",
            "Eritrea",
            "Gabon",
            "United Kingdom",
            "Gibraltar",
            "Greenland",
            "Guyana",
            "Iceland",
            "Israel",
            "Japan",
            "Kazakhstan",
            "Libya",
            "Liechtenstein",
            "Luxembourg",
            "Monaco",
            "Maldives",
            "Mali",
            "Malta",
            "Mongolia",
            "Mauritania",
            "Mauritius",
            "Namibia",
            "Niger",
            "Netherlands",
            "Papua New Guinea",
            "Qatar",
            "Sudan",
            "Singapore",
            "Solomon Islands",
            "San Marino",
            "Somalia",
            "Suriname",
            "Seychelles",
            "Chad",
            "Vanuatu",
            "Zambia"
           ],
           "locations": [
            "AGO",
            "ATG",
            "AUS",
            "BEL",
            "BHR",
            "BOL",
            "BRA",
            "BWA",
            "CAF",
            "CAN",
            "CHE",
            "CYM",
            "DEU",
            "ERI",
            "GAB",
            "GBR",
            "GIB",
            "GRL",
            "GUY",
            "ISL",
            "ISR",
            "JPN",
            "KAZ",
            "LBY",
            "LIE",
            "LUX",
            "MCO",
            "MDV",
            "MLI",
            "MLT",
            "MNG",
            "MRT",
            "MUS",
            "NAM",
            "NER",
            "NLD",
            "PNG",
            "QAT",
            "SDN",
            "SGP",
            "SLB",
            "SMR",
            "SOM",
            "SUR",
            "SYC",
            "TCD",
            "VUT",
            "ZMB"
           ],
           "name": "",
           "type": "choropleth",
           "z": {
            "bdata": "zangyz1l2z8AAAAAAAAAAFVVVVVVVdU/AAAAAAAAAAAAAAAAAAAAAB5dLkKlDtc/BBq/MPiY4T/GSzeJQWDpP8cED+aJ+uM/5Rprq4rS1z8AAAAAAAAAAAAAAAAAAAAAAAAAAAAAAAAt/VnJldTVP3D24TPsCtg/AAAAAAAAAAAAAAAAAAAAAFVVVVVVVeU/eaxAg8Ed2j9VVVVVVVXVPwAAAAAAAAAAAAAAAAAAAABVVVVVVVXVP9Zj7fdTA+Q/AAAAAAAAAAAAAAAAAAAAAAAAAAAAAAAAPuDsw2fYRT+g6VjgEdrfPwAAAAAAAAAA5BdLfrHk1z8ehetRuB7hPwvi7MNn2FU/dEzwYJ6o3z/YhYKGGgjiPwAAAAAAAAAAPH4MG43j4D8AAAAAAAAAAGVPq/klVdo/AAAAAAAAAABF2kk1yA/YPwAAAAAAAAAAF+Bq5d5W2T/e3d3d3d3lPwAAAAAAAAAArBgF0iEU5D8zqzZpRjPZP9Wa2Qmemd0/",
            "dtype": "f8"
           }
          }
         ],
         "name": "2015"
        },
        {
         "data": [
          {
           "coloraxis": "coloraxis",
           "customdata": {
            "bdata": "pU/6pE/ggkAAAAAAAAAAAMuKBFKDaDdAqrBBmj735z/89I6RmAowQEg8sG6ju+M/MzMzMzOPaUAAAAAAAAAAAA/3tin6MAlAVVVVVVVV1T9VxxZZFFl3QAAAAAAAAAAAcJGc9b0eoEAAAAAAAAAAAGNTsbRG+i9Aoos7iLRK2j+5ReAUA6QkQEohbBZt6dY/pON+9VRQOEAQK1DDXozhPyyd5MDSUYRAAAAAAAAAAACUGK0914sPQJGmVJx9+Nw/xfASHehDHkCAlUOLbOfjPyOASDNgHBBAVVVVVVVV1T8CQh6YqHpqQAAAAAAAAAAAq6qqqqpucEAAAAAAAAAAAENcZmXIe21AAAAAAAAAAABGgCrQBvA+QED0SteeftU/0pqMHWNNIECsHFpkO9/XP0VyUW/o8nBAAAAAAAAAAACamZmZmUuqQAAAAAAAAAAAzYTTahEMxT9VVVVVVVXVP+/2+DSADQ9ArkfhehSu1z+sqPa4qMQKQFVVVVVVVdU/3VEvTKuueEAAAAAAAAAAAFMHcNG0jGlAAAAAAAAAAACp67zZVjUbQFVVVVVVVdU/mxqnvEsWbEAAAAAAAAAAAOGCCy64UINAPuDsw2fYRT/Sa5qKZicOQL4q+xkafeY/MzMzMzN3bUAAAAAAAAAAAKV19ftPQmxAAAAAAAAAAAAQsRJEb/XRQAAAAAAAAAAAk18s+cUWl0AAAAAAAAAAAD/FGofLdC9AQcVmNZdV3z8AAAAAUDGWQAAAAAAAAAAA868xpA/w/z+yne+nxkvXP3GkcxMvuA9AvS1rdUzw4D9mu2+jSHSDQPyp8dJNYlA/7uv2/byzB0A6dABdp3fjPxo4+euWVDBAfstkefbU4T8vwBgmPYd/QAAAAAAAAAAAAAAAAABsgUD8qfHSTWJQP2b60T4GyjNA/LKsj2tI4T+Vf9+Eh6tqQAAAAAAAAAAA92Ur6HUWNkBQru95UHLZPyh0GCCKWMBAAAAAAAAAAAAmmj9BM6o3QJEkNsF29tY/d3d3d3c9gUAAAAAAAAAAADkyEVNS3zZAYbNGpWvm2D8VgALaXCMxQGrLBLBP3eI/zIPkOX9LDUD78Bl2BcjlP1C01eA5umlAAAAAAAAAAABsEfj70/0nQLIM1vCIfO4/Gei0gU47bEAAAAAAAAAAAAyTPdoMUjZA+tClG9vD1z8pc+TOysA2QOQIj9QhUNw/",
            "dtype": "f8",
            "shape": "57, 2"
           },
           "geo": "geo",
           "hovertemplate": "<b>%{hovertext}</b><br><br>Year=2016<br>Country Code=%{location}<br>Population_Density=%{customdata[0]:.2f}<br>MPI=%{z:.3f}<extra></extra>",
           "hovertext": [
            "Aruba",
            "Angola",
            "Argentina",
            "Antigua and Barbuda",
            "Australia",
            "Belgium",
            "Bahrain",
            "Belize",
            "Bolivia",
            "Brazil",
            "Barbados",
            "Botswana",
            "Central African Republic",
            "Canada",
            "Switzerland",
            "Cayman Islands",
            "Germany",
            "Eritrea",
            "Gabon",
            "United Kingdom",
            "Gibraltar",
            "Greenland",
            "Guyana",
            "Iceland",
            "Israel",
            "Italy",
            "Kazakhstan",
            "Kuwait",
            "Lebanon",
            "Libya",
            "Liechtenstein",
            "Luxembourg",
            "Monaco",
            "Maldives",
            "Mali",
            "Malta",
            "Mongolia",
            "Mauritania",
            "Mauritius",
            "Namibia",
            "Niger",
            "Netherlands",
            "Nauru",
            "Papua New Guinea",
            "Qatar",
            "Sudan",
            "Singapore",
            "Solomon Islands",
            "San Marino",
            "Somalia",
            "South Sudan",
            "Suriname",
            "Seychelles",
            "Chad",
            "British Virgin Islands",
            "Vanuatu",
            "Zambia"
           ],
           "locations": [
            "ABW",
            "AGO",
            "ARG",
            "ATG",
            "AUS",
            "BEL",
            "BHR",
            "BLZ",
            "BOL",
            "BRA",
            "BRB",
            "BWA",
            "CAF",
            "CAN",
            "CHE",
            "CYM",
            "DEU",
            "ERI",
            "GAB",
            "GBR",
            "GIB",
            "GRL",
            "GUY",
            "ISL",
            "ISR",
            "ITA",
            "KAZ",
            "KWT",
            "LBN",
            "LBY",
            "LIE",
            "LUX",
            "MCO",
            "MDV",
            "MLI",
            "MLT",
            "MNG",
            "MRT",
            "MUS",
            "NAM",
            "NER",
            "NLD",
            "NRU",
            "PNG",
            "QAT",
            "SDN",
            "SGP",
            "SLB",
            "SMR",
            "SOM",
            "SSD",
            "SUR",
            "SYC",
            "TCD",
            "VGB",
            "VUT",
            "ZMB"
           ],
           "name": "",
           "type": "choropleth",
           "z": {
            "bdata": "AAAAAAAAAACqsEGaPvfnP0g8sG6ju+M/AAAAAAAAAABVVVVVVVXVPwAAAAAAAAAAAAAAAAAAAACiizuItEraP0ohbBZt6dY/ECtQw16M4T8AAAAAAAAAAJGmVJx9+Nw/gJVDi2zn4z9VVVVVVVXVPwAAAAAAAAAAAAAAAAAAAAAAAAAAAAAAAED0SteeftU/rBxaZDvf1z8AAAAAAAAAAAAAAAAAAAAAVVVVVVVV1T+uR+F6FK7XP1VVVVVVVdU/AAAAAAAAAAAAAAAAAAAAAFVVVVVVVdU/AAAAAAAAAAA+4OzDZ9hFP74q+xkafeY/AAAAAAAAAAAAAAAAAAAAAAAAAAAAAAAAAAAAAAAAAABBxWY1l1XfPwAAAAAAAAAAsp3vp8ZL1z+9LWt1TPDgP/yp8dJNYlA/OnQAXad34z9+y2R59tThPwAAAAAAAAAA/Knx0k1iUD/8sqyPa0jhPwAAAAAAAAAAUK7veVBy2T8AAAAAAAAAAJEkNsF29tY/AAAAAAAAAABhs0ala+bYP2rLBLBP3eI/+/AZdgXI5T8AAAAAAAAAALIM1vCIfO4/AAAAAAAAAAD60KUb28PXP+QIj9QhUNw/",
            "dtype": "f8"
           }
          }
         ],
         "name": "2016"
        },
        {
         "data": [
          {
           "coloraxis": "coloraxis",
           "customdata": {
            "bdata": "q6qqqqrggkAAAAAAAAAAANmvDkV8QDhARdQtpioJ4T/D2jesfbNpQAAAAAAAAAAASlNOYA+cCUBVVVVVVVXVP6LU+TYmcHdAAAAAAAAAAADu1yWVD/+gQAAAAAAAAAAAsguTTYBcMEB75Y2jGZfjP5jQXkJ7ZZJAAAAAAAAAAAARqF+UyvEkQLyx0lqv1NY/8ECy9F//D0B7PzVeukncP0oDj2Inxx5AOiZ4ME/U4z8jaR/W+U0QQFVVVVVVVdU/6Ju7xzW6akAAAAAAAAAAAFVVVVVVznBAAAAAAAAAAADWSDkiC5htQAAAAAAAAAAAu2eMwJiZa0AAAAAAAAAAAMi9znHXvSBAtVOw148B3D8/mo99pgpxQAAAAAAAAAAAAAAAAADBqkAAAAAAAAAAABVU9bi5CsU/Gsct/8kR3D+aydC41kAPQHZ3d3d3d9c/trA4NEtnC0BVVVVVVVXVP7D8crFdKnlAAAAAAAAAAACob3ktaoBpQAAAAAAAAAAAmBFsvBekdUAAAAAAAAAAAG0u+x+0ohtAVVVVVVVV1T9mZmZmZqhtQAAAAAAAAAAAgP3S91T0bEAAAAAAAAAAALHkF0t+3pdAPuDsw2fYRT9jKwY/1jwwQFzwIvB56t8/MzMzM9POlkAAAAAAAAAAAE2dIxmFRwBAgCOU0duy1j9BgeSwOlcQQFvW6pjgweA/2icuv8Z4g0AL4uzDZ9hVP0cg6oj/WwhAIm6qxvrw5j9eBEw6GuwwQH3Fe+MsnOE/+ylN/hi3f0AAAAAAAAAAAJ7dZ+EgUi1ADlTs+vTL1z+YCBn/sEQ0QGS3NJsPjOA/4ViM28fdNkCb4JV+wpDaPw1hL54/XMBAAAAAAAAAAABuNcWpPX84QANdStcohNU/jfgbsA/HN0B0ij1wNjTYP9P8ZScRPDBAzP7sBwc54z+89AMgfpcNQNyyVscED9Y/do5A0VYLakAAAAAAAAAAAL33WLRLzChA5POD5Pnf7D/6x+ke4Ng2QK6j9OXhatY/o7cmJz12N0AQVwdZwePaPw==",
            "dtype": "f8",
            "shape": "49, 2"
           },
           "geo": "geo",
           "hovertemplate": "<b>%{hovertext}</b><br><br>Year=2017<br>Country Code=%{location}<br>Population_Density=%{customdata[0]:.2f}<br>MPI=%{z:.3f}<extra></extra>",
           "hovertext": [
            "Aruba",
            "Angola",
            "Antigua and Barbuda",
            "Australia",
            "Belgium",
            "Bahrain",
            "Belize",
            "Bermuda",
            "Bolivia",
            "Botswana",
            "Central African Republic",
            "Canada",
            "Switzerland",
            "Cayman Islands",
            "Germany",
            "Dominican Republic",
            "Gabon",
            "United Kingdom",
            "Gibraltar",
            "Greenland",
            "Guyana",
            "Iceland",
            "Israel",
            "Italy",
            "Japan",
            "Kazakhstan",
            "Liechtenstein",
            "Luxembourg",
            "Maldives",
            "Mali",
            "Malta",
            "Mongolia",
            "Mauritania",
            "Mauritius",
            "Namibia",
            "Niger",
            "Netherlands",
            "Oman",
            "Papua New Guinea",
            "Sudan",
            "Singapore",
            "Solomon Islands",
            "Somalia",
            "South Sudan",
            "Suriname",
            "Seychelles",
            "Chad",
            "Vanuatu",
            "Zambia"
           ],
           "locations": [
            "ABW",
            "AGO",
            "ATG",
            "AUS",
            "BEL",
            "BHR",
            "BLZ",
            "BMU",
            "BOL",
            "BWA",
            "CAF",
            "CAN",
            "CHE",
            "CYM",
            "DEU",
            "DOM",
            "GAB",
            "GBR",
            "GIB",
            "GRL",
            "GUY",
            "ISL",
            "ISR",
            "ITA",
            "JPN",
            "KAZ",
            "LIE",
            "LUX",
            "MDV",
            "MLI",
            "MLT",
            "MNG",
            "MRT",
            "MUS",
            "NAM",
            "NER",
            "NLD",
            "OMN",
            "PNG",
            "SDN",
            "SGP",
            "SLB",
            "SOM",
            "SSD",
            "SUR",
            "SYC",
            "TCD",
            "VUT",
            "ZMB"
           ],
           "name": "",
           "type": "choropleth",
           "z": {
            "bdata": "AAAAAAAAAABF1C2mKgnhPwAAAAAAAAAAVVVVVVVV1T8AAAAAAAAAAAAAAAAAAAAAe+WNoxmX4z8AAAAAAAAAALyx0lqv1NY/ez81XrpJ3D86JngwT9TjP1VVVVVVVdU/AAAAAAAAAAAAAAAAAAAAAAAAAAAAAAAAAAAAAAAAAAC1U7DXjwHcPwAAAAAAAAAAAAAAAAAAAAAaxy3/yRHcP3Z3d3d3d9c/VVVVVVVV1T8AAAAAAAAAAAAAAAAAAAAAAAAAAAAAAABVVVVVVVXVPwAAAAAAAAAAAAAAAAAAAAA+4OzDZ9hFP1zwIvB56t8/AAAAAAAAAACAI5TR27LWP1vW6pjgweA/C+Lsw2fYVT8ibqrG+vDmP33Fe+MsnOE/AAAAAAAAAAAOVOz69MvXP2S3NJsPjOA/m+CVfsKQ2j8AAAAAAAAAAANdStcohNU/dIo9cDY02D/M/uwHBznjP9yyVscED9Y/AAAAAAAAAADk84Pk+d/sP66j9OXhatY/EFcHWcHj2j8=",
            "dtype": "f8"
           }
          }
         ],
         "name": "2017"
        },
        {
         "data": [
          {
           "coloraxis": "coloraxis",
           "customdata": {
            "bdata": "BluwBVvogkAAAAAAAAAAAP6oPaafGjlAlqnmRKW15D9Rp7RdLlEwQHPk4MQVpuM/zczMzMzUaUAAAAAAAAAAAKfPpTTg/glAVVVVVVVV1T9X7232hYt3QAAAAAAAAAAA9r0AF8kEoUAAAAAAAAAAAJ1XF/oyPyVAtLIE+G2J1j/5ng3/NzoQQH9qvHSTGNw/E4YBARxTH0Assp3vp8bjP1tzK6w6ihBAVVVVVVVV1T9gTxRYzOxqQAAAAAAAAAAAEREREREscUAAAAAAAAAAAFJZcYTYrm1AAAAAAAAAAADda2eQ9SshQJWeVjhgtNg/m4EoDAMgcUAAAAAAAAAAAM3MzMzMOqtAAAAAAAAAAAAfcu/Tb/zEP7l6T5OFA9g/h9tOvYwYEEB4ov6NUEbXP2y3jji2JQxAVVVVVVVV1T88tbWAsKd5QAAAAAAAAAAACtP4vTUNHEBVVVVVVVXVP8Y9q0TjU25AAAAAAAAAAAAXYMuc5CMPQF8s+cWSX9w/MzMzMzPhbUAAAAAAAAAAAHzYN1jxmHVAC+Lsw2fYVT9WyyoGsYRtQAAAAAAAAAAAKeuuBblh0kAAAAAAAAAAAGTJL5b8o5hAAAAAAAAAAAAX8N+lzsAwQI1EmEbRNNw/mpmZmcmgl0AAAAAAAAAAAMC88g33lQBAivo3Qhm91T91w6P3fNUQQBVnHz7DruA/EkFy3X57g0A+4OzDZ9hFP+aputNOCwlA6G1Zq2OC3z9w4vIfNYQxQHi9xi6dc+E/+L5zfaXmf0AAAAAAAAAAAItI0oWuvjRAXmT/b+4+5T8Jy5RaIslrQAAAAAAAAAAAZiC8opStN0BDOsK+L3TmPx5XEpj3b8BAAAAAAAAAAADv7u7u7vqBQAAAAAAAAAAAOr244rqhOEBTifVIDAzYP5JWSo3mBDBAcf+A/mQO4z9UkrV1f+ENQBXZzvdT49U/1uA5AkVLakAAAAAAAAAAAHDXcIwxpSlAId1e8deA4z8hFvGeJmUzQDmcIR78TdY/seQXS37hbEAAAAAAAAAAAMxJbUqsZjdATFgLBstg1j9ZRyhShy04QBl990p2h9o/",
            "dtype": "f8",
            "shape": "51, 2"
           },
           "geo": "geo",
           "hovertemplate": "<b>%{hovertext}</b><br><br>Year=2018<br>Country Code=%{location}<br>Population_Density=%{customdata[0]:.2f}<br>MPI=%{z:.3f}<extra></extra>",
           "hovertext": [
            "Aruba",
            "Angola",
            "Argentina",
            "Antigua and Barbuda",
            "Australia",
            "Belgium",
            "Bahrain",
            "Bolivia",
            "Botswana",
            "Central African Republic",
            "Canada",
            "Switzerland",
            "Cayman Islands",
            "Germany",
            "Gabon",
            "United Kingdom",
            "Gibraltar",
            "Greenland",
            "Guyana",
            "Iceland",
            "Israel",
            "Kazakhstan",
            "Kuwait",
            "Libya",
            "Liechtenstein",
            "Sri Lanka",
            "Luxembourg",
            "Monaco",
            "Maldives",
            "Mali",
            "Malta",
            "Mongolia",
            "Mauritania",
            "Mauritius",
            "Namibia",
            "Niger",
            "Netherlands",
            "Papua New Guinea",
            "Qatar",
            "Sudan",
            "Singapore",
            "San Marino",
            "Somalia",
            "South Sudan",
            "Suriname",
            "Seychelles",
            "Chad",
            "Uruguay",
            "British Virgin Islands",
            "Vanuatu",
            "Zambia"
           ],
           "locations": [
            "ABW",
            "AGO",
            "ARG",
            "ATG",
            "AUS",
            "BEL",
            "BHR",
            "BOL",
            "BWA",
            "CAF",
            "CAN",
            "CHE",
            "CYM",
            "DEU",
            "GAB",
            "GBR",
            "GIB",
            "GRL",
            "GUY",
            "ISL",
            "ISR",
            "KAZ",
            "KWT",
            "LBY",
            "LIE",
            "LKA",
            "LUX",
            "MCO",
            "MDV",
            "MLI",
            "MLT",
            "MNG",
            "MRT",
            "MUS",
            "NAM",
            "NER",
            "NLD",
            "PNG",
            "QAT",
            "SDN",
            "SGP",
            "SMR",
            "SOM",
            "SSD",
            "SUR",
            "SYC",
            "TCD",
            "URY",
            "VGB",
            "VUT",
            "ZMB"
           ],
           "name": "",
           "type": "choropleth",
           "z": {
            "bdata": "AAAAAAAAAACWqeZEpbXkP3Pk4MQVpuM/AAAAAAAAAABVVVVVVVXVPwAAAAAAAAAAAAAAAAAAAAC0sgT4bYnWP39qvHSTGNw/LLKd76fG4z9VVVVVVVXVPwAAAAAAAAAAAAAAAAAAAAAAAAAAAAAAAJWeVjhgtNg/AAAAAAAAAAAAAAAAAAAAALl6T5OFA9g/eKL+jVBG1z9VVVVVVVXVPwAAAAAAAAAAVVVVVVVV1T8AAAAAAAAAAF8s+cWSX9w/AAAAAAAAAAAL4uzDZ9hVPwAAAAAAAAAAAAAAAAAAAAAAAAAAAAAAAI1EmEbRNNw/AAAAAAAAAACK+jdCGb3VPxVnHz7DruA/PuDsw2fYRT/obVmrY4LfP3i9xi6dc+E/AAAAAAAAAABeZP9v7j7lPwAAAAAAAAAAQzrCvi905j8AAAAAAAAAAAAAAAAAAAAAU4n1SAwM2D9x/4D+ZA7jPxXZzvdT49U/AAAAAAAAAAAh3V7x14DjPzmcIR78TdY/AAAAAAAAAABMWAsGy2DWPxl990p2h9o/",
            "dtype": "f8"
           }
          }
         ],
         "name": "2018"
        },
        {
         "data": [
          {
           "coloraxis": "coloraxis",
           "customdata": {
            "bdata": "EM/ZkhT4OUAhWlr1cEPiPw19kIf7bjBAuO9QUyOe4z8FeUqQp/RpQAAAAAAAAAAASHf6Ue5hCkBVVVVVVVXVPyxVJBswrHdAAAAAAAAAAABwkZz1vcygQAAAAAAAAAAAM9xvDj+MJUC5dDXiRffVPzONuX69dRBAg8DKoUW22z91c72Gq78fQAIrhxbZzuM/J/4sdZPIEEBVVVVVVVXVP00iEiokHmtAAAAAAAAAAAB3d3d3d4hxQAAAAAAAAAAAlEMmhADAbUBoYx+bGwpWP+ZJU2wEmiFAzIWkKRVn1z+CZ8pIoTZxQAAAAAAAAAAAzczMzMy6q0AAAAAAAAAAAGHDUNrOD8U/VVVVVVVV1T+lT/qkT7pyQAAAAAAAAAAA14bRRGhsEEDsw2fYFSDXP/plBVvqxQxAVVVVVVVV1T8HhD0WRSZ6QAAAAAAAAAAACQjUDzZ2HEBVVVVVVVXVP8ICsA85KW9AAAAAAAAAAACamZmZmSBuQAAAAAAAAAAA2mQuoHsabkAAAAAAAAAAAIyWCDQsXNJAAAAAAAAAAACuR+F6FGeZQAAAAAAAAAAAG6eVCjlEMUBRD7m0kZLcP2ZmZmbmmphAAAAAAAAAAABup6nWsOQAQMMgsHJokdU/nZ2He6pWEUAkBoGVQ4vgP6gRlnsafYNAAAAAAAAAAAACvbsTUcEJQBj53NfsL+Y/4vG1SHMHL0A7JuRtvbrhPy+TRIy9HTJAYKwWjBgy4T+lyR/jKA6AQAAAAAAAAAAAzczMzMwagkAAAAAAAAAAAO8FQQU0qy1AHGvBVizy4D+cvgeh7zc1QIJo9r8Xpt8/A05pM/llMEA/O/99IfTbPxu2He8lYjhAfvxl1ToF5j8UOgwQZaDAQAAAAAAAAAAAvLu7u7sNgkAAAAAAAAAAACquRxLLjTlA8o1QThHg1z8h/lMRmX4wQGAJtd5J4OI/Utj8BU8xDkD58Bl2BcjVPy0tLS0tj5JAAAAAAAAAAACmN73pTYdqQAAAAAAAAAAA2QKW8QZ8KkBk2XPRnpLjPzMzMzMzC3ZA/Knx0k1iUD9ERERERFRuQAAAAAAAAAAA1QTjrezzN0CX9l2LFHfVP837TZuU5zhA3dV2K1GL2T8=",
            "dtype": "f8",
            "shape": "53, 2"
           },
           "geo": "geo",
           "hovertemplate": "<b>%{hovertext}</b><br><br>Year=2019<br>Country Code=%{location}<br>Population_Density=%{customdata[0]:.2f}<br>MPI=%{z:.3f}<extra></extra>",
           "hovertext": [
            "Angola",
            "Argentina",
            "Antigua and Barbuda",
            "Australia",
            "Belgium",
            "Bahrain",
            "Bolivia",
            "Botswana",
            "Central African Republic",
            "Canada",
            "Switzerland",
            "Cayman Islands",
            "Germany",
            "Gabon",
            "United Kingdom",
            "Gibraltar",
            "Greenland",
            "Guam",
            "Guyana",
            "Iceland",
            "Israel",
            "Kazakhstan",
            "Kuwait",
            "Liechtenstein",
            "Luxembourg",
            "Monaco",
            "Maldives",
            "Mali",
            "Malta",
            "Mongolia",
            "Mauritania",
            "Mauritius",
            "Namibia",
            "New Caledonia",
            "Niger",
            "Netherlands",
            "Nauru",
            "Oman",
            "Papua New Guinea",
            "Paraguay",
            "Sudan",
            "Singapore",
            "San Marino",
            "Somalia",
            "South Sudan",
            "Suriname",
            "Sint Maarten (Dutch part)",
            "Seychelles",
            "Chad",
            "Tuvalu",
            "British Virgin Islands",
            "Vanuatu",
            "Zambia"
           ],
           "locations": [
            "AGO",
            "ARG",
            "ATG",
            "AUS",
            "BEL",
            "BHR",
            "BOL",
            "BWA",
            "CAF",
            "CAN",
            "CHE",
            "CYM",
            "DEU",
            "GAB",
            "GBR",
            "GIB",
            "GRL",
            "GUM",
            "GUY",
            "ISL",
            "ISR",
            "KAZ",
            "KWT",
            "LIE",
            "LUX",
            "MCO",
            "MDV",
            "MLI",
            "MLT",
            "MNG",
            "MRT",
            "MUS",
            "NAM",
            "NCL",
            "NER",
            "NLD",
            "NRU",
            "OMN",
            "PNG",
            "PRY",
            "SDN",
            "SGP",
            "SMR",
            "SOM",
            "SSD",
            "SUR",
            "SXM",
            "SYC",
            "TCD",
            "TUV",
            "VGB",
            "VUT",
            "ZMB"
           ],
           "name": "",
           "type": "choropleth",
           "z": {
            "bdata": "IVpa9XBD4j+471BTI57jPwAAAAAAAAAAVVVVVVVV1T8AAAAAAAAAAAAAAAAAAAAAuXQ14kX31T+DwMqhRbbbPwIrhxbZzuM/VVVVVVVV1T8AAAAAAAAAAAAAAAAAAAAAaGMfmxsKVj/MhaQpFWfXPwAAAAAAAAAAAAAAAAAAAABVVVVVVVXVPwAAAAAAAAAA7MNn2BUg1z9VVVVVVVXVPwAAAAAAAAAAVVVVVVVV1T8AAAAAAAAAAAAAAAAAAAAAAAAAAAAAAAAAAAAAAAAAAAAAAAAAAAAAUQ+5tJGS3D8AAAAAAAAAAMMgsHJokdU/JAaBlUOL4D8AAAAAAAAAABj53NfsL+Y/Oybkbb264T9grBaMGDLhPwAAAAAAAAAAAAAAAAAAAAAca8FWLPLgP4Jo9r8Xpt8/Pzv/fSH02z9+/GXVOgXmPwAAAAAAAAAAAAAAAAAAAADyjVBOEeDXP2AJtd5J4OI/+fAZdgXI1T8AAAAAAAAAAAAAAAAAAAAAZNlz0Z6S4z/8qfHSTWJQPwAAAAAAAAAAl/ZdixR31T/d1XYrUYvZPw==",
            "dtype": "f8"
           }
          }
         ],
         "name": "2019"
        },
        {
         "data": [
          {
           "coloraxis": "coloraxis",
           "customdata": {
            "bdata": "vRUUAe3UOkCWw38vin/mPy5V3PxrgzBAr0/WALCY4z8c9ZJvwLUKQLosAG98S90/QiCJjbzQJUAiDrW+02PlP7avV0YJ9zhAccF8aepf4T/t9U/01LIQQIqzD59hV+g/xHPDYyojIEAam2I41QvkPzX2npZr9xBAVVVVVVVV5T8LeggvWw06QB+KykiBDeE/OZif9NZ9MkCSpXqy1RnjP7K9RgRwJzJAnQDL7a4o4z8lH8L2+AYiQP4VOG6wtOU/mpmZmZlCrEAAAAAAAAAAAP+MZ+ZsHcU/FdRjnDqp2j8ZQjo1cj4NQFVVVVVVVeU/L5LlJZjdHEBVVVVVVVXlP7o288tjij5Ai57TLDG23z/FJxrtossxQGbBD1zJkeU/rvDwi3ozAUBiyS+W/GLlP/O3Y2c62hFAnlYrexxU5T8tR7C/A4QKQJ5hV4Dca+o/otM7UmoXL0CmwbOfvtrjP2jV7wlUuTJAOltN+yQD4T80WyNT9nQtQEf9xaeDgeE/MzMzMzMxgkAAAAAAAAAAAD1js9fiVDNA1yPG9Qen2T/OgNM2ezktQKC70hp4GuQ/qlKPmM2sNUCiMd38MrPqP+eVu28dnzBAAbf9ZXnO3j8zHfjN+1otQF9ANI8AFuQ/lU5uiToMOUDydDLxh57lP0voL09FmTpA0P7MgzTM4z/QYSRF44o6QJh0mQsYROY/vYc5SgnuMEDSo+HBlV/tPz1CXM7OajlAAJka69k44T9DRHMRPFcrQE1iEXOIM+g/WaEV7aJrM0BgO/rzOtLiP4G34V5DhDhAOLmjAELz5D/uLa3lc6M5QBDIsweJEuc/",
            "dtype": "f8",
            "shape": "39, 2"
           },
           "geo": "geo",
           "hovertemplate": "<b>%{hovertext}</b><br><br>Year=2020<br>Country Code=%{location}<br>Population_Density=%{customdata[0]:.2f}<br>MPI=%{z:.3f}<extra></extra>",
           "hovertext": [
            "Angola",
            "Argentina",
            "Australia",
            "Bolivia",
            "Brazil",
            "Botswana",
            "Central African Republic",
            "Canada",
            "Chile",
            "Algeria",
            "Finland",
            "Gabon",
            "Gibraltar",
            "Greenland",
            "Iceland",
            "Kazakhstan",
            "Latvia",
            "Mali",
            "Mongolia",
            "Mauritania",
            "Namibia",
            "New Caledonia",
            "Niger",
            "Norway",
            "Nauru",
            "New Zealand",
            "Oman",
            "Papua New Guinea",
            "Paraguay",
            "Saudi Arabia",
            "Sudan",
            "Solomon Islands",
            "Somalia",
            "South Sudan",
            "Sweden",
            "Chad",
            "Uruguay",
            "Vanuatu",
            "Zambia"
           ],
           "locations": [
            "AGO",
            "ARG",
            "AUS",
            "BOL",
            "BRA",
            "BWA",
            "CAF",
            "CAN",
            "CHL",
            "DZA",
            "FIN",
            "GAB",
            "GIB",
            "GRL",
            "ISL",
            "KAZ",
            "LVA",
            "MLI",
            "MNG",
            "MRT",
            "NAM",
            "NCL",
            "NER",
            "NOR",
            "NRU",
            "NZL",
            "OMN",
            "PNG",
            "PRY",
            "SAU",
            "SDN",
            "SLB",
            "SOM",
            "SSD",
            "SWE",
            "TCD",
            "URY",
            "VUT",
            "ZMB"
           ],
           "name": "",
           "type": "choropleth",
           "z": {
            "bdata": "lsN/L4p/5j+vT9YAsJjjP7osAG98S90/Ig61vtNj5T9xwXxp6l/hP4qzD59hV+g/GptiONUL5D9VVVVVVVXlPx+KykiBDeE/kqV6stUZ4z+dAMvtrijjP/4VOG6wtOU/AAAAAAAAAAAV1GOcOqnaP1VVVVVVVeU/VVVVVVVV5T+LntMsMbbfP2bBD1zJkeU/Yskvlvxi5T+eVit7HFTlP55hV4Dca+o/psGzn77a4z86W037JAPhP0f9xaeDgeE/AAAAAAAAAADXI8b1B6fZP6C70hp4GuQ/ojHd/DKz6j8Bt/1lec7eP19ANI8AFuQ/8nQy8Yee5T/Q/syDNMzjP5h0mQsYROY/0qPhwZVf7T8AmRrr2TjhP01iEXOIM+g/YDv68zrS4j84uaMAQvPkPxDIsweJEuc/",
            "dtype": "f8"
           }
          }
         ],
         "name": "2020"
        },
        {
         "data": [
          {
           "coloraxis": "coloraxis",
           "customdata": {
            "bdata": "P01GK/ayO0BSCaqIyvHWP5CnBHlKPGpAAAAAAAAAAAC3aRB+ZL8KQFVVVVVVVdU/r23senffd0AAAAAAAAAAAL3pTW96CKFAAAAAAAAAAABMaC+hvbSSQAAAAAAAAAAAPEXnaA/zEECLbOf7qfHaP5uNuklpaSBANRXdTiq44z9PtcCaiw8RQFVVVVVVVdU/BNfy9cmGa0AAAAAAAAAAAGy/o1fGcnVAAAAAAAAAAADe3d3d3UFyQAAAAAAAAAAAkwa5CHTJbUAAAAAAAAAAACKukNyiciJAfM2FpCkV1z8NWsLB+U1xQAAAAAAAAAAAmpmZmZnLrEAAAAAAAAAAAJcC/hfaOMU/VVVVVVVV1T+0l9BeQvNyQAAAAAAAAAAANhkIxG66fUAL4uzDZ9hVP2ayxiMvug1AVVVVVVVV1T96y/pG8hB7QAAAAAAAAAAAlkjCQ9shaUAAAAAAAAAAAMINW/ZTYHBAAAAAAAAAAAC1UO4Gymt1QAAAAAAAAAAA5njmvcZAHUBVVVVVVVXVPw0Kh171lm5AAAAAAAAAAABmZmZmZpxuQAAAAAAAAAAAYmJqLvEUdkAAAAAAAAAAAECtsp/cE29AAAAAAAAAAAAhIiIiIrpsQD7g7MNn2EU/aQlU4zVZMkCWv8AUeNLaPwAAAADgTJlAAAAAAAAAAAD+RGzbTX4BQFVVVVVVVdU/yodrYhhgEkDXItTS/SjhPzyMzJN6foNAC+Lsw2fYVT8vA1bBdk8LQHz4DLsC5N4/Lln0B300L0DowDRD3tbjP1iaY5LhVzNAqPkmKJjb4D89W3jwvzqAQAAAAAAAAAAAmpmZmZlLgkAAAAAAAAAAAFaBL1FAHDZAZPg8zI4/5T+m1z4LJfhqQAAAAAAAAAAA6VeHflS7OUAybG5X0b7kP+C1Tpemy79AAAAAAAAAAADv7u7u7taBQAAAAAAAAAAAn2Lfjv2HO0BH/2NposzWP+ecPe/QMTFAEv1kyOuX4j8JkCJfDswOQKk4+/AZduU/tbS0tLQak0AAAAAAAAAAAHrjbCyBTCxAgvW69iKI5T/NzMzMzDx1QPyp8dJNYlA/UrgeheuBb0AAAAAAAAAAACFkUJp6FzlA+luy2sLq4j8ETPOz3F46QLEoF/gY+dc/",
            "dtype": "f8",
            "shape": "54, 2"
           },
           "geo": "geo",
           "hovertemplate": "<b>%{hovertext}</b><br><br>Year=2021<br>Country Code=%{location}<br>Population_Density=%{customdata[0]:.2f}<br>MPI=%{z:.3f}<extra></extra>",
           "hovertext": [
            "Angola",
            "Antigua and Barbuda",
            "Australia",
            "Belgium",
            "Bahrain",
            "Bermuda",
            "Botswana",
            "Central African Republic",
            "Canada",
            "Switzerland",
            "Curacao",
            "Cayman Islands",
            "Germany",
            "Gabon",
            "United Kingdom",
            "Gibraltar",
            "Greenland",
            "Guam",
            "India",
            "Iceland",
            "Israel",
            "Italy",
            "Jamaica",
            "Japan",
            "Kazakhstan",
            "Kuwait",
            "Liechtenstein",
            "Sri Lanka",
            "Luxembourg",
            "Marshall Islands",
            "Mali",
            "Malta",
            "Mongolia",
            "Mauritania",
            "Mauritius",
            "Namibia",
            "New Caledonia",
            "Niger",
            "Netherlands",
            "Nauru",
            "Papua New Guinea",
            "Qatar",
            "Sudan",
            "Singapore",
            "San Marino",
            "Somalia",
            "South Sudan",
            "Suriname",
            "Sint Maarten (Dutch part)",
            "Chad",
            "Tuvalu",
            "British Virgin Islands",
            "Vanuatu",
            "Zambia"
           ],
           "locations": [
            "AGO",
            "ATG",
            "AUS",
            "BEL",
            "BHR",
            "BMU",
            "BWA",
            "CAF",
            "CAN",
            "CHE",
            "CUW",
            "CYM",
            "DEU",
            "GAB",
            "GBR",
            "GIB",
            "GRL",
            "GUM",
            "IND",
            "ISL",
            "ISR",
            "ITA",
            "JAM",
            "JPN",
            "KAZ",
            "KWT",
            "LIE",
            "LKA",
            "LUX",
            "MHL",
            "MLI",
            "MLT",
            "MNG",
            "MRT",
            "MUS",
            "NAM",
            "NCL",
            "NER",
            "NLD",
            "NRU",
            "PNG",
            "QAT",
            "SDN",
            "SGP",
            "SMR",
            "SOM",
            "SSD",
            "SUR",
            "SXM",
            "TCD",
            "TUV",
            "VGB",
            "VUT",
            "ZMB"
           ],
           "name": "",
           "type": "choropleth",
           "z": {
            "bdata": "UgmqiMrx1j8AAAAAAAAAAFVVVVVVVdU/AAAAAAAAAAAAAAAAAAAAAAAAAAAAAAAAi2zn+6nx2j81Fd1OKrjjP1VVVVVVVdU/AAAAAAAAAAAAAAAAAAAAAAAAAAAAAAAAAAAAAAAAAAB8zYWkKRXXPwAAAAAAAAAAAAAAAAAAAABVVVVVVVXVPwAAAAAAAAAAC+Lsw2fYVT9VVVVVVVXVPwAAAAAAAAAAAAAAAAAAAAAAAAAAAAAAAAAAAAAAAAAAVVVVVVVV1T8AAAAAAAAAAAAAAAAAAAAAAAAAAAAAAAAAAAAAAAAAAD7g7MNn2EU/lr/AFHjS2j8AAAAAAAAAAFVVVVVVVdU/1yLU0v0o4T8L4uzDZ9hVP3z4DLsC5N4/6MA0Q97W4z+o+SYomNvgPwAAAAAAAAAAAAAAAAAAAABk+DzMjj/lPwAAAAAAAAAAMmxuV9G+5D8AAAAAAAAAAAAAAAAAAAAAR/9jaaLM1j8S/WTI65fiP6k4+/AZduU/AAAAAAAAAACC9br2IojlP/yp8dJNYlA/AAAAAAAAAAD6W7LawuriP7EoF/gY+dc/",
            "dtype": "f8"
           }
          }
         ],
         "name": "2021"
        },
        {
         "data": [
          {
           "coloraxis": "coloraxis",
           "customdata": {
            "bdata": "VVVVVVWhgkAK2ezDZ9g1PwaPVS5flTxAb9KssKdo1j8AAAAAAGBqQAAAAAAAAAAAX9FGnRgXC0BVVVVVVVXVPxOke74OEXhAAAAAAAAAAACBbmpRCVWUQBWp8dJNYmA/ZmZmZmZDoUAAAAAAAAAAAOQ4juM4vJJAAAAAAAAAAADGYUAgiTgRQKzVMcGDedo/fG7P69pdIEAcEpF2sJnlP9N/K+0LXxFAVVVVVVVV1T8piKz2g8FrQAAAAAAAAAAA1JwE4kIddUAAAAAAAAAAALu7u7u7pHJAAAAAAAAAAAC69Rg0nwBuQAAAAAAAAAAA9X03Y/zdIkC4HoXrUbjWP4mWbq36dnFAAAAAAAAAAADNzMzMzGGtQAAAAAAAAAAAJIyhfZ45xT9VVVVVVVXVP+Q4juM4HnNAAAAAAAAAAACx9ppi6XsOQFVVVVVVVdU/1wLCHouae0AAAAAAAAAAAP699pnaFGlAAAAAAAAAAACvTEbnfGJwQAAAAAAAAAAAyXYEwyevHUBVVVVVVVXVPwgLwD7kGHBAAAAAAAAAAAAJry81CmwQQIiIiIiIiOg/5EpN1I3B0kAAAAAAAAAAAK5H4XoUTJtAAAAAAAAAAAAuRI/Wt+gyQP5quunGm9o/mpmZmenumUAAAAAAAAAAAOEKubx8wAFAVVVVVVVV1T/BGpN38esSQBvotIFOG+A/pkkEyXVvg0AAAAAAAAAAABBUVy1EFAxARiijt2Wt3j+HaE5gjPszQFB6tK9fl+A/UpK7pYtigEAAAAAAAAAAAGZmZmZmcIJAAAAAAAAAAAAH2uXTz4c2QN5KACwu7t8/Poh/wxkEMUDZWNitY3PXPwv9roBCnGxAAAAAAAAAAACmUHQzvW86QEQIolKJK+E/Fdwgm7tuwEAAAAAAAAAAAHlCVfBt03JAAAAAAAAAAACrqqqqqpSBQAAAAAAAAAAA1Ev5eHVgPED9oqKpB2/WPxegXczEcDFAJcBM3QR04j8V0zz2RQ8PQIslv1jyi9U/iIeHh4ddk0AAAAAAAAAAADtHoGirSXBAAAAAAAAAAAAjOwiSTUstQADl09ya2OI/vYX0FtKjcEAAAAAAAAAAACZQgcoIHDtAUZ9wiiFY1z8=",
            "dtype": "f8",
            "shape": "53, 2"
           },
           "geo": "geo",
           "hovertemplate": "<b>%{hovertext}</b><br><br>Year=2022<br>Country Code=%{location}<br>Population_Density=%{customdata[0]:.2f}<br>MPI=%{z:.3f}<extra></extra>",
           "hovertext": [
            "Aruba",
            "Angola",
            "Antigua and Barbuda",
            "Australia",
            "Belgium",
            "Bangladesh",
            "Bahrain",
            "Bermuda",
            "Botswana",
            "Central African Republic",
            "Canada",
            "Switzerland",
            "Curacao",
            "Cayman Islands",
            "Germany",
            "Gabon",
            "United Kingdom",
            "Gibraltar",
            "Greenland",
            "Guam",
            "Iceland",
            "Israel",
            "Italy",
            "Jamaica",
            "Kazakhstan",
            "Kuwait",
            "Libya",
            "Monaco",
            "Maldives",
            "Mali",
            "Malta",
            "Mongolia",
            "Mauritania",
            "Mauritius",
            "Namibia",
            "Niger",
            "Netherlands",
            "Nauru",
            "Papua New Guinea",
            "Paraguay",
            "Qatar",
            "Sudan",
            "Singapore",
            "El Salvador",
            "San Marino",
            "Somalia",
            "South Sudan",
            "Suriname",
            "Sint Maarten (Dutch part)",
            "Seychelles",
            "Chad",
            "Trinidad and Tobago",
            "Zambia"
           ],
           "locations": [
            "ABW",
            "AGO",
            "ATG",
            "AUS",
            "BEL",
            "BGD",
            "BHR",
            "BMU",
            "BWA",
            "CAF",
            "CAN",
            "CHE",
            "CUW",
            "CYM",
            "DEU",
            "GAB",
            "GBR",
            "GIB",
            "GRL",
            "GUM",
            "ISL",
            "ISR",
            "ITA",
            "JAM",
            "KAZ",
            "KWT",
            "LBY",
            "MCO",
            "MDV",
            "MLI",
            "MLT",
            "MNG",
            "MRT",
            "MUS",
            "NAM",
            "NER",
            "NLD",
            "NRU",
            "PNG",
            "PRY",
            "QAT",
            "SDN",
            "SGP",
            "SLV",
            "SMR",
            "SOM",
            "SSD",
            "SUR",
            "SXM",
            "SYC",
            "TCD",
            "TTO",
            "ZMB"
           ],
           "name": "",
           "type": "choropleth",
           "z": {
            "bdata": "Ctnsw2fYNT9v0qywp2jWPwAAAAAAAAAAVVVVVVVV1T8AAAAAAAAAABWp8dJNYmA/AAAAAAAAAAAAAAAAAAAAAKzVMcGDedo/HBKRdrCZ5T9VVVVVVVXVPwAAAAAAAAAAAAAAAAAAAAAAAAAAAAAAAAAAAAAAAAAAuB6F61G41j8AAAAAAAAAAAAAAAAAAAAAVVVVVVVV1T8AAAAAAAAAAFVVVVVVVdU/AAAAAAAAAAAAAAAAAAAAAAAAAAAAAAAAVVVVVVVV1T8AAAAAAAAAAIiIiIiIiOg/AAAAAAAAAAAAAAAAAAAAAP5quunGm9o/AAAAAAAAAABVVVVVVVXVPxvotIFOG+A/AAAAAAAAAABGKKO3Za3eP1B6tK9fl+A/AAAAAAAAAAAAAAAAAAAAAN5KACwu7t8/2VjYrWNz1z8AAAAAAAAAAEQIolKJK+E/AAAAAAAAAAAAAAAAAAAAAAAAAAAAAAAA/aKiqQdv1j8lwEzdBHTiP4slv1jyi9U/AAAAAAAAAAAAAAAAAAAAAADl09ya2OI/AAAAAAAAAABRn3CKIVjXPw==",
            "dtype": "f8"
           }
          }
         ],
         "name": "2022"
        }
       ],
       "layout": {
        "coloraxis": {
         "cmax": 0.6805029670625962,
         "cmin": 0,
         "colorbar": {
          "title": {
           "text": "MPI"
          }
         },
         "colorscale": [
          [
           0,
           "#000004"
          ],
          [
           0.1111111111111111,
           "#1b0c41"
          ],
          [
           0.2222222222222222,
           "#4a0c6b"
          ],
          [
           0.3333333333333333,
           "#781c6d"
          ],
          [
           0.4444444444444444,
           "#a52c60"
          ],
          [
           0.5555555555555556,
           "#cf4446"
          ],
          [
           0.6666666666666666,
           "#ed6925"
          ],
          [
           0.7777777777777778,
           "#fb9b06"
          ],
          [
           0.8888888888888888,
           "#f7d13d"
          ],
          [
           1,
           "#fcffa4"
          ]
         ]
        },
        "geo": {
         "center": {},
         "domain": {
          "x": [
           0,
           1
          ],
          "y": [
           0,
           1
          ]
         },
         "fitbounds": "locations",
         "showcoastlines": true,
         "showland": true
        },
        "legend": {
         "tracegroupgap": 0
        },
        "sliders": [
         {
          "active": 0,
          "currentvalue": {
           "prefix": "Year="
          },
          "len": 0.9,
          "pad": {
           "b": 10,
           "t": 60
          },
          "steps": [
           {
            "args": [
             [
              "2000"
             ],
             {
              "frame": {
               "duration": 0,
               "redraw": true
              },
              "fromcurrent": true,
              "mode": "immediate",
              "transition": {
               "duration": 0,
               "easing": "linear"
              }
             }
            ],
            "label": "2000",
            "method": "animate"
           },
           {
            "args": [
             [
              "2001"
             ],
             {
              "frame": {
               "duration": 0,
               "redraw": true
              },
              "fromcurrent": true,
              "mode": "immediate",
              "transition": {
               "duration": 0,
               "easing": "linear"
              }
             }
            ],
            "label": "2001",
            "method": "animate"
           },
           {
            "args": [
             [
              "2002"
             ],
             {
              "frame": {
               "duration": 0,
               "redraw": true
              },
              "fromcurrent": true,
              "mode": "immediate",
              "transition": {
               "duration": 0,
               "easing": "linear"
              }
             }
            ],
            "label": "2002",
            "method": "animate"
           },
           {
            "args": [
             [
              "2003"
             ],
             {
              "frame": {
               "duration": 0,
               "redraw": true
              },
              "fromcurrent": true,
              "mode": "immediate",
              "transition": {
               "duration": 0,
               "easing": "linear"
              }
             }
            ],
            "label": "2003",
            "method": "animate"
           },
           {
            "args": [
             [
              "2004"
             ],
             {
              "frame": {
               "duration": 0,
               "redraw": true
              },
              "fromcurrent": true,
              "mode": "immediate",
              "transition": {
               "duration": 0,
               "easing": "linear"
              }
             }
            ],
            "label": "2004",
            "method": "animate"
           },
           {
            "args": [
             [
              "2005"
             ],
             {
              "frame": {
               "duration": 0,
               "redraw": true
              },
              "fromcurrent": true,
              "mode": "immediate",
              "transition": {
               "duration": 0,
               "easing": "linear"
              }
             }
            ],
            "label": "2005",
            "method": "animate"
           },
           {
            "args": [
             [
              "2006"
             ],
             {
              "frame": {
               "duration": 0,
               "redraw": true
              },
              "fromcurrent": true,
              "mode": "immediate",
              "transition": {
               "duration": 0,
               "easing": "linear"
              }
             }
            ],
            "label": "2006",
            "method": "animate"
           },
           {
            "args": [
             [
              "2007"
             ],
             {
              "frame": {
               "duration": 0,
               "redraw": true
              },
              "fromcurrent": true,
              "mode": "immediate",
              "transition": {
               "duration": 0,
               "easing": "linear"
              }
             }
            ],
            "label": "2007",
            "method": "animate"
           },
           {
            "args": [
             [
              "2008"
             ],
             {
              "frame": {
               "duration": 0,
               "redraw": true
              },
              "fromcurrent": true,
              "mode": "immediate",
              "transition": {
               "duration": 0,
               "easing": "linear"
              }
             }
            ],
            "label": "2008",
            "method": "animate"
           },
           {
            "args": [
             [
              "2009"
             ],
             {
              "frame": {
               "duration": 0,
               "redraw": true
              },
              "fromcurrent": true,
              "mode": "immediate",
              "transition": {
               "duration": 0,
               "easing": "linear"
              }
             }
            ],
            "label": "2009",
            "method": "animate"
           },
           {
            "args": [
             [
              "2010"
             ],
             {
              "frame": {
               "duration": 0,
               "redraw": true
              },
              "fromcurrent": true,
              "mode": "immediate",
              "transition": {
               "duration": 0,
               "easing": "linear"
              }
             }
            ],
            "label": "2010",
            "method": "animate"
           },
           {
            "args": [
             [
              "2011"
             ],
             {
              "frame": {
               "duration": 0,
               "redraw": true
              },
              "fromcurrent": true,
              "mode": "immediate",
              "transition": {
               "duration": 0,
               "easing": "linear"
              }
             }
            ],
            "label": "2011",
            "method": "animate"
           },
           {
            "args": [
             [
              "2012"
             ],
             {
              "frame": {
               "duration": 0,
               "redraw": true
              },
              "fromcurrent": true,
              "mode": "immediate",
              "transition": {
               "duration": 0,
               "easing": "linear"
              }
             }
            ],
            "label": "2012",
            "method": "animate"
           },
           {
            "args": [
             [
              "2013"
             ],
             {
              "frame": {
               "duration": 0,
               "redraw": true
              },
              "fromcurrent": true,
              "mode": "immediate",
              "transition": {
               "duration": 0,
               "easing": "linear"
              }
             }
            ],
            "label": "2013",
            "method": "animate"
           },
           {
            "args": [
             [
              "2014"
             ],
             {
              "frame": {
               "duration": 0,
               "redraw": true
              },
              "fromcurrent": true,
              "mode": "immediate",
              "transition": {
               "duration": 0,
               "easing": "linear"
              }
             }
            ],
            "label": "2014",
            "method": "animate"
           },
           {
            "args": [
             [
              "2015"
             ],
             {
              "frame": {
               "duration": 0,
               "redraw": true
              },
              "fromcurrent": true,
              "mode": "immediate",
              "transition": {
               "duration": 0,
               "easing": "linear"
              }
             }
            ],
            "label": "2015",
            "method": "animate"
           },
           {
            "args": [
             [
              "2016"
             ],
             {
              "frame": {
               "duration": 0,
               "redraw": true
              },
              "fromcurrent": true,
              "mode": "immediate",
              "transition": {
               "duration": 0,
               "easing": "linear"
              }
             }
            ],
            "label": "2016",
            "method": "animate"
           },
           {
            "args": [
             [
              "2017"
             ],
             {
              "frame": {
               "duration": 0,
               "redraw": true
              },
              "fromcurrent": true,
              "mode": "immediate",
              "transition": {
               "duration": 0,
               "easing": "linear"
              }
             }
            ],
            "label": "2017",
            "method": "animate"
           },
           {
            "args": [
             [
              "2018"
             ],
             {
              "frame": {
               "duration": 0,
               "redraw": true
              },
              "fromcurrent": true,
              "mode": "immediate",
              "transition": {
               "duration": 0,
               "easing": "linear"
              }
             }
            ],
            "label": "2018",
            "method": "animate"
           },
           {
            "args": [
             [
              "2019"
             ],
             {
              "frame": {
               "duration": 0,
               "redraw": true
              },
              "fromcurrent": true,
              "mode": "immediate",
              "transition": {
               "duration": 0,
               "easing": "linear"
              }
             }
            ],
            "label": "2019",
            "method": "animate"
           },
           {
            "args": [
             [
              "2020"
             ],
             {
              "frame": {
               "duration": 0,
               "redraw": true
              },
              "fromcurrent": true,
              "mode": "immediate",
              "transition": {
               "duration": 0,
               "easing": "linear"
              }
             }
            ],
            "label": "2020",
            "method": "animate"
           },
           {
            "args": [
             [
              "2021"
             ],
             {
              "frame": {
               "duration": 0,
               "redraw": true
              },
              "fromcurrent": true,
              "mode": "immediate",
              "transition": {
               "duration": 0,
               "easing": "linear"
              }
             }
            ],
            "label": "2021",
            "method": "animate"
           },
           {
            "args": [
             [
              "2022"
             ],
             {
              "frame": {
               "duration": 0,
               "redraw": true
              },
              "fromcurrent": true,
              "mode": "immediate",
              "transition": {
               "duration": 0,
               "easing": "linear"
              }
             }
            ],
            "label": "2022",
            "method": "animate"
           }
          ],
          "x": 0.1,
          "xanchor": "left",
          "y": 0,
          "yanchor": "top"
         }
        ],
        "template": {
         "data": {
          "bar": [
           {
            "error_x": {
             "color": "#2a3f5f"
            },
            "error_y": {
             "color": "#2a3f5f"
            },
            "marker": {
             "line": {
              "color": "#E5ECF6",
              "width": 0.5
             },
             "pattern": {
              "fillmode": "overlay",
              "size": 10,
              "solidity": 0.2
             }
            },
            "type": "bar"
           }
          ],
          "barpolar": [
           {
            "marker": {
             "line": {
              "color": "#E5ECF6",
              "width": 0.5
             },
             "pattern": {
              "fillmode": "overlay",
              "size": 10,
              "solidity": 0.2
             }
            },
            "type": "barpolar"
           }
          ],
          "carpet": [
           {
            "aaxis": {
             "endlinecolor": "#2a3f5f",
             "gridcolor": "white",
             "linecolor": "white",
             "minorgridcolor": "white",
             "startlinecolor": "#2a3f5f"
            },
            "baxis": {
             "endlinecolor": "#2a3f5f",
             "gridcolor": "white",
             "linecolor": "white",
             "minorgridcolor": "white",
             "startlinecolor": "#2a3f5f"
            },
            "type": "carpet"
           }
          ],
          "choropleth": [
           {
            "colorbar": {
             "outlinewidth": 0,
             "ticks": ""
            },
            "type": "choropleth"
           }
          ],
          "contour": [
           {
            "colorbar": {
             "outlinewidth": 0,
             "ticks": ""
            },
            "colorscale": [
             [
              0,
              "#0d0887"
             ],
             [
              0.1111111111111111,
              "#46039f"
             ],
             [
              0.2222222222222222,
              "#7201a8"
             ],
             [
              0.3333333333333333,
              "#9c179e"
             ],
             [
              0.4444444444444444,
              "#bd3786"
             ],
             [
              0.5555555555555556,
              "#d8576b"
             ],
             [
              0.6666666666666666,
              "#ed7953"
             ],
             [
              0.7777777777777778,
              "#fb9f3a"
             ],
             [
              0.8888888888888888,
              "#fdca26"
             ],
             [
              1,
              "#f0f921"
             ]
            ],
            "type": "contour"
           }
          ],
          "contourcarpet": [
           {
            "colorbar": {
             "outlinewidth": 0,
             "ticks": ""
            },
            "type": "contourcarpet"
           }
          ],
          "heatmap": [
           {
            "colorbar": {
             "outlinewidth": 0,
             "ticks": ""
            },
            "colorscale": [
             [
              0,
              "#0d0887"
             ],
             [
              0.1111111111111111,
              "#46039f"
             ],
             [
              0.2222222222222222,
              "#7201a8"
             ],
             [
              0.3333333333333333,
              "#9c179e"
             ],
             [
              0.4444444444444444,
              "#bd3786"
             ],
             [
              0.5555555555555556,
              "#d8576b"
             ],
             [
              0.6666666666666666,
              "#ed7953"
             ],
             [
              0.7777777777777778,
              "#fb9f3a"
             ],
             [
              0.8888888888888888,
              "#fdca26"
             ],
             [
              1,
              "#f0f921"
             ]
            ],
            "type": "heatmap"
           }
          ],
          "histogram": [
           {
            "marker": {
             "pattern": {
              "fillmode": "overlay",
              "size": 10,
              "solidity": 0.2
             }
            },
            "type": "histogram"
           }
          ],
          "histogram2d": [
           {
            "colorbar": {
             "outlinewidth": 0,
             "ticks": ""
            },
            "colorscale": [
             [
              0,
              "#0d0887"
             ],
             [
              0.1111111111111111,
              "#46039f"
             ],
             [
              0.2222222222222222,
              "#7201a8"
             ],
             [
              0.3333333333333333,
              "#9c179e"
             ],
             [
              0.4444444444444444,
              "#bd3786"
             ],
             [
              0.5555555555555556,
              "#d8576b"
             ],
             [
              0.6666666666666666,
              "#ed7953"
             ],
             [
              0.7777777777777778,
              "#fb9f3a"
             ],
             [
              0.8888888888888888,
              "#fdca26"
             ],
             [
              1,
              "#f0f921"
             ]
            ],
            "type": "histogram2d"
           }
          ],
          "histogram2dcontour": [
           {
            "colorbar": {
             "outlinewidth": 0,
             "ticks": ""
            },
            "colorscale": [
             [
              0,
              "#0d0887"
             ],
             [
              0.1111111111111111,
              "#46039f"
             ],
             [
              0.2222222222222222,
              "#7201a8"
             ],
             [
              0.3333333333333333,
              "#9c179e"
             ],
             [
              0.4444444444444444,
              "#bd3786"
             ],
             [
              0.5555555555555556,
              "#d8576b"
             ],
             [
              0.6666666666666666,
              "#ed7953"
             ],
             [
              0.7777777777777778,
              "#fb9f3a"
             ],
             [
              0.8888888888888888,
              "#fdca26"
             ],
             [
              1,
              "#f0f921"
             ]
            ],
            "type": "histogram2dcontour"
           }
          ],
          "mesh3d": [
           {
            "colorbar": {
             "outlinewidth": 0,
             "ticks": ""
            },
            "type": "mesh3d"
           }
          ],
          "parcoords": [
           {
            "line": {
             "colorbar": {
              "outlinewidth": 0,
              "ticks": ""
             }
            },
            "type": "parcoords"
           }
          ],
          "pie": [
           {
            "automargin": true,
            "type": "pie"
           }
          ],
          "scatter": [
           {
            "fillpattern": {
             "fillmode": "overlay",
             "size": 10,
             "solidity": 0.2
            },
            "type": "scatter"
           }
          ],
          "scatter3d": [
           {
            "line": {
             "colorbar": {
              "outlinewidth": 0,
              "ticks": ""
             }
            },
            "marker": {
             "colorbar": {
              "outlinewidth": 0,
              "ticks": ""
             }
            },
            "type": "scatter3d"
           }
          ],
          "scattercarpet": [
           {
            "marker": {
             "colorbar": {
              "outlinewidth": 0,
              "ticks": ""
             }
            },
            "type": "scattercarpet"
           }
          ],
          "scattergeo": [
           {
            "marker": {
             "colorbar": {
              "outlinewidth": 0,
              "ticks": ""
             }
            },
            "type": "scattergeo"
           }
          ],
          "scattergl": [
           {
            "marker": {
             "colorbar": {
              "outlinewidth": 0,
              "ticks": ""
             }
            },
            "type": "scattergl"
           }
          ],
          "scattermap": [
           {
            "marker": {
             "colorbar": {
              "outlinewidth": 0,
              "ticks": ""
             }
            },
            "type": "scattermap"
           }
          ],
          "scattermapbox": [
           {
            "marker": {
             "colorbar": {
              "outlinewidth": 0,
              "ticks": ""
             }
            },
            "type": "scattermapbox"
           }
          ],
          "scatterpolar": [
           {
            "marker": {
             "colorbar": {
              "outlinewidth": 0,
              "ticks": ""
             }
            },
            "type": "scatterpolar"
           }
          ],
          "scatterpolargl": [
           {
            "marker": {
             "colorbar": {
              "outlinewidth": 0,
              "ticks": ""
             }
            },
            "type": "scatterpolargl"
           }
          ],
          "scatterternary": [
           {
            "marker": {
             "colorbar": {
              "outlinewidth": 0,
              "ticks": ""
             }
            },
            "type": "scatterternary"
           }
          ],
          "surface": [
           {
            "colorbar": {
             "outlinewidth": 0,
             "ticks": ""
            },
            "colorscale": [
             [
              0,
              "#0d0887"
             ],
             [
              0.1111111111111111,
              "#46039f"
             ],
             [
              0.2222222222222222,
              "#7201a8"
             ],
             [
              0.3333333333333333,
              "#9c179e"
             ],
             [
              0.4444444444444444,
              "#bd3786"
             ],
             [
              0.5555555555555556,
              "#d8576b"
             ],
             [
              0.6666666666666666,
              "#ed7953"
             ],
             [
              0.7777777777777778,
              "#fb9f3a"
             ],
             [
              0.8888888888888888,
              "#fdca26"
             ],
             [
              1,
              "#f0f921"
             ]
            ],
            "type": "surface"
           }
          ],
          "table": [
           {
            "cells": {
             "fill": {
              "color": "#EBF0F8"
             },
             "line": {
              "color": "white"
             }
            },
            "header": {
             "fill": {
              "color": "#C8D4E3"
             },
             "line": {
              "color": "white"
             }
            },
            "type": "table"
           }
          ]
         },
         "layout": {
          "annotationdefaults": {
           "arrowcolor": "#2a3f5f",
           "arrowhead": 0,
           "arrowwidth": 1
          },
          "autotypenumbers": "strict",
          "coloraxis": {
           "colorbar": {
            "outlinewidth": 0,
            "ticks": ""
           }
          },
          "colorscale": {
           "diverging": [
            [
             0,
             "#8e0152"
            ],
            [
             0.1,
             "#c51b7d"
            ],
            [
             0.2,
             "#de77ae"
            ],
            [
             0.3,
             "#f1b6da"
            ],
            [
             0.4,
             "#fde0ef"
            ],
            [
             0.5,
             "#f7f7f7"
            ],
            [
             0.6,
             "#e6f5d0"
            ],
            [
             0.7,
             "#b8e186"
            ],
            [
             0.8,
             "#7fbc41"
            ],
            [
             0.9,
             "#4d9221"
            ],
            [
             1,
             "#276419"
            ]
           ],
           "sequential": [
            [
             0,
             "#0d0887"
            ],
            [
             0.1111111111111111,
             "#46039f"
            ],
            [
             0.2222222222222222,
             "#7201a8"
            ],
            [
             0.3333333333333333,
             "#9c179e"
            ],
            [
             0.4444444444444444,
             "#bd3786"
            ],
            [
             0.5555555555555556,
             "#d8576b"
            ],
            [
             0.6666666666666666,
             "#ed7953"
            ],
            [
             0.7777777777777778,
             "#fb9f3a"
            ],
            [
             0.8888888888888888,
             "#fdca26"
            ],
            [
             1,
             "#f0f921"
            ]
           ],
           "sequentialminus": [
            [
             0,
             "#0d0887"
            ],
            [
             0.1111111111111111,
             "#46039f"
            ],
            [
             0.2222222222222222,
             "#7201a8"
            ],
            [
             0.3333333333333333,
             "#9c179e"
            ],
            [
             0.4444444444444444,
             "#bd3786"
            ],
            [
             0.5555555555555556,
             "#d8576b"
            ],
            [
             0.6666666666666666,
             "#ed7953"
            ],
            [
             0.7777777777777778,
             "#fb9f3a"
            ],
            [
             0.8888888888888888,
             "#fdca26"
            ],
            [
             1,
             "#f0f921"
            ]
           ]
          },
          "colorway": [
           "#636efa",
           "#EF553B",
           "#00cc96",
           "#ab63fa",
           "#FFA15A",
           "#19d3f3",
           "#FF6692",
           "#B6E880",
           "#FF97FF",
           "#FECB52"
          ],
          "font": {
           "color": "#2a3f5f"
          },
          "geo": {
           "bgcolor": "white",
           "lakecolor": "white",
           "landcolor": "#E5ECF6",
           "showlakes": true,
           "showland": true,
           "subunitcolor": "white"
          },
          "hoverlabel": {
           "align": "left"
          },
          "hovermode": "closest",
          "mapbox": {
           "style": "light"
          },
          "paper_bgcolor": "white",
          "plot_bgcolor": "#E5ECF6",
          "polar": {
           "angularaxis": {
            "gridcolor": "white",
            "linecolor": "white",
            "ticks": ""
           },
           "bgcolor": "#E5ECF6",
           "radialaxis": {
            "gridcolor": "white",
            "linecolor": "white",
            "ticks": ""
           }
          },
          "scene": {
           "xaxis": {
            "backgroundcolor": "#E5ECF6",
            "gridcolor": "white",
            "gridwidth": 2,
            "linecolor": "white",
            "showbackground": true,
            "ticks": "",
            "zerolinecolor": "white"
           },
           "yaxis": {
            "backgroundcolor": "#E5ECF6",
            "gridcolor": "white",
            "gridwidth": 2,
            "linecolor": "white",
            "showbackground": true,
            "ticks": "",
            "zerolinecolor": "white"
           },
           "zaxis": {
            "backgroundcolor": "#E5ECF6",
            "gridcolor": "white",
            "gridwidth": 2,
            "linecolor": "white",
            "showbackground": true,
            "ticks": "",
            "zerolinecolor": "white"
           }
          },
          "shapedefaults": {
           "line": {
            "color": "#2a3f5f"
           }
          },
          "ternary": {
           "aaxis": {
            "gridcolor": "white",
            "linecolor": "white",
            "ticks": ""
           },
           "baxis": {
            "gridcolor": "white",
            "linecolor": "white",
            "ticks": ""
           },
           "bgcolor": "#E5ECF6",
           "caxis": {
            "gridcolor": "white",
            "linecolor": "white",
            "ticks": ""
           }
          },
          "title": {
           "x": 0.05
          },
          "xaxis": {
           "automargin": true,
           "gridcolor": "white",
           "linecolor": "white",
           "ticks": "",
           "title": {
            "standoff": 15
           },
           "zerolinecolor": "white",
           "zerolinewidth": 2
          },
          "yaxis": {
           "automargin": true,
           "gridcolor": "white",
           "linecolor": "white",
           "ticks": "",
           "title": {
            "standoff": 15
           },
           "zerolinecolor": "white",
           "zerolinewidth": 2
          }
         }
        },
        "title": {
         "text": "Countries with MPI and Population Density Mismatch (2000–2022)"
        },
        "updatemenus": [
         {
          "buttons": [
           {
            "args": [
             null,
             {
              "frame": {
               "duration": 500,
               "redraw": true
              },
              "fromcurrent": true,
              "mode": "immediate",
              "transition": {
               "duration": 500,
               "easing": "linear"
              }
             }
            ],
            "label": "&#9654;",
            "method": "animate"
           },
           {
            "args": [
             [
              null
             ],
             {
              "frame": {
               "duration": 0,
               "redraw": true
              },
              "fromcurrent": true,
              "mode": "immediate",
              "transition": {
               "duration": 0,
               "easing": "linear"
              }
             }
            ],
            "label": "&#9724;",
            "method": "animate"
           }
          ],
          "direction": "left",
          "pad": {
           "r": 10,
           "t": 70
          },
          "showactive": false,
          "type": "buttons",
          "x": 0.1,
          "xanchor": "right",
          "y": 0,
          "yanchor": "top"
         }
        ]
       }
      }
     },
     "metadata": {},
     "output_type": "display_data"
    }
   ],
   "source": [
    "\n",
    "# Load data\n",
    "df = pd.read_csv('povertyindex.csv')\n",
    "\n",
    "# Optional: filter sensible ranges\n",
    "elec_min, elec_max = 0, 100\n",
    "gdp_min, gdp_max = -10, 15\n",
    "\n",
    "# Apply initial filters\n",
    "filtered = df[\n",
    "    (df['accesstoelec'] >= elec_min) & (df['accesstoelec'] <= elec_max) &\n",
    "    (df['GDP_Growth'] >= gdp_min) & (df['GDP_Growth'] <= gdp_max) &\n",
    "    (df['Year'].between(2000, 2022)) &\n",
    "    (df['MPI'].between(0, 1)) &\n",
    "    (df['Population_Density'] > 0)\n",
    "].copy()\n",
    "\n",
    "# Calculate thresholds for mismatch\n",
    "pop25 = filtered['Population_Density'].quantile(0.25)\n",
    "pop75 = filtered['Population_Density'].quantile(0.75)\n",
    "mpi25 = filtered['MPI'].quantile(0.25)\n",
    "mpi75 = filtered['MPI'].quantile(0.75)\n",
    "\n",
    "# Keep only mismatch countries\n",
    "mismatch = filtered[\n",
    "    (\n",
    "        (filtered['Population_Density'] <= pop25) & (filtered['MPI'] >= mpi75)\n",
    "    ) |\n",
    "    (\n",
    "        (filtered['Population_Density'] >= pop75) & (filtered['MPI'] <= mpi25)\n",
    "    )\n",
    "].copy()\n",
    "\n",
    "# Use full color range for contrast\n",
    "mpi_max = mismatch['MPI'].quantile(0.95)\n",
    "\n",
    "# Create choropleth map\n",
    "fig = px.choropleth(\n",
    "    mismatch,\n",
    "    locations='Country Code',\n",
    "    color='MPI',\n",
    "    hover_name='Country',\n",
    "    hover_data={\n",
    "        'Population_Density': ':.2f',  \n",
    "        'MPI': ':.3f'                \n",
    "    },\n",
    "    animation_frame='Year',\n",
    "    color_continuous_scale='Inferno',\n",
    "    range_color=[0, mpi_max],\n",
    "    title='Countries with MPI and Population Density Mismatch (2000–2022)',\n",
    "    labels={'MPI': 'MPI'}\n",
    ")\n",
    "\n",
    "fig.update_geos(showcoastlines=True, showland=True, fitbounds=\"locations\")\n",
    "fig.write_html('choropleth_mpi_mismatch.html')\n",
    "fig.show()\n"
   ]
  },
  {
   "cell_type": "code",
   "execution_count": 69,
   "id": "c13b2eb7",
   "metadata": {},
   "outputs": [
    {
     "data": {
      "application/vnd.plotly.v1+json": {
       "config": {
        "plotlyServerURL": "https://plot.ly"
       },
       "data": [
        {
         "hovertemplate": "<b>%{hovertext}</b><br><br>Year=2000<br>Population Density (per km²)=%{marker.size}<br>Multidimensional Poverty Index (MPI)=%{marker.color}<extra></extra>",
         "hovertext": [
          "Aruba",
          "Afghanistan",
          "Angola",
          "Albania",
          "Andorra",
          "United Arab Emirates",
          "Argentina",
          "Armenia",
          "Antigua and Barbuda",
          "Austria",
          "Azerbaijan",
          "Burundi",
          "Belgium",
          "Benin",
          "Burkina Faso",
          "Bulgaria",
          "Bosnia and Herzegovina",
          "Belarus",
          "Belize",
          "Bolivia",
          "Brazil",
          "Barbados",
          "Bhutan",
          "Central African Republic",
          "Switzerland",
          "Chile",
          "China",
          "Cote d'Ivoire",
          "Cameroon",
          "Colombia",
          "Comoros",
          "Costa Rica",
          "Cuba",
          "Curacao",
          "Cayman Islands",
          "Cyprus",
          "Czechia",
          "Germany",
          "Djibouti",
          "Dominica",
          "Denmark",
          "Dominican Republic",
          "Algeria",
          "Ecuador",
          "Eritrea",
          "Spain",
          "Estonia",
          "Ethiopia",
          "Finland",
          "Fiji",
          "France",
          "Gabon",
          "United Kingdom",
          "Georgia",
          "Ghana",
          "Guinea",
          "Equatorial Guinea",
          "Greece",
          "Grenada",
          "Guatemala",
          "Guam",
          "Guyana",
          "Honduras",
          "Croatia",
          "Haiti",
          "Hungary",
          "Indonesia",
          "Isle of Man",
          "India",
          "Ireland",
          "Iraq",
          "Israel",
          "Italy",
          "Jamaica",
          "Jordan",
          "Japan",
          "Kazakhstan",
          "Kenya",
          "Cambodia",
          "Kiribati",
          "Kuwait",
          "Lebanon",
          "Liechtenstein",
          "Sri Lanka",
          "Lesotho",
          "Lithuania",
          "Luxembourg",
          "Latvia",
          "Morocco",
          "Moldova",
          "Madagascar",
          "Mexico",
          "Marshall Islands",
          "North Macedonia",
          "Mali",
          "Myanmar",
          "Montenegro",
          "Northern Mariana Islands",
          "Mozambique",
          "Mauritius",
          "Malawi",
          "Malaysia",
          "New Caledonia",
          "Niger",
          "Nigeria",
          "Nicaragua",
          "Netherlands",
          "Norway",
          "Nepal",
          "Nauru",
          "New Zealand",
          "Oman",
          "Pakistan",
          "Panama",
          "Peru",
          "Philippines",
          "Palau",
          "Papua New Guinea",
          "Poland",
          "Portugal",
          "Paraguay",
          "French Polynesia",
          "Qatar",
          "Romania",
          "Rwanda",
          "Saudi Arabia",
          "Sudan",
          "Senegal",
          "Solomon Islands",
          "Sierra Leone",
          "El Salvador",
          "San Marino",
          "Somalia",
          "Serbia",
          "Sao Tome and Principe",
          "Slovenia",
          "Sweden",
          "Eswatini",
          "Seychelles",
          "Turks and Caicos Islands",
          "Chad",
          "Togo",
          "Thailand",
          "Tajikistan",
          "Turkmenistan",
          "Tonga",
          "Trinidad and Tobago",
          "Tunisia",
          "Tuvalu",
          "Tanzania",
          "Uganda",
          "Ukraine",
          "Uruguay",
          "United States",
          "Uzbekistan",
          "British Virgin Islands",
          "Vanuatu",
          "Samoa",
          "South Africa",
          "Zambia",
          "Zimbabwe"
         ],
         "legendgroup": "",
         "marker": {
          "color": {
           "bdata": "2zUXkqZUnD97In7lwZnePxdA9rlh9OE/Fanx0k1iYD8AAAAAAAAAAO1UZ8RvmXs/25uQLtaG4D8Jt2WtjgluP4GFpCkVZ38/AAAAAAAAAAAJt2WtjgluPyCL/BWPAOE/AAAAAAAAAAC+WPKLJb/QP/7QKnfez9Y/ujomeDBPpD8CG+i0gU5rP31kfdy5R6Y/SGu7gTOE2T+7u7u7u7vbPyfZNQrZwdA/AAAAAAAAAAC4yByc9UPhP1yPwvUoXO8/AAAAAAAAAAAkjdOb5/zPP4FJDAIrh4Y/pSD8oPbx0z8Q9txJn23WPx5Zw9ztzME/fYZdAXKvyT99e82FpCmFP3sUrkfheoQ/AAAAAAAAAAAAAAAAAAAAAAAAAAAAAAAAAAAAAAAAAAAAAAAAAAAAAPTca2vZ29I/VOOlm8QgsD8AAAAAAAAAAExGb8taHaM/0oOn+44L1D+5Qhpt1oSsPz6aNsjLm+k/AAAAAAAAAAByhJ2sRi7CPzm0yHa+n9I/yE2RkGqa0T+NceOXtETaPwAAAAAAAAAA2sNL57O75z8AAAAAAAAAAD7g7MNn2EU/NvvwGXYFyD+ysmY8bnbaP3ezBbXYzdQ/AAAAAAAAAADbF0t+seSnP2IQWDm0yLY/AAAAAAAAAAAJq3XE18flP5qofyOU0bs/AAAAAAAAAADXbrXq0yLOPwAAAAAAAAAAi4qzD59hpz8AAAAAAAAAALwta3VM8MA/AAAAAAAAAAB/4uzDZ9iFPwAAAAAAAAAAAAAAAAAAAACtrv80IMOwPwIb6LSBTms/AAAAAAAAAAA3Qhm9LWvVP+NGXWbx79Q/lm4Sg8DK0T+IbOf7qfHCPwAAAAAAAAAABEZvy1odYz8AAAAAAAAAAPLSTWIQWLk/zyLb+X5q1D8bGui0gU5bPwAAAAAAAAAACAeibsiVuT9acyFpSsW5PwB4ME/Uv3E/nLxjGi8q3j8CG+i0gU57P/qNUEZvy7o/AhvotIFOaz87XCPvyBToPy5P1L8Rysg/6Q86g+n2pj/4HdmLEPVzP0HBQ0tZCOI/AhvotIFOaz+1OiZ4ME/UPwRGb8taHXM/GjOC+Fgo1D9w6QKnC37sP27LWh0TPMg/4xFO4XZVxD8AAAAAAAAAAEJt9lLhG9Q/UNS/EcrozT9TKs4+fIbVP6hEXmBY2tI/VVVVVVVV1T/LsCtA7jW3P2TAHeg4E8I/WgpbxmBz1T/7G6GM3pa1Pxl6TmxvNto/zRnUM2AV7j8AAAAAAAAAAAAAAAAAAAAAdOliaoav5T8AAAAAAAAAAAAAAAAAAAAAPUZvy1odkz+bffgMuwLUP1VVVVVVVdU/ROZ261+T4T/GveZC0pTKP3L0HkoJ+O0/ScXZh8+w0z9q2kCnDXSqPwAAAAAAAAAACBGwetUE5D8K2ezDZ9g1P2snaYAB8cs/AAAAAAAAAAAomkUFxhnOPy4kTak4+9A/3WCeqH8jlD+8pxKERO3YP01d7S+cr+s/er3O2KFj3j/pRP0boYyuP3JVPKjGTag/N0IZvS1r1T/6fmq8dJOoPxkEVg4tsp0/HXgwT9S/kT+gUmEAKFTOP6WyEPwnhNk/87as1THB0z/6fmq8dJNoPxbt5IDFB+M/fEaqKOZ4xD8L4uzDZ9hVPz+tjgkezIM/6GrV4JOO4T9sFK5H4XqkP6hMOBhVpMc/GimrPwug4j84bwA83d/mPw==",
           "dtype": "f8"
          },
          "coloraxis": "coloraxis",
          "size": {
           "bdata": "RERERER0f0CViYoVJd0+QPWPhhf6+ilA/YYy3D4vXEAmVxCTK3hhQIF835yAmEhAOj1tukMyK0CPvFEt+EhcQMhTgjwlSGVA4Txh1oZFWEB8QUlL9y1YQGia2AqMfm9AimtC6k8fdUAi+oxy0wJQQMAjKeszy0VAMMKjGHx2UkCF61G4tk9UQGyBXGvLlkhAevpNpgsdJUCVuNHmNscfQBMTsrD50TRAc3n2N5cLg0Ch9ctdi4wpQDsDkqEInRhAxnj5dQe4ZkCCT1ob8dk0QLLiOuK+z2BAFgIKnSDUS0A8TBvvDow/QC+X4A+znUFAAtchgvYAckDq5+Ryq0dTQD20VAb021lAfdYNpsjXckDe3d3d3alkQBzWvmHto1lApE7s0/OWYEAzFoYLNm9tQKitF/iwHkBAg8DKoUXWVkCrPldbsa9gQNsJeh8SNmZAyVY3ImDzKUDv4V87/upGQN4eruVxPzZAubri7fhKVEDpKRbfTnpAQAQg7upV2lBAJ47vMHj+MEBkW60KbQNHQDPpBic60FtA+XK/ITjNE0DOAAFusW1uQDNdz5AKVk1AaFAB7E6TVUBu4bs2uyZBQJP93I2EEjlAx3KQGS71VECFhISEhMBzQADCI2s+SltAq6qqqqqGckBsVHVu3hoPQN/xj2fYZE1AuHY05dn6U0Ac3PYuaNRyQK03EMHoWVxAbJ4LurLRXUB4Qq7WhZdgQAjV6NchPXZAqQaADiWeS0B3JM+n5+tLQCGCEVfoKXJAcqb4YXYzaECUAyzbfBluQPVxW6o+hk5Acbja0XaedUCfSrYSl/cWQOkrV7ab60pAU2mqoGimUUDtaHJfhVlbQNNREHxHbFtA00wzzTRzekAAAAAAAIFpQFzp7nZ7OnNAIIJNkVKAUEBr3FLId+pLQJ2E7CseL2VA3vFjvgMGQ0DdnfY5L9dPQOLPqi6EPlZAUSfhPapmPECamQ7RB15JQDMzMzMzm3FA78gMj73rU0BNp6FCW/IiQIXTDDZAU1FA0HmAHSV9RkAzMzMzM5NiQBq43lH4DTdAK0w+/1RFgkD+rkj+lgFeQPC20NwFelFAXcAXXLJoKEAcF8bwMCwiQMg7WFZ2WGFABM7JrFbeRED2tjLxont9QEPm4whzlyhAXwDC0ux0ZUBmZmZmZsZ/QId+npY0TS1ACWDihZJ+HUAODlcAMB1pQIgstz5PP0RAmEwVjKrHNEA+ErNadq9wQHK/Lql82ERAgeyQXCl0KEAhUtiAOjpfQC1xrUJOHVxAbeE4Z3utKUDgarY8nWpQQPM26mX9xktAb2PCUshbWEDwUaw/PM90QBF5MLU4Gh5AmNqdM0rILUBNGu55NuNJQOPg7vcqeS9AqhV9+5WkTkDqDzg929BxQGZmZmZm6ntAkjj2bKotLECM/htBL3xVQJqZmZmZwGJA7WS9WVGwWEB6vw5b1sc1QLktwMMORk5AjPt1SeULZkB0S5z6PbczQAinS7TDBRtAA3z+0jagV0AMCIu+FtVeQMm6FYWvc0ZA2Vvquu+AI0AXbMEWbNNhQETeqRJBFHBAQm/Os0JtT0AiIiIiIuJzQEhO2d+pVkNAmeMM2lkHXkCEohvOdGJVQM+qYmByqTJA6l3gOajOPkCv2vAFQiJNQK5H4XoU3mBAa2iWjRuQLkBZurYCxwxQQJWH99QWcENAW7y5rILzKkBvSlAXob0+QA==",
           "dtype": "f8"
          },
          "sizemode": "area",
          "sizeref": 0.40873110465116275,
          "symbol": "circle"
         },
         "mode": "markers",
         "name": "",
         "orientation": "v",
         "showlegend": false,
         "type": "scatter",
         "x": {
          "bdata": "RERERER0f0CViYoVJd0+QPWPhhf6+ilA/YYy3D4vXEAmVxCTK3hhQIF835yAmEhAOj1tukMyK0CPvFEt+EhcQMhTgjwlSGVA4Txh1oZFWEB8QUlL9y1YQGia2AqMfm9AimtC6k8fdUAi+oxy0wJQQMAjKeszy0VAMMKjGHx2UkCF61G4tk9UQGyBXGvLlkhAevpNpgsdJUCVuNHmNscfQBMTsrD50TRAc3n2N5cLg0Ch9ctdi4wpQDsDkqEInRhAxnj5dQe4ZkCCT1ob8dk0QLLiOuK+z2BAFgIKnSDUS0A8TBvvDow/QC+X4A+znUFAAtchgvYAckDq5+Ryq0dTQD20VAb021lAfdYNpsjXckDe3d3d3alkQBzWvmHto1lApE7s0/OWYEAzFoYLNm9tQKitF/iwHkBAg8DKoUXWVkCrPldbsa9gQNsJeh8SNmZAyVY3ImDzKUDv4V87/upGQN4eruVxPzZAubri7fhKVEDpKRbfTnpAQAQg7upV2lBAJ47vMHj+MEBkW60KbQNHQDPpBic60FtA+XK/ITjNE0DOAAFusW1uQDNdz5AKVk1AaFAB7E6TVUBu4bs2uyZBQJP93I2EEjlAx3KQGS71VECFhISEhMBzQADCI2s+SltAq6qqqqqGckBsVHVu3hoPQN/xj2fYZE1AuHY05dn6U0Ac3PYuaNRyQK03EMHoWVxAbJ4LurLRXUB4Qq7WhZdgQAjV6NchPXZAqQaADiWeS0B3JM+n5+tLQCGCEVfoKXJAcqb4YXYzaECUAyzbfBluQPVxW6o+hk5Acbja0XaedUCfSrYSl/cWQOkrV7ab60pAU2mqoGimUUDtaHJfhVlbQNNREHxHbFtA00wzzTRzekAAAAAAAIFpQFzp7nZ7OnNAIIJNkVKAUEBr3FLId+pLQJ2E7CseL2VA3vFjvgMGQ0DdnfY5L9dPQOLPqi6EPlZAUSfhPapmPECamQ7RB15JQDMzMzMzm3FA78gMj73rU0BNp6FCW/IiQIXTDDZAU1FA0HmAHSV9RkAzMzMzM5NiQBq43lH4DTdAK0w+/1RFgkD+rkj+lgFeQPC20NwFelFAXcAXXLJoKEAcF8bwMCwiQMg7WFZ2WGFABM7JrFbeRED2tjLxont9QEPm4whzlyhAXwDC0ux0ZUBmZmZmZsZ/QId+npY0TS1ACWDihZJ+HUAODlcAMB1pQIgstz5PP0RAmEwVjKrHNEA+ErNadq9wQHK/Lql82ERAgeyQXCl0KEAhUtiAOjpfQC1xrUJOHVxAbeE4Z3utKUDgarY8nWpQQPM26mX9xktAb2PCUshbWEDwUaw/PM90QBF5MLU4Gh5AmNqdM0rILUBNGu55NuNJQOPg7vcqeS9AqhV9+5WkTkDqDzg929BxQGZmZmZm6ntAkjj2bKotLECM/htBL3xVQJqZmZmZwGJA7WS9WVGwWEB6vw5b1sc1QLktwMMORk5AjPt1SeULZkB0S5z6PbczQAinS7TDBRtAA3z+0jagV0AMCIu+FtVeQMm6FYWvc0ZA2Vvquu+AI0AXbMEWbNNhQETeqRJBFHBAQm/Os0JtT0AiIiIiIuJzQEhO2d+pVkNAmeMM2lkHXkCEohvOdGJVQM+qYmByqTJA6l3gOajOPkCv2vAFQiJNQK5H4XoU3mBAa2iWjRuQLkBZurYCxwxQQJWH99QWcENAW7y5rILzKkBvSlAXob0+QA==",
          "dtype": "f8"
         },
         "xaxis": "x",
         "y": {
          "bdata": "2zUXkqZUnD97In7lwZnePxdA9rlh9OE/Fanx0k1iYD8AAAAAAAAAAO1UZ8RvmXs/25uQLtaG4D8Jt2WtjgluP4GFpCkVZ38/AAAAAAAAAAAJt2WtjgluPyCL/BWPAOE/AAAAAAAAAAC+WPKLJb/QP/7QKnfez9Y/ujomeDBPpD8CG+i0gU5rP31kfdy5R6Y/SGu7gTOE2T+7u7u7u7vbPyfZNQrZwdA/AAAAAAAAAAC4yByc9UPhP1yPwvUoXO8/AAAAAAAAAAAkjdOb5/zPP4FJDAIrh4Y/pSD8oPbx0z8Q9txJn23WPx5Zw9ztzME/fYZdAXKvyT99e82FpCmFP3sUrkfheoQ/AAAAAAAAAAAAAAAAAAAAAAAAAAAAAAAAAAAAAAAAAAAAAAAAAAAAAPTca2vZ29I/VOOlm8QgsD8AAAAAAAAAAExGb8taHaM/0oOn+44L1D+5Qhpt1oSsPz6aNsjLm+k/AAAAAAAAAAByhJ2sRi7CPzm0yHa+n9I/yE2RkGqa0T+NceOXtETaPwAAAAAAAAAA2sNL57O75z8AAAAAAAAAAD7g7MNn2EU/NvvwGXYFyD+ysmY8bnbaP3ezBbXYzdQ/AAAAAAAAAADbF0t+seSnP2IQWDm0yLY/AAAAAAAAAAAJq3XE18flP5qofyOU0bs/AAAAAAAAAADXbrXq0yLOPwAAAAAAAAAAi4qzD59hpz8AAAAAAAAAALwta3VM8MA/AAAAAAAAAAB/4uzDZ9iFPwAAAAAAAAAAAAAAAAAAAACtrv80IMOwPwIb6LSBTms/AAAAAAAAAAA3Qhm9LWvVP+NGXWbx79Q/lm4Sg8DK0T+IbOf7qfHCPwAAAAAAAAAABEZvy1odYz8AAAAAAAAAAPLSTWIQWLk/zyLb+X5q1D8bGui0gU5bPwAAAAAAAAAACAeibsiVuT9acyFpSsW5PwB4ME/Uv3E/nLxjGi8q3j8CG+i0gU57P/qNUEZvy7o/AhvotIFOaz87XCPvyBToPy5P1L8Rysg/6Q86g+n2pj/4HdmLEPVzP0HBQ0tZCOI/AhvotIFOaz+1OiZ4ME/UPwRGb8taHXM/GjOC+Fgo1D9w6QKnC37sP27LWh0TPMg/4xFO4XZVxD8AAAAAAAAAAEJt9lLhG9Q/UNS/EcrozT9TKs4+fIbVP6hEXmBY2tI/VVVVVVVV1T/LsCtA7jW3P2TAHeg4E8I/WgpbxmBz1T/7G6GM3pa1Pxl6TmxvNto/zRnUM2AV7j8AAAAAAAAAAAAAAAAAAAAAdOliaoav5T8AAAAAAAAAAAAAAAAAAAAAPUZvy1odkz+bffgMuwLUP1VVVVVVVdU/ROZ261+T4T/GveZC0pTKP3L0HkoJ+O0/ScXZh8+w0z9q2kCnDXSqPwAAAAAAAAAACBGwetUE5D8K2ezDZ9g1P2snaYAB8cs/AAAAAAAAAAAomkUFxhnOPy4kTak4+9A/3WCeqH8jlD+8pxKERO3YP01d7S+cr+s/er3O2KFj3j/pRP0boYyuP3JVPKjGTag/N0IZvS1r1T/6fmq8dJOoPxkEVg4tsp0/HXgwT9S/kT+gUmEAKFTOP6WyEPwnhNk/87as1THB0z/6fmq8dJNoPxbt5IDFB+M/fEaqKOZ4xD8L4uzDZ9hVPz+tjgkezIM/6GrV4JOO4T9sFK5H4XqkP6hMOBhVpMc/GimrPwug4j84bwA83d/mPw==",
          "dtype": "f8"
         },
         "yaxis": "y"
        }
       ],
       "frames": [
        {
         "data": [
          {
           "hovertemplate": "<b>%{hovertext}</b><br><br>Year=2000<br>Population Density (per km²)=%{marker.size}<br>Multidimensional Poverty Index (MPI)=%{marker.color}<extra></extra>",
           "hovertext": [
            "Aruba",
            "Afghanistan",
            "Angola",
            "Albania",
            "Andorra",
            "United Arab Emirates",
            "Argentina",
            "Armenia",
            "Antigua and Barbuda",
            "Austria",
            "Azerbaijan",
            "Burundi",
            "Belgium",
            "Benin",
            "Burkina Faso",
            "Bulgaria",
            "Bosnia and Herzegovina",
            "Belarus",
            "Belize",
            "Bolivia",
            "Brazil",
            "Barbados",
            "Bhutan",
            "Central African Republic",
            "Switzerland",
            "Chile",
            "China",
            "Cote d'Ivoire",
            "Cameroon",
            "Colombia",
            "Comoros",
            "Costa Rica",
            "Cuba",
            "Curacao",
            "Cayman Islands",
            "Cyprus",
            "Czechia",
            "Germany",
            "Djibouti",
            "Dominica",
            "Denmark",
            "Dominican Republic",
            "Algeria",
            "Ecuador",
            "Eritrea",
            "Spain",
            "Estonia",
            "Ethiopia",
            "Finland",
            "Fiji",
            "France",
            "Gabon",
            "United Kingdom",
            "Georgia",
            "Ghana",
            "Guinea",
            "Equatorial Guinea",
            "Greece",
            "Grenada",
            "Guatemala",
            "Guam",
            "Guyana",
            "Honduras",
            "Croatia",
            "Haiti",
            "Hungary",
            "Indonesia",
            "Isle of Man",
            "India",
            "Ireland",
            "Iraq",
            "Israel",
            "Italy",
            "Jamaica",
            "Jordan",
            "Japan",
            "Kazakhstan",
            "Kenya",
            "Cambodia",
            "Kiribati",
            "Kuwait",
            "Lebanon",
            "Liechtenstein",
            "Sri Lanka",
            "Lesotho",
            "Lithuania",
            "Luxembourg",
            "Latvia",
            "Morocco",
            "Moldova",
            "Madagascar",
            "Mexico",
            "Marshall Islands",
            "North Macedonia",
            "Mali",
            "Myanmar",
            "Montenegro",
            "Northern Mariana Islands",
            "Mozambique",
            "Mauritius",
            "Malawi",
            "Malaysia",
            "New Caledonia",
            "Niger",
            "Nigeria",
            "Nicaragua",
            "Netherlands",
            "Norway",
            "Nepal",
            "Nauru",
            "New Zealand",
            "Oman",
            "Pakistan",
            "Panama",
            "Peru",
            "Philippines",
            "Palau",
            "Papua New Guinea",
            "Poland",
            "Portugal",
            "Paraguay",
            "French Polynesia",
            "Qatar",
            "Romania",
            "Rwanda",
            "Saudi Arabia",
            "Sudan",
            "Senegal",
            "Solomon Islands",
            "Sierra Leone",
            "El Salvador",
            "San Marino",
            "Somalia",
            "Serbia",
            "Sao Tome and Principe",
            "Slovenia",
            "Sweden",
            "Eswatini",
            "Seychelles",
            "Turks and Caicos Islands",
            "Chad",
            "Togo",
            "Thailand",
            "Tajikistan",
            "Turkmenistan",
            "Tonga",
            "Trinidad and Tobago",
            "Tunisia",
            "Tuvalu",
            "Tanzania",
            "Uganda",
            "Ukraine",
            "Uruguay",
            "United States",
            "Uzbekistan",
            "British Virgin Islands",
            "Vanuatu",
            "Samoa",
            "South Africa",
            "Zambia",
            "Zimbabwe"
           ],
           "legendgroup": "",
           "marker": {
            "color": {
             "bdata": "2zUXkqZUnD97In7lwZnePxdA9rlh9OE/Fanx0k1iYD8AAAAAAAAAAO1UZ8RvmXs/25uQLtaG4D8Jt2WtjgluP4GFpCkVZ38/AAAAAAAAAAAJt2WtjgluPyCL/BWPAOE/AAAAAAAAAAC+WPKLJb/QP/7QKnfez9Y/ujomeDBPpD8CG+i0gU5rP31kfdy5R6Y/SGu7gTOE2T+7u7u7u7vbPyfZNQrZwdA/AAAAAAAAAAC4yByc9UPhP1yPwvUoXO8/AAAAAAAAAAAkjdOb5/zPP4FJDAIrh4Y/pSD8oPbx0z8Q9txJn23WPx5Zw9ztzME/fYZdAXKvyT99e82FpCmFP3sUrkfheoQ/AAAAAAAAAAAAAAAAAAAAAAAAAAAAAAAAAAAAAAAAAAAAAAAAAAAAAPTca2vZ29I/VOOlm8QgsD8AAAAAAAAAAExGb8taHaM/0oOn+44L1D+5Qhpt1oSsPz6aNsjLm+k/AAAAAAAAAAByhJ2sRi7CPzm0yHa+n9I/yE2RkGqa0T+NceOXtETaPwAAAAAAAAAA2sNL57O75z8AAAAAAAAAAD7g7MNn2EU/NvvwGXYFyD+ysmY8bnbaP3ezBbXYzdQ/AAAAAAAAAADbF0t+seSnP2IQWDm0yLY/AAAAAAAAAAAJq3XE18flP5qofyOU0bs/AAAAAAAAAADXbrXq0yLOPwAAAAAAAAAAi4qzD59hpz8AAAAAAAAAALwta3VM8MA/AAAAAAAAAAB/4uzDZ9iFPwAAAAAAAAAAAAAAAAAAAACtrv80IMOwPwIb6LSBTms/AAAAAAAAAAA3Qhm9LWvVP+NGXWbx79Q/lm4Sg8DK0T+IbOf7qfHCPwAAAAAAAAAABEZvy1odYz8AAAAAAAAAAPLSTWIQWLk/zyLb+X5q1D8bGui0gU5bPwAAAAAAAAAACAeibsiVuT9acyFpSsW5PwB4ME/Uv3E/nLxjGi8q3j8CG+i0gU57P/qNUEZvy7o/AhvotIFOaz87XCPvyBToPy5P1L8Rysg/6Q86g+n2pj/4HdmLEPVzP0HBQ0tZCOI/AhvotIFOaz+1OiZ4ME/UPwRGb8taHXM/GjOC+Fgo1D9w6QKnC37sP27LWh0TPMg/4xFO4XZVxD8AAAAAAAAAAEJt9lLhG9Q/UNS/EcrozT9TKs4+fIbVP6hEXmBY2tI/VVVVVVVV1T/LsCtA7jW3P2TAHeg4E8I/WgpbxmBz1T/7G6GM3pa1Pxl6TmxvNto/zRnUM2AV7j8AAAAAAAAAAAAAAAAAAAAAdOliaoav5T8AAAAAAAAAAAAAAAAAAAAAPUZvy1odkz+bffgMuwLUP1VVVVVVVdU/ROZ261+T4T/GveZC0pTKP3L0HkoJ+O0/ScXZh8+w0z9q2kCnDXSqPwAAAAAAAAAACBGwetUE5D8K2ezDZ9g1P2snaYAB8cs/AAAAAAAAAAAomkUFxhnOPy4kTak4+9A/3WCeqH8jlD+8pxKERO3YP01d7S+cr+s/er3O2KFj3j/pRP0boYyuP3JVPKjGTag/N0IZvS1r1T/6fmq8dJOoPxkEVg4tsp0/HXgwT9S/kT+gUmEAKFTOP6WyEPwnhNk/87as1THB0z/6fmq8dJNoPxbt5IDFB+M/fEaqKOZ4xD8L4uzDZ9hVPz+tjgkezIM/6GrV4JOO4T9sFK5H4XqkP6hMOBhVpMc/GimrPwug4j84bwA83d/mPw==",
             "dtype": "f8"
            },
            "coloraxis": "coloraxis",
            "size": {
             "bdata": "RERERER0f0CViYoVJd0+QPWPhhf6+ilA/YYy3D4vXEAmVxCTK3hhQIF835yAmEhAOj1tukMyK0CPvFEt+EhcQMhTgjwlSGVA4Txh1oZFWEB8QUlL9y1YQGia2AqMfm9AimtC6k8fdUAi+oxy0wJQQMAjKeszy0VAMMKjGHx2UkCF61G4tk9UQGyBXGvLlkhAevpNpgsdJUCVuNHmNscfQBMTsrD50TRAc3n2N5cLg0Ch9ctdi4wpQDsDkqEInRhAxnj5dQe4ZkCCT1ob8dk0QLLiOuK+z2BAFgIKnSDUS0A8TBvvDow/QC+X4A+znUFAAtchgvYAckDq5+Ryq0dTQD20VAb021lAfdYNpsjXckDe3d3d3alkQBzWvmHto1lApE7s0/OWYEAzFoYLNm9tQKitF/iwHkBAg8DKoUXWVkCrPldbsa9gQNsJeh8SNmZAyVY3ImDzKUDv4V87/upGQN4eruVxPzZAubri7fhKVEDpKRbfTnpAQAQg7upV2lBAJ47vMHj+MEBkW60KbQNHQDPpBic60FtA+XK/ITjNE0DOAAFusW1uQDNdz5AKVk1AaFAB7E6TVUBu4bs2uyZBQJP93I2EEjlAx3KQGS71VECFhISEhMBzQADCI2s+SltAq6qqqqqGckBsVHVu3hoPQN/xj2fYZE1AuHY05dn6U0Ac3PYuaNRyQK03EMHoWVxAbJ4LurLRXUB4Qq7WhZdgQAjV6NchPXZAqQaADiWeS0B3JM+n5+tLQCGCEVfoKXJAcqb4YXYzaECUAyzbfBluQPVxW6o+hk5Acbja0XaedUCfSrYSl/cWQOkrV7ab60pAU2mqoGimUUDtaHJfhVlbQNNREHxHbFtA00wzzTRzekAAAAAAAIFpQFzp7nZ7OnNAIIJNkVKAUEBr3FLId+pLQJ2E7CseL2VA3vFjvgMGQ0DdnfY5L9dPQOLPqi6EPlZAUSfhPapmPECamQ7RB15JQDMzMzMzm3FA78gMj73rU0BNp6FCW/IiQIXTDDZAU1FA0HmAHSV9RkAzMzMzM5NiQBq43lH4DTdAK0w+/1RFgkD+rkj+lgFeQPC20NwFelFAXcAXXLJoKEAcF8bwMCwiQMg7WFZ2WGFABM7JrFbeRED2tjLxont9QEPm4whzlyhAXwDC0ux0ZUBmZmZmZsZ/QId+npY0TS1ACWDihZJ+HUAODlcAMB1pQIgstz5PP0RAmEwVjKrHNEA+ErNadq9wQHK/Lql82ERAgeyQXCl0KEAhUtiAOjpfQC1xrUJOHVxAbeE4Z3utKUDgarY8nWpQQPM26mX9xktAb2PCUshbWEDwUaw/PM90QBF5MLU4Gh5AmNqdM0rILUBNGu55NuNJQOPg7vcqeS9AqhV9+5WkTkDqDzg929BxQGZmZmZm6ntAkjj2bKotLECM/htBL3xVQJqZmZmZwGJA7WS9WVGwWEB6vw5b1sc1QLktwMMORk5AjPt1SeULZkB0S5z6PbczQAinS7TDBRtAA3z+0jagV0AMCIu+FtVeQMm6FYWvc0ZA2Vvquu+AI0AXbMEWbNNhQETeqRJBFHBAQm/Os0JtT0AiIiIiIuJzQEhO2d+pVkNAmeMM2lkHXkCEohvOdGJVQM+qYmByqTJA6l3gOajOPkCv2vAFQiJNQK5H4XoU3mBAa2iWjRuQLkBZurYCxwxQQJWH99QWcENAW7y5rILzKkBvSlAXob0+QA==",
             "dtype": "f8"
            },
            "sizemode": "area",
            "sizeref": 0.40873110465116275,
            "symbol": "circle"
           },
           "mode": "markers",
           "name": "",
           "orientation": "v",
           "showlegend": false,
           "type": "scatter",
           "x": {
            "bdata": "RERERER0f0CViYoVJd0+QPWPhhf6+ilA/YYy3D4vXEAmVxCTK3hhQIF835yAmEhAOj1tukMyK0CPvFEt+EhcQMhTgjwlSGVA4Txh1oZFWEB8QUlL9y1YQGia2AqMfm9AimtC6k8fdUAi+oxy0wJQQMAjKeszy0VAMMKjGHx2UkCF61G4tk9UQGyBXGvLlkhAevpNpgsdJUCVuNHmNscfQBMTsrD50TRAc3n2N5cLg0Ch9ctdi4wpQDsDkqEInRhAxnj5dQe4ZkCCT1ob8dk0QLLiOuK+z2BAFgIKnSDUS0A8TBvvDow/QC+X4A+znUFAAtchgvYAckDq5+Ryq0dTQD20VAb021lAfdYNpsjXckDe3d3d3alkQBzWvmHto1lApE7s0/OWYEAzFoYLNm9tQKitF/iwHkBAg8DKoUXWVkCrPldbsa9gQNsJeh8SNmZAyVY3ImDzKUDv4V87/upGQN4eruVxPzZAubri7fhKVEDpKRbfTnpAQAQg7upV2lBAJ47vMHj+MEBkW60KbQNHQDPpBic60FtA+XK/ITjNE0DOAAFusW1uQDNdz5AKVk1AaFAB7E6TVUBu4bs2uyZBQJP93I2EEjlAx3KQGS71VECFhISEhMBzQADCI2s+SltAq6qqqqqGckBsVHVu3hoPQN/xj2fYZE1AuHY05dn6U0Ac3PYuaNRyQK03EMHoWVxAbJ4LurLRXUB4Qq7WhZdgQAjV6NchPXZAqQaADiWeS0B3JM+n5+tLQCGCEVfoKXJAcqb4YXYzaECUAyzbfBluQPVxW6o+hk5Acbja0XaedUCfSrYSl/cWQOkrV7ab60pAU2mqoGimUUDtaHJfhVlbQNNREHxHbFtA00wzzTRzekAAAAAAAIFpQFzp7nZ7OnNAIIJNkVKAUEBr3FLId+pLQJ2E7CseL2VA3vFjvgMGQ0DdnfY5L9dPQOLPqi6EPlZAUSfhPapmPECamQ7RB15JQDMzMzMzm3FA78gMj73rU0BNp6FCW/IiQIXTDDZAU1FA0HmAHSV9RkAzMzMzM5NiQBq43lH4DTdAK0w+/1RFgkD+rkj+lgFeQPC20NwFelFAXcAXXLJoKEAcF8bwMCwiQMg7WFZ2WGFABM7JrFbeRED2tjLxont9QEPm4whzlyhAXwDC0ux0ZUBmZmZmZsZ/QId+npY0TS1ACWDihZJ+HUAODlcAMB1pQIgstz5PP0RAmEwVjKrHNEA+ErNadq9wQHK/Lql82ERAgeyQXCl0KEAhUtiAOjpfQC1xrUJOHVxAbeE4Z3utKUDgarY8nWpQQPM26mX9xktAb2PCUshbWEDwUaw/PM90QBF5MLU4Gh5AmNqdM0rILUBNGu55NuNJQOPg7vcqeS9AqhV9+5WkTkDqDzg929BxQGZmZmZm6ntAkjj2bKotLECM/htBL3xVQJqZmZmZwGJA7WS9WVGwWEB6vw5b1sc1QLktwMMORk5AjPt1SeULZkB0S5z6PbczQAinS7TDBRtAA3z+0jagV0AMCIu+FtVeQMm6FYWvc0ZA2Vvquu+AI0AXbMEWbNNhQETeqRJBFHBAQm/Os0JtT0AiIiIiIuJzQEhO2d+pVkNAmeMM2lkHXkCEohvOdGJVQM+qYmByqTJA6l3gOajOPkCv2vAFQiJNQK5H4XoU3mBAa2iWjRuQLkBZurYCxwxQQJWH99QWcENAW7y5rILzKkBvSlAXob0+QA==",
            "dtype": "f8"
           },
           "xaxis": "x",
           "y": {
            "bdata": "2zUXkqZUnD97In7lwZnePxdA9rlh9OE/Fanx0k1iYD8AAAAAAAAAAO1UZ8RvmXs/25uQLtaG4D8Jt2WtjgluP4GFpCkVZ38/AAAAAAAAAAAJt2WtjgluPyCL/BWPAOE/AAAAAAAAAAC+WPKLJb/QP/7QKnfez9Y/ujomeDBPpD8CG+i0gU5rP31kfdy5R6Y/SGu7gTOE2T+7u7u7u7vbPyfZNQrZwdA/AAAAAAAAAAC4yByc9UPhP1yPwvUoXO8/AAAAAAAAAAAkjdOb5/zPP4FJDAIrh4Y/pSD8oPbx0z8Q9txJn23WPx5Zw9ztzME/fYZdAXKvyT99e82FpCmFP3sUrkfheoQ/AAAAAAAAAAAAAAAAAAAAAAAAAAAAAAAAAAAAAAAAAAAAAAAAAAAAAPTca2vZ29I/VOOlm8QgsD8AAAAAAAAAAExGb8taHaM/0oOn+44L1D+5Qhpt1oSsPz6aNsjLm+k/AAAAAAAAAAByhJ2sRi7CPzm0yHa+n9I/yE2RkGqa0T+NceOXtETaPwAAAAAAAAAA2sNL57O75z8AAAAAAAAAAD7g7MNn2EU/NvvwGXYFyD+ysmY8bnbaP3ezBbXYzdQ/AAAAAAAAAADbF0t+seSnP2IQWDm0yLY/AAAAAAAAAAAJq3XE18flP5qofyOU0bs/AAAAAAAAAADXbrXq0yLOPwAAAAAAAAAAi4qzD59hpz8AAAAAAAAAALwta3VM8MA/AAAAAAAAAAB/4uzDZ9iFPwAAAAAAAAAAAAAAAAAAAACtrv80IMOwPwIb6LSBTms/AAAAAAAAAAA3Qhm9LWvVP+NGXWbx79Q/lm4Sg8DK0T+IbOf7qfHCPwAAAAAAAAAABEZvy1odYz8AAAAAAAAAAPLSTWIQWLk/zyLb+X5q1D8bGui0gU5bPwAAAAAAAAAACAeibsiVuT9acyFpSsW5PwB4ME/Uv3E/nLxjGi8q3j8CG+i0gU57P/qNUEZvy7o/AhvotIFOaz87XCPvyBToPy5P1L8Rysg/6Q86g+n2pj/4HdmLEPVzP0HBQ0tZCOI/AhvotIFOaz+1OiZ4ME/UPwRGb8taHXM/GjOC+Fgo1D9w6QKnC37sP27LWh0TPMg/4xFO4XZVxD8AAAAAAAAAAEJt9lLhG9Q/UNS/EcrozT9TKs4+fIbVP6hEXmBY2tI/VVVVVVVV1T/LsCtA7jW3P2TAHeg4E8I/WgpbxmBz1T/7G6GM3pa1Pxl6TmxvNto/zRnUM2AV7j8AAAAAAAAAAAAAAAAAAAAAdOliaoav5T8AAAAAAAAAAAAAAAAAAAAAPUZvy1odkz+bffgMuwLUP1VVVVVVVdU/ROZ261+T4T/GveZC0pTKP3L0HkoJ+O0/ScXZh8+w0z9q2kCnDXSqPwAAAAAAAAAACBGwetUE5D8K2ezDZ9g1P2snaYAB8cs/AAAAAAAAAAAomkUFxhnOPy4kTak4+9A/3WCeqH8jlD+8pxKERO3YP01d7S+cr+s/er3O2KFj3j/pRP0boYyuP3JVPKjGTag/N0IZvS1r1T/6fmq8dJOoPxkEVg4tsp0/HXgwT9S/kT+gUmEAKFTOP6WyEPwnhNk/87as1THB0z/6fmq8dJNoPxbt5IDFB+M/fEaqKOZ4xD8L4uzDZ9hVPz+tjgkezIM/6GrV4JOO4T9sFK5H4XqkP6hMOBhVpMc/GimrPwug4j84bwA83d/mPw==",
            "dtype": "f8"
           },
           "yaxis": "y"
          }
         ],
         "name": "2000"
        },
        {
         "data": [
          {
           "hovertemplate": "<b>%{hovertext}</b><br><br>Year=2001<br>Population Density (per km²)=%{marker.size}<br>Multidimensional Poverty Index (MPI)=%{marker.color}<extra></extra>",
           "hovertext": [
            "Aruba",
            "Afghanistan",
            "Angola",
            "Albania",
            "Andorra",
            "United Arab Emirates",
            "Argentina",
            "Armenia",
            "Antigua and Barbuda",
            "Austria",
            "Azerbaijan",
            "Burundi",
            "Belgium",
            "Benin",
            "Burkina Faso",
            "Bulgaria",
            "Bosnia and Herzegovina",
            "Belarus",
            "Belize",
            "Bolivia",
            "Brazil",
            "Barbados",
            "Bhutan",
            "Central African Republic",
            "Switzerland",
            "Chile",
            "China",
            "Cote d'Ivoire",
            "Cameroon",
            "Colombia",
            "Comoros",
            "Costa Rica",
            "Cuba",
            "Curacao",
            "Cayman Islands",
            "Cyprus",
            "Czechia",
            "Germany",
            "Djibouti",
            "Dominica",
            "Denmark",
            "Dominican Republic",
            "Algeria",
            "Ecuador",
            "Eritrea",
            "Spain",
            "Estonia",
            "Ethiopia",
            "Finland",
            "Fiji",
            "France",
            "Gabon",
            "United Kingdom",
            "Georgia",
            "Ghana",
            "Guinea",
            "Equatorial Guinea",
            "Greece",
            "Grenada",
            "Guatemala",
            "Guam",
            "Guyana",
            "Honduras",
            "Croatia",
            "Haiti",
            "Hungary",
            "Indonesia",
            "Isle of Man",
            "India",
            "Ireland",
            "Iraq",
            "Israel",
            "Italy",
            "Jamaica",
            "Jordan",
            "Japan",
            "Kazakhstan",
            "Kenya",
            "Cambodia",
            "Kiribati",
            "Kuwait",
            "Lebanon",
            "Liechtenstein",
            "Sri Lanka",
            "Lesotho",
            "Lithuania",
            "Luxembourg",
            "Latvia",
            "Morocco",
            "Moldova",
            "Madagascar",
            "Mexico",
            "Marshall Islands",
            "North Macedonia",
            "Mali",
            "Myanmar",
            "Montenegro",
            "Northern Mariana Islands",
            "Mozambique",
            "Mauritius",
            "Malawi",
            "Malaysia",
            "New Caledonia",
            "Niger",
            "Nigeria",
            "Nicaragua",
            "Netherlands",
            "Norway",
            "Nepal",
            "Nauru",
            "New Zealand",
            "Oman",
            "Pakistan",
            "Panama",
            "Peru",
            "Philippines",
            "Palau",
            "Papua New Guinea",
            "Poland",
            "Portugal",
            "Paraguay",
            "French Polynesia",
            "Qatar",
            "Romania",
            "Rwanda",
            "Saudi Arabia",
            "Sudan",
            "Senegal",
            "Solomon Islands",
            "Sierra Leone",
            "El Salvador",
            "San Marino",
            "Somalia",
            "Serbia",
            "Sao Tome and Principe",
            "Slovenia",
            "Sweden",
            "Eswatini",
            "Seychelles",
            "Turks and Caicos Islands",
            "Chad",
            "Togo",
            "Thailand",
            "Tajikistan",
            "Turkmenistan",
            "Tonga",
            "Trinidad and Tobago",
            "Tunisia",
            "Tuvalu",
            "Tanzania",
            "Uganda",
            "Ukraine",
            "Uruguay",
            "United States",
            "Uzbekistan",
            "British Virgin Islands",
            "Vanuatu",
            "Samoa",
            "South Africa",
            "Zambia",
            "Zimbabwe"
           ],
           "legendgroup": "",
           "marker": {
            "color": {
             "bdata": "AAAAAAAAAAA+KDxLoGHpP4qOnifTSOI/Fanx0k1iYD8AAAAAAAAAAAAAAAAAAAAAJno9Y1TQ5D8AAAAAAAAAAGvn+6nx0tU/AAAAAAAAAAAERm/LWh1zPyHb+X5qvNQ/AAAAAAAAAADcay4kTanQP/t0/QCoAdY/2/l+arx0oz8VqfHSTWJgP/LAjDYcgKY/zhJmM0sV2T9HmlJx9uHbP3PQqpIsRdA/VVVVVVVV1T+MeMJM2DngP4ZdAXKvueQ/AAAAAAAAAACZenb5DAnQP3sUrkfheoQ/1HjpJjEI4D9bJ0b3Ad/UP3Q7i7AbmL8/vljyiyW/yD/6fmq8dJN4P/5MqTj78Ik/XGteNvkoyD8AAAAAAAAAAAAAAAAAAAAAAAAAAAAAAAAAAAAAAAAAAP+etNr+zdM/IEYvb3/Exj/hgoFQqr12P43EILByaKE/23fp2g/z0z/NNH8otZeoP3+t2ma2U90/AAAAAAAAAACR7NchamfCP8E8Uf9GKNM/TojnmCCV0T+bLBgbwH26PwAAAAAAAAAAzBP1b4Qy2j8AAAAAAAAAAD7g7MNn2EU/WmQ730+Nxz+IDHWTJffZPypwfuDE5dM/AAAAAAAAAACoxks3iUHYP9NcSJpScbY/AAAAAAAAAABxr7mQNKXaP/FE/RuhjL4/AAAAAAAAAAALYidIaSnYPwAAAAAAAAAAi4qzD59hpz8AAAAAAAAAADTQaQOdNsA/AAAAAAAAAAB9e82FpCmFP/xrwwX5ibQ/AAAAAAAAAAC8oUW28/2kPwIb6LSBTms/0sJ+KEJ2sT//Riijt2XVP7SBThvotNE/TRvotIFO0z/YXEiaUnHeP9gQqF1WYLY/BEZvy1odYz+WaII//6XIP8tx0w2z3dk/c5MYBFYO1T8bGui0gU5bPwAAAAAAAAAAdm4UfWmguj9qy1odEzy4P/yp8dJNYnA/Dkw1Zb843T+m+nCqH9/FP7Ks1THBg7k/iyW/WPKL1T9iV4Dcay7kP1K4HoXrUcg/Ss/Pptcwpj8AAAAAAAAAAObPklYRG+E/C+Lsw2fYZT+U0duyVsfkP9+KThgI1K0/LJBTROwF1D8KHswT9W/kP1IOLbKd78c/58/ltOoYxD8AAAAAAAAAAFyXOvpcE9Q/4uzDZ9gV0D+LJb9Y8ovVP3wjmtaFztI/VVVVVVVV1T8Lg8DKoUW2P29yxoBX5cE/S/1ypsIZ2D8c2/l+ary0P1Z8QkD7n7I/xWAEZEpC5z8AAAAAAAAAAAAAAAAAAAAAz+nEtxtV4T9HjP+1mRTDPwAAAAAAAAAAO99PjZdukj/tNReSplTUP3t8zAp3/tk/kRRihQfL4D92ME/UvxHKP1xeGzq8k+0/baDTBjpt5D/GC/FhWd2sPwAAAAAAAAAAThM/gq+W4z8+4OzDZ9hFP6/kF0t+scQ/AAAAAAAAAAA9/tPcyAnOP5i1OiZ4MM8/ukkMAiuH1j9aESnlvsPQP5KmVJx9+OQ/2dc3+lRo0j/tqfHSTWKgP/ueAn74ZKQ/N0IZvS1r1T+LirMPn2GnP/zlifo3Qok/O99PjZdugj+R8h4Y3nDAP66RImHwvNg/S/Bgnqh/0z8L4uzDZ9hlPw02K3uuQeM/MfGbsRrHxD8L4uzDZ9hVPz1Gb8taHYM/MmVUxH3t6z8MIPeaC0mjP3nE1EH/OMg/xeuiOTok4j+SR1Np6DLYPw==",
             "dtype": "f8"
            },
            "coloraxis": "coloraxis",
            "size": {
             "bdata": "P+mTPum/f0BfSln6lBk/QPXS2lbQ3SpAPRKMbtnrW0B/4VNZioNhQK3F9n8PN0pAgoVMsSB/K0BCM3ovEDRcQJCnBHlKnGVAl3jvjVtdWEAU+A8pHF5YQESsKI2PJXBA4kT2VPExdUBHg/w/84FQQO77qxgMeEZAMZyJ/lMZUkCPwvUoTGhUQP0aNUuWdkhATN2xPDDHJUD0cf8SziggQMJSmQbmFzVANmVNWVMSg0C7G779MyUqQK7fLnuCKhlAkd85r/LcZkBINtFu/Rc1QOXDwPse72BA2zhWXkyVTEDdMFeEfTFAQN0qbE8m5UFAPY5+SL1gckB+pZR87KBTQNXYZdPS8FlAZmy/o1cqckCJiIiIiGZlQCUeKJnvFVpAE+jNlwaHYEDJ4u7d5XttQPl5XRQxo0BAKxVnHz7DVkCdgCbCBr9gQCDHlJ43kGZAowMA3TxPKkADS3T4a1FHQJF1Oq1R5DZAQJmjiSdvVEAbySJAhl9AQNKOG343X1FAbOBN4WIIMUCAfgKJSUBHQLwOnqVSBFxA79Bsx2dUFEAnsbNEvYtuQEVvEgpx4kxAw1YNPGAoVkD5YkexnmBBQLvEtktsuzpAh1b0OyURVUC+vb29vdlzQFNLmUmX7FtAAsk6Vx6sckDYo3RBLBcPQGT4xnYDM05ArT6sXck5U0BkV8iYGC1zQE+DZbdHSVxApSBQ42Q8XkBWIIy0Y8VgQHdLwXWhqHZAGkbI8ZwPTEDungf6W85MQN2G/zTQmHJAo2n5t0E3aEBym5j8d0puQH8r5QWjKE9Axp2kztCrdUBfLo720xMXQN7TGaEsx0tAHGvwbobtUUBvzQ+LlOFbQEVzRlobLFxAFYZLYbjkekDNzMzMzO5pQFNDPsLjiHNAoFc/N995UED9NpeE0q9LQHyNmUIQcGVAoCEB/4XHQkCZDsXbryNQQEb9lNHLMVZAer+DAxRKPUADc+SDDr9JQEREREREwHFAMT7NijYBVEC2j00bbIYjQD3HkRlJglFAY+1UNVuURkAQ435dUnliQBqT3ubQkjdAVUKPeG5qgkAtx3dGtL1eQMuF4Pzb5lFAWaPG/8npKECrksP+UtIiQOnEkmi80mFAGwkqJK4jRUAPvOcb07R9QGlIpFVjtyhAX4g6M33OZUAAAAAAAKh/QO36PRuKeS1AfM1bI3/bHUAvzsejftNpQPgma6UvpURAxyk6kusQNUADUn1ivQ5xQEHRVoPnCEVAL2e+LYZMKUDp2SMBBjhfQEyDRCI+UFxA2bxoP14dKkA3uS7jXKxQQL0hb8gbMk1A5dCS714FWEDUmbSer/50QHH+sJOhtR9AOXpO3yiILkBFMiGV4oVKQBeHdbXACzBAaGuxnuZAUEBk8WplzuNxQCIiIiIiRnxAb/n9UkxTLUCvkZ0+vHJVQKuqqqoqD2NAVueusEe6WECnQfmw09Y1QL+qASPfjU5AniNQtNUQZkCA1vaCN5s0QBdIUPwY8xtAr8QGg9NBWEBEwW3nrSVfQKaStvXY40ZA3EfmXfjlI0Dpkz7pk+5hQOVoYXBSJnBARpPhho7DT0CJiIiIiPhzQPxZ5c063kNArJyqaiX2XkCaVWxVxDBVQDlH1tA2tTJAiUgGKhodP0D5+Ttaf31NQBSuR+F6VGFA1dVTjJ1XL0BLfGccRS5QQNxsgOgKm0NAkLsqjVXHK0AdkqK/d/I+QA==",
             "dtype": "f8"
            },
            "sizemode": "area",
            "sizeref": 0.40873110465116275,
            "symbol": "circle"
           },
           "mode": "markers",
           "name": "",
           "orientation": "v",
           "showlegend": false,
           "type": "scatter",
           "x": {
            "bdata": "P+mTPum/f0BfSln6lBk/QPXS2lbQ3SpAPRKMbtnrW0B/4VNZioNhQK3F9n8PN0pAgoVMsSB/K0BCM3ovEDRcQJCnBHlKnGVAl3jvjVtdWEAU+A8pHF5YQESsKI2PJXBA4kT2VPExdUBHg/w/84FQQO77qxgMeEZAMZyJ/lMZUkCPwvUoTGhUQP0aNUuWdkhATN2xPDDHJUD0cf8SziggQMJSmQbmFzVANmVNWVMSg0C7G779MyUqQK7fLnuCKhlAkd85r/LcZkBINtFu/Rc1QOXDwPse72BA2zhWXkyVTEDdMFeEfTFAQN0qbE8m5UFAPY5+SL1gckB+pZR87KBTQNXYZdPS8FlAZmy/o1cqckCJiIiIiGZlQCUeKJnvFVpAE+jNlwaHYEDJ4u7d5XttQPl5XRQxo0BAKxVnHz7DVkCdgCbCBr9gQCDHlJ43kGZAowMA3TxPKkADS3T4a1FHQJF1Oq1R5DZAQJmjiSdvVEAbySJAhl9AQNKOG343X1FAbOBN4WIIMUCAfgKJSUBHQLwOnqVSBFxA79Bsx2dUFEAnsbNEvYtuQEVvEgpx4kxAw1YNPGAoVkD5YkexnmBBQLvEtktsuzpAh1b0OyURVUC+vb29vdlzQFNLmUmX7FtAAsk6Vx6sckDYo3RBLBcPQGT4xnYDM05ArT6sXck5U0BkV8iYGC1zQE+DZbdHSVxApSBQ42Q8XkBWIIy0Y8VgQHdLwXWhqHZAGkbI8ZwPTEDungf6W85MQN2G/zTQmHJAo2n5t0E3aEBym5j8d0puQH8r5QWjKE9Axp2kztCrdUBfLo720xMXQN7TGaEsx0tAHGvwbobtUUBvzQ+LlOFbQEVzRlobLFxAFYZLYbjkekDNzMzMzO5pQFNDPsLjiHNAoFc/N995UED9NpeE0q9LQHyNmUIQcGVAoCEB/4XHQkCZDsXbryNQQEb9lNHLMVZAer+DAxRKPUADc+SDDr9JQEREREREwHFAMT7NijYBVEC2j00bbIYjQD3HkRlJglFAY+1UNVuURkAQ435dUnliQBqT3ubQkjdAVUKPeG5qgkAtx3dGtL1eQMuF4Pzb5lFAWaPG/8npKECrksP+UtIiQOnEkmi80mFAGwkqJK4jRUAPvOcb07R9QGlIpFVjtyhAX4g6M33OZUAAAAAAAKh/QO36PRuKeS1AfM1bI3/bHUAvzsejftNpQPgma6UvpURAxyk6kusQNUADUn1ivQ5xQEHRVoPnCEVAL2e+LYZMKUDp2SMBBjhfQEyDRCI+UFxA2bxoP14dKkA3uS7jXKxQQL0hb8gbMk1A5dCS714FWEDUmbSer/50QHH+sJOhtR9AOXpO3yiILkBFMiGV4oVKQBeHdbXACzBAaGuxnuZAUEBk8WplzuNxQCIiIiIiRnxAb/n9UkxTLUCvkZ0+vHJVQKuqqqoqD2NAVueusEe6WECnQfmw09Y1QL+qASPfjU5AniNQtNUQZkCA1vaCN5s0QBdIUPwY8xtAr8QGg9NBWEBEwW3nrSVfQKaStvXY40ZA3EfmXfjlI0Dpkz7pk+5hQOVoYXBSJnBARpPhho7DT0CJiIiIiPhzQPxZ5c063kNArJyqaiX2XkCaVWxVxDBVQDlH1tA2tTJAiUgGKhodP0D5+Ttaf31NQBSuR+F6VGFA1dVTjJ1XL0BLfGccRS5QQNxsgOgKm0NAkLsqjVXHK0AdkqK/d/I+QA==",
            "dtype": "f8"
           },
           "xaxis": "x",
           "y": {
            "bdata": "AAAAAAAAAAA+KDxLoGHpP4qOnifTSOI/Fanx0k1iYD8AAAAAAAAAAAAAAAAAAAAAJno9Y1TQ5D8AAAAAAAAAAGvn+6nx0tU/AAAAAAAAAAAERm/LWh1zPyHb+X5qvNQ/AAAAAAAAAADcay4kTanQP/t0/QCoAdY/2/l+arx0oz8VqfHSTWJgP/LAjDYcgKY/zhJmM0sV2T9HmlJx9uHbP3PQqpIsRdA/VVVVVVVV1T+MeMJM2DngP4ZdAXKvueQ/AAAAAAAAAACZenb5DAnQP3sUrkfheoQ/1HjpJjEI4D9bJ0b3Ad/UP3Q7i7AbmL8/vljyiyW/yD/6fmq8dJN4P/5MqTj78Ik/XGteNvkoyD8AAAAAAAAAAAAAAAAAAAAAAAAAAAAAAAAAAAAAAAAAAP+etNr+zdM/IEYvb3/Exj/hgoFQqr12P43EILByaKE/23fp2g/z0z/NNH8otZeoP3+t2ma2U90/AAAAAAAAAACR7NchamfCP8E8Uf9GKNM/TojnmCCV0T+bLBgbwH26PwAAAAAAAAAAzBP1b4Qy2j8AAAAAAAAAAD7g7MNn2EU/WmQ730+Nxz+IDHWTJffZPypwfuDE5dM/AAAAAAAAAACoxks3iUHYP9NcSJpScbY/AAAAAAAAAABxr7mQNKXaP/FE/RuhjL4/AAAAAAAAAAALYidIaSnYPwAAAAAAAAAAi4qzD59hpz8AAAAAAAAAADTQaQOdNsA/AAAAAAAAAAB9e82FpCmFP/xrwwX5ibQ/AAAAAAAAAAC8oUW28/2kPwIb6LSBTms/0sJ+KEJ2sT//Riijt2XVP7SBThvotNE/TRvotIFO0z/YXEiaUnHeP9gQqF1WYLY/BEZvy1odYz+WaII//6XIP8tx0w2z3dk/c5MYBFYO1T8bGui0gU5bPwAAAAAAAAAAdm4UfWmguj9qy1odEzy4P/yp8dJNYnA/Dkw1Zb843T+m+nCqH9/FP7Ks1THBg7k/iyW/WPKL1T9iV4Dcay7kP1K4HoXrUcg/Ss/Pptcwpj8AAAAAAAAAAObPklYRG+E/C+Lsw2fYZT+U0duyVsfkP9+KThgI1K0/LJBTROwF1D8KHswT9W/kP1IOLbKd78c/58/ltOoYxD8AAAAAAAAAAFyXOvpcE9Q/4uzDZ9gV0D+LJb9Y8ovVP3wjmtaFztI/VVVVVVVV1T8Lg8DKoUW2P29yxoBX5cE/S/1ypsIZ2D8c2/l+ary0P1Z8QkD7n7I/xWAEZEpC5z8AAAAAAAAAAAAAAAAAAAAAz+nEtxtV4T9HjP+1mRTDPwAAAAAAAAAAO99PjZdukj/tNReSplTUP3t8zAp3/tk/kRRihQfL4D92ME/UvxHKP1xeGzq8k+0/baDTBjpt5D/GC/FhWd2sPwAAAAAAAAAAThM/gq+W4z8+4OzDZ9hFP6/kF0t+scQ/AAAAAAAAAAA9/tPcyAnOP5i1OiZ4MM8/ukkMAiuH1j9aESnlvsPQP5KmVJx9+OQ/2dc3+lRo0j/tqfHSTWKgP/ueAn74ZKQ/N0IZvS1r1T+LirMPn2GnP/zlifo3Qok/O99PjZdugj+R8h4Y3nDAP66RImHwvNg/S/Bgnqh/0z8L4uzDZ9hlPw02K3uuQeM/MfGbsRrHxD8L4uzDZ9hVPz1Gb8taHYM/MmVUxH3t6z8MIPeaC0mjP3nE1EH/OMg/xeuiOTok4j+SR1Np6DLYPw==",
            "dtype": "f8"
           },
           "yaxis": "y"
          }
         ],
         "name": "2001"
        },
        {
         "data": [
          {
           "hovertemplate": "<b>%{hovertext}</b><br><br>Year=2002<br>Population Density (per km²)=%{marker.size}<br>Multidimensional Poverty Index (MPI)=%{marker.color}<extra></extra>",
           "hovertext": [
            "Aruba",
            "Afghanistan",
            "Angola",
            "Albania",
            "Andorra",
            "United Arab Emirates",
            "Argentina",
            "Armenia",
            "Antigua and Barbuda",
            "Austria",
            "Azerbaijan",
            "Burundi",
            "Belgium",
            "Benin",
            "Burkina Faso",
            "Bulgaria",
            "Bosnia and Herzegovina",
            "Belarus",
            "Belize",
            "Bolivia",
            "Brazil",
            "Barbados",
            "Bhutan",
            "Central African Republic",
            "Switzerland",
            "Chile",
            "China",
            "Cote d'Ivoire",
            "Cameroon",
            "Colombia",
            "Comoros",
            "Costa Rica",
            "Cuba",
            "Curacao",
            "Cayman Islands",
            "Cyprus",
            "Czechia",
            "Germany",
            "Djibouti",
            "Dominica",
            "Denmark",
            "Dominican Republic",
            "Algeria",
            "Ecuador",
            "Eritrea",
            "Spain",
            "Estonia",
            "Ethiopia",
            "Finland",
            "Fiji",
            "France",
            "Gabon",
            "United Kingdom",
            "Georgia",
            "Ghana",
            "Guinea",
            "Guinea-Bissau",
            "Equatorial Guinea",
            "Greece",
            "Grenada",
            "Guatemala",
            "Guam",
            "Guyana",
            "Honduras",
            "Croatia",
            "Haiti",
            "Hungary",
            "Indonesia",
            "Isle of Man",
            "India",
            "Ireland",
            "Iraq",
            "Israel",
            "Italy",
            "Jamaica",
            "Jordan",
            "Japan",
            "Kazakhstan",
            "Kenya",
            "Cambodia",
            "Kiribati",
            "Kuwait",
            "Lebanon",
            "Liechtenstein",
            "Sri Lanka",
            "Lesotho",
            "Lithuania",
            "Luxembourg",
            "Latvia",
            "Morocco",
            "Moldova",
            "Madagascar",
            "Mexico",
            "Marshall Islands",
            "North Macedonia",
            "Mali",
            "Myanmar",
            "Montenegro",
            "Northern Mariana Islands",
            "Mozambique",
            "Mauritius",
            "Malawi",
            "Malaysia",
            "New Caledonia",
            "Niger",
            "Nigeria",
            "Nicaragua",
            "Netherlands",
            "Norway",
            "Nepal",
            "Nauru",
            "New Zealand",
            "Oman",
            "Pakistan",
            "Panama",
            "Peru",
            "Philippines",
            "Palau",
            "Papua New Guinea",
            "Poland",
            "Portugal",
            "Paraguay",
            "French Polynesia",
            "Qatar",
            "Romania",
            "Rwanda",
            "Saudi Arabia",
            "Sudan",
            "Senegal",
            "Solomon Islands",
            "Sierra Leone",
            "El Salvador",
            "San Marino",
            "Somalia",
            "Serbia",
            "Sao Tome and Principe",
            "Slovenia",
            "Sweden",
            "Eswatini",
            "Seychelles",
            "Turks and Caicos Islands",
            "Chad",
            "Togo",
            "Thailand",
            "Tajikistan",
            "Turkmenistan",
            "Tonga",
            "Trinidad and Tobago",
            "Tunisia",
            "Tuvalu",
            "Tanzania",
            "Uganda",
            "Ukraine",
            "Uruguay",
            "United States",
            "Uzbekistan",
            "British Virgin Islands",
            "Vanuatu",
            "Samoa",
            "South Africa",
            "Zambia",
            "Zimbabwe"
           ],
           "legendgroup": "",
           "marker": {
            "color": {
             "bdata": "rn5lCVypyz+1T5vnzYLbP4q1tqABfeE/Fanx0k1iYD8AAAAAAAAAAAAAAAAAAAAA5s4G1Nq15D8CG+i0gU57PwAAAAAAAAAAAAAAAAAAAAAAAAAAAAAAAHfpJjEIrNQ/AAAAAAAAAACKsw+fYVfQPyM6TDI9K9U//LjXXEiaoj97FK5H4Xp0P7Me3AfD+KY/l1n1ru672D8DnTbQaQPdPzFRTXzw9c8/v8zHWF0wmD9Ml3yK6XbfPxVnHz7DruQ/b9F6+O2Gvj8LoaBXU7zPPz1Gb8taHYM/5kLSlIqz3z83mEII/t7UP7TMFirOvcA/WmQ730+Nxz97FK5H4Xp0P7gehetRuI4/kijVTUg8sT8AAAAAAAAAAAAAAAAAAAAAAAAAAAAAAADOc6IbJHjBP9ymg2wW/+I/jgkezBP11z8ftmPy2uquP1yeqH8jlKE/ltWJ7gHb0z/waYd00L2kP1+SejCWftw/AAAAAAAAAACUUHFv4J/CP/2NUEZvy9I/A91F3HuP0T8U4s9NAuK3PwAAAAAAAAAAdCvivMV54T8AAAAAAAAAAArZ7MNn2DU/fiOU0duyxj/zWe9MomXZP6pzf9DsRNc/T3yQR4r70j8AAAAAAAAAADv9G6GM3qY/jBgEVg4tsj8AAAAAAAAAAB3ME/VvhNo/sHJoke18vz8AAAAAAAAAACUGgZVDi8w/AAAAAAAAAACLe82FpCmlPwAAAAAAAAAA4OzDZ9gVwD8AAAAAAAAAAL/KoUW289U/17kITwghwD9rCTa/NcS0P3sjlNHbsqY/GxrotIFOWz+rcOdXN0C7P8VLN4lBYNU/jFRJ8g6G1D9VxwQP5onSP3yx5BdLfsE/AAAAAAAAAAAERm/LWh1jP0sOShekW8w/3Ja1OiZ4sD/dPeabY5LWPxWp8dJNYmA/AAAAAAAAAABY8mIbMqO7P2IQWDm0yLY/AhvotIFOaz/mIDnSMiDpP+DX78+ne8I/UrgehetRuD8CG+i0gU5rPwpMR9uG7eM/mzbQaQOdxj9saO2ZdpalPwrZ7MNn2DU/Je5FfNOs4D8VqfHSTWJgP+9gnqh/I9Q/BEZvy1odcz+RAjiHGOTTP5gn6t8IZeQ/OlH/Riijxz/rYc8TZDzGP9pSMm8FdLU/NkFLOD0K1D+R3XZyI9PTP4slv1jyi9U/zEItUkOr0j+a7mhtpwLhPzNCGb0ta7U/w34SO74RwD/cvclcBsLUP0SaUnH24bM/mToZDrXssT8m+7xCHzznPwAAAAAAAAAApEdFqkwQmj/x+9TSS6PcP0DIPP5JgJE/AAAAAAAAAAB/xCCwcmiRPw102kCnDdQ/fkv9FHqr4D/+QvaU0ajgPwVKZeXyGtQ/ft2A2LMv7T/3DLsC5F7TP0xVVVVVVaU/l629Vpmasz8IYxczsybjPwAAAAAAAAAAQ0RERERExD8AAAAAAAAAAJrIs2hY9s0/BFYOLbKdzz85tMh2vp+KP44t3NCfINA/ILByaJHt5D8wT9S/EcrQP5sehetRuJ4/hj6U227Ynz/sFno9Dp/aPyuW/GLJL6Y/vhdLfrHkhz99t2Wtjgl+PzvfT42XbpI/UnBoxQ741z8RyuhtWavTPwRGb8taHWM/xwZYgiY94z/eJtzjB9bDP/yp8dJNYlA/T9S/Ecro1T8eqNJ6AqTrP2wFyL3mQqI/uc3S3CMNxT/cVtHSC1PiPxJaP66xr+Y/",
             "dtype": "f8"
            },
            "coloraxis": "coloraxis",
            "size": {
             "bdata": "BluwBVv4f0D0rL9xc2NAQG3XAVo2zCtAY47vW3LWW0BCiQZuEbBhQG9DIYds20tAZHW4G8/KK0CRcc9jFhlcQII8JchT4mVAMz7irB58WEB1Hx/L1IxYQDUk+a7Lm3BAr8nz8lFKdUAon+t9ZQRRQAN1KlmVLEdAlbJHFNa1UUA9CtejAHNUQGY0FCXZTkhAOCMbI3RyJkA2Anz6km4gQDE8lhBaWzVAGiYgo2Eyg0BV5zEkZroqQK7ZsLjWuBlA4UZIQWQJZ0AaFyG/7FM1QDUIDItDDGFAFsA1sdZUTUB+xHQLJaJAQJA7lxQmLEJA+jvcM1vFckDx6buemfRTQJyENqWoBFpAQVyoOQkwckCJiIiIiCRmQGg3AlLajVpA9vEUNd9+YEAvy2FHmYhtQGlAWjcpKUFARIts5/vJVkAQejarvsxgQH8ymeue52ZAJaRmE3GpKkC9fedUt7pHQKuyBbdesTdAwxeS6ZK5VEA64sLLDkVAQFTDfk+s6FFAmAH9wvcSMUAY9QpXgntHQBraWnOoOFxAiCeD+arhFEDM16PR6axuQCAEUDRkoExAHDRu+InGVkCgxDtneqZBQM2NX6DS7EZA9e10KppyPEAbMv2A8yRVQF1dXV1d7XNAPx0i/VGSXEBVVVVVVclyQJ7afWWVDg9AHAzatesBT0BlyGdZrzxTQBPSgdkthXNA+Ed8mLA0XECJnqETDKZeQCS4j+A+8mBAWFUHjacSd0DlG3OAsYlMQPpRrqUJu01AQ89Sxav5ckCStTvLiENoQG9vvX8+em5Aca428prST0AkA4EYu7h1QHo8Jn2ZMhdAGcensXeqTEAWN7TD3DRSQPSMXbz+eVxA8bK62VXmXEDFrVDcCkV7QM3MzMzMUmpA60hHH0u9c0Bpiele22xQQOfersgmd0tAPsD4rtypZUA9pjiy/Y9CQEvRRSCtWlBAXnuwSqckVkAFKxDSpy0+QIIoEUqAHkpAchzHcRzbcUCbA+eKJ9xTQEnfAi0mJCRAHOuzFHuvUUD1YClNkatGQIPnCBRtJWJAmjM3+L0bOECKPVReRouCQKjexpXJgF9AOav6rgxXUkBe9u0EpGgpQDMBu8uFfyNABH+1ao1RYkCpDHBQt2VFQBCjoFaF5X1AcsvlbJrZKECnQYgSBiRmQJqZmZmZgX9AhEXWi8P9LUAEMZ+zkjQeQHYFOwOId2pAqQKXtSkMRUA/xty1pFE1QLb77MYvaHFAqXwY9+syRUCx8oG9oSkqQATa0Y5SNF9A8YH/Qwx4XEB11YFCRHwqQPU36Hat7FBAwyxNEgWhTkDsKKo80pVXQNIpr3gHSHVAhj05LumpIEDJE6DGTEsvQEQBBK5ELktAMI7pYOpZMEAl6xWDCDhRQNKDSK8O8nFA7u7u7u6ifEBWRxjiOnIuQOJXfvE+cFVAZmZmZmaFY0D/8HQMIcJYQO9z1x0N6TVAmHa6SzbMTkDoCBRtNcBmQH98G3dZrjVAA2MN+7bwHEBlxHOCuuFYQI70qCfCcl9AiYNVtIRVR0AcNoNKckwkQEqf9EmfCGJAJ0wBl2s6cEAa/cDsugtQQEREREREDHRAD6awHJtjREADPISrSfJfQCooi/5PAVVAdmFKRfe7MkCQm2GaWGc/QMn/Oueu2k1AvLu7u7vbYUBIKO+eSBEwQGKO60bIS1BAuosM88zKQ0CloiU0oqUsQIomsTcRPz9A",
             "dtype": "f8"
            },
            "sizemode": "area",
            "sizeref": 0.40873110465116275,
            "symbol": "circle"
           },
           "mode": "markers",
           "name": "",
           "orientation": "v",
           "showlegend": false,
           "type": "scatter",
           "x": {
            "bdata": "BluwBVv4f0D0rL9xc2NAQG3XAVo2zCtAY47vW3LWW0BCiQZuEbBhQG9DIYds20tAZHW4G8/KK0CRcc9jFhlcQII8JchT4mVAMz7irB58WEB1Hx/L1IxYQDUk+a7Lm3BAr8nz8lFKdUAon+t9ZQRRQAN1KlmVLEdAlbJHFNa1UUA9CtejAHNUQGY0FCXZTkhAOCMbI3RyJkA2Anz6km4gQDE8lhBaWzVAGiYgo2Eyg0BV5zEkZroqQK7ZsLjWuBlA4UZIQWQJZ0AaFyG/7FM1QDUIDItDDGFAFsA1sdZUTUB+xHQLJaJAQJA7lxQmLEJA+jvcM1vFckDx6buemfRTQJyENqWoBFpAQVyoOQkwckCJiIiIiCRmQGg3AlLajVpA9vEUNd9+YEAvy2FHmYhtQGlAWjcpKUFARIts5/vJVkAQejarvsxgQH8ymeue52ZAJaRmE3GpKkC9fedUt7pHQKuyBbdesTdAwxeS6ZK5VEA64sLLDkVAQFTDfk+s6FFAmAH9wvcSMUAY9QpXgntHQBraWnOoOFxAiCeD+arhFEDM16PR6axuQCAEUDRkoExAHDRu+InGVkCgxDtneqZBQM2NX6DS7EZA9e10KppyPEAbMv2A8yRVQF1dXV1d7XNAPx0i/VGSXEBVVVVVVclyQJ7afWWVDg9AHAzatesBT0BlyGdZrzxTQBPSgdkthXNA+Ed8mLA0XECJnqETDKZeQCS4j+A+8mBAWFUHjacSd0DlG3OAsYlMQPpRrqUJu01AQ89Sxav5ckCStTvLiENoQG9vvX8+em5Aca428prST0AkA4EYu7h1QHo8Jn2ZMhdAGcensXeqTEAWN7TD3DRSQPSMXbz+eVxA8bK62VXmXEDFrVDcCkV7QM3MzMzMUmpA60hHH0u9c0Bpiele22xQQOfersgmd0tAPsD4rtypZUA9pjiy/Y9CQEvRRSCtWlBAXnuwSqckVkAFKxDSpy0+QIIoEUqAHkpAchzHcRzbcUCbA+eKJ9xTQEnfAi0mJCRAHOuzFHuvUUD1YClNkatGQIPnCBRtJWJAmjM3+L0bOECKPVReRouCQKjexpXJgF9AOav6rgxXUkBe9u0EpGgpQDMBu8uFfyNABH+1ao1RYkCpDHBQt2VFQBCjoFaF5X1AcsvlbJrZKECnQYgSBiRmQJqZmZmZgX9AhEXWi8P9LUAEMZ+zkjQeQHYFOwOId2pAqQKXtSkMRUA/xty1pFE1QLb77MYvaHFAqXwY9+syRUCx8oG9oSkqQATa0Y5SNF9A8YH/Qwx4XEB11YFCRHwqQPU36Hat7FBAwyxNEgWhTkDsKKo80pVXQNIpr3gHSHVAhj05LumpIEDJE6DGTEsvQEQBBK5ELktAMI7pYOpZMEAl6xWDCDhRQNKDSK8O8nFA7u7u7u6ifEBWRxjiOnIuQOJXfvE+cFVAZmZmZmaFY0D/8HQMIcJYQO9z1x0N6TVAmHa6SzbMTkDoCBRtNcBmQH98G3dZrjVAA2MN+7bwHEBlxHOCuuFYQI70qCfCcl9AiYNVtIRVR0AcNoNKckwkQEqf9EmfCGJAJ0wBl2s6cEAa/cDsugtQQEREREREDHRAD6awHJtjREADPISrSfJfQCooi/5PAVVAdmFKRfe7MkCQm2GaWGc/QMn/Oueu2k1AvLu7u7vbYUBIKO+eSBEwQGKO60bIS1BAuosM88zKQ0CloiU0oqUsQIomsTcRPz9A",
            "dtype": "f8"
           },
           "xaxis": "x",
           "y": {
            "bdata": "rn5lCVypyz+1T5vnzYLbP4q1tqABfeE/Fanx0k1iYD8AAAAAAAAAAAAAAAAAAAAA5s4G1Nq15D8CG+i0gU57PwAAAAAAAAAAAAAAAAAAAAAAAAAAAAAAAHfpJjEIrNQ/AAAAAAAAAACKsw+fYVfQPyM6TDI9K9U//LjXXEiaoj97FK5H4Xp0P7Me3AfD+KY/l1n1ru672D8DnTbQaQPdPzFRTXzw9c8/v8zHWF0wmD9Ml3yK6XbfPxVnHz7DruQ/b9F6+O2Gvj8LoaBXU7zPPz1Gb8taHYM/5kLSlIqz3z83mEII/t7UP7TMFirOvcA/WmQ730+Nxz97FK5H4Xp0P7gehetRuI4/kijVTUg8sT8AAAAAAAAAAAAAAAAAAAAAAAAAAAAAAADOc6IbJHjBP9ymg2wW/+I/jgkezBP11z8ftmPy2uquP1yeqH8jlKE/ltWJ7gHb0z/waYd00L2kP1+SejCWftw/AAAAAAAAAACUUHFv4J/CP/2NUEZvy9I/A91F3HuP0T8U4s9NAuK3PwAAAAAAAAAAdCvivMV54T8AAAAAAAAAAArZ7MNn2DU/fiOU0duyxj/zWe9MomXZP6pzf9DsRNc/T3yQR4r70j8AAAAAAAAAADv9G6GM3qY/jBgEVg4tsj8AAAAAAAAAAB3ME/VvhNo/sHJoke18vz8AAAAAAAAAACUGgZVDi8w/AAAAAAAAAACLe82FpCmlPwAAAAAAAAAA4OzDZ9gVwD8AAAAAAAAAAL/KoUW289U/17kITwghwD9rCTa/NcS0P3sjlNHbsqY/GxrotIFOWz+rcOdXN0C7P8VLN4lBYNU/jFRJ8g6G1D9VxwQP5onSP3yx5BdLfsE/AAAAAAAAAAAERm/LWh1jP0sOShekW8w/3Ja1OiZ4sD/dPeabY5LWPxWp8dJNYmA/AAAAAAAAAABY8mIbMqO7P2IQWDm0yLY/AhvotIFOaz/mIDnSMiDpP+DX78+ne8I/UrgehetRuD8CG+i0gU5rPwpMR9uG7eM/mzbQaQOdxj9saO2ZdpalPwrZ7MNn2DU/Je5FfNOs4D8VqfHSTWJgP+9gnqh/I9Q/BEZvy1odcz+RAjiHGOTTP5gn6t8IZeQ/OlH/Riijxz/rYc8TZDzGP9pSMm8FdLU/NkFLOD0K1D+R3XZyI9PTP4slv1jyi9U/zEItUkOr0j+a7mhtpwLhPzNCGb0ta7U/w34SO74RwD/cvclcBsLUP0SaUnH24bM/mToZDrXssT8m+7xCHzznPwAAAAAAAAAApEdFqkwQmj/x+9TSS6PcP0DIPP5JgJE/AAAAAAAAAAB/xCCwcmiRPw102kCnDdQ/fkv9FHqr4D/+QvaU0ajgPwVKZeXyGtQ/ft2A2LMv7T/3DLsC5F7TP0xVVVVVVaU/l629Vpmasz8IYxczsybjPwAAAAAAAAAAQ0RERERExD8AAAAAAAAAAJrIs2hY9s0/BFYOLbKdzz85tMh2vp+KP44t3NCfINA/ILByaJHt5D8wT9S/EcrQP5sehetRuJ4/hj6U227Ynz/sFno9Dp/aPyuW/GLJL6Y/vhdLfrHkhz99t2Wtjgl+PzvfT42XbpI/UnBoxQ741z8RyuhtWavTPwRGb8taHWM/xwZYgiY94z/eJtzjB9bDP/yp8dJNYlA/T9S/Ecro1T8eqNJ6AqTrP2wFyL3mQqI/uc3S3CMNxT/cVtHSC1PiPxJaP66xr+Y/",
            "dtype": "f8"
           },
           "yaxis": "y"
          }
         ],
         "name": "2002"
        },
        {
         "data": [
          {
           "hovertemplate": "<b>%{hovertext}</b><br><br>Year=2003<br>Population Density (per km²)=%{marker.size}<br>Multidimensional Poverty Index (MPI)=%{marker.color}<extra></extra>",
           "hovertext": [
            "Aruba",
            "Afghanistan",
            "Angola",
            "Albania",
            "Andorra",
            "United Arab Emirates",
            "Argentina",
            "Armenia",
            "Antigua and Barbuda",
            "Austria",
            "Azerbaijan",
            "Burundi",
            "Belgium",
            "Benin",
            "Burkina Faso",
            "Bulgaria",
            "Bosnia and Herzegovina",
            "Belarus",
            "Belize",
            "Bolivia",
            "Brazil",
            "Barbados",
            "Bhutan",
            "Central African Republic",
            "Switzerland",
            "Chile",
            "China",
            "Cote d'Ivoire",
            "Cameroon",
            "Colombia",
            "Comoros",
            "Costa Rica",
            "Cuba",
            "Curacao",
            "Cayman Islands",
            "Cyprus",
            "Czechia",
            "Germany",
            "Djibouti",
            "Dominica",
            "Denmark",
            "Dominican Republic",
            "Algeria",
            "Ecuador",
            "Eritrea",
            "Spain",
            "Estonia",
            "Ethiopia",
            "Finland",
            "Fiji",
            "France",
            "Gabon",
            "United Kingdom",
            "Georgia",
            "Ghana",
            "Guinea",
            "Guinea-Bissau",
            "Equatorial Guinea",
            "Greece",
            "Grenada",
            "Guatemala",
            "Guam",
            "Guyana",
            "Honduras",
            "Croatia",
            "Haiti",
            "Hungary",
            "Indonesia",
            "Isle of Man",
            "India",
            "Ireland",
            "Iraq",
            "Israel",
            "Italy",
            "Jamaica",
            "Jordan",
            "Japan",
            "Kazakhstan",
            "Kenya",
            "Cambodia",
            "Kiribati",
            "Kuwait",
            "Lebanon",
            "Liechtenstein",
            "Sri Lanka",
            "Lesotho",
            "Lithuania",
            "Luxembourg",
            "Latvia",
            "Morocco",
            "Moldova",
            "Madagascar",
            "Mexico",
            "Marshall Islands",
            "North Macedonia",
            "Mali",
            "Myanmar",
            "Montenegro",
            "Northern Mariana Islands",
            "Mozambique",
            "Mauritius",
            "Malawi",
            "Malaysia",
            "New Caledonia",
            "Niger",
            "Nigeria",
            "Nicaragua",
            "Netherlands",
            "Norway",
            "Nepal",
            "Nauru",
            "New Zealand",
            "Oman",
            "Pakistan",
            "Panama",
            "Peru",
            "Philippines",
            "Palau",
            "Papua New Guinea",
            "Poland",
            "Portugal",
            "Paraguay",
            "French Polynesia",
            "Qatar",
            "Romania",
            "Rwanda",
            "Saudi Arabia",
            "Sudan",
            "Senegal",
            "Solomon Islands",
            "Sierra Leone",
            "El Salvador",
            "San Marino",
            "Somalia",
            "Serbia",
            "Sao Tome and Principe",
            "Slovenia",
            "Sweden",
            "Eswatini",
            "Seychelles",
            "Turks and Caicos Islands",
            "Chad",
            "Togo",
            "Thailand",
            "Tajikistan",
            "Turkmenistan",
            "Tonga",
            "Trinidad and Tobago",
            "Tunisia",
            "Tuvalu",
            "Tanzania",
            "Uganda",
            "Ukraine",
            "Uruguay",
            "United States",
            "Uzbekistan",
            "British Virgin Islands",
            "Vanuatu",
            "Samoa",
            "South Africa",
            "Zambia",
            "Zimbabwe"
           ],
           "legendgroup": "",
           "marker": {
            "color": {
             "bdata": "AAAAAAAAAAA5sGIdkVvZP04oj8k8PeE/Fanx0k1iYD8AAAAAAAAAAAAAAAAAAAAA4fusGsD30z/6fmq8dJNoPwbpJjEIrHw/AAAAAAAAAAD8qfHSTWJwP/D2bh3pNeI/AAAAAAAAAACM3pa1OibQPxkACJzkENQ/HXgwT9S/oT8CG+i0gU5rP1RR2ROfkKc/jPNlG7ph2D+jKRVnHz7bP5+Fy3fvj88/AAAAAAAAAAAhVfOHBfTfP7Kd76fGS+8/imeRJ7JdvT+/EmKiN9vOPwB4ME/Uv4E/rkfhehSu3z9dqUaXVCXUPzByCvImEcA/0gY6baDTxj8AeDBP1L9xP74XS36x5Ic/9fBhAvVqtD8AAAAAAAAAAAAAAAAAAAAAAAAAAAAAAACcREkxTcLFP6RYJDUSQNE/ShvotIFOqz/srmrBs8uvP/Z8796yAtM/oCaeN6XC0z9zV5g2Z4ufPyxH615IoOg/AAAAAAAAAACRQWAceNfCP+QXS36x5OM/0dcvF+uJ0T8cOxO7aJS2P2qnFErPSG0/6lG4HoXr2T8AAAAAAAAAAAAAAAAAAAAA27JWxwQPxj/fJCdJy7bYP+xsITSqk98/XZcWraAI0j8AAAAAAAAAAOtvhDJ6W6Y/VPKLJb9Ysj+nvB8RdnaLP81Zpc5AAuM/+fAZdgXIvT8AAAAAAAAAAMV2vp8aL80/AAAAAAAAAAA77jUXkqakPwAAAAAAAAAAUSrOPnyGvT8AAAAAAAAAAIjPsCtA7tU/AAAAAAAAAAC3aajRJY26PwrXo3A9Cqc/AhvotIFOaz8AAAAAAAAAAI1QRm/LWtU/6lG4HoXr0T+c76fGSzfRP+nxo2PMsto/AAAAAAAAAAAL4uzDZ9hlP7KzX6ys49Q/U1VVVVVVtT9hV4Dcay7UPxWp8dJNYmA/AAAAAAAAAAClLi/6MGa8P3Noke18P7U//Knx0k1icD/YfZR+dRjbPwB4ME/Uv4E/7kSElmj/1z8CG+i0gU5rPwZA1krmqOM/A4GVQ4tsxz/cJ4O9ZNCkP/6bMZi6xLI/yAe3glSP4D/6fmq8dJNoP5t9+Ay7AtQ/AHgwT9S/cT9Zz5oj68LTPyZ2vkVgUOQ/lyfq3whlxD8jFpBtW/vBP2PMyl1iqbk/7QJPm4xk1D9ecyFpSsXJP+kdOVBsM7U/d3ZldHSC0j9VVVVVVVXlP3QUrkfherQ/NJ3qfR2KuT903W5c2aLUPyuHFtnO97M/dDUnB7+c2T891mXE7PbiPwrZ7MNn2DU/n+bVBtB0yz9gslwTXBjVPwAAAAAAAAAAAAAAAAAAAAB9XQFyr7mQP/O2rNUxwdM/VVVVVVVV1T9uDmdp+IrgPy5P1L8Rysg/cMAoIigh4j9rLiRNqTjTPyuW/GLJL6Y/AAAAAAAAAAAmndpwFr7iP/yp8dJNYlA/Y62OCR7Mwz8AAAAAAAAAAMk1baYK4M0/oGFXgNxrzj+eYVeA3GvWP1LAO/2Y5s4/TDeJQWDl5D9soNMGOm3QP3npJjEIrJw/QIP4MtaxlD+BmfWxXTvVP40rAYOuxsI/gUkMAiuHhj9/4uzDZ9h1Py5rdUzwYNY/mePua/hM1z8XS36x5BfTPwRGb8taHWM/FBXgvCqA0j8KDcmQAozDPxsa6LSBTls/FdnO91Pj1T9ssd1b2KzgP83qmODBPKE/g7QAi4G7wz9zu76aLxbiP4KYdaOWfeY/",
             "dtype": "f8"
            },
            "coloraxis": "coloraxis",
            "size": {
             "bdata": "sAVbsAUrgED+raYnW21BQMb/lfkyySxAcXcCP9W7W0DLUhwy9npiQCE+cZYahE1AZ3hTK7IULEAkZ9uIMvJbQJCnBHlKIGZAVjXxe7qaWEAvYP4PobxYQBXznAhCJHFAiSQjbC9hdUDfIycbR4tRQKGePZl76EdA9aoXohCSUUDD9ShcJ2dUQN3uEsJzI0hAPnE3QuIgJ0BFKNi1obUgQO1l5LJCnDVAtwrhdatQg0DdBRuUo0srQP78RC1LWBpA5BCi6E41Z0DlInIfXY01QPqVEC+IJ2FA+wC81FQSTkCy1dv54RdBQPQuOQbXckJADiubuNoic0CJE9o+qkNUQKi03vG0F1pAUXMSiAuRckDd3d3d3eFmQETuby2RC1tAgIXk2Kl9YEA9eb0jyYxtQJ4Ls9lAjEFABg/mifrXVkBTliGOddhgQHWoC1ypPGdARXRawcwEK0DfEs3z1CZIQCOMsQwusThAT7X2RmUaVUBD4bKy/ypAQLZlwFlKdVJAWEuGNGcdMUDqLmq9N7VHQPgIuHvRa1xA1WFPJpB1FUAoOc2kkNFuQJkEEJIQb0xANCY+lhtmV0AnbPBW8wxCQDIVR5AZc0dAOnsZLBA6PkCEBkxe4jFVQPTz8/PzA3RAUoVA8Oc4XUBbsAVbsOFyQBrzM9PYCA9A58ZNAz7QT0Afr39TFj5TQBhMAIyU3XNAqI9MdgkgXEDYd9Ysmg5fQNt8OcCyHWFAEP5N8/15d0Cc5RqRrAFNQG8TM+UFpE5AWwsIeyxSc0BcRWSPMWVoQLY7B8GrqW5AiQr3YoREUEBj9Qd6pMR1QKuO9toAVRdAX1CF0GiQTUBBMJF+03tSQGbg6db8EF1Aen4BKpOZXUBGS2C0BKZ7QM3MzMzMn2pAC+2VP3zic0AeVLvdk1hQQG+tDDRFPktAJoVeo6rtZUAayAD2SWJCQFr3+QUzkFBAwCKTfrYUVkDoDr5gaxM/QF8H2RqnfEpAIiIiIiLucUDHKa8MnuJTQBAqkHKxyiRALgIQzwjaUUCH1P1kx8JGQB2Boq0Gx2FAk5j6cRKpOEDGySDywK2CQAfeO1yaJmBA1byuhXjHUkBsdns6DuUpQHFM4R2KNCRA1V4nHqHUYkC0I+wFqKZFQItASnK3CX5Aptxdlwb/KEADFqWDiHRmQDMzMzMzb39AvoODS8uWLkDcDksexIweQKz1/d/pGGtAl0CH7UR0RUACK4cWGYw1QP7lKv1kwXFAxLhfl1ReRUB7Gn9TvgsrQNCQasruLl9AoemcoXWTXEACtRzWK9AqQCn/0Lc1MFFAYXSVLw0JUECpfgXsbWpXQKpyhb4cwXVAFh7dYYR6IUDxYGHlGQEwQLQr3mjG10tA/54kioCnMECBpzVC6e5RQBm47849+3FAzczMzMwAfUCLwSd0TZcvQAHpyzgFYlVAIiIiIiIHZECpWhuy88VYQJKd+QP2/TVAuSPuiDsCT0DwHIGirX5mQImfCNDa3jZAjnmIL78eHkDlsgyBKYVZQD3GjVEjvl9ATnADc5TJR0CruMUpTLMkQC7Ygi3YImJAdXxti09PcEAc5qwX+TRQQKuqqqqqMnRA5+tKL4XvRECSQFFjWXxgQN6ogotO2VRAafT2nVu/MkDGg0OYvaw/QMmxOVBYOE5AUrgehetxYkCqpoCn1HcwQH6vmk94YVBAn7Wu6ov9Q0BQtZwqzowtQAotY6rNnj9A",
             "dtype": "f8"
            },
            "sizemode": "area",
            "sizeref": 0.40873110465116275,
            "symbol": "circle"
           },
           "mode": "markers",
           "name": "",
           "orientation": "v",
           "showlegend": false,
           "type": "scatter",
           "x": {
            "bdata": "sAVbsAUrgED+raYnW21BQMb/lfkyySxAcXcCP9W7W0DLUhwy9npiQCE+cZYahE1AZ3hTK7IULEAkZ9uIMvJbQJCnBHlKIGZAVjXxe7qaWEAvYP4PobxYQBXznAhCJHFAiSQjbC9hdUDfIycbR4tRQKGePZl76EdA9aoXohCSUUDD9ShcJ2dUQN3uEsJzI0hAPnE3QuIgJ0BFKNi1obUgQO1l5LJCnDVAtwrhdatQg0DdBRuUo0srQP78RC1LWBpA5BCi6E41Z0DlInIfXY01QPqVEC+IJ2FA+wC81FQSTkCy1dv54RdBQPQuOQbXckJADiubuNoic0CJE9o+qkNUQKi03vG0F1pAUXMSiAuRckDd3d3d3eFmQETuby2RC1tAgIXk2Kl9YEA9eb0jyYxtQJ4Ls9lAjEFABg/mifrXVkBTliGOddhgQHWoC1ypPGdARXRawcwEK0DfEs3z1CZIQCOMsQwusThAT7X2RmUaVUBD4bKy/ypAQLZlwFlKdVJAWEuGNGcdMUDqLmq9N7VHQPgIuHvRa1xA1WFPJpB1FUAoOc2kkNFuQJkEEJIQb0xANCY+lhtmV0AnbPBW8wxCQDIVR5AZc0dAOnsZLBA6PkCEBkxe4jFVQPTz8/PzA3RAUoVA8Oc4XUBbsAVbsOFyQBrzM9PYCA9A58ZNAz7QT0Afr39TFj5TQBhMAIyU3XNAqI9MdgkgXEDYd9Ysmg5fQNt8OcCyHWFAEP5N8/15d0Cc5RqRrAFNQG8TM+UFpE5AWwsIeyxSc0BcRWSPMWVoQLY7B8GrqW5AiQr3YoREUEBj9Qd6pMR1QKuO9toAVRdAX1CF0GiQTUBBMJF+03tSQGbg6db8EF1Aen4BKpOZXUBGS2C0BKZ7QM3MzMzMn2pAC+2VP3zic0AeVLvdk1hQQG+tDDRFPktAJoVeo6rtZUAayAD2SWJCQFr3+QUzkFBAwCKTfrYUVkDoDr5gaxM/QF8H2RqnfEpAIiIiIiLucUDHKa8MnuJTQBAqkHKxyiRALgIQzwjaUUCH1P1kx8JGQB2Boq0Gx2FAk5j6cRKpOEDGySDywK2CQAfeO1yaJmBA1byuhXjHUkBsdns6DuUpQHFM4R2KNCRA1V4nHqHUYkC0I+wFqKZFQItASnK3CX5Aptxdlwb/KEADFqWDiHRmQDMzMzMzb39AvoODS8uWLkDcDksexIweQKz1/d/pGGtAl0CH7UR0RUACK4cWGYw1QP7lKv1kwXFAxLhfl1ReRUB7Gn9TvgsrQNCQasruLl9AoemcoXWTXEACtRzWK9AqQCn/0Lc1MFFAYXSVLw0JUECpfgXsbWpXQKpyhb4cwXVAFh7dYYR6IUDxYGHlGQEwQLQr3mjG10tA/54kioCnMECBpzVC6e5RQBm47849+3FAzczMzMwAfUCLwSd0TZcvQAHpyzgFYlVAIiIiIiIHZECpWhuy88VYQJKd+QP2/TVAuSPuiDsCT0DwHIGirX5mQImfCNDa3jZAjnmIL78eHkDlsgyBKYVZQD3GjVEjvl9ATnADc5TJR0CruMUpTLMkQC7Ygi3YImJAdXxti09PcEAc5qwX+TRQQKuqqqqqMnRA5+tKL4XvRECSQFFjWXxgQN6ogotO2VRAafT2nVu/MkDGg0OYvaw/QMmxOVBYOE5AUrgehetxYkCqpoCn1HcwQH6vmk94YVBAn7Wu6ov9Q0BQtZwqzowtQAotY6rNnj9A",
            "dtype": "f8"
           },
           "xaxis": "x",
           "y": {
            "bdata": "AAAAAAAAAAA5sGIdkVvZP04oj8k8PeE/Fanx0k1iYD8AAAAAAAAAAAAAAAAAAAAA4fusGsD30z/6fmq8dJNoPwbpJjEIrHw/AAAAAAAAAAD8qfHSTWJwP/D2bh3pNeI/AAAAAAAAAACM3pa1OibQPxkACJzkENQ/HXgwT9S/oT8CG+i0gU5rP1RR2ROfkKc/jPNlG7ph2D+jKRVnHz7bP5+Fy3fvj88/AAAAAAAAAAAhVfOHBfTfP7Kd76fGS+8/imeRJ7JdvT+/EmKiN9vOPwB4ME/Uv4E/rkfhehSu3z9dqUaXVCXUPzByCvImEcA/0gY6baDTxj8AeDBP1L9xP74XS36x5Ic/9fBhAvVqtD8AAAAAAAAAAAAAAAAAAAAAAAAAAAAAAACcREkxTcLFP6RYJDUSQNE/ShvotIFOqz/srmrBs8uvP/Z8796yAtM/oCaeN6XC0z9zV5g2Z4ufPyxH615IoOg/AAAAAAAAAACRQWAceNfCP+QXS36x5OM/0dcvF+uJ0T8cOxO7aJS2P2qnFErPSG0/6lG4HoXr2T8AAAAAAAAAAAAAAAAAAAAA27JWxwQPxj/fJCdJy7bYP+xsITSqk98/XZcWraAI0j8AAAAAAAAAAOtvhDJ6W6Y/VPKLJb9Ysj+nvB8RdnaLP81Zpc5AAuM/+fAZdgXIvT8AAAAAAAAAAMV2vp8aL80/AAAAAAAAAAA77jUXkqakPwAAAAAAAAAAUSrOPnyGvT8AAAAAAAAAAIjPsCtA7tU/AAAAAAAAAAC3aajRJY26PwrXo3A9Cqc/AhvotIFOaz8AAAAAAAAAAI1QRm/LWtU/6lG4HoXr0T+c76fGSzfRP+nxo2PMsto/AAAAAAAAAAAL4uzDZ9hlP7KzX6ys49Q/U1VVVVVVtT9hV4Dcay7UPxWp8dJNYmA/AAAAAAAAAAClLi/6MGa8P3Noke18P7U//Knx0k1icD/YfZR+dRjbPwB4ME/Uv4E/7kSElmj/1z8CG+i0gU5rPwZA1krmqOM/A4GVQ4tsxz/cJ4O9ZNCkP/6bMZi6xLI/yAe3glSP4D/6fmq8dJNoP5t9+Ay7AtQ/AHgwT9S/cT9Zz5oj68LTPyZ2vkVgUOQ/lyfq3whlxD8jFpBtW/vBP2PMyl1iqbk/7QJPm4xk1D9ecyFpSsXJP+kdOVBsM7U/d3ZldHSC0j9VVVVVVVXlP3QUrkfherQ/NJ3qfR2KuT903W5c2aLUPyuHFtnO97M/dDUnB7+c2T891mXE7PbiPwrZ7MNn2DU/n+bVBtB0yz9gslwTXBjVPwAAAAAAAAAAAAAAAAAAAAB9XQFyr7mQP/O2rNUxwdM/VVVVVVVV1T9uDmdp+IrgPy5P1L8Rysg/cMAoIigh4j9rLiRNqTjTPyuW/GLJL6Y/AAAAAAAAAAAmndpwFr7iP/yp8dJNYlA/Y62OCR7Mwz8AAAAAAAAAAMk1baYK4M0/oGFXgNxrzj+eYVeA3GvWP1LAO/2Y5s4/TDeJQWDl5D9soNMGOm3QP3npJjEIrJw/QIP4MtaxlD+BmfWxXTvVP40rAYOuxsI/gUkMAiuHhj9/4uzDZ9h1Py5rdUzwYNY/mePua/hM1z8XS36x5BfTPwRGb8taHWM/FBXgvCqA0j8KDcmQAozDPxsa6LSBTls/FdnO91Pj1T9ssd1b2KzgP83qmODBPKE/g7QAi4G7wz9zu76aLxbiP4KYdaOWfeY/",
            "dtype": "f8"
           },
           "yaxis": "y"
          }
         ],
         "name": "2003"
        },
        {
         "data": [
          {
           "hovertemplate": "<b>%{hovertext}</b><br><br>Year=2004<br>Population Density (per km²)=%{marker.size}<br>Multidimensional Poverty Index (MPI)=%{marker.color}<extra></extra>",
           "hovertext": [
            "Aruba",
            "Afghanistan",
            "Angola",
            "Albania",
            "Andorra",
            "United Arab Emirates",
            "Argentina",
            "Armenia",
            "Antigua and Barbuda",
            "Austria",
            "Azerbaijan",
            "Burundi",
            "Belgium",
            "Benin",
            "Burkina Faso",
            "Bulgaria",
            "Bosnia and Herzegovina",
            "Belarus",
            "Belize",
            "Bolivia",
            "Brazil",
            "Barbados",
            "Bhutan",
            "Central African Republic",
            "Switzerland",
            "Chile",
            "China",
            "Cote d'Ivoire",
            "Cameroon",
            "Colombia",
            "Comoros",
            "Costa Rica",
            "Cuba",
            "Curacao",
            "Cayman Islands",
            "Cyprus",
            "Czechia",
            "Germany",
            "Djibouti",
            "Dominica",
            "Denmark",
            "Dominican Republic",
            "Algeria",
            "Ecuador",
            "Eritrea",
            "Spain",
            "Estonia",
            "Ethiopia",
            "Finland",
            "Fiji",
            "France",
            "Gabon",
            "United Kingdom",
            "Georgia",
            "Ghana",
            "Guinea",
            "Guinea-Bissau",
            "Equatorial Guinea",
            "Greece",
            "Grenada",
            "Guatemala",
            "Guam",
            "Guyana",
            "Honduras",
            "Croatia",
            "Haiti",
            "Hungary",
            "Indonesia",
            "Isle of Man",
            "India",
            "Ireland",
            "Iraq",
            "Israel",
            "Italy",
            "Jamaica",
            "Jordan",
            "Japan",
            "Kazakhstan",
            "Kenya",
            "Cambodia",
            "Kiribati",
            "Kuwait",
            "Lebanon",
            "Liechtenstein",
            "Sri Lanka",
            "Lesotho",
            "Lithuania",
            "Luxembourg",
            "Latvia",
            "Morocco",
            "Moldova",
            "Madagascar",
            "Mexico",
            "Marshall Islands",
            "North Macedonia",
            "Mali",
            "Myanmar",
            "Montenegro",
            "Northern Mariana Islands",
            "Mozambique",
            "Mauritius",
            "Malawi",
            "Malaysia",
            "New Caledonia",
            "Niger",
            "Nigeria",
            "Nicaragua",
            "Netherlands",
            "Norway",
            "Nepal",
            "Nauru",
            "New Zealand",
            "Oman",
            "Pakistan",
            "Panama",
            "Peru",
            "Philippines",
            "Palau",
            "Papua New Guinea",
            "Poland",
            "Portugal",
            "Paraguay",
            "French Polynesia",
            "Qatar",
            "Romania",
            "Rwanda",
            "Saudi Arabia",
            "Sudan",
            "Senegal",
            "Solomon Islands",
            "Sierra Leone",
            "El Salvador",
            "San Marino",
            "Somalia",
            "Serbia",
            "Sao Tome and Principe",
            "Slovenia",
            "Sweden",
            "Eswatini",
            "Seychelles",
            "Turks and Caicos Islands",
            "Chad",
            "Togo",
            "Thailand",
            "Tajikistan",
            "Turkmenistan",
            "Tonga",
            "Trinidad and Tobago",
            "Tunisia",
            "Tuvalu",
            "Tanzania",
            "Uganda",
            "Ukraine",
            "Uruguay",
            "United States",
            "Uzbekistan",
            "British Virgin Islands",
            "Vanuatu",
            "Samoa",
            "South Africa",
            "Zambia",
            "Zimbabwe"
           ],
           "legendgroup": "",
           "marker": {
            "color": {
             "bdata": "AAAAAAAAAACoGIt/LajXPyU5/X34/eA/Fanx0k1iYD8AAAAAAAAAAAAAAAAAAAAAD4kABUrZ0z/6fmq8dJNoPwbpJjEIrHw/AAAAAAAAAAACG+i0gU5rPyMGgZVDi9Q/AAAAAAAAAAAcEzyYJ+rPPxWwxHyHZtM/TDeJQWDloD/6fmq8dJNoP8UThzGpHKg/X/vTmbMG2D+s1THBg3naP5H0pru5Ys8/Ctnsw2fYNT8P8CeSjoDdP5b8YskvluQ/AAAAAAAAAAB8AnHVgS3PP4GFpCkVZ38/szomeDBPxD/zZytbFjbTP5WwAmtyzL4/E9nO91PjxT8CG+i0gU5rP7ywK0DuNYc/nPH4UICvtj8AAAAAAAAAAAAAAAAAAAAAAAAAAAAAAAAAAAAAAAAAAHX72j7n6tA/mpmZmZmZqT8AAAAAAAAAALyDeaL+jaA/plKTJ7Wo0z/2UThKyPCYP6kXHdGDJ9s/AAAAAAAAAACS4xM0GQzDP7ArQO41F9I/srMxqx+D0T++vqNWzR+1PwAAAAAAAAAAIAcK1XX62z8AAAAAAAAAAArZ7MNn2DU/x6FFtvP9xD/LzBmuJAXYPwVEilBdktU/tK9jAEAL0T8AAAAAAAAAAAj1Je5I5Mw/1Pl+arx0sz8AAAAAAAAAAK4AuddcSNo/Qm/LWh0TvD8K2ezDZ9g1P4kCJVKMit4/AAAAAAAAAAC8kl8s+cWiPwAAAAAAAAAAKWt1TPBgvj8AAAAAAAAAADvfT42XboI/AAAAAAAAAAAAAAAAAAAAAJzi7MNn2KU/C+Lsw2fYZT8AAAAAAAAAAFVVVVVVVdU/UI2XbhKD0D/n+6nx0k3SP6OLUFl/dtM/AAAAAAAAAAAK2ezDZ9g1PwAAAAAAAAAAC3TaQKcNtD9HmlJx9uHTPxWp8dJNYmA/AAAAAAAAAAA/0YGS+1W9P/y411xImrI/+n5qvHSTaD+iio8G+qvbPwRGb8taHXM/GW7Lhsr+zj8VqfHSTWJgP2+212kfY+M/JurfCGX0xj9LDQw5M3ikP8VLN4lBYNU/5P1ilHQh4D8CG+i0gU5rPw+fYVeA3NM/AHgwT9S/cT9f8OMuvqPTP+bu6HBEb+Y/l+DBPFH/xj+GNJhDQC3BPwAAAAAAAAAAzN9tcSX20z/9jVBGb8vKP4slv1jyi9U/NSzHDjBj0j9VVVVVVVXVP5zTBjptoLM/6zH2DZ+Iuz9wzojS3j7UP4t7zYWkKaU/uydVO4FesD98tJ9TPs3iPwrZ7MNn2DU/AAAAAAAAAAA+Ygj4X+LUP4ejL60bKWo/AAAAAAAAAABe9uEz7AqQPxP1b4QyetM/VVVVVVVV1T+WJPntomrgP8Jn2BUg98o/oPpSUle94T8meDBP1L/RP/nRBRuwy6s/AAAAAAAAAAB2rHJ6oE7iPwvi7MNn2FU/hBbZzvdTwz8AAAAAAAAAAIK0BFhgyM0/qWOCB/NEzT/0b4QyelvWP6KacLpPgc0/9ihcj8L15D+07S8V+RzePx20yHa+n5o/zgGrxbPEkT97UlFKcyXVPyT8sZj1mdc/f+Lsw2fYhT8CG+i0gU5rP7x0kxgEVtY/SOntw1mf1j+nfyOU0dvSPxWp8dJNYmA/D2CLirQW0T+Wns0hlzvDPxsa6LSBTls//hARERERgT+yWD1lnmLgPy3QaQOdNqA/pP7ugVuIwj9cAHhfeMThP/JgeR1dWOY/",
             "dtype": "f8"
            },
            "coloraxis": "coloraxis",
            "size": {
             "bdata": "BluwBVuEgEAgo0T8xQ9CQK+0j2Pm1i1AC2iQ9DieW0Df2ajvbMRjQDmt1jVeLk9A1coKOvddLECq5M8IospbQHlKkKcEXWZAl3W6le3BWEA3yHVhT/RYQOvN8QTtynFA4ohJg+x4dUDXYwlV6hZSQEcqyvAJrEhAGqGi1D1wUUBxPQrXOzhUQHr4/vhw+UdASWPdnWPSJ0BZtc2zOP4gQP5bjvQf2zVAx0+Lbfxsg0BCUJijytgrQI7AJujM6xpAfbI3gUpeZ0CoDeZHVsU1QMhaazyxQWFAwddGrEvPTkCg/M7rxZFBQA2c9QW5uEJAXVM6eJ6Ac0DmV9UafpBUQLK73dQ1KVpAPHplbL/jckDv7u7u7p5nQN4ISGk3iltAoG8W0vJ+YECarQTCJIttQPD786/b0UFANV66SQziVkDZX3ZPnuNgQMfj5Fn6jmdAKA+D/RBmK0A9ikq0IZRIQEfkJuK/uTlA/jGwxWt4VUBTrZYvVBJAQIVDb/HwBFNAEs8CnyQqMUAtGsaN0+1HQGHTZYtRoVxA59Cx0JQRFkAe1nWAlP5uQGoT3aMgQkxACdmsGOEGWED3+CMs8HBCQPJ+A3Aa/0dAy3b0t5IKQEDqIzdDUz9VQJ2cnJycGHRAOB6BdBDhXUDaS2gvofVyQOjWo2+8AQ9AV1bsQPROUEClwiNFdj9TQNY0NeTdNHRA+67lYhwQXECXySzcTHRfQHesQBhpR2FAsAAi5kDhd0BnOWn6r4pNQHGKO7rlhk9A3ueOemGqc0ATFC6V3pNoQNv5rWDF125Anj6RNTqqUEBwaDjIhMZ1QDMZvdD8exdAyPvMzhR/TkB/j7DuE8JSQCkDT7fmp11AlIGnW/NDXkAxXxbzZRl8QGZmZmZm6WpA+V+vyDQFdEA5JB1wNjtQQGSiIlRj8EpASFeLcAY+ZkCEVZ8yNS9CQI5SkbHqxlBAght+IL4GVkDxVsfh0v4/QG8amUvd2UpA+qRP+qT7cUDnn+4cKdJTQJ+iQhTceSVA6GxlRFwBUkCkyYMyHc1GQLuk8mHcX2FAouYRv9w6OUBafamg1cuCQBijTHjukmBA1lfcmuY3U0CYOinQ9lkqQK6wbagM8iRAqHzn3A1cY0BX0KxvjOhFQCGp2aF7JH5Av/ijlvMkKUC99YO26L1mQAAAAAAAcH9AOBqVyAsML0CudEL2fxQfQCoG1tJAxmtAnQTZPebdRUCmm8QgcMI1QBt2k2WWGnJAkYUsZCGLRUBUXy4cb/IrQIRjL1tDKl9APU7jS/mkXEAHzer0ux8rQDGmWtRzdlFA+f2l/PumUECnU17+XkhXQK8cht5CVnZAnSWOnMFMIkC2CFIiolswQLBBK0b+gExApOj20tn0MEBzC43yw4xSQL5QaKjm/3FAMzMzMzOvfkBP0HWlY2MwQPIPfklDVVVAVVVVVdWIZEDatFErBMpYQMWWe60lFDZAmHFRrkwyT0CykIUsZGlmQL6NuywXDzhAnl/jXP99H0A5zRWcAS9aQK8xew2kA2BAscc3REZCSEATcbUP9hklQH3SJ33SPWJAQnwH8R1kcEDm5I0r6ltQQDMzMzMzc3RABRTWw+2CRUDJl12T2vxgQFsFn/c6tFRAr3gHSTrCMkBSO09QIvg/QP1nYHEOmE5A4XoUrkcRY0C0q3iJGeAwQBS5N9T9c1BAg3MsyVwxREAI8ySQCIEuQDbKoS0y9z9A",
             "dtype": "f8"
            },
            "sizemode": "area",
            "sizeref": 0.40873110465116275,
            "symbol": "circle"
           },
           "mode": "markers",
           "name": "",
           "orientation": "v",
           "showlegend": false,
           "type": "scatter",
           "x": {
            "bdata": "BluwBVuEgEAgo0T8xQ9CQK+0j2Pm1i1AC2iQ9DieW0Df2ajvbMRjQDmt1jVeLk9A1coKOvddLECq5M8IospbQHlKkKcEXWZAl3W6le3BWEA3yHVhT/RYQOvN8QTtynFA4ohJg+x4dUDXYwlV6hZSQEcqyvAJrEhAGqGi1D1wUUBxPQrXOzhUQHr4/vhw+UdASWPdnWPSJ0BZtc2zOP4gQP5bjvQf2zVAx0+Lbfxsg0BCUJijytgrQI7AJujM6xpAfbI3gUpeZ0CoDeZHVsU1QMhaazyxQWFAwddGrEvPTkCg/M7rxZFBQA2c9QW5uEJAXVM6eJ6Ac0DmV9UafpBUQLK73dQ1KVpAPHplbL/jckDv7u7u7p5nQN4ISGk3iltAoG8W0vJ+YECarQTCJIttQPD786/b0UFANV66SQziVkDZX3ZPnuNgQMfj5Fn6jmdAKA+D/RBmK0A9ikq0IZRIQEfkJuK/uTlA/jGwxWt4VUBTrZYvVBJAQIVDb/HwBFNAEs8CnyQqMUAtGsaN0+1HQGHTZYtRoVxA59Cx0JQRFkAe1nWAlP5uQGoT3aMgQkxACdmsGOEGWED3+CMs8HBCQPJ+A3Aa/0dAy3b0t5IKQEDqIzdDUz9VQJ2cnJycGHRAOB6BdBDhXUDaS2gvofVyQOjWo2+8AQ9AV1bsQPROUEClwiNFdj9TQNY0NeTdNHRA+67lYhwQXECXySzcTHRfQHesQBhpR2FAsAAi5kDhd0BnOWn6r4pNQHGKO7rlhk9A3ueOemGqc0ATFC6V3pNoQNv5rWDF125Anj6RNTqqUEBwaDjIhMZ1QDMZvdD8exdAyPvMzhR/TkB/j7DuE8JSQCkDT7fmp11AlIGnW/NDXkAxXxbzZRl8QGZmZmZm6WpA+V+vyDQFdEA5JB1wNjtQQGSiIlRj8EpASFeLcAY+ZkCEVZ8yNS9CQI5SkbHqxlBAght+IL4GVkDxVsfh0v4/QG8amUvd2UpA+qRP+qT7cUDnn+4cKdJTQJ+iQhTceSVA6GxlRFwBUkCkyYMyHc1GQLuk8mHcX2FAouYRv9w6OUBafamg1cuCQBijTHjukmBA1lfcmuY3U0CYOinQ9lkqQK6wbagM8iRAqHzn3A1cY0BX0KxvjOhFQCGp2aF7JH5Av/ijlvMkKUC99YO26L1mQAAAAAAAcH9AOBqVyAsML0CudEL2fxQfQCoG1tJAxmtAnQTZPebdRUCmm8QgcMI1QBt2k2WWGnJAkYUsZCGLRUBUXy4cb/IrQIRjL1tDKl9APU7jS/mkXEAHzer0ux8rQDGmWtRzdlFA+f2l/PumUECnU17+XkhXQK8cht5CVnZAnSWOnMFMIkC2CFIiolswQLBBK0b+gExApOj20tn0MEBzC43yw4xSQL5QaKjm/3FAMzMzMzOvfkBP0HWlY2MwQPIPfklDVVVAVVVVVdWIZEDatFErBMpYQMWWe60lFDZAmHFRrkwyT0CykIUsZGlmQL6NuywXDzhAnl/jXP99H0A5zRWcAS9aQK8xew2kA2BAscc3REZCSEATcbUP9hklQH3SJ33SPWJAQnwH8R1kcEDm5I0r6ltQQDMzMzMzc3RABRTWw+2CRUDJl12T2vxgQFsFn/c6tFRAr3gHSTrCMkBSO09QIvg/QP1nYHEOmE5A4XoUrkcRY0C0q3iJGeAwQBS5N9T9c1BAg3MsyVwxREAI8ySQCIEuQDbKoS0y9z9A",
            "dtype": "f8"
           },
           "xaxis": "x",
           "y": {
            "bdata": "AAAAAAAAAACoGIt/LajXPyU5/X34/eA/Fanx0k1iYD8AAAAAAAAAAAAAAAAAAAAAD4kABUrZ0z/6fmq8dJNoPwbpJjEIrHw/AAAAAAAAAAACG+i0gU5rPyMGgZVDi9Q/AAAAAAAAAAAcEzyYJ+rPPxWwxHyHZtM/TDeJQWDloD/6fmq8dJNoP8UThzGpHKg/X/vTmbMG2D+s1THBg3naP5H0pru5Ys8/Ctnsw2fYNT8P8CeSjoDdP5b8YskvluQ/AAAAAAAAAAB8AnHVgS3PP4GFpCkVZ38/szomeDBPxD/zZytbFjbTP5WwAmtyzL4/E9nO91PjxT8CG+i0gU5rP7ywK0DuNYc/nPH4UICvtj8AAAAAAAAAAAAAAAAAAAAAAAAAAAAAAAAAAAAAAAAAAHX72j7n6tA/mpmZmZmZqT8AAAAAAAAAALyDeaL+jaA/plKTJ7Wo0z/2UThKyPCYP6kXHdGDJ9s/AAAAAAAAAACS4xM0GQzDP7ArQO41F9I/srMxqx+D0T++vqNWzR+1PwAAAAAAAAAAIAcK1XX62z8AAAAAAAAAAArZ7MNn2DU/x6FFtvP9xD/LzBmuJAXYPwVEilBdktU/tK9jAEAL0T8AAAAAAAAAAAj1Je5I5Mw/1Pl+arx0sz8AAAAAAAAAAK4AuddcSNo/Qm/LWh0TvD8K2ezDZ9g1P4kCJVKMit4/AAAAAAAAAAC8kl8s+cWiPwAAAAAAAAAAKWt1TPBgvj8AAAAAAAAAADvfT42XboI/AAAAAAAAAAAAAAAAAAAAAJzi7MNn2KU/C+Lsw2fYZT8AAAAAAAAAAFVVVVVVVdU/UI2XbhKD0D/n+6nx0k3SP6OLUFl/dtM/AAAAAAAAAAAK2ezDZ9g1PwAAAAAAAAAAC3TaQKcNtD9HmlJx9uHTPxWp8dJNYmA/AAAAAAAAAAA/0YGS+1W9P/y411xImrI/+n5qvHSTaD+iio8G+qvbPwRGb8taHXM/GW7Lhsr+zj8VqfHSTWJgP2+212kfY+M/JurfCGX0xj9LDQw5M3ikP8VLN4lBYNU/5P1ilHQh4D8CG+i0gU5rPw+fYVeA3NM/AHgwT9S/cT9f8OMuvqPTP+bu6HBEb+Y/l+DBPFH/xj+GNJhDQC3BPwAAAAAAAAAAzN9tcSX20z/9jVBGb8vKP4slv1jyi9U/NSzHDjBj0j9VVVVVVVXVP5zTBjptoLM/6zH2DZ+Iuz9wzojS3j7UP4t7zYWkKaU/uydVO4FesD98tJ9TPs3iPwrZ7MNn2DU/AAAAAAAAAAA+Ygj4X+LUP4ejL60bKWo/AAAAAAAAAABe9uEz7AqQPxP1b4QyetM/VVVVVVVV1T+WJPntomrgP8Jn2BUg98o/oPpSUle94T8meDBP1L/RP/nRBRuwy6s/AAAAAAAAAAB2rHJ6oE7iPwvi7MNn2FU/hBbZzvdTwz8AAAAAAAAAAIK0BFhgyM0/qWOCB/NEzT/0b4QyelvWP6KacLpPgc0/9ihcj8L15D+07S8V+RzePx20yHa+n5o/zgGrxbPEkT97UlFKcyXVPyT8sZj1mdc/f+Lsw2fYhT8CG+i0gU5rP7x0kxgEVtY/SOntw1mf1j+nfyOU0dvSPxWp8dJNYmA/D2CLirQW0T+Wns0hlzvDPxsa6LSBTls//hARERERgT+yWD1lnmLgPy3QaQOdNqA/pP7ugVuIwj9cAHhfeMThP/JgeR1dWOY/",
            "dtype": "f8"
           },
           "yaxis": "y"
          }
         ],
         "name": "2004"
        },
        {
         "data": [
          {
           "hovertemplate": "<b>%{hovertext}</b><br><br>Year=2005<br>Population Density (per km²)=%{marker.size}<br>Multidimensional Poverty Index (MPI)=%{marker.color}<extra></extra>",
           "hovertext": [
            "Aruba",
            "Afghanistan",
            "Angola",
            "Albania",
            "Andorra",
            "United Arab Emirates",
            "Argentina",
            "Armenia",
            "Antigua and Barbuda",
            "Austria",
            "Azerbaijan",
            "Burundi",
            "Belgium",
            "Benin",
            "Burkina Faso",
            "Bulgaria",
            "Bosnia and Herzegovina",
            "Belarus",
            "Belize",
            "Bolivia",
            "Brazil",
            "Barbados",
            "Bhutan",
            "Central African Republic",
            "Switzerland",
            "Chile",
            "China",
            "Cote d'Ivoire",
            "Cameroon",
            "Colombia",
            "Comoros",
            "Costa Rica",
            "Cuba",
            "Curacao",
            "Cayman Islands",
            "Cyprus",
            "Czechia",
            "Germany",
            "Djibouti",
            "Dominica",
            "Denmark",
            "Dominican Republic",
            "Algeria",
            "Ecuador",
            "Eritrea",
            "Spain",
            "Estonia",
            "Ethiopia",
            "Finland",
            "Fiji",
            "France",
            "Gabon",
            "United Kingdom",
            "Georgia",
            "Ghana",
            "Guinea",
            "Guinea-Bissau",
            "Equatorial Guinea",
            "Greece",
            "Grenada",
            "Guatemala",
            "Guam",
            "Honduras",
            "Croatia",
            "Haiti",
            "Hungary",
            "Indonesia",
            "Isle of Man",
            "India",
            "Ireland",
            "Iraq",
            "Israel",
            "Italy",
            "Jamaica",
            "Jordan",
            "Japan",
            "Kazakhstan",
            "Kenya",
            "Cambodia",
            "Kiribati",
            "Kuwait",
            "Lebanon",
            "Liechtenstein",
            "Sri Lanka",
            "Lesotho",
            "Lithuania",
            "Luxembourg",
            "Latvia",
            "Morocco",
            "Moldova",
            "Madagascar",
            "Mexico",
            "Marshall Islands",
            "North Macedonia",
            "Mali",
            "Myanmar",
            "Montenegro",
            "Northern Mariana Islands",
            "Mozambique",
            "Mauritius",
            "Malawi",
            "Malaysia",
            "New Caledonia",
            "Niger",
            "Nigeria",
            "Nicaragua",
            "Netherlands",
            "Norway",
            "Nepal",
            "Nauru",
            "New Zealand",
            "Oman",
            "Pakistan",
            "Panama",
            "Peru",
            "Philippines",
            "Palau",
            "Papua New Guinea",
            "Poland",
            "Portugal",
            "Paraguay",
            "French Polynesia",
            "Qatar",
            "Romania",
            "Rwanda",
            "Saudi Arabia",
            "Sudan",
            "Senegal",
            "Solomon Islands",
            "Sierra Leone",
            "El Salvador",
            "San Marino",
            "Somalia",
            "Serbia",
            "Sao Tome and Principe",
            "Slovenia",
            "Sweden",
            "Eswatini",
            "Seychelles",
            "Turks and Caicos Islands",
            "Chad",
            "Togo",
            "Thailand",
            "Tajikistan",
            "Turkmenistan",
            "Tonga",
            "Trinidad and Tobago",
            "Tunisia",
            "Tuvalu",
            "Tanzania",
            "Uganda",
            "Ukraine",
            "Uruguay",
            "United States",
            "Uzbekistan",
            "British Virgin Islands",
            "Vanuatu",
            "Samoa",
            "South Africa",
            "Zambia",
            "Zimbabwe"
           ],
           "legendgroup": "",
           "marker": {
            "color": {
             "bdata": "72O6v9mrwz9y2a3Y6evVPzAsrDTXvOA/Fanx0k1iYD8AAAAAAAAAAAAAAAAAAAAAOxSb71260z8+4OzDZ9hFPx20yHa+n5o/AAAAAAAAAAD6fmq8dJNoP+BuzXedXNU/AAAAAAAAAAAgaUrF2YfPP8Nn2BUg99I/bfbhM+wKoD/6fmq8dJNoPx6/Uriypqg/LYPcIGil1z9/arx0kxjcP5lwhFMxAM8/Ctnsw2fYNT/s9dCNB7DbP4HtjxXQ3uQ/AAAAAAAAAADlgZC6XdzOPwbpJjEIrHw/2tWIdIqXwT+1b3HVk6rSP4y2BNlpZLw/57SBThvoxD/6fmq8dJNoP3/i7MNn2IU/26/SLnjroj8AAAAAAAAAAAAAAAAAAAAAAAAAAAAAAACxuVsNngKKP8k4ifxNSNE/ovbYaWy2rD8AAAAAAAAAAEw3iUFg5aA/dUf96yKN0z956SYxCKyMP+PZYYFelto/AAAAAAAAAAAq/HXnLj7DP1jyiyW/WNI/dwFB1xZ70T/sUB0LWt67PwAAAAAAAAAADuaJ+jdC2T8AAAAAAAAAAAbpJjEIrHw/1hUg95oLyT9uaN39ZJ/XPzslal3jr9Q/62AXbNMe0D8AAAAAAAAAAExVVVVVVaU/HMwT9W+Esj8AAAAAAAAAAFLHBA/mibo/Ctnsw2fYNT/xiyW/WPLLPwrZ7MNn2DU/G02pOPvwqT8AAAAAAAAAADm0yHa+n7o/AAAAAAAAAAAAeDBP1L+BPwAAAAAAAAAAt/dnZUoImz9D7dJFj4WqPwIb6LSBTms/AAAAAAAAAABVVVVVVVXVPxrotIFOG9A/9ihcj8L10D86YOXQItu5PwAAAAAAAAAAC+Lsw2fYZT8AAAAAAAAAAOOlm8QgsLI/FSD3mgtJ0z8VqfHSTWJgPwAAAAAAAAAAHrv753Mrvj90Bci95kKyPwRGb8taHXM/i6YRL+QD2z8Jt2WtjgluPxzb+X5qvLQ/+n5qvHSTaD8StdZykBnjP0dTKs4+fMY/ioFTxe/Qoj/FSzeJQWDVP+JohxQ7tt8/AhvotIFOaz+5kDSl4uzTPwB4ME/Uv3E/Ue02gmKJ0z9Khfp9wVjkP34jlNHbssY/6obpIykpwT8AAAAAAAAAAMz7AmVq6tM/l+DBPFH/xj/Obd1b/rTDPzXkf8kgS9I/jVBGb8ta1T/jpZvEILCyP6qIzVgsKbk/ztIoN2TS0z/U6pjgwTyxP69SLdnbYa8/8osGhbel4j8+4OzDZ9hFP3a7YnQm0pg/5kAOzdx71D/4wsWrnqCzPwAAAAAAAAAAfbdlrY4Jjj+1OiZ4ME/UP1VVVVVVVdU/bH0Dh6ZI4D8qQO41F5LGPwFvaAR/WeE/UXH24TPs0j9MVVVVVVWlPwAAAAAAAAAAdNEPZhrg4T/8qfHSTWJQP6d/I5TR28I/AAAAAAAAAABpAgw3N7DNP0Vvy1odE8w/uB6F61G4jj9VMuu2KRvMPwXIveZC0uQ/gk4b6LSB4j/6fmq8dJOYP+ByPO3FbXs/8bdYixcK1T/DM2e70ETMP/4QEREREZE/C+Lsw2fYZT9KfrHkF0vWP4NfxHz7dtU/of6NUEZv0z8K2ezDZ9g1PxU+Z7aoFNE/S0pDVcHqwj8VqfHSTWJgP/yp8dJNYoA/N89N9DAV4D8ba3VM8GCePygMdUZGAsI/22Qb4ZhP4T8CeI8T+DXmPw==",
             "dtype": "f8"
            },
            "coloraxis": "coloraxis",
            "size": {
             "bdata": "VVVVVVXzgEDo+QUhZLVCQA7JojyT8i5AROwHViF6W0CE1bSON5dkQGF+uW2ya1BAwOS3x/aoLEAQ+n2ZC6FbQCpBnhLknWZAKyMF80DtWEC4GvJU8zVZQFGnOwJKd3JA4EwHSz6XdUAsLIChfK5SQKYGq8jzdUlAOhy/xsBOUUApXI/CnQBUQMyAmUGqz0dASkf4t+yGKECIqKwnLEghQJoyQ4THGDZA5/Lsby6Hg0Duwb9u2VQsQDCcVA2SiRtA+DPpl7yEZ0Al2NA/7fw1QMfdWxzAW2FAz5zmsN6NT0DVaduQcQ9CQNtVYDtO/EJAtblypo7nc0DezrmbJ91UQM5axj5kN1pAinzWDaZgc0BmZmZmZl5oQGq2w6/NCFxAJf9CQ8uEYEAkqcy/2YZtQG0z/LHhGUJA3WsuJE3pVkCzDHGsi+9gQOo6KwOP3mdAI7n1XHXNK0Ab3UDA7AFJQKm6mwBCWTpACBpvPxDWVUCWYwEHtPU/QLYQ5KCEl1NAPx1mLDU5MUCM5U8z9yVIQIvdZGCi2FxA8k4aGAq4FkAqCxRNPzVvQGyCM7lQFExArg9xCVaqWEAPl1zhU9BCQA6myGfdkEhAIxWqyhnjQEC5MS2nTE9VQPTz8/PzK3RA8NReKm2IXkChvYT2EgZzQMFtFwCMtVBAkymsMM9FU0C1XWctiYx0QM2WNmDWAVxAGrLwtVfcX0AByzZfDnBhQAk0N+7NRXhAfBXJkEMxTkDEXn3I1jxQQIRy5i3rA3RAfliQFbO4aEBvbiBenwNvQGsjryk6FVFAMjUi0grHdUCooIesuqgXQHk5HcGnck9A/ESmFZYIU0DKwNOt+UFeQKG4FYpbYV9AurObO7uJfECamZmZmSZrQPumlFMZJnRA/iaKACgVUEBFcyge/4BKQOyryxfRlWZAs8KW/iz9QUBBmETVAQFRQD5x/gsK+VVAqkCs4CZ5QEDf9TgaMTdLQN7d3d3dBXJAx+2a09a2U0Bt77956DAmQKPi09KNJVJA2w2EV8HVRkA8R6Boq/FgQJ78/E3/0TlAISsT7GjogkAzwbLDFwZhQEflE9u+qFNADAayl868KkCk0EdUQLglQEfoXEwy52NA/5IBWyUyRkBE91vbiDZ+QL/PNAXxUClAgIeOYG7/ZkAzMzMzM2d/QDloYAxFZi9AiFHCbGjKH0DU2ugEPXNsQKUbERZuSEZA2/l+ajz0NUDF2MbakXFyQAbPESjaikVAHAXUhXHdLEDPzKjswSZfQKK17mqXslxA3JbhovRsK0AGrmbL07lRQNhgnH4NxlFAoQ+VZq0jV0Dtq5ztafB2QNSobyXUICNAd7Z/Uly8MECA+FX4sS1NQA4YlzRPQjFAyxevEjcOU0A2hLjWmAByQEREREREFH9Ai65EAZ33MEC6ixJQ4URVQHd3d3f3C2VA+ohuhgTVWEC9vWQ8zCo2QExFr2DuXU9A0VaD5wiEZkBpGh1+IkA5QBZZZt7PZCBARN9h+UzdWkAenbWsDSdgQPXNA2T7vEhAlrTZG46AJUAofdInfVhiQK1y5/3Qim9AzHVqi7SAUEBVVVVVVbV0QLLw3t7kHUZAgheqdWF+YUB3MZQLtohUQGU4y3YQxjJAK3UIYPUhQEBFhLv2ovpOQImIiIiIuGNAitB1BSJKMUDWRRJNeoRQQCPGaUz5ZURA8Bp1XS6HL0BC4M3vfCJAQA==",
             "dtype": "f8"
            },
            "sizemode": "area",
            "sizeref": 0.40873110465116275,
            "symbol": "circle"
           },
           "mode": "markers",
           "name": "",
           "orientation": "v",
           "showlegend": false,
           "type": "scatter",
           "x": {
            "bdata": "VVVVVVXzgEDo+QUhZLVCQA7JojyT8i5AROwHViF6W0CE1bSON5dkQGF+uW2ya1BAwOS3x/aoLEAQ+n2ZC6FbQCpBnhLknWZAKyMF80DtWEC4GvJU8zVZQFGnOwJKd3JA4EwHSz6XdUAsLIChfK5SQKYGq8jzdUlAOhy/xsBOUUApXI/CnQBUQMyAmUGqz0dASkf4t+yGKECIqKwnLEghQJoyQ4THGDZA5/Lsby6Hg0Duwb9u2VQsQDCcVA2SiRtA+DPpl7yEZ0Al2NA/7fw1QMfdWxzAW2FAz5zmsN6NT0DVaduQcQ9CQNtVYDtO/EJAtblypo7nc0DezrmbJ91UQM5axj5kN1pAinzWDaZgc0BmZmZmZl5oQGq2w6/NCFxAJf9CQ8uEYEAkqcy/2YZtQG0z/LHhGUJA3WsuJE3pVkCzDHGsi+9gQOo6KwOP3mdAI7n1XHXNK0Ab3UDA7AFJQKm6mwBCWTpACBpvPxDWVUCWYwEHtPU/QLYQ5KCEl1NAPx1mLDU5MUCM5U8z9yVIQIvdZGCi2FxA8k4aGAq4FkAqCxRNPzVvQGyCM7lQFExArg9xCVaqWEAPl1zhU9BCQA6myGfdkEhAIxWqyhnjQEC5MS2nTE9VQPTz8/PzK3RA8NReKm2IXkChvYT2EgZzQMFtFwCMtVBAkymsMM9FU0C1XWctiYx0QM2WNmDWAVxAGrLwtVfcX0AByzZfDnBhQAk0N+7NRXhAfBXJkEMxTkDEXn3I1jxQQIRy5i3rA3RAfliQFbO4aEBvbiBenwNvQGsjryk6FVFAMjUi0grHdUCooIesuqgXQHk5HcGnck9A/ESmFZYIU0DKwNOt+UFeQKG4FYpbYV9AurObO7uJfECamZmZmSZrQPumlFMZJnRA/iaKACgVUEBFcyge/4BKQOyryxfRlWZAs8KW/iz9QUBBmETVAQFRQD5x/gsK+VVAqkCs4CZ5QEDf9TgaMTdLQN7d3d3dBXJAx+2a09a2U0Bt77956DAmQKPi09KNJVJA2w2EV8HVRkA8R6Boq/FgQJ78/E3/0TlAISsT7GjogkAzwbLDFwZhQEflE9u+qFNADAayl868KkCk0EdUQLglQEfoXEwy52NA/5IBWyUyRkBE91vbiDZ+QL/PNAXxUClAgIeOYG7/ZkAzMzMzM2d/QDloYAxFZi9AiFHCbGjKH0DU2ugEPXNsQKUbERZuSEZA2/l+ajz0NUDF2MbakXFyQAbPESjaikVAHAXUhXHdLEDPzKjswSZfQKK17mqXslxA3JbhovRsK0AGrmbL07lRQNhgnH4NxlFAoQ+VZq0jV0Dtq5ztafB2QNSobyXUICNAd7Z/Uly8MECA+FX4sS1NQA4YlzRPQjFAyxevEjcOU0A2hLjWmAByQEREREREFH9Ai65EAZ33MEC6ixJQ4URVQHd3d3f3C2VA+ohuhgTVWEC9vWQ8zCo2QExFr2DuXU9A0VaD5wiEZkBpGh1+IkA5QBZZZt7PZCBARN9h+UzdWkAenbWsDSdgQPXNA2T7vEhAlrTZG46AJUAofdInfVhiQK1y5/3Qim9AzHVqi7SAUEBVVVVVVbV0QLLw3t7kHUZAgheqdWF+YUB3MZQLtohUQGU4y3YQxjJAK3UIYPUhQEBFhLv2ovpOQImIiIiIuGNAitB1BSJKMUDWRRJNeoRQQCPGaUz5ZURA8Bp1XS6HL0BC4M3vfCJAQA==",
            "dtype": "f8"
           },
           "xaxis": "x",
           "y": {
            "bdata": "72O6v9mrwz9y2a3Y6evVPzAsrDTXvOA/Fanx0k1iYD8AAAAAAAAAAAAAAAAAAAAAOxSb71260z8+4OzDZ9hFPx20yHa+n5o/AAAAAAAAAAD6fmq8dJNoP+BuzXedXNU/AAAAAAAAAAAgaUrF2YfPP8Nn2BUg99I/bfbhM+wKoD/6fmq8dJNoPx6/Uriypqg/LYPcIGil1z9/arx0kxjcP5lwhFMxAM8/Ctnsw2fYNT/s9dCNB7DbP4HtjxXQ3uQ/AAAAAAAAAADlgZC6XdzOPwbpJjEIrHw/2tWIdIqXwT+1b3HVk6rSP4y2BNlpZLw/57SBThvoxD/6fmq8dJNoP3/i7MNn2IU/26/SLnjroj8AAAAAAAAAAAAAAAAAAAAAAAAAAAAAAACxuVsNngKKP8k4ifxNSNE/ovbYaWy2rD8AAAAAAAAAAEw3iUFg5aA/dUf96yKN0z956SYxCKyMP+PZYYFelto/AAAAAAAAAAAq/HXnLj7DP1jyiyW/WNI/dwFB1xZ70T/sUB0LWt67PwAAAAAAAAAADuaJ+jdC2T8AAAAAAAAAAAbpJjEIrHw/1hUg95oLyT9uaN39ZJ/XPzslal3jr9Q/62AXbNMe0D8AAAAAAAAAAExVVVVVVaU/HMwT9W+Esj8AAAAAAAAAAFLHBA/mibo/Ctnsw2fYNT/xiyW/WPLLPwrZ7MNn2DU/G02pOPvwqT8AAAAAAAAAADm0yHa+n7o/AAAAAAAAAAAAeDBP1L+BPwAAAAAAAAAAt/dnZUoImz9D7dJFj4WqPwIb6LSBTms/AAAAAAAAAABVVVVVVVXVPxrotIFOG9A/9ihcj8L10D86YOXQItu5PwAAAAAAAAAAC+Lsw2fYZT8AAAAAAAAAAOOlm8QgsLI/FSD3mgtJ0z8VqfHSTWJgPwAAAAAAAAAAHrv753Mrvj90Bci95kKyPwRGb8taHXM/i6YRL+QD2z8Jt2WtjgluPxzb+X5qvLQ/+n5qvHSTaD8StdZykBnjP0dTKs4+fMY/ioFTxe/Qoj/FSzeJQWDVP+JohxQ7tt8/AhvotIFOaz+5kDSl4uzTPwB4ME/Uv3E/Ue02gmKJ0z9Khfp9wVjkP34jlNHbssY/6obpIykpwT8AAAAAAAAAAMz7AmVq6tM/l+DBPFH/xj/Obd1b/rTDPzXkf8kgS9I/jVBGb8ta1T/jpZvEILCyP6qIzVgsKbk/ztIoN2TS0z/U6pjgwTyxP69SLdnbYa8/8osGhbel4j8+4OzDZ9hFP3a7YnQm0pg/5kAOzdx71D/4wsWrnqCzPwAAAAAAAAAAfbdlrY4Jjj+1OiZ4ME/UP1VVVVVVVdU/bH0Dh6ZI4D8qQO41F5LGPwFvaAR/WeE/UXH24TPs0j9MVVVVVVWlPwAAAAAAAAAAdNEPZhrg4T/8qfHSTWJQP6d/I5TR28I/AAAAAAAAAABpAgw3N7DNP0Vvy1odE8w/uB6F61G4jj9VMuu2KRvMPwXIveZC0uQ/gk4b6LSB4j/6fmq8dJOYP+ByPO3FbXs/8bdYixcK1T/DM2e70ETMP/4QEREREZE/C+Lsw2fYZT9KfrHkF0vWP4NfxHz7dtU/of6NUEZv0z8K2ezDZ9g1PxU+Z7aoFNE/S0pDVcHqwj8VqfHSTWJgP/yp8dJNYoA/N89N9DAV4D8ba3VM8GCePygMdUZGAsI/22Qb4ZhP4T8CeI8T+DXmPw==",
            "dtype": "f8"
           },
           "yaxis": "y"
          }
         ],
         "name": "2005"
        },
        {
         "data": [
          {
           "hovertemplate": "<b>%{hovertext}</b><br><br>Year=2006<br>Population Density (per km²)=%{marker.size}<br>Multidimensional Poverty Index (MPI)=%{marker.color}<extra></extra>",
           "hovertext": [
            "Aruba",
            "Afghanistan",
            "Angola",
            "Albania",
            "Andorra",
            "United Arab Emirates",
            "Argentina",
            "Armenia",
            "Antigua and Barbuda",
            "Austria",
            "Azerbaijan",
            "Burundi",
            "Belgium",
            "Benin",
            "Burkina Faso",
            "Bulgaria",
            "Bosnia and Herzegovina",
            "Belarus",
            "Belize",
            "Bolivia",
            "Brazil",
            "Barbados",
            "Bhutan",
            "Central African Republic",
            "Switzerland",
            "Chile",
            "China",
            "Cote d'Ivoire",
            "Cameroon",
            "Colombia",
            "Comoros",
            "Costa Rica",
            "Cuba",
            "Curacao",
            "Cayman Islands",
            "Cyprus",
            "Czechia",
            "Germany",
            "Djibouti",
            "Dominica",
            "Denmark",
            "Dominican Republic",
            "Algeria",
            "Ecuador",
            "Eritrea",
            "Spain",
            "Estonia",
            "Ethiopia",
            "Finland",
            "Fiji",
            "France",
            "Gabon",
            "United Kingdom",
            "Georgia",
            "Ghana",
            "Guinea",
            "Guinea-Bissau",
            "Equatorial Guinea",
            "Greece",
            "Grenada",
            "Guatemala",
            "Guam",
            "Honduras",
            "Croatia",
            "Haiti",
            "Hungary",
            "Indonesia",
            "Isle of Man",
            "India",
            "Ireland",
            "Iraq",
            "Israel",
            "Italy",
            "Jamaica",
            "Jordan",
            "Japan",
            "Kazakhstan",
            "Kenya",
            "Cambodia",
            "Kiribati",
            "Kuwait",
            "Lebanon",
            "Liechtenstein",
            "Sri Lanka",
            "Lesotho",
            "Lithuania",
            "Luxembourg",
            "Latvia",
            "Morocco",
            "Moldova",
            "Madagascar",
            "Mexico",
            "Marshall Islands",
            "North Macedonia",
            "Mali",
            "Myanmar",
            "Montenegro",
            "Northern Mariana Islands",
            "Mozambique",
            "Mauritius",
            "Malawi",
            "Malaysia",
            "New Caledonia",
            "Niger",
            "Nigeria",
            "Nicaragua",
            "Netherlands",
            "Norway",
            "Nepal",
            "Nauru",
            "New Zealand",
            "Oman",
            "Pakistan",
            "Panama",
            "Peru",
            "Philippines",
            "Palau",
            "Papua New Guinea",
            "Poland",
            "Portugal",
            "Paraguay",
            "French Polynesia",
            "Qatar",
            "Romania",
            "Rwanda",
            "Saudi Arabia",
            "Sudan",
            "Senegal",
            "Solomon Islands",
            "Sierra Leone",
            "El Salvador",
            "San Marino",
            "Somalia",
            "Serbia",
            "Sao Tome and Principe",
            "Slovenia",
            "Sweden",
            "Eswatini",
            "Seychelles",
            "Turks and Caicos Islands",
            "Chad",
            "Togo",
            "Thailand",
            "Tajikistan",
            "Turkmenistan",
            "Tonga",
            "Trinidad and Tobago",
            "Tunisia",
            "Tuvalu",
            "Tanzania",
            "Uganda",
            "Ukraine",
            "Uruguay",
            "United States",
            "Uzbekistan",
            "British Virgin Islands",
            "Vanuatu",
            "Samoa",
            "South Africa",
            "Zambia",
            "Zimbabwe"
           ],
           "legendgroup": "",
           "marker": {
            "color": {
             "bdata": "AAAAAAAAAAC+OtNEWRDUP8a4ePImd+A/Fanx0k1iYD8AAAAAAAAAAAAAAAAAAAAAcA3L4MKV0z/6fmq8dJNoPwAAAAAAAAAAAAAAAAAAAAAbGui0gU5bP1vW6pjgwdQ/AAAAAAAAAAAoFWcfPsPOP6d/I5TR29I/mrdlrY4Jnj8VqfHSTWJgPzms3DsT3qg/bZDpmgrb1T8C5F5zIWnaPxC+Q5Rhic4/AAAAAAAAAAA/5mlPYpvbP7QPn2FXgOQ/AAAAAAAAAAC+cJ1ExOfNP/p+arx0k3g/LCRNqTj7wD/cN8wJ2L7RPzc0rysGQLw/J4cW2c73wz/6fmq8dJNoP317zYWkKYU//Knx0k1iUD8AAAAAAAAAAAAAAAAAAAAAAAAAAAAAAAAAAAAAAAAAADqB+PRkeNA/K5b8Yskvpj8AAAAAAAAAAEw3iUFg5aA/jBHH/TFq0z/85Yn6N0KJP4HHe4X9EOQ/AAAAAAAAAAC8fb7ufXHDPyrOPnyGXdE/NvZ+DAxy0T/jc+TLpYyxPwAAAAAAAAAAagOdNtBp5z8AAAAAAAAAAAAAAAAAAAAAvzxR/0Yowz+HH6v+3aTWPz0K16NwPdI/5es3m1uQzj8AAAAAAAAAABwTPJgn6tc/mqh/I5TRqz9VVVVVVVXVPxKSplScfbg/PuDsw2fYRT+ZUnH24TPMPwrZ7MNn2DU/bfbhM+wKoD8AAAAAAAAAACoIrBxaZLs/AAAAAAAAAAD8qfHSTWKAPwAAAAAAAAAAAAAAAAAAAAAMIPeaC0mjPwAAAAAAAAAAAAAAAAAAAADFSzeJQWDVP8yFpCkVZ88/7e7u7u7uzj85tMh2vp+6PwAAAAAAAAAAFanx0k1iYD8AAAAAAAAAAOlE/RuhjK4/3SQGgZVD0z8VqfHSTWJgPwAAAAAAAAAACYtV6LT0vj++F0t+seSHPwm3Za2OCW4/3HFYMBhS2j/6fmq8dJNoP05LeZuhcsU/AhvotIFOaz8ab9O6/ivjP2q8dJMYBMY/QvdP/mrwoz//Riijt2XVP1ovoDPrIN8/AhvotIFOaz8jBoGVQ4vUP/yp8dJNYnA/0ufW6bxx0z+PEgAbEQHkP/NvhDJ6W8Y/9GvAjuDTvj8AAAAAAAAAAId2cbBw3NM/A8i95kLSxD8CG+i0gU5rP87d1bjWMNI/jVBGb8ta1T8EZfS2rNWxP0oKz8rKyLY/Np7iS7sW0z9FN4lBYOWwP7s4s7F/m8g/PqHcQDW04j8+4OzDZ9hFPwAAAAAAAAAAKuABtAf70z8vksz6MCCJPwAAAAAAAAAAPYIH80T9iz8ZdgXIvebSP1VVVVVVVdU/GsKK3scl4D/DSzeJQWDFP6PFbYTNx+E/U5x9+Ay70j8t30+Nl26iPwAAAAAAAAAALz2vwZe24T8L4uzDZ9hVP8jobVmrY8I/AAAAAAAAAACdkE1qEo7NP9XO91Pjpcs/AhvotIFOaz/ZfY0mE7/KPzwxRyL+Muo/KBVnHz7Dzj/6fmq8dJNoPwRGb8taHXM/Zeuinibe1D9g5dAi2/nWPwAAAAAAAAAAFanx0k1iYD97UEZvy1qNP+kVKa9hj9Q/aQOdNtBp0z8bGui0gU5bPxLZ3U1w9tA/xwNkUGOVwj8bGui0gU5bP323Za2OCX4/H5WsUeN14D/Afmq8dJOIP+5Q1JnKmsE/aDfVkwgU4T8GCfMH7vzlPw==",
             "dtype": "f8"
            },
            "coloraxis": "coloraxis",
            "size": {
             "bdata": "AAAAAABCgUC7xUYceX1DQOYXiL/6DTBAVP+oC+RNW0A8G/WdjSplQNhTKzn5oVFA/vNsm8v0LEBbz0LHqHVbQNa+Ye0b5mZA5dMyAOgMWUBP8jJfPn1ZQLiAhf+mJHNA3IGJt9G7dUDOc2jnFUZTQMJcwZGKREpAhg9CijotUUCkcD0KF9dTQObRQ6B0qkdAllVHbss9KUCyCJs0PJQhQMamXBT3VDZAsHSSA0ufg0DM6gn6v7YsQG+80TF7GxxA1EbNnqOqZ0CJcIOjKDQ2QPFrBvKhdGFAavVRlzQnUEDUvgOqSJBCQB5/hYMnPUNAo6zFh2FPdEACuglXfChVQAz/UXTsQFpA2+/olbHhc0Dv7u7u7h5pQOn24gBUh1xAlnSPykKQYED9zyZGVH5tQD9tvcCHdUJAe4ZdAXLvVkA2zTtO0f1gQCoEFZN+K2hAPVX5+AE8LEAO9zxr4HBJQBoJj9JwxDpAEERtv1s1VkAeai3wmcU/QAnE6/oFLVRAV/KRaClKMUBRieRr6l1IQNUM51w8DF1AKtHwsj5qF0BiWYFAMHBvQEQD7RiR60tA2oCI9KNQWUDgz0m4EzZDQKXtM7VYKklA593rVjanQUCW/vFCtV9VQNPS0tLSPnRAsKRtLY0vX0ACyTpXHhRzQGf1q02iG1FA08TJVfhGU0BIe9FpsOZ0QL2YI3Wu9ltApYfdwpMkYEC8u7u7u5thQIQI8prCp3hAcMgDz3oET0CA7YB9bltQQJPS3xNOX3RAJUrv8BHSaEB6fPEUsyxvQLRa2uC8NVJAUFsMlZPKdUCMenp+KdwXQLm4xH7eNVBA1QYjRQlRU0Dokz7pk95eQMivayJvlmBAB4JuIOgGfUBmZmZmZl9rQMzyov7ESHRAw0YdukMEUECzeNbUihVKQGa0JHjH8mZAfqHTeiDTQUBq/UZBOzxRQIiWwHxt6VVA5IXqXOD2QEABrkvDJpZLQNiCLdiCDXJAZNRhDwybU0BvXVNyW+4mQB5OSTeDR1JAOdRlqQbdRkDhOQJFW31gQAJ0AMwTbzpAC8wh1gn/gkAqKE+k1H9hQC/Xb7gVGlRAqxoak3sVK0BiN3XeW4cmQNgU0QzZdWRA8PBhAsiDRkDVLuGg90J+QH+DVmpZhSlAtPuj4rU4Z0AzMzMzM1t/QDcA3srayC9Ayt2bhi1AIEDduXPnziJtQKBQG+kts0ZARGlv8OUgNkBBQ7+HqcFyQC+pfBj3S0VAv/TQeuvMLUDzUJiZtCFfQFS8DArav1xAAmg2J3q2K0DGVIt6zvpRQDHWA2248lRAPkbIZrAAV0BEY3/aII93QEO5/OsB9yNAzO9Y+GYgMUDBPDLNn91NQBplO/MtkDFALau2xA57U0Ak7f+aGP5xQBERERERcX9AeCxnCMx+MUCF/8A8gy9VQEREREREkWVAHWc8FFbpWEBrSFe8zko2QL6WXa04hk9AnN70pjf9ZkCGRS3E/HE6QPWJUwGM/iBAVMQYm6ygW0AVM1QThUlgQAJIEdV5NklAZ2ms7+TnJUAGW7AFW3JiQATCSDtWoG9AjWHqtSqmUEAzMzMzM/N0QPlmGySzvkZAn9dM3GsDYkAi3lX/z2ZUQJaimQeHyzJAOR5RcvlJQEAAvYoCkGFPQPnFkl8saWRAPQ7DZI+2MUB/9xhaApVQQGsJp/2Zm0RAk/9iywhRMECkEQ7aHVVAQA==",
             "dtype": "f8"
            },
            "sizemode": "area",
            "sizeref": 0.40873110465116275,
            "symbol": "circle"
           },
           "mode": "markers",
           "name": "",
           "orientation": "v",
           "showlegend": false,
           "type": "scatter",
           "x": {
            "bdata": "AAAAAABCgUC7xUYceX1DQOYXiL/6DTBAVP+oC+RNW0A8G/WdjSplQNhTKzn5oVFA/vNsm8v0LEBbz0LHqHVbQNa+Ye0b5mZA5dMyAOgMWUBP8jJfPn1ZQLiAhf+mJHNA3IGJt9G7dUDOc2jnFUZTQMJcwZGKREpAhg9CijotUUCkcD0KF9dTQObRQ6B0qkdAllVHbss9KUCyCJs0PJQhQMamXBT3VDZAsHSSA0ufg0DM6gn6v7YsQG+80TF7GxxA1EbNnqOqZ0CJcIOjKDQ2QPFrBvKhdGFAavVRlzQnUEDUvgOqSJBCQB5/hYMnPUNAo6zFh2FPdEACuglXfChVQAz/UXTsQFpA2+/olbHhc0Dv7u7u7h5pQOn24gBUh1xAlnSPykKQYED9zyZGVH5tQD9tvcCHdUJAe4ZdAXLvVkA2zTtO0f1gQCoEFZN+K2hAPVX5+AE8LEAO9zxr4HBJQBoJj9JwxDpAEERtv1s1VkAeai3wmcU/QAnE6/oFLVRAV/KRaClKMUBRieRr6l1IQNUM51w8DF1AKtHwsj5qF0BiWYFAMHBvQEQD7RiR60tA2oCI9KNQWUDgz0m4EzZDQKXtM7VYKklA593rVjanQUCW/vFCtV9VQNPS0tLSPnRAsKRtLY0vX0ACyTpXHhRzQGf1q02iG1FA08TJVfhGU0BIe9FpsOZ0QL2YI3Wu9ltApYfdwpMkYEC8u7u7u5thQIQI8prCp3hAcMgDz3oET0CA7YB9bltQQJPS3xNOX3RAJUrv8BHSaEB6fPEUsyxvQLRa2uC8NVJAUFsMlZPKdUCMenp+KdwXQLm4xH7eNVBA1QYjRQlRU0Dokz7pk95eQMivayJvlmBAB4JuIOgGfUBmZmZmZl9rQMzyov7ESHRAw0YdukMEUECzeNbUihVKQGa0JHjH8mZAfqHTeiDTQUBq/UZBOzxRQIiWwHxt6VVA5IXqXOD2QEABrkvDJpZLQNiCLdiCDXJAZNRhDwybU0BvXVNyW+4mQB5OSTeDR1JAOdRlqQbdRkDhOQJFW31gQAJ0AMwTbzpAC8wh1gn/gkAqKE+k1H9hQC/Xb7gVGlRAqxoak3sVK0BiN3XeW4cmQNgU0QzZdWRA8PBhAsiDRkDVLuGg90J+QH+DVmpZhSlAtPuj4rU4Z0AzMzMzM1t/QDcA3srayC9Ayt2bhi1AIEDduXPnziJtQKBQG+kts0ZARGlv8OUgNkBBQ7+HqcFyQC+pfBj3S0VAv/TQeuvMLUDzUJiZtCFfQFS8DArav1xAAmg2J3q2K0DGVIt6zvpRQDHWA2248lRAPkbIZrAAV0BEY3/aII93QEO5/OsB9yNAzO9Y+GYgMUDBPDLNn91NQBplO/MtkDFALau2xA57U0Ak7f+aGP5xQBERERERcX9AeCxnCMx+MUCF/8A8gy9VQEREREREkWVAHWc8FFbpWEBrSFe8zko2QL6WXa04hk9AnN70pjf9ZkCGRS3E/HE6QPWJUwGM/iBAVMQYm6ygW0AVM1QThUlgQAJIEdV5NklAZ2ms7+TnJUAGW7AFW3JiQATCSDtWoG9AjWHqtSqmUEAzMzMzM/N0QPlmGySzvkZAn9dM3GsDYkAi3lX/z2ZUQJaimQeHyzJAOR5RcvlJQEAAvYoCkGFPQPnFkl8saWRAPQ7DZI+2MUB/9xhaApVQQGsJp/2Zm0RAk/9iywhRMECkEQ7aHVVAQA==",
            "dtype": "f8"
           },
           "xaxis": "x",
           "y": {
            "bdata": "AAAAAAAAAAC+OtNEWRDUP8a4ePImd+A/Fanx0k1iYD8AAAAAAAAAAAAAAAAAAAAAcA3L4MKV0z/6fmq8dJNoPwAAAAAAAAAAAAAAAAAAAAAbGui0gU5bP1vW6pjgwdQ/AAAAAAAAAAAoFWcfPsPOP6d/I5TR29I/mrdlrY4Jnj8VqfHSTWJgPzms3DsT3qg/bZDpmgrb1T8C5F5zIWnaPxC+Q5Rhic4/AAAAAAAAAAA/5mlPYpvbP7QPn2FXgOQ/AAAAAAAAAAC+cJ1ExOfNP/p+arx0k3g/LCRNqTj7wD/cN8wJ2L7RPzc0rysGQLw/J4cW2c73wz/6fmq8dJNoP317zYWkKYU//Knx0k1iUD8AAAAAAAAAAAAAAAAAAAAAAAAAAAAAAAAAAAAAAAAAADqB+PRkeNA/K5b8Yskvpj8AAAAAAAAAAEw3iUFg5aA/jBHH/TFq0z/85Yn6N0KJP4HHe4X9EOQ/AAAAAAAAAAC8fb7ufXHDPyrOPnyGXdE/NvZ+DAxy0T/jc+TLpYyxPwAAAAAAAAAAagOdNtBp5z8AAAAAAAAAAAAAAAAAAAAAvzxR/0Yowz+HH6v+3aTWPz0K16NwPdI/5es3m1uQzj8AAAAAAAAAABwTPJgn6tc/mqh/I5TRqz9VVVVVVVXVPxKSplScfbg/PuDsw2fYRT+ZUnH24TPMPwrZ7MNn2DU/bfbhM+wKoD8AAAAAAAAAACoIrBxaZLs/AAAAAAAAAAD8qfHSTWKAPwAAAAAAAAAAAAAAAAAAAAAMIPeaC0mjPwAAAAAAAAAAAAAAAAAAAADFSzeJQWDVP8yFpCkVZ88/7e7u7u7uzj85tMh2vp+6PwAAAAAAAAAAFanx0k1iYD8AAAAAAAAAAOlE/RuhjK4/3SQGgZVD0z8VqfHSTWJgPwAAAAAAAAAACYtV6LT0vj++F0t+seSHPwm3Za2OCW4/3HFYMBhS2j/6fmq8dJNoP05LeZuhcsU/AhvotIFOaz8ab9O6/ivjP2q8dJMYBMY/QvdP/mrwoz//Riijt2XVP1ovoDPrIN8/AhvotIFOaz8jBoGVQ4vUP/yp8dJNYnA/0ufW6bxx0z+PEgAbEQHkP/NvhDJ6W8Y/9GvAjuDTvj8AAAAAAAAAAId2cbBw3NM/A8i95kLSxD8CG+i0gU5rP87d1bjWMNI/jVBGb8ta1T8EZfS2rNWxP0oKz8rKyLY/Np7iS7sW0z9FN4lBYOWwP7s4s7F/m8g/PqHcQDW04j8+4OzDZ9hFPwAAAAAAAAAAKuABtAf70z8vksz6MCCJPwAAAAAAAAAAPYIH80T9iz8ZdgXIvebSP1VVVVVVVdU/GsKK3scl4D/DSzeJQWDFP6PFbYTNx+E/U5x9+Ay70j8t30+Nl26iPwAAAAAAAAAALz2vwZe24T8L4uzDZ9hVP8jobVmrY8I/AAAAAAAAAACdkE1qEo7NP9XO91Pjpcs/AhvotIFOaz/ZfY0mE7/KPzwxRyL+Muo/KBVnHz7Dzj/6fmq8dJNoPwRGb8taHXM/Zeuinibe1D9g5dAi2/nWPwAAAAAAAAAAFanx0k1iYD97UEZvy1qNP+kVKa9hj9Q/aQOdNtBp0z8bGui0gU5bPxLZ3U1w9tA/xwNkUGOVwj8bGui0gU5bP323Za2OCX4/H5WsUeN14D/Afmq8dJOIP+5Q1JnKmsE/aDfVkwgU4T8GCfMH7vzlPw==",
            "dtype": "f8"
           },
           "yaxis": "y"
          }
         ],
         "name": "2006"
        },
        {
         "data": [
          {
           "hovertemplate": "<b>%{hovertext}</b><br><br>Year=2007<br>Population Density (per km²)=%{marker.size}<br>Multidimensional Poverty Index (MPI)=%{marker.color}<extra></extra>",
           "hovertext": [
            "Aruba",
            "Afghanistan",
            "Angola",
            "Albania",
            "Andorra",
            "United Arab Emirates",
            "Argentina",
            "Armenia",
            "Antigua and Barbuda",
            "Austria",
            "Azerbaijan",
            "Burundi",
            "Belgium",
            "Benin",
            "Burkina Faso",
            "Bulgaria",
            "Bosnia and Herzegovina",
            "Belarus",
            "Belize",
            "Bolivia",
            "Brazil",
            "Barbados",
            "Bhutan",
            "Central African Republic",
            "Switzerland",
            "Chile",
            "China",
            "Cote d'Ivoire",
            "Cameroon",
            "Colombia",
            "Comoros",
            "Costa Rica",
            "Cuba",
            "Curacao",
            "Cayman Islands",
            "Cyprus",
            "Czechia",
            "Germany",
            "Djibouti",
            "Dominica",
            "Denmark",
            "Dominican Republic",
            "Algeria",
            "Ecuador",
            "Eritrea",
            "Spain",
            "Estonia",
            "Ethiopia",
            "Finland",
            "Fiji",
            "France",
            "Gabon",
            "United Kingdom",
            "Georgia",
            "Ghana",
            "Guinea",
            "Guinea-Bissau",
            "Equatorial Guinea",
            "Greece",
            "Grenada",
            "Guatemala",
            "Guam",
            "Honduras",
            "Croatia",
            "Haiti",
            "Hungary",
            "Indonesia",
            "Isle of Man",
            "India",
            "Ireland",
            "Iraq",
            "Israel",
            "Italy",
            "Jamaica",
            "Jordan",
            "Japan",
            "Kazakhstan",
            "Kenya",
            "Cambodia",
            "Kiribati",
            "Kuwait",
            "Lebanon",
            "Liberia",
            "Liechtenstein",
            "Sri Lanka",
            "Lesotho",
            "Lithuania",
            "Luxembourg",
            "Latvia",
            "Morocco",
            "Moldova",
            "Madagascar",
            "Mexico",
            "Marshall Islands",
            "North Macedonia",
            "Mali",
            "Myanmar",
            "Montenegro",
            "Northern Mariana Islands",
            "Mozambique",
            "Mauritius",
            "Malawi",
            "Malaysia",
            "New Caledonia",
            "Niger",
            "Nigeria",
            "Nicaragua",
            "Netherlands",
            "Norway",
            "Nepal",
            "Nauru",
            "New Zealand",
            "Oman",
            "Pakistan",
            "Panama",
            "Peru",
            "Philippines",
            "Palau",
            "Papua New Guinea",
            "Poland",
            "Portugal",
            "Paraguay",
            "French Polynesia",
            "Qatar",
            "Romania",
            "Rwanda",
            "Saudi Arabia",
            "Sudan",
            "Senegal",
            "Solomon Islands",
            "Sierra Leone",
            "El Salvador",
            "San Marino",
            "Somalia",
            "Serbia",
            "South Sudan",
            "Sao Tome and Principe",
            "Slovenia",
            "Sweden",
            "Eswatini",
            "Seychelles",
            "Turks and Caicos Islands",
            "Chad",
            "Togo",
            "Thailand",
            "Tajikistan",
            "Turkmenistan",
            "Tonga",
            "Trinidad and Tobago",
            "Tunisia",
            "Tuvalu",
            "Tanzania",
            "Uganda",
            "Ukraine",
            "Uruguay",
            "United States",
            "Uzbekistan",
            "British Virgin Islands",
            "Vanuatu",
            "Samoa",
            "South Africa",
            "Zambia",
            "Zimbabwe"
           ],
           "legendgroup": "",
           "marker": {
            "color": {
             "bdata": "AAAAAAAAAABILFTiDp/SP2WIGGVrHN8/Fanx0k1iYD8AAAAAAAAAAAAAAAAAAAAAHOOUTCZ30z8L4uzDZ9hlPwAAAAAAAAAAAAAAAAAAAAAbGui0gU5bP+01F5KmVNQ/AAAAAAAAAAC4HoXrUbjOP8WSXyz5xdI/2zUXkqZUnD/8qfHSTWJQP8MUphJM8Kg/rS1aopXm1j8oo7dlrY7ZP2KExxa4FM4/AAAAAAAAAADVr2Cbpe/YPwoezBP1b+Q/AAAAAAAAAAAMyCj4C0XOP3sUrkfhenQ/30+Nl24Swz9oJpVBRFrRP/Rfx/iR8ro/yh/EOZzUxT8L4uzDZ9hlPz+tjgkezIM//Knx0k1iUD8AAAAAAAAAAAAAAAAAAAAAAAAAAAAAAAAAAAAAAAAAAOKNSfMOWs8/ujomeDBPpD++Zhxbb1lXP317zYWkKYU/B1C/JMFJ0z9/4uzDZ9iFP85qoIxcr9k/AAAAAAAAAAAmq/Df+pjDP2YfPsOuANE/W6jdnvtn0T+vFMCSnvjPPwAAAAAAAAAAuNdcSJpS2T8AAAAAAAAAAAAAAAAAAAAAyOhtWatjwj8enYPNAuPVP9nO91PjpdM/n/nZb3XTzD8AAAAAAAAAAOtgnqh/I6Q/3Ja1OiZ4sD/+Oy7sYRagP5s20GkDnbY/PuDsw2fYRT+F61G4HoXLPwyUZril/bI/G2t1TPBgnj8AAAAAAAAAADpR/0Yoo7c/AAAAAAAAAAD+TKk4+/B5PwAAAAAAAAAAAAAAAAAAAACsK0DuNReiP/yp8dJNYnA/AAAAAAAAAABVVVVVVVXVP2Q730+Nl84/oBov3SQG0T/y4TPsCpC7PwAAAAAAAAAAfbdlrY4Jfj92gUmySgvbPwAAAAAAAAAADBERERERsT+R7Xw/NV7SPxWp8dJNYmA/AAAAAAAAAAD8qTNeHn2/PylrdUzwYK4/AhvotIFOaz/Jk5tF5KHZPwbpJjEIrHw/OlH/Riijtz/6fmq8dJNoP8K+gmSRhuI/iyW/WPKLxT9bwvrSY6ujP1VVVVVVVdU/6p3Ewsfq3j8CG+i0gU5rP/O2rNUxwdM/CbdlrY4Jbj/sa5pfAFrTP+Rbh4NZsOM/415zIWlKxT/68wKFD+28PwAAAAAAAAAAuMj8tVHK0z/PTWIQWDnEP8VLN4lBYNU/tMhFM4Mc0j9VVVVVVVXVP0U3iUFg5bA/n3iwE/lktD+44Yqebp7SP7gehetRuK4/zDsgYvaDsj8Sgu3Tb0/iPz7g7MNn2EU/AAAAAAAAAABFZgxPUPPTPwAAAAAAAAAAAAAAAAAAAAA5tMh2vp+KP/+411xImtI/EbBsvPwd1T8BmZT/YgHgP7ufGi/dJMY/5tMXYOHb4T+PwvUoXI/SPxtrdUzwYJ4/AAAAAAAAAABGgv1cSgjhPwvi7MNn2FU/zEFycexf5D/sUbgehevBPwAAAAAAAAAAMqioj8NgzT99hl0Bcq/JPzm0yHa+n4o/C9KCK7FJyT++WPKLJb/kP4SeuYGeZt4/3WCeqH8jlD8ERm/LWh1zP3rqNofozNQ/XI/C9Shc1z8AAAAAAAAAABWp8dJNYmA/gUkMAiuHhj+GcU6p9ajTP5MYBFYOLdI/PuDsw2fYRT80V7BcHOfQP87UfgVhQMI/GxrotIFOWz8G6SYxCKx8P++a9J6aJt8/5yZTYFwFtT86cvOxbJXAP1SaiYv0hOE/BjHd+Vnf5T8=",
             "dtype": "f8"
            },
            "coloraxis": "coloraxis",
            "size": {
             "bdata": "chzHcRxjgUDNzu+QzdxDQEIAcqK2qjBAe4ieF0QZW0AuAnqwmsZlQDfZJW2qzFNAjraoBKE+LUCWBJPDX0lbQNa+Ye0bNmdAxN9YKbohWUCn7pbJpsdZQAw+v51H3XNAjKaykNPkdUCVVeh4EdpTQLN6hQmbE0tAxftl5AMNUUDhehSux5hTQAuefl24jkdAiXieHFn2KUBkw7fj3+EhQKXpzcYijzZAf3N59je3g0AoL0sirwwtQIadxb+CpxxAOeGZ/gbhZ0BBkSaUEWw2QNY/LDUIjGFAEuZ+rJCIUEBau0b4iBdDQE8Sfpbye0NAtDv2Ggy4dEDMVviVUnJVQKlpiwEfRlpAcxKICzVHdEDv7u7u7uBpQAUl870NBl1A2LoOsxOpYEAggEVgPXRtQA1I6yYl3UJAbef7qfHyVkBSSZ2AJhFhQL6WI0ZSd2hA8GrWJqm1LEDEjNyXEOFJQBDwcf0dKTtA6gSCPpSfVkCKXw7OlKA/QArZeRubxlRAUmQgNghdMUB8F2bLOpJIQARZbtVZOl1ApkSZZpooGECeIA8EGq9vQGw+KPpgxktAtgfWddj5WUBi5DXaQalDQM1+6c7FzElAeOc/O8J3QkDZB6RYqm1VQAkJCQkJUXRA9XJblYPZX0DNzMzMzCBzQG047cdtgVFALqMHSuRFU0Dc9i5orkF1QCPkPqWZ61tAH2y7aoZbYEC6JU79nsthQC1iVbuIB3lANemm3mLtT0DXo/1fhTpQQLzPHfXCvHRAXNwWjNj4aEDNueptnVJvQJw3NlDAV1NAmmd8jv3QdUAZBexTYhYYQCtSB4cztVBA6ivnG4uaU0BghTnRoYBfQNnAfDOAl2FAiFSFSFWYfUAGfUFf0AtDQGZmZmZmjGtAe8DrD4ZsdEDGR8idjxVQQKK165avxklAnwzXdDZOZ0C4puEKCa5BQJsEKH3Hd1FAAQlK1XHcVUByJb7+OXhBQMjyrjBI+ktAVVVVVVURckDxAkrseH5TQPLZaJiUsidAa+CklMxoUkBr0HmAHeVGQLlfl1Q+BGBA8y5z4wYSO0Dd0wjLPRWDQBDnm/8BAGJAUbNs3SiLVEBG63yZfm4rQN6lLBaeXydAq/GFtg8JZUDv076uKNdGQK8zdUPWU35ASQ+MlU3JKUC1QRypoGpnQAAAAAAAUH9ArSfd/4kKMEBx3ANPypsgQMQSgaN/6m1AIQrJBbweR0D7y+7JI0o2QGjjdBquFXNATCofxv36RECKXtIrtMAuQGDjDPJgHV9AR088SVDOXEBDTV6kX/wrQJFeWm8GM1JAiRDN7l0GWkCCvD7gVqpWQKcPUtK2MXhAv2toPYzPJEDLhIjqKIoxQOs/PIBLkU5AOUkXFX3eMUAaMwZnyulTQPB7EfjaA3JAd3d3d3dBgEBkqQFCbgwyQPn2iiuRGVVA4qHporuMKkCrqqqqqhhmQKHU/kQZDVlAUeJRqUh1NkD+zeXZ37RPQHaOQNFWG2dAcer33BKnO0DCTTgUBpchQNTkZEa+cVxA0yK3+QJrYEDQ1fT8r7NJQAPJEIqDUSZAtmALtmCHYkAReKlGDMFvQBW6wQpszVBAZmZmZmY2dUDjLWU2hWNHQK3H23YPjWJAJW0Zd/ZOVEACSIeKydMyQD6MbIXScUBA4Ng4IP3ST0ACnTbQaSNlQAwg6z76JjJALDkcfJ6sUEAOfC+mjtNEQN2WVY4E5zBApAZ3dJOMQEA=",
             "dtype": "f8"
            },
            "sizemode": "area",
            "sizeref": 0.40873110465116275,
            "symbol": "circle"
           },
           "mode": "markers",
           "name": "",
           "orientation": "v",
           "showlegend": false,
           "type": "scatter",
           "x": {
            "bdata": "chzHcRxjgUDNzu+QzdxDQEIAcqK2qjBAe4ieF0QZW0AuAnqwmsZlQDfZJW2qzFNAjraoBKE+LUCWBJPDX0lbQNa+Ye0bNmdAxN9YKbohWUCn7pbJpsdZQAw+v51H3XNAjKaykNPkdUCVVeh4EdpTQLN6hQmbE0tAxftl5AMNUUDhehSux5hTQAuefl24jkdAiXieHFn2KUBkw7fj3+EhQKXpzcYijzZAf3N59je3g0AoL0sirwwtQIadxb+CpxxAOeGZ/gbhZ0BBkSaUEWw2QNY/LDUIjGFAEuZ+rJCIUEBau0b4iBdDQE8Sfpbye0NAtDv2Ggy4dEDMVviVUnJVQKlpiwEfRlpAcxKICzVHdEDv7u7u7uBpQAUl870NBl1A2LoOsxOpYEAggEVgPXRtQA1I6yYl3UJAbef7qfHyVkBSSZ2AJhFhQL6WI0ZSd2hA8GrWJqm1LEDEjNyXEOFJQBDwcf0dKTtA6gSCPpSfVkCKXw7OlKA/QArZeRubxlRAUmQgNghdMUB8F2bLOpJIQARZbtVZOl1ApkSZZpooGECeIA8EGq9vQGw+KPpgxktAtgfWddj5WUBi5DXaQalDQM1+6c7FzElAeOc/O8J3QkDZB6RYqm1VQAkJCQkJUXRA9XJblYPZX0DNzMzMzCBzQG047cdtgVFALqMHSuRFU0Dc9i5orkF1QCPkPqWZ61tAH2y7aoZbYEC6JU79nsthQC1iVbuIB3lANemm3mLtT0DXo/1fhTpQQLzPHfXCvHRAXNwWjNj4aEDNueptnVJvQJw3NlDAV1NAmmd8jv3QdUAZBexTYhYYQCtSB4cztVBA6ivnG4uaU0BghTnRoYBfQNnAfDOAl2FAiFSFSFWYfUAGfUFf0AtDQGZmZmZmjGtAe8DrD4ZsdEDGR8idjxVQQKK165avxklAnwzXdDZOZ0C4puEKCa5BQJsEKH3Hd1FAAQlK1XHcVUByJb7+OXhBQMjyrjBI+ktAVVVVVVURckDxAkrseH5TQPLZaJiUsidAa+CklMxoUkBr0HmAHeVGQLlfl1Q+BGBA8y5z4wYSO0Dd0wjLPRWDQBDnm/8BAGJAUbNs3SiLVEBG63yZfm4rQN6lLBaeXydAq/GFtg8JZUDv076uKNdGQK8zdUPWU35ASQ+MlU3JKUC1QRypoGpnQAAAAAAAUH9ArSfd/4kKMEBx3ANPypsgQMQSgaN/6m1AIQrJBbweR0D7y+7JI0o2QGjjdBquFXNATCofxv36RECKXtIrtMAuQGDjDPJgHV9AR088SVDOXEBDTV6kX/wrQJFeWm8GM1JAiRDN7l0GWkCCvD7gVqpWQKcPUtK2MXhAv2toPYzPJEDLhIjqKIoxQOs/PIBLkU5AOUkXFX3eMUAaMwZnyulTQPB7EfjaA3JAd3d3d3dBgEBkqQFCbgwyQPn2iiuRGVVA4qHporuMKkCrqqqqqhhmQKHU/kQZDVlAUeJRqUh1NkD+zeXZ37RPQHaOQNFWG2dAcer33BKnO0DCTTgUBpchQNTkZEa+cVxA0yK3+QJrYEDQ1fT8r7NJQAPJEIqDUSZAtmALtmCHYkAReKlGDMFvQBW6wQpszVBAZmZmZmY2dUDjLWU2hWNHQK3H23YPjWJAJW0Zd/ZOVEACSIeKydMyQD6MbIXScUBA4Ng4IP3ST0ACnTbQaSNlQAwg6z76JjJALDkcfJ6sUEAOfC+mjtNEQN2WVY4E5zBApAZ3dJOMQEA=",
            "dtype": "f8"
           },
           "xaxis": "x",
           "y": {
            "bdata": "AAAAAAAAAABILFTiDp/SP2WIGGVrHN8/Fanx0k1iYD8AAAAAAAAAAAAAAAAAAAAAHOOUTCZ30z8L4uzDZ9hlPwAAAAAAAAAAAAAAAAAAAAAbGui0gU5bP+01F5KmVNQ/AAAAAAAAAAC4HoXrUbjOP8WSXyz5xdI/2zUXkqZUnD/8qfHSTWJQP8MUphJM8Kg/rS1aopXm1j8oo7dlrY7ZP2KExxa4FM4/AAAAAAAAAADVr2Cbpe/YPwoezBP1b+Q/AAAAAAAAAAAMyCj4C0XOP3sUrkfhenQ/30+Nl24Swz9oJpVBRFrRP/Rfx/iR8ro/yh/EOZzUxT8L4uzDZ9hlPz+tjgkezIM//Knx0k1iUD8AAAAAAAAAAAAAAAAAAAAAAAAAAAAAAAAAAAAAAAAAAOKNSfMOWs8/ujomeDBPpD++Zhxbb1lXP317zYWkKYU/B1C/JMFJ0z9/4uzDZ9iFP85qoIxcr9k/AAAAAAAAAAAmq/Df+pjDP2YfPsOuANE/W6jdnvtn0T+vFMCSnvjPPwAAAAAAAAAAuNdcSJpS2T8AAAAAAAAAAAAAAAAAAAAAyOhtWatjwj8enYPNAuPVP9nO91PjpdM/n/nZb3XTzD8AAAAAAAAAAOtgnqh/I6Q/3Ja1OiZ4sD/+Oy7sYRagP5s20GkDnbY/PuDsw2fYRT+F61G4HoXLPwyUZril/bI/G2t1TPBgnj8AAAAAAAAAADpR/0Yoo7c/AAAAAAAAAAD+TKk4+/B5PwAAAAAAAAAAAAAAAAAAAACsK0DuNReiP/yp8dJNYnA/AAAAAAAAAABVVVVVVVXVP2Q730+Nl84/oBov3SQG0T/y4TPsCpC7PwAAAAAAAAAAfbdlrY4Jfj92gUmySgvbPwAAAAAAAAAADBERERERsT+R7Xw/NV7SPxWp8dJNYmA/AAAAAAAAAAD8qTNeHn2/PylrdUzwYK4/AhvotIFOaz/Jk5tF5KHZPwbpJjEIrHw/OlH/Riijtz/6fmq8dJNoP8K+gmSRhuI/iyW/WPKLxT9bwvrSY6ujP1VVVVVVVdU/6p3Ewsfq3j8CG+i0gU5rP/O2rNUxwdM/CbdlrY4Jbj/sa5pfAFrTP+Rbh4NZsOM/415zIWlKxT/68wKFD+28PwAAAAAAAAAAuMj8tVHK0z/PTWIQWDnEP8VLN4lBYNU/tMhFM4Mc0j9VVVVVVVXVP0U3iUFg5bA/n3iwE/lktD+44Yqebp7SP7gehetRuK4/zDsgYvaDsj8Sgu3Tb0/iPz7g7MNn2EU/AAAAAAAAAABFZgxPUPPTPwAAAAAAAAAAAAAAAAAAAAA5tMh2vp+KP/+411xImtI/EbBsvPwd1T8BmZT/YgHgP7ufGi/dJMY/5tMXYOHb4T+PwvUoXI/SPxtrdUzwYJ4/AAAAAAAAAABGgv1cSgjhPwvi7MNn2FU/zEFycexf5D/sUbgehevBPwAAAAAAAAAAMqioj8NgzT99hl0Bcq/JPzm0yHa+n4o/C9KCK7FJyT++WPKLJb/kP4SeuYGeZt4/3WCeqH8jlD8ERm/LWh1zP3rqNofozNQ/XI/C9Shc1z8AAAAAAAAAABWp8dJNYmA/gUkMAiuHhj+GcU6p9ajTP5MYBFYOLdI/PuDsw2fYRT80V7BcHOfQP87UfgVhQMI/GxrotIFOWz8G6SYxCKx8P++a9J6aJt8/5yZTYFwFtT86cvOxbJXAP1SaiYv0hOE/BjHd+Vnf5T8=",
            "dtype": "f8"
           },
           "yaxis": "y"
          }
         ],
         "name": "2007"
        },
        {
         "data": [
          {
           "hovertemplate": "<b>%{hovertext}</b><br><br>Year=2008<br>Population Density (per km²)=%{marker.size}<br>Multidimensional Poverty Index (MPI)=%{marker.color}<extra></extra>",
           "hovertext": [
            "Aruba",
            "Afghanistan",
            "Angola",
            "Albania",
            "Andorra",
            "United Arab Emirates",
            "Argentina",
            "Armenia",
            "Antigua and Barbuda",
            "Austria",
            "Azerbaijan",
            "Burundi",
            "Belgium",
            "Benin",
            "Burkina Faso",
            "Bulgaria",
            "Bosnia and Herzegovina",
            "Belarus",
            "Belize",
            "Bolivia",
            "Brazil",
            "Barbados",
            "Bhutan",
            "Central African Republic",
            "Switzerland",
            "Chile",
            "China",
            "Cote d'Ivoire",
            "Cameroon",
            "Colombia",
            "Comoros",
            "Costa Rica",
            "Cuba",
            "Curacao",
            "Cayman Islands",
            "Cyprus",
            "Czechia",
            "Germany",
            "Djibouti",
            "Dominica",
            "Denmark",
            "Dominican Republic",
            "Algeria",
            "Ecuador",
            "Eritrea",
            "Spain",
            "Estonia",
            "Ethiopia",
            "Finland",
            "Fiji",
            "France",
            "Gabon",
            "United Kingdom",
            "Georgia",
            "Ghana",
            "Guinea",
            "Guinea-Bissau",
            "Equatorial Guinea",
            "Greece",
            "Grenada",
            "Guatemala",
            "Guam",
            "Honduras",
            "Croatia",
            "Haiti",
            "Hungary",
            "Indonesia",
            "Isle of Man",
            "India",
            "Ireland",
            "Iraq",
            "Israel",
            "Italy",
            "Jamaica",
            "Jordan",
            "Japan",
            "Kazakhstan",
            "Kenya",
            "Cambodia",
            "Kiribati",
            "Kuwait",
            "Lebanon",
            "Liberia",
            "Liechtenstein",
            "Sri Lanka",
            "Lesotho",
            "Lithuania",
            "Luxembourg",
            "Latvia",
            "Morocco",
            "Moldova",
            "Madagascar",
            "Mexico",
            "Marshall Islands",
            "North Macedonia",
            "Mali",
            "Myanmar",
            "Montenegro",
            "Northern Mariana Islands",
            "Mozambique",
            "Mauritius",
            "Malawi",
            "Malaysia",
            "New Caledonia",
            "Niger",
            "Nigeria",
            "Nicaragua",
            "Netherlands",
            "Norway",
            "Nepal",
            "Nauru",
            "New Zealand",
            "Oman",
            "Pakistan",
            "Panama",
            "Peru",
            "Philippines",
            "Palau",
            "Papua New Guinea",
            "Poland",
            "Portugal",
            "Paraguay",
            "French Polynesia",
            "Qatar",
            "Romania",
            "Rwanda",
            "Saudi Arabia",
            "Sudan",
            "Senegal",
            "Solomon Islands",
            "Sierra Leone",
            "El Salvador",
            "San Marino",
            "Somalia",
            "Serbia",
            "South Sudan",
            "Sao Tome and Principe",
            "Slovenia",
            "Sweden",
            "Eswatini",
            "Seychelles",
            "Turks and Caicos Islands",
            "Chad",
            "Togo",
            "Thailand",
            "Tajikistan",
            "Turkmenistan",
            "Tonga",
            "Trinidad and Tobago",
            "Tunisia",
            "Tuvalu",
            "Tanzania",
            "Uganda",
            "Ukraine",
            "Uruguay",
            "United States",
            "Uzbekistan",
            "British Virgin Islands",
            "Vanuatu",
            "Samoa",
            "South Africa",
            "Zambia",
            "Zimbabwe"
           ],
           "legendgroup": "",
           "marker": {
            "color": {
             "bdata": "AAAAAAAAAAAMD1SAtEzRP7G3qOkujt4/AAAAAAAAAABVVVVVVVXVPwAAAAAAAAAA5v6v8XBS0z8L4uzDZ9hlPyb0Xk3F17w/AAAAAAAAAAD8qfHSTWJQP7U6JngwT9Q/YvFRIQd3rz9JfrHkF0vOP6mqqqqqqtI/nAC511xImj8ERm/LWh1jPyxMHMGam6g/9W6AfFDL5D8yelvW6pjYP39SJ0u7rc0/XJa+9h3apD+uaeQqfr7ZP4iIiIiIiOQ/AAAAAAAAAAA3b6lduPHNP/yp8dJNYnA/vC1rdUzwwD/BCAMKzT/QP0n+YdknQrk/zD58hl0Bwj8ERm/LWh1jPzvfT42XboI//Knx0k1iUD+hCIyeJU7DPwAAAAAAAAAAAAAAAAAAAACS3/MdZGOEP4DAndC9bc4/OdKUirMPnz82+FoLyifEP/yp8dJNYoA/43ZlLgMF0z89Rm/LWh2DP1pNw9rlMuc/n+ZSBMp9mj+OwKzkYi3fP6RwPQrXo9A/rlal9lnl0j+JM3KGMumpP5W+YzB0obE/QKcNdNpA5z8c6BJpu8LBPwAAAAAAAAAA2ECnDXTawD8YJG3LjRjVP78RyuhtWdM/Ix7AZobwyj/pxNbDQ8+6P6D691UIDaQ/efgMuwLkrj8AAAAAAAAAAOtgnqh/I7Q/AAAAAAAAAADdJAaBlUPLP6ILJYQU5Uc/ezJ6W9bqmD8AAAAAAAAAAEupOPvwGbY/VVVVVVVV1T8G6SYxCKx8PwAAAAAAAAAASk12xAXGzD/x9aE2JS7NPwAAAAAAAAAAvMOsnGOizz9VVVVVVVXVPxhYTM0iVNQ/zIWkKRVnzz8Pn2FXgNzbPwAAAAAAAAAACtnsw2fYNT/U5XjSvZDaPwAAAAAAAAAAuna+nxovrT/qUbgehevRPxWp8dJNYmA/FgY/hMt9wj/mrpySFWfdP4lBYOXQIqs/+n5qvHSTaD8idZp0GejYP4WS9geMZ4Q/KKO3Za2O2T8L4uzDZ9hlP0BiMqAfPeI/q44JHswTxT8zImT9i1KjP1VVVVVVVdU/ewUtKftM3j8CG+i0gU5rPxHK6G1Zq9M/AhvotIFOaz+e8Xb52ELTP2rn8nLggeM//3GvuZA0xT+LjkLW4AG7PwAAAAAAAAAAlXCI92Bj1z/Ekl8s+cXCP/p+arx0k2g/c1q5QeAw4D9VVVVVVVXVP0o5tMh2vq8/a62rhTnmsT9UsR7k4vbRP6oPn2FXgKw/Xv5mEtRH2j8siBVxd7/mPz7g7MNn2EU/BagN7hZdsz9gBWjoxNXTP4kaT3t/QLw/AAAAAAAAAAC+F0t+seSHPw102kCnDdQ/eTpEPJXj1D+QpPdAERHhP6c4+/AZdsU/WE4r0cIn4D+Nl24Sg8DSP5sehetRuJ4/kdW8ycBYxT/yiSRigpngPwvi7MNn2FU/knL57fAj5D8MuwLkXnPBPwAAAAAAAAAAWskFDFdF3D8HM0GX6QbLPxSuR+F6FNY/SOmXjFvcxz9OYhBYObTkP+WJ+jdCGc0/HXgwT9S/kT8ERm/LWh1zP38z85iRr9Q/mrdlrY4Jnj8AAAAAAAAAABWp8dJNYmA//kypOPvwiT83smjzR+rTPyRNqTj78NE/PuDsw2fYRT+McLaGK9zQPyt9Osxbhs4/GxrotIFOWz/+TKk4+/B5P7umh2NHSd4//kypOPvweT/7EyJrbxzAP2ICnDpzluA/LkL8W1S25T8=",
             "dtype": "f8"
            },
            "coloraxis": "coloraxis",
            "size": {
             "bdata": "MzMzMzOFgUBpHQOANU1EQCxBfaMBTzFAikRLsTzkWkAsiMkVxDRmQOmSCbisL1ZAIQSsddiKLUC9SbR1vRtbQA5r37D2jWdAq0iwI+Y1WUCCPXcns1NaQODOo1l2s3RANH3RUkcRdkDDvnfR3XVUQKvI8wNK4ktAxu1Vw3vuUEBI4XoUbkZTQG4+IdPseUdAWCuJ5cavKkAuTrNvzy8iQEC8JAO6xjZA+5vLs7/Rg0Cdxd/9K2EtQGbpFq2oRR1AXWeJNDIvaEByRrYTtaU2QFNDLJMbo2FAdCpgMvPpUECsorF0d6VDQAp5SrNVuENA8ONbFHwidUD2Dg6fSb1VQHMFAvbLSFpAj14Z2++IdEAhIiIiIqRqQMKG4NnjhF1Aw2CfYZnMYECbyIiI6mVtQEn5h76tQUNA50LSlIrzVkAOT6+U5SphQCvq4y0ixWhAu0T5OpA8LUA1a3QDAVNKQNIYuLlp4jtANIvr/7b8VkDzFjyT5oo/QG743XTLYlVAzj7CLcZxMUC3k2dwO7lIQPQV3H44ZF1Arj4t2gjzGED9kj3FMO9vQGZIjpnPsEtAk1yxecOkWkAVAAIwgCREQFjladaAdUpA1RoyjwNVQ0D5Gx80P3xVQKOioqKiYnRA5+pvYE5BYEAXbMEWbC1zQFSwKlcf51FAObRgQE5FU0BV9Ij5Gp11QJ2U1ooY31tAclMwtDSSYEDSjhUII/1hQIFeb+pjZHlAFq9iKt1KUECu/arxTo9QQIRy5i3rG3VAz1f5D1gqaUAjnvmglXVvQIB6M2G2zVNAL7QJF7LTdUDDoUmfmlYYQCe3zLfEOFFAXxUuPE3nU0ABhnyPaRVgQIiN9/Q/mWJAJzd2cmMXfkDGsoWuvtVDQJqZmZmZtmtA6QMThW+PdEB831V9ijFQQNUi4tUqg0lAGuGPQtG5Z0CX3oLvt35BQL7RIpcLtFFAXPBjUM3RVUAG1h9gcv1BQCvrrjehY0xAjuM4juMQckBjN8NgrmFTQGkAAeNAfShAVbEW1dKCUkAxd4HLhu9GQKY3velND19ASFjBOwW/O0DBHGKd8CaDQHmvYnnMh2JAZZkFrYT6VEDr9YFYUsUrQOz618pIQShAUiNYEB6hZUCWZshNjytHQJ2pG7Iecn5AEkV8lRccKkBlGt+CupdnQDMzMzMzR39A1aQyJYotMECJnm1sBPkgQMgX5TlMum5AmM2CKHuLR0Ch+DHmzm82QJU/iD/LbHNAVD6M+3WpREAredLZC7kvQBcwoAx3Hl9AHkvYU/TYXEB4XLeiNEIsQM2Wp1P3VFJABfX8+Pq5XkC3FIyKc0pWQJ4olaOq1nhAtSQAXpCqJUDmVl9M//8xQApFn+WGSk9A9o/Gy3QtMkCvRRCpr2pUQAM/ynTMEnJAmpmZmZl9gECMnmdNYZcyQFDEWQWfAlVAqE2NljPoK0CamZmZGaFmQCcVIJs/F1lA/tmRYT+iNkCkcD0K1+tPQCjaavAcoWdAiZ8I0NrePEDaJtg+YjciQM8nwfsYRl1AtNpi8GuLYEC/LyeGUDdKQDW3joeJvyZAx3Ecx3GUYkAsD0jWueJvQEtJfkMA91BAiYiIiIiAdUAfDAG/jwdIQIg9c5P5GmNAFvV50Aw0VEBzARirD94yQCbmTZzUmUBAHOYND38oUEDotIFOG+hlQMcNyIsAnTJAftPZVD3LUEC/i7MXZBFFQMYVvM8hhDFA3izjYuS/QEA=",
             "dtype": "f8"
            },
            "sizemode": "area",
            "sizeref": 0.40873110465116275,
            "symbol": "circle"
           },
           "mode": "markers",
           "name": "",
           "orientation": "v",
           "showlegend": false,
           "type": "scatter",
           "x": {
            "bdata": "MzMzMzOFgUBpHQOANU1EQCxBfaMBTzFAikRLsTzkWkAsiMkVxDRmQOmSCbisL1ZAIQSsddiKLUC9SbR1vRtbQA5r37D2jWdAq0iwI+Y1WUCCPXcns1NaQODOo1l2s3RANH3RUkcRdkDDvnfR3XVUQKvI8wNK4ktAxu1Vw3vuUEBI4XoUbkZTQG4+IdPseUdAWCuJ5cavKkAuTrNvzy8iQEC8JAO6xjZA+5vLs7/Rg0Cdxd/9K2EtQGbpFq2oRR1AXWeJNDIvaEByRrYTtaU2QFNDLJMbo2FAdCpgMvPpUECsorF0d6VDQAp5SrNVuENA8ONbFHwidUD2Dg6fSb1VQHMFAvbLSFpAj14Z2++IdEAhIiIiIqRqQMKG4NnjhF1Aw2CfYZnMYECbyIiI6mVtQEn5h76tQUNA50LSlIrzVkAOT6+U5SphQCvq4y0ixWhAu0T5OpA8LUA1a3QDAVNKQNIYuLlp4jtANIvr/7b8VkDzFjyT5oo/QG743XTLYlVAzj7CLcZxMUC3k2dwO7lIQPQV3H44ZF1Arj4t2gjzGED9kj3FMO9vQGZIjpnPsEtAk1yxecOkWkAVAAIwgCREQFjladaAdUpA1RoyjwNVQ0D5Gx80P3xVQKOioqKiYnRA5+pvYE5BYEAXbMEWbC1zQFSwKlcf51FAObRgQE5FU0BV9Ij5Gp11QJ2U1ooY31tAclMwtDSSYEDSjhUII/1hQIFeb+pjZHlAFq9iKt1KUECu/arxTo9QQIRy5i3rG3VAz1f5D1gqaUAjnvmglXVvQIB6M2G2zVNAL7QJF7LTdUDDoUmfmlYYQCe3zLfEOFFAXxUuPE3nU0ABhnyPaRVgQIiN9/Q/mWJAJzd2cmMXfkDGsoWuvtVDQJqZmZmZtmtA6QMThW+PdEB831V9ijFQQNUi4tUqg0lAGuGPQtG5Z0CX3oLvt35BQL7RIpcLtFFAXPBjUM3RVUAG1h9gcv1BQCvrrjehY0xAjuM4juMQckBjN8NgrmFTQGkAAeNAfShAVbEW1dKCUkAxd4HLhu9GQKY3velND19ASFjBOwW/O0DBHGKd8CaDQHmvYnnMh2JAZZkFrYT6VEDr9YFYUsUrQOz618pIQShAUiNYEB6hZUCWZshNjytHQJ2pG7Iecn5AEkV8lRccKkBlGt+CupdnQDMzMzMzR39A1aQyJYotMECJnm1sBPkgQMgX5TlMum5AmM2CKHuLR0Ch+DHmzm82QJU/iD/LbHNAVD6M+3WpREAredLZC7kvQBcwoAx3Hl9AHkvYU/TYXEB4XLeiNEIsQM2Wp1P3VFJABfX8+Pq5XkC3FIyKc0pWQJ4olaOq1nhAtSQAXpCqJUDmVl9M//8xQApFn+WGSk9A9o/Gy3QtMkCvRRCpr2pUQAM/ynTMEnJAmpmZmZl9gECMnmdNYZcyQFDEWQWfAlVAqE2NljPoK0CamZmZGaFmQCcVIJs/F1lA/tmRYT+iNkCkcD0K1+tPQCjaavAcoWdAiZ8I0NrePEDaJtg+YjciQM8nwfsYRl1AtNpi8GuLYEC/LyeGUDdKQDW3joeJvyZAx3Ecx3GUYkAsD0jWueJvQEtJfkMA91BAiYiIiIiAdUAfDAG/jwdIQIg9c5P5GmNAFvV50Aw0VEBzARirD94yQCbmTZzUmUBAHOYND38oUEDotIFOG+hlQMcNyIsAnTJAftPZVD3LUEC/i7MXZBFFQMYVvM8hhDFA3izjYuS/QEA=",
            "dtype": "f8"
           },
           "xaxis": "x",
           "y": {
            "bdata": "AAAAAAAAAAAMD1SAtEzRP7G3qOkujt4/AAAAAAAAAABVVVVVVVXVPwAAAAAAAAAA5v6v8XBS0z8L4uzDZ9hlPyb0Xk3F17w/AAAAAAAAAAD8qfHSTWJQP7U6JngwT9Q/YvFRIQd3rz9JfrHkF0vOP6mqqqqqqtI/nAC511xImj8ERm/LWh1jPyxMHMGam6g/9W6AfFDL5D8yelvW6pjYP39SJ0u7rc0/XJa+9h3apD+uaeQqfr7ZP4iIiIiIiOQ/AAAAAAAAAAA3b6lduPHNP/yp8dJNYnA/vC1rdUzwwD/BCAMKzT/QP0n+YdknQrk/zD58hl0Bwj8ERm/LWh1jPzvfT42XboI//Knx0k1iUD+hCIyeJU7DPwAAAAAAAAAAAAAAAAAAAACS3/MdZGOEP4DAndC9bc4/OdKUirMPnz82+FoLyifEP/yp8dJNYoA/43ZlLgMF0z89Rm/LWh2DP1pNw9rlMuc/n+ZSBMp9mj+OwKzkYi3fP6RwPQrXo9A/rlal9lnl0j+JM3KGMumpP5W+YzB0obE/QKcNdNpA5z8c6BJpu8LBPwAAAAAAAAAA2ECnDXTawD8YJG3LjRjVP78RyuhtWdM/Ix7AZobwyj/pxNbDQ8+6P6D691UIDaQ/efgMuwLkrj8AAAAAAAAAAOtgnqh/I7Q/AAAAAAAAAADdJAaBlUPLP6ILJYQU5Uc/ezJ6W9bqmD8AAAAAAAAAAEupOPvwGbY/VVVVVVVV1T8G6SYxCKx8PwAAAAAAAAAASk12xAXGzD/x9aE2JS7NPwAAAAAAAAAAvMOsnGOizz9VVVVVVVXVPxhYTM0iVNQ/zIWkKRVnzz8Pn2FXgNzbPwAAAAAAAAAACtnsw2fYNT/U5XjSvZDaPwAAAAAAAAAAuna+nxovrT/qUbgehevRPxWp8dJNYmA/FgY/hMt9wj/mrpySFWfdP4lBYOXQIqs/+n5qvHSTaD8idZp0GejYP4WS9geMZ4Q/KKO3Za2O2T8L4uzDZ9hlP0BiMqAfPeI/q44JHswTxT8zImT9i1KjP1VVVVVVVdU/ewUtKftM3j8CG+i0gU5rPxHK6G1Zq9M/AhvotIFOaz+e8Xb52ELTP2rn8nLggeM//3GvuZA0xT+LjkLW4AG7PwAAAAAAAAAAlXCI92Bj1z/Ekl8s+cXCP/p+arx0k2g/c1q5QeAw4D9VVVVVVVXVP0o5tMh2vq8/a62rhTnmsT9UsR7k4vbRP6oPn2FXgKw/Xv5mEtRH2j8siBVxd7/mPz7g7MNn2EU/BagN7hZdsz9gBWjoxNXTP4kaT3t/QLw/AAAAAAAAAAC+F0t+seSHPw102kCnDdQ/eTpEPJXj1D+QpPdAERHhP6c4+/AZdsU/WE4r0cIn4D+Nl24Sg8DSP5sehetRuJ4/kdW8ycBYxT/yiSRigpngPwvi7MNn2FU/knL57fAj5D8MuwLkXnPBPwAAAAAAAAAAWskFDFdF3D8HM0GX6QbLPxSuR+F6FNY/SOmXjFvcxz9OYhBYObTkP+WJ+jdCGc0/HXgwT9S/kT8ERm/LWh1zP38z85iRr9Q/mrdlrY4Jnj8AAAAAAAAAABWp8dJNYmA//kypOPvwiT83smjzR+rTPyRNqTj78NE/PuDsw2fYRT+McLaGK9zQPyt9Osxbhs4/GxrotIFOWz/+TKk4+/B5P7umh2NHSd4//kypOPvweT/7EyJrbxzAP2ICnDpzluA/LkL8W1S25T8=",
            "dtype": "f8"
           },
           "yaxis": "y"
          }
         ],
         "name": "2008"
        },
        {
         "data": [
          {
           "hovertemplate": "<b>%{hovertext}</b><br><br>Year=2009<br>Population Density (per km²)=%{marker.size}<br>Multidimensional Poverty Index (MPI)=%{marker.color}<extra></extra>",
           "hovertext": [
            "Aruba",
            "Afghanistan",
            "Angola",
            "Albania",
            "Andorra",
            "United Arab Emirates",
            "Argentina",
            "Armenia",
            "Antigua and Barbuda",
            "Austria",
            "Azerbaijan",
            "Burundi",
            "Belgium",
            "Benin",
            "Burkina Faso",
            "Bulgaria",
            "Bosnia and Herzegovina",
            "Belarus",
            "Belize",
            "Bolivia",
            "Brazil",
            "Barbados",
            "Bhutan",
            "Central African Republic",
            "Switzerland",
            "Chile",
            "China",
            "Cote d'Ivoire",
            "Cameroon",
            "Colombia",
            "Comoros",
            "Costa Rica",
            "Cuba",
            "Curacao",
            "Cayman Islands",
            "Cyprus",
            "Czechia",
            "Germany",
            "Djibouti",
            "Dominica",
            "Denmark",
            "Dominican Republic",
            "Algeria",
            "Ecuador",
            "Eritrea",
            "Spain",
            "Estonia",
            "Ethiopia",
            "Finland",
            "Fiji",
            "France",
            "Gabon",
            "United Kingdom",
            "Georgia",
            "Ghana",
            "Guinea",
            "Guinea-Bissau",
            "Equatorial Guinea",
            "Greece",
            "Grenada",
            "Guatemala",
            "Guam",
            "Honduras",
            "Croatia",
            "Haiti",
            "Hungary",
            "Indonesia",
            "Isle of Man",
            "India",
            "Ireland",
            "Iraq",
            "Israel",
            "Italy",
            "Jamaica",
            "Jordan",
            "Japan",
            "Kazakhstan",
            "Kenya",
            "Cambodia",
            "Kiribati",
            "Kuwait",
            "Lebanon",
            "Liberia",
            "Liechtenstein",
            "Sri Lanka",
            "Lesotho",
            "Lithuania",
            "Luxembourg",
            "Latvia",
            "Morocco",
            "Moldova",
            "Madagascar",
            "Mexico",
            "Marshall Islands",
            "North Macedonia",
            "Mali",
            "Myanmar",
            "Montenegro",
            "Northern Mariana Islands",
            "Mozambique",
            "Mauritius",
            "Malawi",
            "Malaysia",
            "New Caledonia",
            "Niger",
            "Nigeria",
            "Nicaragua",
            "Netherlands",
            "Norway",
            "Nepal",
            "Nauru",
            "New Zealand",
            "Oman",
            "Pakistan",
            "Panama",
            "Peru",
            "Philippines",
            "Palau",
            "Papua New Guinea",
            "Poland",
            "Portugal",
            "Paraguay",
            "French Polynesia",
            "Qatar",
            "Romania",
            "Rwanda",
            "Saudi Arabia",
            "Sudan",
            "Senegal",
            "Solomon Islands",
            "Sierra Leone",
            "El Salvador",
            "San Marino",
            "Somalia",
            "Serbia",
            "South Sudan",
            "Sao Tome and Principe",
            "Slovenia",
            "Sweden",
            "Eswatini",
            "Seychelles",
            "Turks and Caicos Islands",
            "Chad",
            "Togo",
            "Thailand",
            "Tajikistan",
            "Turkmenistan",
            "Tonga",
            "Trinidad and Tobago",
            "Tunisia",
            "Tuvalu",
            "Tanzania",
            "Uganda",
            "Ukraine",
            "Uruguay",
            "United States",
            "Uzbekistan",
            "British Virgin Islands",
            "Vanuatu",
            "Samoa",
            "South Africa",
            "Zambia",
            "Zimbabwe"
           ],
           "legendgroup": "",
           "marker": {
            "color": {
             "bdata": "VVVVVVVV1T8Qx8cwOXnOP6sCaXsUGeA/C+Lsw2fYVT9VVVVVVVXVP1VVVVVVVdU/REGirvNA5D/hM+wKkHvVP6cNdNpAp9U/VVVVVVVV1T8K2ezDZ9g1P2FXgNxrLtQ/UYBqtAOr1D/d3d3d3d3NP3GvuZA0pdI/DAIrhxbZ1j+nOPvwGXbVPwl2JIyVZcE/luCJ1wkE4D+M3pa1OibYPxT6epyFptY/VVVVVVVV1T8EQUYhL9PYP+41F5KmVOQ/VVVVVVVV1T8qOAs90ZzdP/p+arx0k2g/BA/mifo3wj+bfEP2j8/OP7ajWUKw3rg/oBov3SQGwT+ZlZy3lObKP/yp8dJNYoA/ah+CVhfoxT9VVVVVVVXVP1VVVVVVVdU/VVVVVVVV1T9VVVVVVVXVP6iVfEZLCeI/EJoGQDpH0T9VVVVVVVXVPwbpJjEIrHw/xz5NK7b50j++F0t+seSHP/i9cpCnc9g/VVVVVVVV1T/37NYZrjXfP+DBPFH/RtA/DJez/mpT4z8sA9C+3jjUP1VVVVVVVdU/BBME8FM13z9VVVVVVVXVP1VVVVVVVdU/MHpb1uqYwD8tKheG4bDhP+01F5KmVNQ/XUj9fs3oyD9VVVVVVVXVP65H4XoUrtc/TNdUG/lMvT9nZwPswe6vP11ImlJx9tk/VVVVVVVV1T+lVJx9+AzLP1VVVVVVVdU/nOLsw2fYlT8AAAAAAAAAAFNVVVVVVbU/VVVVVVVV1T/+TKk4+/B5PwAAAAAAAAAAVVVVVVVV1T9Apw102kDXPxWp8dJNYmA/VVVVVVVV1T9VVVVVVVXVP2yg0wY6bdA/WDm0yHa+zz8Rt/AhxdzFP1VVVVVVVdU/BEZvy1odYz+NV1/eAMPZP3Jz1tQnr84/arx0kxgEpj/3Whiv393gP289CtejcNU/VVVVVVVV1T9DRGhY7aTdP5zx0k1iEKg/GS/dJAaB1T84C91qG+7mPxcEVg4tstU/+qscWmQ7rz/jvTVz8qnDPzm9PiAPEeI/WwFyr7mQxD8YRJBzvazXP1VVVVVVVdU/o75gUxad3T8CG+i0gU5rP/XhM+wKkNM/6CsO/vcF0j+v8JUnRCnTP4CgZNXeVOM/U1VVVVVVxT9t0q31LqXbP1VVVVVVVdU/QI3JJDJD5D8ozj58hl3BP1Mqzj58htU/pN+nT01U2T9VVVVVVVXVP9nd3d3d3a0/Wg4h9THyrj+CQb/cFIfRP/qNUEZvy6o/qy/aGWmb2j+ltx9Q1s3hPwAAAAAAAAAAVVVVVVVV1T9QQ3R53K7cP1VVVVVVVdU/AAAAAAAAAABqvHSTGATWP84+fIZdAdI/mPCr1G+t4T/LADkSb6PqP9OjcD0K18M/5g1qx17N4D8ED+aJ+jfSPwisHFpkO9c/VVVVVVVV1T+/MDU0EjLgPzdCGb0ta9U/9EczZILH4z/I6G1Zq2PCP1VVVVVVVdU/AmZJ5aXp4T/KE/VvhDLKP2q8dJMYBNY/VISpSlrz3z+uKTZ+1/nsP30/NV66Scw/46H2bZR4yD8CG+i0gU5rP4AjBIkli9Q/CtejcD0K1z+LJb9Y8ovVPxsa6LSBTls/FK5H4XoU1j8uBCydx1bTPzMzMzMzM9M/jVBGb8ta1T8LUtq/nMXQPwQr9MzuIt4/GxrotIFOWz8XBFYOLbLVPxxDrN2vtt4/9UIR7nPSxj8Ms9aXV6/ZP+xndZTMUuA/hoPWVzef1D8=",
             "dtype": "f8"
            },
            "coloraxis": "coloraxis",
            "size": {
             "bdata": "vLu7u7ujgUCG/pJuNw5FQAagT1ay+jFAGupEJgC2WkAvP9L9hU9mQOzicqAYnFdAQQxovmvbLUDFTuzETuxaQIDD2jes6WdAdzR6zNNGWUCFRQuwFuFaQJh0YXnbxnVAZHgTgeo+dkAq//HMVBVVQGmf/gy9tUxAj/x3nqXSUEBI4XoUvvFSQCu9rPYpa0dA+RUhtgZpK0Bw6FTH/X0iQORyadsu+zZAaH9zefbrg0D8WAUQ3LQtQH7mXXlzFB1ANn5sGgp9aEAOun6dfuA2QNrcY/eeuWFA/7cxJEJLUUC/uR9HqjdEQOje7cR880NA3mMiTiiPdUBhOpU7KQhWQIzEDQ6PSlpA9MrYfkerdEC8u7u7u2drQAUjdnn0A15AjKcuvSvlYEB+ec3w3lJtQN57hCN0qUNAKerfCGX0VkDl0CLbeUJhQFjl6MsIFmlAh336bFfNLUDU0oEf8cZKQD8ZM6jJlzxAvTcaxBExV0CwA42PWXs/QG2RtBt9AFZAkYnexC6HMUDhr0SjItRIQJal3Bbyil1AarDmFSbLGUDu/CF0oRZwQOTyCsIgcktAQD/yLxpRW0DUFldd86NEQD+HzU7yI0tA/5cxy2Q+RECdABOou4pVQHt7e3t7c3RAHG0hyQyVYED6pE/6pDtzQA+umg2LTFJAzrAXhyBAU0D33WEPTfl1QK5vPjEN1FtAobvkxEvIYEAELNt8OTBiQK4SwugRw3lACb15FHF1UECa0EehZC5RQIF797mjnnVAeAJbR81PaUBir66HJpdvQGflVhDgO1RA100nX//SdUBga8FQ7p8YQOhm5Jb+v1FApIabE0Y4VEDib1OMGm5gQO4R+OXym2NAGC2B0RKAfkAKI3KB53dEQGZmZmZm7GtA5eRncdqvdEAQC7RBxk9QQAHQhsYMO0lAH9JOtVYraEABQB59YTVBQDG2K/PX8FFATCNC7sDKVUB6dvNPq4ZCQNy31yqozkxAP+mTPukPckCs74D0sEFTQJ9B9lrbTClAEVS6QTudUkDXB4reIvxGQLKQhSxkEV5AjpqqI3Z5PEANW2Hy+TODQFu9G6sjFmNARONcLpNmVUBruY1rQCUsQGSoHIJuLClAV1d8AKA9ZkCkXGUYqYBHQKkbsp5Omn5ADjcluutwKkDrGHzdrcBnQM3MzMzMTH9AHoxcwyZXMEAu9mc+LlkhQNwepK7DhG9A6rnfvjf5R0CcoiO5XJM2QH2UtnQxx3NAl1Q+jPtVREB0lHSl1FowQBFeuX3dI19AnFl7dv/fXECBwcK5g4wsQA4fy248aFJAfShSvYdSYUCzArHnGxtWQKQW08vNfHlAdBTvNAOIJkBroxDihYEyQBLRNmMkBVBAZjeETPuCMkB5drV9X/lUQCxTbXxdIXJAzczMzMw4gUABVgWJCBEzQHGEUKsY7VRA7/0YqkdBLUDv7u7ubihnQImbJ9+RUVlAdsEs5NHTNkD1D098MhBQQEHRVoPnuGdA4icCtLYXPkBGpsZ6BOEiQGrQTGB+HV5Any4oXdGqYECiGrzfKsJKQBiFB+KjMydA6ZM+6ZOcYkDDrNl/M+xvQM4IL5yCI1FAMzMzMzPLdUDWsc84NKFIQLGgySL4rGNAHVMDqnUeVECHNQkOo+kyQKsX2x9Av0BA588ww2BrUEBNG+i0ga5mQNZJPruKFzNAaS0TOgnrUEAo2qE5K1JFQKRJCsmpJTJABJ3Foqf8QEA=",
             "dtype": "f8"
            },
            "sizemode": "area",
            "sizeref": 0.40873110465116275,
            "symbol": "circle"
           },
           "mode": "markers",
           "name": "",
           "orientation": "v",
           "showlegend": false,
           "type": "scatter",
           "x": {
            "bdata": "vLu7u7ujgUCG/pJuNw5FQAagT1ay+jFAGupEJgC2WkAvP9L9hU9mQOzicqAYnFdAQQxovmvbLUDFTuzETuxaQIDD2jes6WdAdzR6zNNGWUCFRQuwFuFaQJh0YXnbxnVAZHgTgeo+dkAq//HMVBVVQGmf/gy9tUxAj/x3nqXSUEBI4XoUvvFSQCu9rPYpa0dA+RUhtgZpK0Bw6FTH/X0iQORyadsu+zZAaH9zefbrg0D8WAUQ3LQtQH7mXXlzFB1ANn5sGgp9aEAOun6dfuA2QNrcY/eeuWFA/7cxJEJLUUC/uR9HqjdEQOje7cR880NA3mMiTiiPdUBhOpU7KQhWQIzEDQ6PSlpA9MrYfkerdEC8u7u7u2drQAUjdnn0A15AjKcuvSvlYEB+ec3w3lJtQN57hCN0qUNAKerfCGX0VkDl0CLbeUJhQFjl6MsIFmlAh336bFfNLUDU0oEf8cZKQD8ZM6jJlzxAvTcaxBExV0CwA42PWXs/QG2RtBt9AFZAkYnexC6HMUDhr0SjItRIQJal3Bbyil1AarDmFSbLGUDu/CF0oRZwQOTyCsIgcktAQD/yLxpRW0DUFldd86NEQD+HzU7yI0tA/5cxy2Q+RECdABOou4pVQHt7e3t7c3RAHG0hyQyVYED6pE/6pDtzQA+umg2LTFJAzrAXhyBAU0D33WEPTfl1QK5vPjEN1FtAobvkxEvIYEAELNt8OTBiQK4SwugRw3lACb15FHF1UECa0EehZC5RQIF797mjnnVAeAJbR81PaUBir66HJpdvQGflVhDgO1RA100nX//SdUBga8FQ7p8YQOhm5Jb+v1FApIabE0Y4VEDib1OMGm5gQO4R+OXym2NAGC2B0RKAfkAKI3KB53dEQGZmZmZm7GtA5eRncdqvdEAQC7RBxk9QQAHQhsYMO0lAH9JOtVYraEABQB59YTVBQDG2K/PX8FFATCNC7sDKVUB6dvNPq4ZCQNy31yqozkxAP+mTPukPckCs74D0sEFTQJ9B9lrbTClAEVS6QTudUkDXB4reIvxGQLKQhSxkEV5AjpqqI3Z5PEANW2Hy+TODQFu9G6sjFmNARONcLpNmVUBruY1rQCUsQGSoHIJuLClAV1d8AKA9ZkCkXGUYqYBHQKkbsp5Omn5ADjcluutwKkDrGHzdrcBnQM3MzMzMTH9AHoxcwyZXMEAu9mc+LlkhQNwepK7DhG9A6rnfvjf5R0CcoiO5XJM2QH2UtnQxx3NAl1Q+jPtVREB0lHSl1FowQBFeuX3dI19AnFl7dv/fXECBwcK5g4wsQA4fy248aFJAfShSvYdSYUCzArHnGxtWQKQW08vNfHlAdBTvNAOIJkBroxDihYEyQBLRNmMkBVBAZjeETPuCMkB5drV9X/lUQCxTbXxdIXJAzczMzMw4gUABVgWJCBEzQHGEUKsY7VRA7/0YqkdBLUDv7u7ubihnQImbJ9+RUVlAdsEs5NHTNkD1D098MhBQQEHRVoPnuGdA4icCtLYXPkBGpsZ6BOEiQGrQTGB+HV5Any4oXdGqYECiGrzfKsJKQBiFB+KjMydA6ZM+6ZOcYkDDrNl/M+xvQM4IL5yCI1FAMzMzMzPLdUDWsc84NKFIQLGgySL4rGNAHVMDqnUeVECHNQkOo+kyQKsX2x9Av0BA588ww2BrUEBNG+i0ga5mQNZJPruKFzNAaS0TOgnrUEAo2qE5K1JFQKRJCsmpJTJABJ3Foqf8QEA=",
            "dtype": "f8"
           },
           "xaxis": "x",
           "y": {
            "bdata": "VVVVVVVV1T8Qx8cwOXnOP6sCaXsUGeA/C+Lsw2fYVT9VVVVVVVXVP1VVVVVVVdU/REGirvNA5D/hM+wKkHvVP6cNdNpAp9U/VVVVVVVV1T8K2ezDZ9g1P2FXgNxrLtQ/UYBqtAOr1D/d3d3d3d3NP3GvuZA0pdI/DAIrhxbZ1j+nOPvwGXbVPwl2JIyVZcE/luCJ1wkE4D+M3pa1OibYPxT6epyFptY/VVVVVVVV1T8EQUYhL9PYP+41F5KmVOQ/VVVVVVVV1T8qOAs90ZzdP/p+arx0k2g/BA/mifo3wj+bfEP2j8/OP7ajWUKw3rg/oBov3SQGwT+ZlZy3lObKP/yp8dJNYoA/ah+CVhfoxT9VVVVVVVXVP1VVVVVVVdU/VVVVVVVV1T9VVVVVVVXVP6iVfEZLCeI/EJoGQDpH0T9VVVVVVVXVPwbpJjEIrHw/xz5NK7b50j++F0t+seSHP/i9cpCnc9g/VVVVVVVV1T/37NYZrjXfP+DBPFH/RtA/DJez/mpT4z8sA9C+3jjUP1VVVVVVVdU/BBME8FM13z9VVVVVVVXVP1VVVVVVVdU/MHpb1uqYwD8tKheG4bDhP+01F5KmVNQ/XUj9fs3oyD9VVVVVVVXVP65H4XoUrtc/TNdUG/lMvT9nZwPswe6vP11ImlJx9tk/VVVVVVVV1T+lVJx9+AzLP1VVVVVVVdU/nOLsw2fYlT8AAAAAAAAAAFNVVVVVVbU/VVVVVVVV1T/+TKk4+/B5PwAAAAAAAAAAVVVVVVVV1T9Apw102kDXPxWp8dJNYmA/VVVVVVVV1T9VVVVVVVXVP2yg0wY6bdA/WDm0yHa+zz8Rt/AhxdzFP1VVVVVVVdU/BEZvy1odYz+NV1/eAMPZP3Jz1tQnr84/arx0kxgEpj/3Whiv393gP289CtejcNU/VVVVVVVV1T9DRGhY7aTdP5zx0k1iEKg/GS/dJAaB1T84C91qG+7mPxcEVg4tstU/+qscWmQ7rz/jvTVz8qnDPzm9PiAPEeI/WwFyr7mQxD8YRJBzvazXP1VVVVVVVdU/o75gUxad3T8CG+i0gU5rP/XhM+wKkNM/6CsO/vcF0j+v8JUnRCnTP4CgZNXeVOM/U1VVVVVVxT9t0q31LqXbP1VVVVVVVdU/QI3JJDJD5D8ozj58hl3BP1Mqzj58htU/pN+nT01U2T9VVVVVVVXVP9nd3d3d3a0/Wg4h9THyrj+CQb/cFIfRP/qNUEZvy6o/qy/aGWmb2j+ltx9Q1s3hPwAAAAAAAAAAVVVVVVVV1T9QQ3R53K7cP1VVVVVVVdU/AAAAAAAAAABqvHSTGATWP84+fIZdAdI/mPCr1G+t4T/LADkSb6PqP9OjcD0K18M/5g1qx17N4D8ED+aJ+jfSPwisHFpkO9c/VVVVVVVV1T+/MDU0EjLgPzdCGb0ta9U/9EczZILH4z/I6G1Zq2PCP1VVVVVVVdU/AmZJ5aXp4T/KE/VvhDLKP2q8dJMYBNY/VISpSlrz3z+uKTZ+1/nsP30/NV66Scw/46H2bZR4yD8CG+i0gU5rP4AjBIkli9Q/CtejcD0K1z+LJb9Y8ovVPxsa6LSBTls/FK5H4XoU1j8uBCydx1bTPzMzMzMzM9M/jVBGb8ta1T8LUtq/nMXQPwQr9MzuIt4/GxrotIFOWz8XBFYOLbLVPxxDrN2vtt4/9UIR7nPSxj8Ms9aXV6/ZP+xndZTMUuA/hoPWVzef1D8=",
            "dtype": "f8"
           },
           "yaxis": "y"
          }
         ],
         "name": "2009"
        },
        {
         "data": [
          {
           "hovertemplate": "<b>%{hovertext}</b><br><br>Year=2010<br>Population Density (per km²)=%{marker.size}<br>Multidimensional Poverty Index (MPI)=%{marker.color}<extra></extra>",
           "hovertext": [
            "Aruba",
            "Afghanistan",
            "Angola",
            "Albania",
            "Andorra",
            "United Arab Emirates",
            "Argentina",
            "Armenia",
            "Antigua and Barbuda",
            "Austria",
            "Azerbaijan",
            "Burundi",
            "Belgium",
            "Benin",
            "Burkina Faso",
            "Bulgaria",
            "Bosnia and Herzegovina",
            "Belarus",
            "Belize",
            "Bolivia",
            "Brazil",
            "Barbados",
            "Bhutan",
            "Central African Republic",
            "Switzerland",
            "Chile",
            "China",
            "Cote d'Ivoire",
            "Cameroon",
            "Colombia",
            "Comoros",
            "Costa Rica",
            "Cuba",
            "Curacao",
            "Cayman Islands",
            "Cyprus",
            "Czechia",
            "Germany",
            "Djibouti",
            "Dominica",
            "Denmark",
            "Dominican Republic",
            "Algeria",
            "Ecuador",
            "Eritrea",
            "Spain",
            "Estonia",
            "Ethiopia",
            "Finland",
            "Fiji",
            "France",
            "Gabon",
            "United Kingdom",
            "Georgia",
            "Ghana",
            "Guinea",
            "Guinea-Bissau",
            "Equatorial Guinea",
            "Greece",
            "Grenada",
            "Guatemala",
            "Guam",
            "Honduras",
            "Croatia",
            "Haiti",
            "Hungary",
            "Indonesia",
            "Isle of Man",
            "India",
            "Ireland",
            "Iraq",
            "Israel",
            "Italy",
            "Jamaica",
            "Jordan",
            "Japan",
            "Kazakhstan",
            "Kenya",
            "Cambodia",
            "Kiribati",
            "Kuwait",
            "Lebanon",
            "Liberia",
            "Liechtenstein",
            "Sri Lanka",
            "Lesotho",
            "Lithuania",
            "Luxembourg",
            "Latvia",
            "Morocco",
            "Moldova",
            "Madagascar",
            "Mexico",
            "Marshall Islands",
            "North Macedonia",
            "Mali",
            "Myanmar",
            "Montenegro",
            "Northern Mariana Islands",
            "Mozambique",
            "Mauritius",
            "Malawi",
            "Malaysia",
            "New Caledonia",
            "Niger",
            "Nigeria",
            "Nicaragua",
            "Netherlands",
            "Norway",
            "Nepal",
            "Nauru",
            "New Zealand",
            "Oman",
            "Pakistan",
            "Panama",
            "Peru",
            "Philippines",
            "Palau",
            "Papua New Guinea",
            "Poland",
            "Portugal",
            "Paraguay",
            "French Polynesia",
            "Qatar",
            "Romania",
            "Rwanda",
            "Saudi Arabia",
            "Sudan",
            "Senegal",
            "Solomon Islands",
            "Sierra Leone",
            "El Salvador",
            "San Marino",
            "Somalia",
            "Serbia",
            "South Sudan",
            "Sao Tome and Principe",
            "Slovenia",
            "Sweden",
            "Eswatini",
            "Seychelles",
            "Turks and Caicos Islands",
            "Chad",
            "Togo",
            "Thailand",
            "Tajikistan",
            "Turkmenistan",
            "Tonga",
            "Trinidad and Tobago",
            "Tunisia",
            "Tuvalu",
            "Tanzania",
            "Uganda",
            "Ukraine",
            "Uruguay",
            "United States",
            "Uzbekistan",
            "British Virgin Islands",
            "Vanuatu",
            "Samoa",
            "South Africa",
            "Zambia",
            "Zimbabwe"
           ],
           "legendgroup": "",
           "marker": {
            "color": {
             "bdata": "8Bl2Bci91j+hu1fFbYbPPwJ8c9hhkd4/C+Lsw2fYVT+nQVzqvifVPwAAAAAAAAAAEV1Ny0/g0j8+4OzDZ9hFPzUXkqZUnNU/AAAAAAAAAAAK2ezDZ9g1P5lScfbhM9Q/AAAAAAAAAABFb8taHRPMP1XHBA/midI/HZb8Yskvlj9oENGzkv2QP5JwoDDzfKc/6LkvrGBV1T/kF0t+seTXP2YXFTzdNc0/VVVVVVVV1T8pl937ilrYP3w/NV66SeQ/AAAAAAAAAABu1Of48uXMP/yp8dJNYlA/JHgwT9S/wT+m1vPFVRfNP96fKGjPTLc/OmDl0CLbuT8CG+i0gU5rP323Za2OCX4/UYWteHAauj9VVVVVVVXVPwAAAAAAAAAAAAAAAAAAAAAAAAAAAAAAAOZMQfAqfcw/NMZNpK1vwz8AAAAAAAAAAP5MqTj78Hk/eOC31j/M0j/+EBERERGBPwcE436o5Nc/3heSZ2bEuT/lvmnHRtTDP8gvlvxiyc8/c2geZYdG0T80473tX2GbPwAAAAAAAAAABFYOLbKd1z8AAAAAAAAAAAAAAAAAAAAA8UT9G6GMvj+xvPdh0nDTPw102kCnDdQ/YWs54sJP4D9VVVVVVVXVPzuXtdC3A8o/+o1QRm/Lqj8AAAAAAAAAADTQaQOdNrA/dKSM1BCZ0D8qzj58hl3hPwAAAAAAAAAAXK2OCR7Mkz8AAAAAAAAAAMxNYhBYObQ/AAAAAAAAAAB/4uzDZ9h1PwAAAAAAAAAAAAAAAAAAAAAMAxiAFSPTPwAAAAAAAAAAAAAAAAAAAABVVVVVVVXVP9bqmODBPNE//UYoo7dlzT/JhaQpFWe/P1VVVVVVVdU/GxrotIFOWz+J07uAFWXYPwAAAAAAAAAASgwCK4cWqT+0gU4b6LTRP7iMDYR3zLE/AAAAAAAAAAA5xCAepBDeP3tQRm/LWo0/BEZvy1odYz+n805wOr3bPwvi7MNn2GU/rCtA7jUXoj8bGui0gU5bP+A5n/mfouE/o+Lsw2fYxT8DYBu3eDOiPwAAAAAAAAAA6sVjCJ9e3D8VqfHSTWJgPxP1b4QyetM/GxrotIFOWz/J+rIX6QjTP+QAYvjBEOM/L5b8Yskvxj+/kWjP4++1PwAAAAAAAAAADO9y6acK1T/6jVBGb8u6PxTvG3e61sA/pedIILba0T9VVVVVVVXVP2q8dJMYBKY/Og+40Udvqz+lg/V/DhbRP7pY8oslv6g/8WqL/m0T0z+FBr+8zGzhPwAAAAAAAAAAAAAAAAAAAACQnhBayoTTP1VVVVVVVdU/AAAAAAAAAAC/yqFFtvPVP90kBoGVQ9M/MQf9X7i31D+gwR1ldTXeP4/C9Shcj8I/JVn58OdK3j/hehSuR+HSP3npJjEIrJw/VVVVVVVV1T8g7SqxF2vaP/yp8dJNYlA/NrxoKzK64z/clrU6JnjAPwAAAAAAAAAAyhU0lI7GzD/OsCtA7jXHP3sUrkfheoQ/x2PKdhUoxD9A7jUXkqbkP1Eqzj58hs0//Knx0k1iUD/8qfHSTWJwPwa0IA0AWtQ/j+HcHyJHpj8AAAAAAAAAABsa6LSBTls/obdlrY4J1j+TGARWDi3SP42XbhKDwNI/AAAAAAAAAACsXTg+EbTQP4CNj4J7TcE/C+Lsw2fYVT8tyfdIJ0vFP5s2KvYRK9w/wH5qvHSTiD/whJRQw0q9P4rrfl/FpOA/KBM4hIhJ1T8=",
             "dtype": "f8"
            },
            "coloraxis": "coloraxis",
            "size": {
             "bdata": "IiIiIiKugUABCdsav65FQH13J4porzJAXvv9+iKUWkA4J5Ro4HZlQGc+yEDJLlhA8wv6VJcsLkDJK8eHprxaQF100UUXPWhALzIOzGZWWUDcyc6scjNbQOIyTWwF0nZA178ZeS9zdkAU2An+07hVQKYGq8jzj01AtFDW9GO2UECkcD0KV5xSQOy3ONITXkdA67SUW1AULEDfGCohe8wiQJ78ocDcLDdAzczMzMwAhEB9mEPFnwguQGdihyMx2RxAQihTJ62+aEAL3Nlpnxs3QGIXur6Wz2FA8Q4oXuatUUDS8D+is81EQCvr023WLURAGERdkvj9dUD0u7Q8kU5WQC5Z62opTFpAq6qqqqrudEAzMzMzMy1sQA1C8mm2g15APFf5hsrxYEDvx/wWYUdtQN+1Gf7YEERAhxbZzvfzVkAibHh6JVZhQGP7iPnFaGlAGfHiSFhjLkCfzj7u3zpLQGiBcqEGKT1AA/E1mXdMV0AJ3Qyl/Wg/QAucbAN3olZAJ/xmIsKbMUA0y2MZaupIQFVOQD1SsF1ANBrUw+2yGkDLafIDCzdwQEwpc4IPP0tAcjCHCFX9W0D7OTxygidFQJ5MbAPj2UtA8jdPrCAyRUClEbNT2JFVQBsbGxsbg3RAu9d43wHqYEDgphg1/EVzQEj9QZMzsVJAeXo2MfY0U0Ce8LI4UTt2QHIsEuf3w1tA/ZUJm8v+YEBL0cPeqGRiQLrCnwS0I3pALWHhd3aMUEDNk/vp175RQKhMdj6sBHZA2AXNTIVsaUBgv1CMWLlvQHOq+JmBrFRA9sB8RwDUdUAaQ3rFOfIYQOazISTGRVJALr9CN3WJVEASl42gesZgQM3ROzmEpWRADWbLYLbMfkAfJ1qu3xFFQGZmZmZmJGxAJBQHxyXPdEDVNVa2K3BQQMNh8HkEtUhAcH815FGdaEATH2WUo9pAQNnPnCFlL1JAUjXb3S/FVUD6bvdYqxJDQGfeHeWZOU1AIiIiIiISckAPQo3IRSJTQFA0PJa2IipAmnEaq97AUkDoJhqd7QZHQA2eI1C0ZV1AVypPpzk/PUCsaGdKrz+DQF2zhxFRqGNABprpxgLOVUCG0yDnlZ4sQGp+DIsJISpA5qOJ7wPfZkBRkhHjp9ZHQE8n4iSYwn5AfE46LcTFKkB+zJ6QeuZnQGZmZmZmYn9Ap013g+qFMEA1sIo+l9EhQNIdWVtOJ3BAVPNX561nSEDtnjwsNLk2QIHTH0L0L3RA2CWVD+P+Q0DA2mZvM9swQFUWYhohDV9AGR0IcWTjXEB0W4kPhOIsQIVn+ht0e1JAJ4ZWbmJoYUD7UnaImPlVQN0S/QKQI3pAByULmAxPJkCLzgF8XfUyQMpbzMI1aFBAsRydWZcKM0BM8r3vgY1VQCdi+5uwMHJAAAAAAABUgUB1MRd1roszQKj0YI+a11RANUk7h1TYLkAREREREaxnQMs1mnXlbVlAjysPVdoFN0D0BX1BXyhQQG9605veZGhAEaC1veBNP0AZzhSANIsjQP9RToAm8l5AKwiIK4fHYEAbUnMhPlZLQOhcxc5/ridAVVVVVVWlYkDdqw5J1A1wQA4BdNgBU1FAzczMzMwcdkCtjbqQskNJQICA3dZ0Q2RAmM1MUu4LVEClMdG/DfYyQKy1zBqu40BAQL5uA4GuUEAAAAAAABBnQPdoM0hnizNAgwZEOC8NUUBIbicQHpNFQOw/Fw1PyTJAwoyQ72FDQUA=",
             "dtype": "f8"
            },
            "sizemode": "area",
            "sizeref": 0.40873110465116275,
            "symbol": "circle"
           },
           "mode": "markers",
           "name": "",
           "orientation": "v",
           "showlegend": false,
           "type": "scatter",
           "x": {
            "bdata": "IiIiIiKugUABCdsav65FQH13J4porzJAXvv9+iKUWkA4J5Ro4HZlQGc+yEDJLlhA8wv6VJcsLkDJK8eHprxaQF100UUXPWhALzIOzGZWWUDcyc6scjNbQOIyTWwF0nZA178ZeS9zdkAU2An+07hVQKYGq8jzj01AtFDW9GO2UECkcD0KV5xSQOy3ONITXkdA67SUW1AULEDfGCohe8wiQJ78ocDcLDdAzczMzMwAhEB9mEPFnwguQGdihyMx2RxAQihTJ62+aEAL3Nlpnxs3QGIXur6Wz2FA8Q4oXuatUUDS8D+is81EQCvr023WLURAGERdkvj9dUD0u7Q8kU5WQC5Z62opTFpAq6qqqqrudEAzMzMzMy1sQA1C8mm2g15APFf5hsrxYEDvx/wWYUdtQN+1Gf7YEERAhxbZzvfzVkAibHh6JVZhQGP7iPnFaGlAGfHiSFhjLkCfzj7u3zpLQGiBcqEGKT1AA/E1mXdMV0AJ3Qyl/Wg/QAucbAN3olZAJ/xmIsKbMUA0y2MZaupIQFVOQD1SsF1ANBrUw+2yGkDLafIDCzdwQEwpc4IPP0tAcjCHCFX9W0D7OTxygidFQJ5MbAPj2UtA8jdPrCAyRUClEbNT2JFVQBsbGxsbg3RAu9d43wHqYEDgphg1/EVzQEj9QZMzsVJAeXo2MfY0U0Ce8LI4UTt2QHIsEuf3w1tA/ZUJm8v+YEBL0cPeqGRiQLrCnwS0I3pALWHhd3aMUEDNk/vp175RQKhMdj6sBHZA2AXNTIVsaUBgv1CMWLlvQHOq+JmBrFRA9sB8RwDUdUAaQ3rFOfIYQOazISTGRVJALr9CN3WJVEASl42gesZgQM3ROzmEpWRADWbLYLbMfkAfJ1qu3xFFQGZmZmZmJGxAJBQHxyXPdEDVNVa2K3BQQMNh8HkEtUhAcH815FGdaEATH2WUo9pAQNnPnCFlL1JAUjXb3S/FVUD6bvdYqxJDQGfeHeWZOU1AIiIiIiISckAPQo3IRSJTQFA0PJa2IipAmnEaq97AUkDoJhqd7QZHQA2eI1C0ZV1AVypPpzk/PUCsaGdKrz+DQF2zhxFRqGNABprpxgLOVUCG0yDnlZ4sQGp+DIsJISpA5qOJ7wPfZkBRkhHjp9ZHQE8n4iSYwn5AfE46LcTFKkB+zJ6QeuZnQGZmZmZmYn9Ap013g+qFMEA1sIo+l9EhQNIdWVtOJ3BAVPNX561nSEDtnjwsNLk2QIHTH0L0L3RA2CWVD+P+Q0DA2mZvM9swQFUWYhohDV9AGR0IcWTjXEB0W4kPhOIsQIVn+ht0e1JAJ4ZWbmJoYUD7UnaImPlVQN0S/QKQI3pAByULmAxPJkCLzgF8XfUyQMpbzMI1aFBAsRydWZcKM0BM8r3vgY1VQCdi+5uwMHJAAAAAAABUgUB1MRd1roszQKj0YI+a11RANUk7h1TYLkAREREREaxnQMs1mnXlbVlAjysPVdoFN0D0BX1BXyhQQG9605veZGhAEaC1veBNP0AZzhSANIsjQP9RToAm8l5AKwiIK4fHYEAbUnMhPlZLQOhcxc5/ridAVVVVVVWlYkDdqw5J1A1wQA4BdNgBU1FAzczMzMwcdkCtjbqQskNJQICA3dZ0Q2RAmM1MUu4LVEClMdG/DfYyQKy1zBqu40BAQL5uA4GuUEAAAAAAABBnQPdoM0hnizNAgwZEOC8NUUBIbicQHpNFQOw/Fw1PyTJAwoyQ72FDQUA=",
            "dtype": "f8"
           },
           "xaxis": "x",
           "y": {
            "bdata": "8Bl2Bci91j+hu1fFbYbPPwJ8c9hhkd4/C+Lsw2fYVT+nQVzqvifVPwAAAAAAAAAAEV1Ny0/g0j8+4OzDZ9hFPzUXkqZUnNU/AAAAAAAAAAAK2ezDZ9g1P5lScfbhM9Q/AAAAAAAAAABFb8taHRPMP1XHBA/midI/HZb8Yskvlj9oENGzkv2QP5JwoDDzfKc/6LkvrGBV1T/kF0t+seTXP2YXFTzdNc0/VVVVVVVV1T8pl937ilrYP3w/NV66SeQ/AAAAAAAAAABu1Of48uXMP/yp8dJNYlA/JHgwT9S/wT+m1vPFVRfNP96fKGjPTLc/OmDl0CLbuT8CG+i0gU5rP323Za2OCX4/UYWteHAauj9VVVVVVVXVPwAAAAAAAAAAAAAAAAAAAAAAAAAAAAAAAOZMQfAqfcw/NMZNpK1vwz8AAAAAAAAAAP5MqTj78Hk/eOC31j/M0j/+EBERERGBPwcE436o5Nc/3heSZ2bEuT/lvmnHRtTDP8gvlvxiyc8/c2geZYdG0T80473tX2GbPwAAAAAAAAAABFYOLbKd1z8AAAAAAAAAAAAAAAAAAAAA8UT9G6GMvj+xvPdh0nDTPw102kCnDdQ/YWs54sJP4D9VVVVVVVXVPzuXtdC3A8o/+o1QRm/Lqj8AAAAAAAAAADTQaQOdNrA/dKSM1BCZ0D8qzj58hl3hPwAAAAAAAAAAXK2OCR7Mkz8AAAAAAAAAAMxNYhBYObQ/AAAAAAAAAAB/4uzDZ9h1PwAAAAAAAAAAAAAAAAAAAAAMAxiAFSPTPwAAAAAAAAAAAAAAAAAAAABVVVVVVVXVP9bqmODBPNE//UYoo7dlzT/JhaQpFWe/P1VVVVVVVdU/GxrotIFOWz+J07uAFWXYPwAAAAAAAAAASgwCK4cWqT+0gU4b6LTRP7iMDYR3zLE/AAAAAAAAAAA5xCAepBDeP3tQRm/LWo0/BEZvy1odYz+n805wOr3bPwvi7MNn2GU/rCtA7jUXoj8bGui0gU5bP+A5n/mfouE/o+Lsw2fYxT8DYBu3eDOiPwAAAAAAAAAA6sVjCJ9e3D8VqfHSTWJgPxP1b4QyetM/GxrotIFOWz/J+rIX6QjTP+QAYvjBEOM/L5b8Yskvxj+/kWjP4++1PwAAAAAAAAAADO9y6acK1T/6jVBGb8u6PxTvG3e61sA/pedIILba0T9VVVVVVVXVP2q8dJMYBKY/Og+40Udvqz+lg/V/DhbRP7pY8oslv6g/8WqL/m0T0z+FBr+8zGzhPwAAAAAAAAAAAAAAAAAAAACQnhBayoTTP1VVVVVVVdU/AAAAAAAAAAC/yqFFtvPVP90kBoGVQ9M/MQf9X7i31D+gwR1ldTXeP4/C9Shcj8I/JVn58OdK3j/hehSuR+HSP3npJjEIrJw/VVVVVVVV1T8g7SqxF2vaP/yp8dJNYlA/NrxoKzK64z/clrU6JnjAPwAAAAAAAAAAyhU0lI7GzD/OsCtA7jXHP3sUrkfheoQ/x2PKdhUoxD9A7jUXkqbkP1Eqzj58hs0//Knx0k1iUD/8qfHSTWJwPwa0IA0AWtQ/j+HcHyJHpj8AAAAAAAAAABsa6LSBTls/obdlrY4J1j+TGARWDi3SP42XbhKDwNI/AAAAAAAAAACsXTg+EbTQP4CNj4J7TcE/C+Lsw2fYVT8tyfdIJ0vFP5s2KvYRK9w/wH5qvHSTiD/whJRQw0q9P4rrfl/FpOA/KBM4hIhJ1T8=",
            "dtype": "f8"
           },
           "yaxis": "y"
          }
         ],
         "name": "2010"
        },
        {
         "data": [
          {
           "hovertemplate": "<b>%{hovertext}</b><br><br>Year=2011<br>Population Density (per km²)=%{marker.size}<br>Multidimensional Poverty Index (MPI)=%{marker.color}<extra></extra>",
           "hovertext": [
            "Aruba",
            "Afghanistan",
            "Angola",
            "Albania",
            "Andorra",
            "United Arab Emirates",
            "Argentina",
            "Armenia",
            "Antigua and Barbuda",
            "Austria",
            "Azerbaijan",
            "Burundi",
            "Belgium",
            "Benin",
            "Burkina Faso",
            "Bulgaria",
            "Bosnia and Herzegovina",
            "Belarus",
            "Belize",
            "Bolivia",
            "Brazil",
            "Barbados",
            "Bhutan",
            "Central African Republic",
            "Switzerland",
            "Chile",
            "China",
            "Cote d'Ivoire",
            "Cameroon",
            "Colombia",
            "Comoros",
            "Costa Rica",
            "Cuba",
            "Curacao",
            "Cayman Islands",
            "Cyprus",
            "Czechia",
            "Germany",
            "Djibouti",
            "Dominica",
            "Denmark",
            "Dominican Republic",
            "Algeria",
            "Ecuador",
            "Eritrea",
            "Spain",
            "Estonia",
            "Ethiopia",
            "Finland",
            "Fiji",
            "France",
            "Gabon",
            "United Kingdom",
            "Georgia",
            "Ghana",
            "Guinea",
            "Guinea-Bissau",
            "Equatorial Guinea",
            "Greece",
            "Grenada",
            "Guatemala",
            "Guam",
            "Honduras",
            "Croatia",
            "Haiti",
            "Hungary",
            "Indonesia",
            "Isle of Man",
            "India",
            "Ireland",
            "Iraq",
            "Israel",
            "Italy",
            "Jamaica",
            "Jordan",
            "Japan",
            "Kazakhstan",
            "Kenya",
            "Cambodia",
            "Kiribati",
            "Kuwait",
            "Lebanon",
            "Liberia",
            "Liechtenstein",
            "Sri Lanka",
            "Lesotho",
            "Lithuania",
            "Luxembourg",
            "Latvia",
            "Morocco",
            "Moldova",
            "Madagascar",
            "Mexico",
            "Marshall Islands",
            "North Macedonia",
            "Mali",
            "Myanmar",
            "Montenegro",
            "Northern Mariana Islands",
            "Mozambique",
            "Mauritius",
            "Malawi",
            "Malaysia",
            "New Caledonia",
            "Niger",
            "Nigeria",
            "Nicaragua",
            "Netherlands",
            "Norway",
            "Nepal",
            "Nauru",
            "New Zealand",
            "Oman",
            "Pakistan",
            "Panama",
            "Peru",
            "Philippines",
            "Palau",
            "Papua New Guinea",
            "Poland",
            "Portugal",
            "Paraguay",
            "French Polynesia",
            "Qatar",
            "Romania",
            "Rwanda",
            "Saudi Arabia",
            "Sudan",
            "Senegal",
            "Solomon Islands",
            "Sierra Leone",
            "El Salvador",
            "San Marino",
            "Somalia",
            "Serbia",
            "South Sudan",
            "Sao Tome and Principe",
            "Slovenia",
            "Sweden",
            "Eswatini",
            "Seychelles",
            "Turks and Caicos Islands",
            "Chad",
            "Togo",
            "Thailand",
            "Tajikistan",
            "Turkmenistan",
            "Tonga",
            "Trinidad and Tobago",
            "Tunisia",
            "Tuvalu",
            "Tanzania",
            "Uganda",
            "Ukraine",
            "Uruguay",
            "United States",
            "Uzbekistan",
            "British Virgin Islands",
            "Vanuatu",
            "Samoa",
            "South Africa",
            "Zambia",
            "Zimbabwe"
           ],
           "legendgroup": "",
           "marker": {
            "color": {
             "bdata": "AAAAAAAAAADub3Tbi93SP46wkTUWQt4//Knx0k1iUD/2h5Q4iqy8PwAAAAAAAAAA39664Fa/0j8bGui0gU5bP0MIPnkjMdY/AAAAAAAAAABW6SHndVHSP5t9+Ay7AtQ/AAAAAAAAAABRcfbhM+zKP5MYBFYOLdI/3WCeqH8jlD8+y5uN24V2P877OLFC7qY/RYAGvXqi3T86JngwT9TXP7mdTbGxtcw/p20d+vWfyD+5Hwl+snPWP9JNYhBYOeQ/AAAAAAAAAABM15GwdpzMPwrZ7MNn2DU/KhVnHz7D3j/0SIiVF2/LP7gU5u5AdbY/yhP1b4Qyuj8L4uzDZ9hlPwIb6LSBTns/B2YzVZv2qz8AAAAAAAAAAHBqAuNfl7A/AAAAAAAAAAAAAAAAAAAAAFtXXzapj8s/L2e0FqDWwT8AAAAAAAAAAAbpJjEIrHw/Dz176Mqd0j99e82FpCmFP7jUsHqIYNc/LGjG0cRSxz/lfAmFRu7DP2yg0wY6bdA/tBvMwVs70T/HqYYxs9aZPwAAAAAAAAAAWDm0yHa+1z8AAAAAAAAAAAAAAAAAAAAA2DHBg3mivj++GVwufpPSP3PaQKcNdNI/Kmbcd9uSxD9VVVVVVVXVP4KwJkiLP7A/ShvotIFOqz/fAvMGUDy6PylrdUzwYK4/Lg7dBpU5vz9VxwQP5onKPwAAAAAAAAAAHXgwT9S/kT8AAAAAAAAAAHyx5BdLfrE/AAAAAAAAAAACG+i0gU57PwAAAAAAAAAAAw2OpyNToT8ba3VM8GCePwvi7MNn2FU/H3cC8WbEuz/FSzeJQWDVP2kuJE2pOMs/GqGM3pa1yj8zQhm9LWu1PwAAAAAAAAAAmRHuayYekD8b07LDk8DXPwAAAAAAAAAA/Me95kLSpD+IiIiIiIjQP4JaKgPu4I4/AAAAAAAAAACfO9pPsRzCPzm0yHa+n4o/Fanx0k1iYD8dh+iZ1QTYPwIb6LSBTms/peVdrqutyT/8qfHSTWJQP4EXiyoqVOE/LN0kBoGVwz+1321DYkCiP1VVVVVVVdU/dnXAoM2m2z8L4uzDZ9hVP4PAyqFFttM/GxrotIFOWz/WxpZX2+PSP5DkCenT2+I/N4lBYOXQwj+9J9HnQ42zPwAAAAAAAAAALnLjAiJv0z+BlUOLbOe7PwIb6LSBTms/QJyZyXHJ0T9VVVVVVVXVP/zHveZC0qQ/tfmMz/HNpD/WlhQyaqfQP5zi7MNn2KU/jjSl4uzDtz8Gi64k1YbhPwAAAAAAAAAAMMb3ctNL0z/M2QjOwT7TP1VVVVVVVdU/AAAAAAAAAAAAeDBP1L+BP21Zq2OCB9M/jjAEjgFx1D9GpSQ5C2zpP4/C9Shcj8I/DWr65WMf3T/n+6nx0k3SP/zlifo3Qpk/VVVVVVVV1T93Y+mghmjaP+ix6xcdKLs/2uEzpcsG7j8ZEzyYJ+q/PxgPYMQLmqM/5ruyE+eWzD8DyL3mQtLEP/5MqTj78Hk/RNldnACzwj94Eu30LFfkP+p8PzVeusk/zbgu8CiUlD8Jt2WtjgluPwvI9LZUQtQ/HbTIdr6fmj/wUhLRqnnDP289CtejcNU/exSuR+F6hD/n+6nx0k3SPwQP5on6N9I/AAAAAAAAAAAa4dfEGLPQP0tSElQaBME//Knx0k1iUD81F5KmVJzVPywtXYQ5Y9w/gUkMAiuHhj/EYzvD2Xa7P9/rNXvAmt8/Y4g0tHNi1T8=",
             "dtype": "f8"
            },
            "coloraxis": "coloraxis",
            "size": {
             "bdata": "mpmZmZnPgUB2rRxEe39GQB4xHh4MbTNAifULYNuBWkB77fIj3a9kQLuAYIFJAllABgkQAkd/LkBrwUfeqJZaQPYNa9+whmhAhSw6iE1sWUCvnWaDxo5bQNQOx6DQpndA2sse63G+dkD7VV7q6GBWQBeKCnALc05Ajw4yQAubUEDD9ShcP0VSQH5SOy8UUEdAJFWrq6CyLEBeRsarNhsjQGkdQn5XXTdAhNetQngRhECai1PQfl0uQA223PyUTx1ALOvZ2oAFaUBOogZ9RlY3QFvnzsGS6GFAnAGh5E4RUkCQExFOfGZFQE1vkYp6ZURA47jAW6FvdkBZaTc5F5JWQGtt9lWkTlpAdoMp8lk7dUAhIiIiIvZsQOjN9bkTBV9AYFNLyMT6YEDcj7ZYt71sQO7Jl1zwdURADJB7zYUEV0CmCkYldWhhQO3yFQveu2lA1Kf+5BP9LkAxlrqiP65LQKtcRtIesD1AFvim7LJhV0DmGkfjnVA/QGRYxRuZSVdADEyh9LOwMUANHBmAa/xIQEN+Kh0Y1V1AARI0Ib6pG0DsACldnFdwQGoEcT1VB0tACB4TyL6rXEB4QSNOU69FQH3lg3fVl0xAY5FLNNciRkDTvAdyrolVQE5OTk5OmnRAAAZiTTVBYUAqRg1/m0ZzQF+MzIshFVNAxO0cswMkU0Dybh/VHHx2QBmUtw/br1tAK1iWkLI2YUAUcrUuPIFiQFvoyhswg3pAa9uhJvqeUEAonJvAJ2JSQHcJ3LvPbXZAj41kEReDaUANVd+UldxvQEu/lfKCMVVA/TSzA6nJdUAozo+UKEkZQOtyhVk0yFJAAv2hVuXZVECJy0ZQPRNhQGXlWEO0+WVAQgkllFAif0DEoWnzielFQGZmZmZmXmxA8UTMP07wdEBcE/vympVQQOcE3i/FJ0hAAXjR5vEqaUAXizVTyoxAQF65ovBIb1JASV457/bBVUD4cfPJTp9DQLSgU6w+pE1An/RJn/QFckCykp603wtTQKf4SFCG/ipAqyIrJpjnUkD8Ukyvpw9HQNpq8ByBIl1ArnVPkcMSPkDjnWIPlUeDQLgYnoIrPWRAFfvW5aAwVkBalop3iSktQFmQK9WmHitAjkUwtHCFZ0By8NNxcy1IQOIkmNNo535A0BMrdUAfK0DtTeWX5gFoQGZmZmZmjn9ABvv/pUqmMEAGgkO01OEjQJ1nifvZhHBABFwovovXSEBL6gQ00eQ2QF8KF7V+lnRAZmZmZmamQ0C+JLmX21oxQD2ZOplnEV9Ak0jx2IXYXECwDGkSTUUtQKCsbaiCj1JA0uNaHz1+YUDec0FN/t1VQB3SzP21yXpA6klwKzpYJ0Dn25dk6lgzQOM6gL2901BAggiNpk3BM0DV5gXgZR9WQJBzjo96QXJAVVVVVVX9gECxmH3FNq8zQGDUXeJqr1RA7euRAsxHMEDNzMzMTCxoQJ9nHv5ue1lA1W+IXYcyN0DcAjzsYD9QQAjPESjawmdAKAK0thc8QEBIwtqf+z4kQDyFtTeGyl9A1qZbN1LiYEBVmJo9IvRLQP1teRQ4MChAjuM4juOsYkBgpxc3+C1wQBXW/KN2hFFAVVVVVVV1dkAvkoGeV/tJQIXwGTXN3WRAaujipJD7U0BA8gkUHQIzQGtpl6gTBkFAkLXJWlrwUEDNzMzMzOxnQIJ+BFsn+TNASdn5TWczUUDl9bgK09dFQGst3JPrazNAQUX62GuSQUA=",
             "dtype": "f8"
            },
            "sizemode": "area",
            "sizeref": 0.40873110465116275,
            "symbol": "circle"
           },
           "mode": "markers",
           "name": "",
           "orientation": "v",
           "showlegend": false,
           "type": "scatter",
           "x": {
            "bdata": "mpmZmZnPgUB2rRxEe39GQB4xHh4MbTNAifULYNuBWkB77fIj3a9kQLuAYIFJAllABgkQAkd/LkBrwUfeqJZaQPYNa9+whmhAhSw6iE1sWUCvnWaDxo5bQNQOx6DQpndA2sse63G+dkD7VV7q6GBWQBeKCnALc05Ajw4yQAubUEDD9ShcP0VSQH5SOy8UUEdAJFWrq6CyLEBeRsarNhsjQGkdQn5XXTdAhNetQngRhECai1PQfl0uQA223PyUTx1ALOvZ2oAFaUBOogZ9RlY3QFvnzsGS6GFAnAGh5E4RUkCQExFOfGZFQE1vkYp6ZURA47jAW6FvdkBZaTc5F5JWQGtt9lWkTlpAdoMp8lk7dUAhIiIiIvZsQOjN9bkTBV9AYFNLyMT6YEDcj7ZYt71sQO7Jl1zwdURADJB7zYUEV0CmCkYldWhhQO3yFQveu2lA1Kf+5BP9LkAxlrqiP65LQKtcRtIesD1AFvim7LJhV0DmGkfjnVA/QGRYxRuZSVdADEyh9LOwMUANHBmAa/xIQEN+Kh0Y1V1AARI0Ib6pG0DsACldnFdwQGoEcT1VB0tACB4TyL6rXEB4QSNOU69FQH3lg3fVl0xAY5FLNNciRkDTvAdyrolVQE5OTk5OmnRAAAZiTTVBYUAqRg1/m0ZzQF+MzIshFVNAxO0cswMkU0Dybh/VHHx2QBmUtw/br1tAK1iWkLI2YUAUcrUuPIFiQFvoyhswg3pAa9uhJvqeUEAonJvAJ2JSQHcJ3LvPbXZAj41kEReDaUANVd+UldxvQEu/lfKCMVVA/TSzA6nJdUAozo+UKEkZQOtyhVk0yFJAAv2hVuXZVECJy0ZQPRNhQGXlWEO0+WVAQgkllFAif0DEoWnzielFQGZmZmZmXmxA8UTMP07wdEBcE/vympVQQOcE3i/FJ0hAAXjR5vEqaUAXizVTyoxAQF65ovBIb1JASV457/bBVUD4cfPJTp9DQLSgU6w+pE1An/RJn/QFckCykp603wtTQKf4SFCG/ipAqyIrJpjnUkD8Ukyvpw9HQNpq8ByBIl1ArnVPkcMSPkDjnWIPlUeDQLgYnoIrPWRAFfvW5aAwVkBalop3iSktQFmQK9WmHitAjkUwtHCFZ0By8NNxcy1IQOIkmNNo535A0BMrdUAfK0DtTeWX5gFoQGZmZmZmjn9ABvv/pUqmMEAGgkO01OEjQJ1nifvZhHBABFwovovXSEBL6gQ00eQ2QF8KF7V+lnRAZmZmZmamQ0C+JLmX21oxQD2ZOplnEV9Ak0jx2IXYXECwDGkSTUUtQKCsbaiCj1JA0uNaHz1+YUDec0FN/t1VQB3SzP21yXpA6klwKzpYJ0Dn25dk6lgzQOM6gL2901BAggiNpk3BM0DV5gXgZR9WQJBzjo96QXJAVVVVVVX9gECxmH3FNq8zQGDUXeJqr1RA7euRAsxHMEDNzMzMTCxoQJ9nHv5ue1lA1W+IXYcyN0DcAjzsYD9QQAjPESjawmdAKAK0thc8QEBIwtqf+z4kQDyFtTeGyl9A1qZbN1LiYEBVmJo9IvRLQP1teRQ4MChAjuM4juOsYkBgpxc3+C1wQBXW/KN2hFFAVVVVVVV1dkAvkoGeV/tJQIXwGTXN3WRAaujipJD7U0BA8gkUHQIzQGtpl6gTBkFAkLXJWlrwUEDNzMzMzOxnQIJ+BFsn+TNASdn5TWczUUDl9bgK09dFQGst3JPrazNAQUX62GuSQUA=",
            "dtype": "f8"
           },
           "xaxis": "x",
           "y": {
            "bdata": "AAAAAAAAAADub3Tbi93SP46wkTUWQt4//Knx0k1iUD/2h5Q4iqy8PwAAAAAAAAAA39664Fa/0j8bGui0gU5bP0MIPnkjMdY/AAAAAAAAAABW6SHndVHSP5t9+Ay7AtQ/AAAAAAAAAABRcfbhM+zKP5MYBFYOLdI/3WCeqH8jlD8+y5uN24V2P877OLFC7qY/RYAGvXqi3T86JngwT9TXP7mdTbGxtcw/p20d+vWfyD+5Hwl+snPWP9JNYhBYOeQ/AAAAAAAAAABM15GwdpzMPwrZ7MNn2DU/KhVnHz7D3j/0SIiVF2/LP7gU5u5AdbY/yhP1b4Qyuj8L4uzDZ9hlPwIb6LSBTns/B2YzVZv2qz8AAAAAAAAAAHBqAuNfl7A/AAAAAAAAAAAAAAAAAAAAAFtXXzapj8s/L2e0FqDWwT8AAAAAAAAAAAbpJjEIrHw/Dz176Mqd0j99e82FpCmFP7jUsHqIYNc/LGjG0cRSxz/lfAmFRu7DP2yg0wY6bdA/tBvMwVs70T/HqYYxs9aZPwAAAAAAAAAAWDm0yHa+1z8AAAAAAAAAAAAAAAAAAAAA2DHBg3mivj++GVwufpPSP3PaQKcNdNI/Kmbcd9uSxD9VVVVVVVXVP4KwJkiLP7A/ShvotIFOqz/fAvMGUDy6PylrdUzwYK4/Lg7dBpU5vz9VxwQP5onKPwAAAAAAAAAAHXgwT9S/kT8AAAAAAAAAAHyx5BdLfrE/AAAAAAAAAAACG+i0gU57PwAAAAAAAAAAAw2OpyNToT8ba3VM8GCePwvi7MNn2FU/H3cC8WbEuz/FSzeJQWDVP2kuJE2pOMs/GqGM3pa1yj8zQhm9LWu1PwAAAAAAAAAAmRHuayYekD8b07LDk8DXPwAAAAAAAAAA/Me95kLSpD+IiIiIiIjQP4JaKgPu4I4/AAAAAAAAAACfO9pPsRzCPzm0yHa+n4o/Fanx0k1iYD8dh+iZ1QTYPwIb6LSBTms/peVdrqutyT/8qfHSTWJQP4EXiyoqVOE/LN0kBoGVwz+1321DYkCiP1VVVVVVVdU/dnXAoM2m2z8L4uzDZ9hVP4PAyqFFttM/GxrotIFOWz/WxpZX2+PSP5DkCenT2+I/N4lBYOXQwj+9J9HnQ42zPwAAAAAAAAAALnLjAiJv0z+BlUOLbOe7PwIb6LSBTms/QJyZyXHJ0T9VVVVVVVXVP/zHveZC0qQ/tfmMz/HNpD/WlhQyaqfQP5zi7MNn2KU/jjSl4uzDtz8Gi64k1YbhPwAAAAAAAAAAMMb3ctNL0z/M2QjOwT7TP1VVVVVVVdU/AAAAAAAAAAAAeDBP1L+BP21Zq2OCB9M/jjAEjgFx1D9GpSQ5C2zpP4/C9Shcj8I/DWr65WMf3T/n+6nx0k3SP/zlifo3Qpk/VVVVVVVV1T93Y+mghmjaP+ix6xcdKLs/2uEzpcsG7j8ZEzyYJ+q/PxgPYMQLmqM/5ruyE+eWzD8DyL3mQtLEP/5MqTj78Hk/RNldnACzwj94Eu30LFfkP+p8PzVeusk/zbgu8CiUlD8Jt2WtjgluPwvI9LZUQtQ/HbTIdr6fmj/wUhLRqnnDP289CtejcNU/exSuR+F6hD/n+6nx0k3SPwQP5on6N9I/AAAAAAAAAAAa4dfEGLPQP0tSElQaBME//Knx0k1iUD81F5KmVJzVPywtXYQ5Y9w/gUkMAiuHhj/EYzvD2Xa7P9/rNXvAmt8/Y4g0tHNi1T8=",
            "dtype": "f8"
           },
           "yaxis": "y"
          }
         ],
         "name": "2011"
        },
        {
         "data": [
          {
           "hovertemplate": "<b>%{hovertext}</b><br><br>Year=2012<br>Population Density (per km²)=%{marker.size}<br>Multidimensional Poverty Index (MPI)=%{marker.color}<extra></extra>",
           "hovertext": [
            "Aruba",
            "Afghanistan",
            "Angola",
            "Albania",
            "Andorra",
            "United Arab Emirates",
            "Argentina",
            "Armenia",
            "Antigua and Barbuda",
            "Austria",
            "Azerbaijan",
            "Burundi",
            "Belgium",
            "Benin",
            "Burkina Faso",
            "Bulgaria",
            "Bosnia and Herzegovina",
            "Belarus",
            "Belize",
            "Bolivia",
            "Brazil",
            "Barbados",
            "Bhutan",
            "Central African Republic",
            "Switzerland",
            "Chile",
            "China",
            "Cote d'Ivoire",
            "Cameroon",
            "Colombia",
            "Comoros",
            "Costa Rica",
            "Cuba",
            "Curacao",
            "Cayman Islands",
            "Cyprus",
            "Czechia",
            "Germany",
            "Djibouti",
            "Dominica",
            "Denmark",
            "Dominican Republic",
            "Algeria",
            "Ecuador",
            "Eritrea",
            "Spain",
            "Estonia",
            "Ethiopia",
            "Finland",
            "Fiji",
            "France",
            "Gabon",
            "United Kingdom",
            "Georgia",
            "Ghana",
            "Guinea",
            "Guinea-Bissau",
            "Equatorial Guinea",
            "Greece",
            "Grenada",
            "Guatemala",
            "Guam",
            "Honduras",
            "Croatia",
            "Haiti",
            "Hungary",
            "Indonesia",
            "Isle of Man",
            "India",
            "Ireland",
            "Iraq",
            "Israel",
            "Italy",
            "Jamaica",
            "Jordan",
            "Japan",
            "Kazakhstan",
            "Kenya",
            "Cambodia",
            "Kiribati",
            "Kuwait",
            "Lebanon",
            "Liberia",
            "Liechtenstein",
            "Sri Lanka",
            "Lesotho",
            "Lithuania",
            "Luxembourg",
            "Latvia",
            "Morocco",
            "Moldova",
            "Madagascar",
            "Mexico",
            "Marshall Islands",
            "North Macedonia",
            "Mali",
            "Myanmar",
            "Montenegro",
            "Northern Mariana Islands",
            "Mozambique",
            "Mauritius",
            "Malawi",
            "Malaysia",
            "New Caledonia",
            "Niger",
            "Nigeria",
            "Nicaragua",
            "Netherlands",
            "Norway",
            "Nepal",
            "Nauru",
            "New Zealand",
            "Oman",
            "Pakistan",
            "Panama",
            "Peru",
            "Philippines",
            "Palau",
            "Papua New Guinea",
            "Poland",
            "Portugal",
            "Paraguay",
            "French Polynesia",
            "Qatar",
            "Romania",
            "Rwanda",
            "Saudi Arabia",
            "Sudan",
            "Senegal",
            "Solomon Islands",
            "Sierra Leone",
            "El Salvador",
            "San Marino",
            "Somalia",
            "Serbia",
            "South Sudan",
            "Sao Tome and Principe",
            "Slovenia",
            "Sweden",
            "Eswatini",
            "Seychelles",
            "Turks and Caicos Islands",
            "Chad",
            "Togo",
            "Thailand",
            "Tajikistan",
            "Turkmenistan",
            "Tonga",
            "Trinidad and Tobago",
            "Tunisia",
            "Tuvalu",
            "Tanzania",
            "Uganda",
            "Ukraine",
            "Uruguay",
            "United States",
            "Uzbekistan",
            "British Virgin Islands",
            "Vanuatu",
            "Samoa",
            "South Africa",
            "Zambia",
            "Zimbabwe"
           ],
           "legendgroup": "",
           "marker": {
            "color": {
             "bdata": "ElT4W1MGzT8yO0XH+4nAP2GgTLuZRd0/cTX3gA4tYT9VVVVVVVXVPwAAAAAAAAAAASgP3K2G4D8bGui0gU5bPwAAAAAAAAAA7Ysleg4mpT8AAAAAAAAAAPGLJb9Y8tM/LDdYBVhOtj+uALnXXEjKP+kmMQisHNI/+o2158BVpz+9vuVG3wnKP4Ffo9DQN6Y/ipqlBfTJ1D+UirMPn2HXPzKsV3jba8w/p5PVtp6twj8t7RVW20rUPyhcj8L1KOQ/AAAAAAAAAAC0NW51VDPMPwrZ7MNn2DU/p38jlNHbwj+8bFCkz33JP1N4Ap8pU7U/yhP1b4Qyuj8bGui0gU5bP4OwK0DuNXc/rhwOTGEvwz8AAAAAAAAAAFVVVVVVVdU/HjNbX84uyT8jZHMDMOitP0Pt4UHWF9Q/EFo9g+g7wz/p1++nVZm8PwbpJjEIrHw/IOcQgyJ+0j89Rm/LWh2DP/JfCLUXwOU/VVVVVVVV1T8t31wr1AzEP0l+seQXS84/Z0W6uEOQ4T/85Yn6N0KZP4JbxlYhN7c/BFYOLbKd1z8AAAAAAAAAAAAAAAAAAAAAj8L1KFyPwj8+KjwTmbTSP3DjOYwcueI/XqQMPcHHwj9VVVVVVVXVP2D9/Ez5adE/ukkMAiuHpj8AAAAAAAAAAFqCB/NE/as/VVVVVVVV1T+/unX2S8nQP+fMhMjmotA/OxvotIFOiz8AAAAAAAAAAO391HjpJrE/jjpBrXXlwz8ERm/LWh1jPwAAAAAAAAAAVVVVVVVV1T+bOYrIu+TJPxsa6LSBTls/AAAAAAAAAABVVVVVVVXVPwLkXnMhaco/anVM8GCeyD9EmlJx9uGzPwAAAAAAAAAAGxrotIFOWz9PV+DUUc3VPwAAAAAAAAAAK5b8Yskvpj+8LWt1TPDQP8pMlfe3uJM/AAAAAAAAAACn3oK6Q3bCP8B+arx0k4g/ir9qdKjSxj9mfIKrPn7WP/p+arx0k2g/S8ETI1pW0j+LF97yfeHEPzg06EPUJec/30+Nl24Swz91o9vnGoLXP9jk5NaIhpU/sG8g8pj42j8VqfHSTWJgP/O2rNUxwdM/PuDsw2fYRT8Zmnjv1r3SP2jw3laAteI/C3TaQKcNxD84mttQNgKyPykE6906Icw/PAk/VadW0z+Le82FpCm1PxWp8dJNYmA/5BH/rvK80T9SOY/7443UP9v5fmq8dKM/bAXIveZCoj8ifuuwr0DQP2q8dJMYBKY/Qr8U1YVTuj9qBxEr5l/hPwAAAAAAAAAAVVVVVVVV1T+/8ZRssF3fPx4gSV3zacs/AAAAAAAAAAB9t2Wtjgl+P5iZmZmZmdE/a/HFWJos1D9ajP1x6g3pP4/C9Shcj8I/+GnKmxPr2z9Ei2zn+6nRP/4u3SQGgZU/VVVVVVVV1T8HuG9QAFvaP1eiu/ggn8Q/fPOtDJLG7T9cSJpScfbBP1VVVVVVVdU/Ig06DuRC2D9L8GCeqH/DP4OwK0DuNXc/LGoh5o9v3z/I3YbOPF/kP5JDi2zn+8k/+n5qvHSTaD/6fmq8dJNoP94NUb+DGNQ/4MP78kraoD8AAAAAAAAAABsa6LSBTls/a+f7qfHS1T94ME/UvxHSP/YoXI/C9dA/Jrmo1n8yuD96MXqvj5bQP+c8/AeUucA//Knx0k1iUD/DILByaJHVP7uxE03gvts/arx0kxgE1j9/ZIDT2ra4Py5rj/c0Et8/IJWPnC6Q0z8=",
             "dtype": "f8"
            },
            "coloraxis": "coloraxis",
            "size": {
             "bdata": "chzHcRwTgkDu03h1Zm1HQFwBGKL6MTRAvWrsxah2WkAlGrhFQG9kQE63tV/WBFpAkiBwZezPLkDi0HMIHo5aQLrooosuymhARinjXQuKWUDk+rtuJO1bQJlaKKfIgnhAcT3QdqridkCKw+76eA1XQBfn34fRYU9AVKzEAH6CUECPwvUopOtRQK9VoTW9RkdAv91N/1pSLUBbR9LIFWojQMMBYXIVjjdAXIXwulUghEBgk/pJFrQuQGJclYzomh1ASPhobuFJaUCmrejR4I83QN9aTjrHB2JAvJKAFu9yUkD8dVY6yQJGQGUFVdgbmkRAiUeYSVXkdkDE+PwC59VWQFGdJgeZT1pAinzWDaZodUAhIiIiIsJtQHWm24sDiF9AJf5H7doAYUAGVoapistsQDmdE+xg2kRAME/UvxEKV0Bz1xLyQXlhQDdced+GDmpAO8bcI8GcL0DGwyBf+R9MQJyRA1C2ET5A4jwdIpZlV0DE7lgX+TM/QPCHn/8e81dAnaIyY03GMUAAYtk97wlJQNsBeR0g+l1AqY+yE62rHEAyfKcshHVwQOByYQaO1EpASaxB44ZfXUAojiDaPzlGQNJa014eXU1AT6IkYYYOR0Cwd+ZN8mtVQA8PDw8Pu3RA+djduA2aYUDGqOFvU0BzQA0eUXnweFNA70ZKa9QMU0AgYbFZBdZ2QGfzpYBYi1tApqwa9LlvYUDqLKazmH5iQL2QnmMX4XpAZhEHrQuxUEALBYeZrzxTQLCb42vM2HZAkoC8WvqUaUDxmNst2v9vQNLwtBLnflVAGZwsW8LAdUArDAT1OqQZQKSMSHFBR1NAgF5fJJEqVUA/6ZM+6VNhQJ3yLlmQaGdALoDNAtj8f0DKHqtSWrNGQGZmZmZmo2xABAvBrDsZdUD1t6NHfsBQQIBAfjgt2EdAIBL4QIzHaUChp5JAkFhAQHQbgpnBrlJAZ6wsBDzBVUAhoV6bNCxEQA7Fv4PuC05A6ZM+6ZPacUAvuw0CzvhSQOUTJTtJyytAMJLj330QU0Bmh9/Q3RlHQAkUbTV47lxAGxpV8v/yPkDDHUbmSVWDQNwN8vEO1GRApDhnMS6SVkAgvvv9GbgtQG4JJryeKSxA1gLD2dMuaEAYkuPo64RIQMGcRoO9BH9AX51TgAx7K0C6Pe7HqBFoQM3MzMzMCoBAdL7h97i9MEAM6aYQ6esmQOPzoSw81nBAH5/g1cFISUARNjy9EhY3QOR5ncTc/XRApze96U1PQ0AuJIDeYNgxQFqNFbtiEV9An0ilHaW6XECoCLV1d68tQAtjqkU9p1JAXrcK4XWLYkDTDomyIMVVQK39j/rZb3tAp7YZM71YKEBoUA7AIsQzQJ8xPC2eSFFAJB1VeUV+NEA46iobqbBWQJ/dN4XHU3JAiYiIiIhugUA3aKl9Dd0zQPs5aCrKlVRAnfZUy3AFMUAhIiIioqpoQAGpDBUmiVlAs9qUap9eN0Da6S7Z0FVQQDZ4jkDR/mdAWCdVxrDoQEBqdjVPR/gkQD+OW+arUWBAU6+dXS/9YEBYh7mvQaFMQBK619OMuChAAAAAAACoYkBG268GWURwQIRr/4xit1FAdnd3d3fHdkATFLejrr1KQC1jkd42e2VAY+Ot8sLwU0BjP4pZqA4zQHPDQZwCKUFAgbZt3VoyUUCamZmZmUlpQC5QhUa/ajRAKIXgYcVbUUBoEcpF5ypGQFnP8TTIDzRAZZdsgAfcQUA=",
             "dtype": "f8"
            },
            "sizemode": "area",
            "sizeref": 0.40873110465116275,
            "symbol": "circle"
           },
           "mode": "markers",
           "name": "",
           "orientation": "v",
           "showlegend": false,
           "type": "scatter",
           "x": {
            "bdata": "chzHcRwTgkDu03h1Zm1HQFwBGKL6MTRAvWrsxah2WkAlGrhFQG9kQE63tV/WBFpAkiBwZezPLkDi0HMIHo5aQLrooosuymhARinjXQuKWUDk+rtuJO1bQJlaKKfIgnhAcT3QdqridkCKw+76eA1XQBfn34fRYU9AVKzEAH6CUECPwvUopOtRQK9VoTW9RkdAv91N/1pSLUBbR9LIFWojQMMBYXIVjjdAXIXwulUghEBgk/pJFrQuQGJclYzomh1ASPhobuFJaUCmrejR4I83QN9aTjrHB2JAvJKAFu9yUkD8dVY6yQJGQGUFVdgbmkRAiUeYSVXkdkDE+PwC59VWQFGdJgeZT1pAinzWDaZodUAhIiIiIsJtQHWm24sDiF9AJf5H7doAYUAGVoapistsQDmdE+xg2kRAME/UvxEKV0Bz1xLyQXlhQDdced+GDmpAO8bcI8GcL0DGwyBf+R9MQJyRA1C2ET5A4jwdIpZlV0DE7lgX+TM/QPCHn/8e81dAnaIyY03GMUAAYtk97wlJQNsBeR0g+l1AqY+yE62rHEAyfKcshHVwQOByYQaO1EpASaxB44ZfXUAojiDaPzlGQNJa014eXU1AT6IkYYYOR0Cwd+ZN8mtVQA8PDw8Pu3RA+djduA2aYUDGqOFvU0BzQA0eUXnweFNA70ZKa9QMU0AgYbFZBdZ2QGfzpYBYi1tApqwa9LlvYUDqLKazmH5iQL2QnmMX4XpAZhEHrQuxUEALBYeZrzxTQLCb42vM2HZAkoC8WvqUaUDxmNst2v9vQNLwtBLnflVAGZwsW8LAdUArDAT1OqQZQKSMSHFBR1NAgF5fJJEqVUA/6ZM+6VNhQJ3yLlmQaGdALoDNAtj8f0DKHqtSWrNGQGZmZmZmo2xABAvBrDsZdUD1t6NHfsBQQIBAfjgt2EdAIBL4QIzHaUChp5JAkFhAQHQbgpnBrlJAZ6wsBDzBVUAhoV6bNCxEQA7Fv4PuC05A6ZM+6ZPacUAvuw0CzvhSQOUTJTtJyytAMJLj330QU0Bmh9/Q3RlHQAkUbTV47lxAGxpV8v/yPkDDHUbmSVWDQNwN8vEO1GRApDhnMS6SVkAgvvv9GbgtQG4JJryeKSxA1gLD2dMuaEAYkuPo64RIQMGcRoO9BH9AX51TgAx7K0C6Pe7HqBFoQM3MzMzMCoBAdL7h97i9MEAM6aYQ6esmQOPzoSw81nBAH5/g1cFISUARNjy9EhY3QOR5ncTc/XRApze96U1PQ0AuJIDeYNgxQFqNFbtiEV9An0ilHaW6XECoCLV1d68tQAtjqkU9p1JAXrcK4XWLYkDTDomyIMVVQK39j/rZb3tAp7YZM71YKEBoUA7AIsQzQJ8xPC2eSFFAJB1VeUV+NEA46iobqbBWQJ/dN4XHU3JAiYiIiIhugUA3aKl9Dd0zQPs5aCrKlVRAnfZUy3AFMUAhIiIioqpoQAGpDBUmiVlAs9qUap9eN0Da6S7Z0FVQQDZ4jkDR/mdAWCdVxrDoQEBqdjVPR/gkQD+OW+arUWBAU6+dXS/9YEBYh7mvQaFMQBK619OMuChAAAAAAACoYkBG268GWURwQIRr/4xit1FAdnd3d3fHdkATFLejrr1KQC1jkd42e2VAY+Ot8sLwU0BjP4pZqA4zQHPDQZwCKUFAgbZt3VoyUUCamZmZmUlpQC5QhUa/ajRAKIXgYcVbUUBoEcpF5ypGQFnP8TTIDzRAZZdsgAfcQUA=",
            "dtype": "f8"
           },
           "xaxis": "x",
           "y": {
            "bdata": "ElT4W1MGzT8yO0XH+4nAP2GgTLuZRd0/cTX3gA4tYT9VVVVVVVXVPwAAAAAAAAAAASgP3K2G4D8bGui0gU5bPwAAAAAAAAAA7Ysleg4mpT8AAAAAAAAAAPGLJb9Y8tM/LDdYBVhOtj+uALnXXEjKP+kmMQisHNI/+o2158BVpz+9vuVG3wnKP4Ffo9DQN6Y/ipqlBfTJ1D+UirMPn2HXPzKsV3jba8w/p5PVtp6twj8t7RVW20rUPyhcj8L1KOQ/AAAAAAAAAAC0NW51VDPMPwrZ7MNn2DU/p38jlNHbwj+8bFCkz33JP1N4Ap8pU7U/yhP1b4Qyuj8bGui0gU5bP4OwK0DuNXc/rhwOTGEvwz8AAAAAAAAAAFVVVVVVVdU/HjNbX84uyT8jZHMDMOitP0Pt4UHWF9Q/EFo9g+g7wz/p1++nVZm8PwbpJjEIrHw/IOcQgyJ+0j89Rm/LWh2DP/JfCLUXwOU/VVVVVVVV1T8t31wr1AzEP0l+seQXS84/Z0W6uEOQ4T/85Yn6N0KZP4JbxlYhN7c/BFYOLbKd1z8AAAAAAAAAAAAAAAAAAAAAj8L1KFyPwj8+KjwTmbTSP3DjOYwcueI/XqQMPcHHwj9VVVVVVVXVP2D9/Ez5adE/ukkMAiuHpj8AAAAAAAAAAFqCB/NE/as/VVVVVVVV1T+/unX2S8nQP+fMhMjmotA/OxvotIFOiz8AAAAAAAAAAO391HjpJrE/jjpBrXXlwz8ERm/LWh1jPwAAAAAAAAAAVVVVVVVV1T+bOYrIu+TJPxsa6LSBTls/AAAAAAAAAABVVVVVVVXVPwLkXnMhaco/anVM8GCeyD9EmlJx9uGzPwAAAAAAAAAAGxrotIFOWz9PV+DUUc3VPwAAAAAAAAAAK5b8Yskvpj+8LWt1TPDQP8pMlfe3uJM/AAAAAAAAAACn3oK6Q3bCP8B+arx0k4g/ir9qdKjSxj9mfIKrPn7WP/p+arx0k2g/S8ETI1pW0j+LF97yfeHEPzg06EPUJec/30+Nl24Swz91o9vnGoLXP9jk5NaIhpU/sG8g8pj42j8VqfHSTWJgP/O2rNUxwdM/PuDsw2fYRT8Zmnjv1r3SP2jw3laAteI/C3TaQKcNxD84mttQNgKyPykE6906Icw/PAk/VadW0z+Le82FpCm1PxWp8dJNYmA/5BH/rvK80T9SOY/7443UP9v5fmq8dKM/bAXIveZCoj8ifuuwr0DQP2q8dJMYBKY/Qr8U1YVTuj9qBxEr5l/hPwAAAAAAAAAAVVVVVVVV1T+/8ZRssF3fPx4gSV3zacs/AAAAAAAAAAB9t2Wtjgl+P5iZmZmZmdE/a/HFWJos1D9ajP1x6g3pP4/C9Shcj8I/+GnKmxPr2z9Ei2zn+6nRP/4u3SQGgZU/VVVVVVVV1T8HuG9QAFvaP1eiu/ggn8Q/fPOtDJLG7T9cSJpScfbBP1VVVVVVVdU/Ig06DuRC2D9L8GCeqH/DP4OwK0DuNXc/LGoh5o9v3z/I3YbOPF/kP5JDi2zn+8k/+n5qvHSTaD/6fmq8dJNoP94NUb+DGNQ/4MP78kraoD8AAAAAAAAAABsa6LSBTls/a+f7qfHS1T94ME/UvxHSP/YoXI/C9dA/Jrmo1n8yuD96MXqvj5bQP+c8/AeUucA//Knx0k1iUD/DILByaJHVP7uxE03gvts/arx0kxgE1j9/ZIDT2ra4Py5rj/c0Et8/IJWPnC6Q0z8=",
            "dtype": "f8"
           },
           "yaxis": "y"
          }
         ],
         "name": "2012"
        },
        {
         "data": [
          {
           "hovertemplate": "<b>%{hovertext}</b><br><br>Year=2013<br>Population Density (per km²)=%{marker.size}<br>Multidimensional Poverty Index (MPI)=%{marker.color}<extra></extra>",
           "hovertext": [
            "Aruba",
            "Afghanistan",
            "Angola",
            "Albania",
            "Andorra",
            "United Arab Emirates",
            "Argentina",
            "Armenia",
            "Antigua and Barbuda",
            "Austria",
            "Azerbaijan",
            "Burundi",
            "Belgium",
            "Benin",
            "Burkina Faso",
            "Bulgaria",
            "Bosnia and Herzegovina",
            "Belarus",
            "Belize",
            "Bolivia",
            "Brazil",
            "Barbados",
            "Bhutan",
            "Central African Republic",
            "Canada",
            "Switzerland",
            "Chile",
            "China",
            "Cote d'Ivoire",
            "Cameroon",
            "Colombia",
            "Comoros",
            "Costa Rica",
            "Cuba",
            "Curacao",
            "Cayman Islands",
            "Cyprus",
            "Czechia",
            "Germany",
            "Djibouti",
            "Dominica",
            "Denmark",
            "Dominican Republic",
            "Algeria",
            "Ecuador",
            "Eritrea",
            "Spain",
            "Estonia",
            "Ethiopia",
            "Finland",
            "Fiji",
            "France",
            "Gabon",
            "United Kingdom",
            "Georgia",
            "Ghana",
            "Guinea",
            "Guinea-Bissau",
            "Equatorial Guinea",
            "Greece",
            "Grenada",
            "Guatemala",
            "Guam",
            "Honduras",
            "Croatia",
            "Haiti",
            "Hungary",
            "Indonesia",
            "Isle of Man",
            "India",
            "Ireland",
            "Iraq",
            "Israel",
            "Italy",
            "Jamaica",
            "Jordan",
            "Japan",
            "Kazakhstan",
            "Kenya",
            "Cambodia",
            "Kiribati",
            "Kuwait",
            "Lebanon",
            "Liberia",
            "Liechtenstein",
            "Sri Lanka",
            "Lesotho",
            "Lithuania",
            "Luxembourg",
            "Latvia",
            "Morocco",
            "Moldova",
            "Madagascar",
            "Mexico",
            "Marshall Islands",
            "North Macedonia",
            "Mali",
            "Myanmar",
            "Montenegro",
            "Northern Mariana Islands",
            "Mozambique",
            "Mauritius",
            "Malawi",
            "Malaysia",
            "New Caledonia",
            "Niger",
            "Nigeria",
            "Nicaragua",
            "Netherlands",
            "Norway",
            "Nepal",
            "Nauru",
            "New Zealand",
            "Oman",
            "Pakistan",
            "Panama",
            "Peru",
            "Philippines",
            "Palau",
            "Papua New Guinea",
            "Poland",
            "Portugal",
            "Paraguay",
            "French Polynesia",
            "Qatar",
            "Romania",
            "Rwanda",
            "Saudi Arabia",
            "Sudan",
            "Senegal",
            "Solomon Islands",
            "Sierra Leone",
            "El Salvador",
            "San Marino",
            "Somalia",
            "Serbia",
            "South Sudan",
            "Sao Tome and Principe",
            "Slovenia",
            "Sweden",
            "Eswatini",
            "Seychelles",
            "Turks and Caicos Islands",
            "Chad",
            "Togo",
            "Thailand",
            "Tajikistan",
            "Turkmenistan",
            "Tonga",
            "Trinidad and Tobago",
            "Tunisia",
            "Tuvalu",
            "Tanzania",
            "Uganda",
            "Ukraine",
            "Uruguay",
            "United States",
            "Uzbekistan",
            "British Virgin Islands",
            "Vanuatu",
            "Samoa",
            "South Africa",
            "Zambia",
            "Zimbabwe"
           ],
           "legendgroup": "",
           "marker": {
            "color": {
             "bdata": "AAAAAAAAAABzrRondYq+P2ce6KtMndw/Ctnsw2fYNT9VVVVVVVXVPwAAAAAAAAAA6P9FmHWE0j8VqfHSTWJgPxfU0q//xMY/DZ8OhcHJwT8AAAAAAAAAAA+fYVeA3NM/10H+/jvBsz8Nn2FXgNzLPz81XrpJDNI/XiqjPVryxz8bGui0gU5bP/YhzdDVV6U/GqOMGNuT1D+SXyz5xZLXP7truQeXLMw/hidksZOXzD+ih0NXaRPVP8eSXyz5xe4/VVVVVVVV1T8AAAAAAAAAAIHVWfFcIcw/AAAAAAAAAABsoNMGOm3AP4wILU4yr8c/uAA2suXNsz/iJjEIrBy6Pwvi7MNn2FU/exSuR+F6dD+Lg8cEZEPHPwAAAAAAAAAAVVVVVVVV1T/qYJYaP6K9P1zi00lgdbE/suzK77SP0j94Q1d4UHbAPwAAAAAAAAAAf+Lsw2fYdT/2TvB4QzzSPwIb6LSBTns/VFNlxj6j4T+X+zgozkLRP0cWTUIZK8Q/USrOPnyGzT8chY37ozjfP1qCB/NE/Zs/RKAb483UmD9uy1odEzzYPwAAAAAAAAAAAAAAAAAAAABiHz7DrgC5P2BMXjW71tA/QGDl0CLb0T+9fry9ma3dP1VVVVVVVdU/bfbhM+wKoD+6OiZ4ME+kPwAAAAAAAAAAnOLsw2fYpT/7FKpEowHAP3YwT9S/Eco/AAAAAAAAAAC+F0t+seSHPwAAAAAAAAAAOcOuALnXrD8AAAAAAAAAAAIb6LSBTms/AAAAAAAAAADq3fDiDgrUP7ycvymr7LI//Knx0k1iUD8AAAAAAAAAAFVVVVVVVdU/JqO3Za2OyT9Xq2OCB/PEP6wrQO41F7I/AAAAAAAAAAAL4uzDZ9hVP5Eqx+g8KNU/AAAAAAAAAAB9XQFyr7mgP5i1OiZ4MM8/MA184rWElz8AAAAAAAAAAN62Octd1cI/PUZvy1odgz8L4uzDZ9hVPzHQW4oiI9c/sXG4XUnmkz850pSKsw+fP/yp8dJNYlA/rAca4nC64D+PwvUoXI/CPwLl9Ed6WKA/AAAAAAAAAAAEf0O+IjvaPxWp8dJNYmA/aQOdNtBp0z8L4uzDZ9hVP5Oc/zsVl9I/F0boA9d64j+IbOf7qfHCP10eLZp4CLA/KH4NsOxNvT8/7nUR1T/TPxMg95oLSbM/Fanx0k1iYD+LochsUavRPzdalDheD9Q/bAXIveZCoj/8uNdcSJqiPzPn82QR288/TFVVVVVVpT8XaF1Fj7XbP0jAnotYNuE/wI2hV5T2oT9cPBdc6TfMP2Wj/hZl2dI/dPGVZMsZsT8AAAAAAAAAAEWIWF7iIrY/sCtA7jUX0j+eHtmvLtDTP5ham4JfBNw/WPKLJb9Ywj9YukKxriDbP3PaQKcNdNI//hARERERkT/OiqiJPl/JPxu1PYh+Eto/EAe4YKderz9UX0l09OHiP9nd3d3d3b0/bAnr0yrwyT/aUDnskDHMPyAiIiIiIsI/AhvotIFOez9jbNsRUxi/P5Bg5+cIPeQ/KvnFkl8syT8VqfHSTWJgPwIb6LSBTms/xm9hdIPy0z+9Azknvmu1PwAAAAAAAAAA/Knx0k1iUD/8qfHSTWKAPwll9Las1dE/ke18PzVe0j8URCWA5ia7PwXXQWjPjtA/8lPJCWhywD8+4OzDZ9hFP1Mqzj58htU/u4RRY6j14D/6oK4b2vO7PzsO3ORfI7c/JZ1vI+mH3j8+iMRFuATUPw==",
             "dtype": "f8"
            },
            "coloraxis": "coloraxis",
            "size": {
             "bdata": "q6qqqqpYgkC+JTzx8j1IQKI36kfn/DRAPBpBOUJqWkBxyNhrl/9jQKCfEz2cFFtA40LvLaMeL0CWiM+EZYlaQAV5SpCnBGlA3OwoTbGwWUBPp66aNkpcQKybcCZDaHlAYAmdZVj+dkAKAcnrFr5XQJ4LyuZGK1BAfVNYIRkuUEAUrkfhkqFRQFv96NtzREdAfSHctUL0LUAxYNmU67gjQCaHUSsovzdAxB1xR9wthEBycQrarwsvQCOBnFLNzh1AxioIUYNND0DS+vOHwJRpQP4jS6CuyTdADOjZE6AmYkCne4BjEdJSQDvuMQ9Ro0ZARZVFAWLMREBso6zFh2F3QCdzuvtYF1dAXjYtDZ1MWkDyWTeYIqd1QKmqqqqqjG5AR0BKuxEEYED8snScTAJhQGX+uqKv32xArRTkJzM+RUCcNtBpAz1XQBlz1xLyi2FAjHqPukdgakBFJFwC7SAwQOd3cDGZjExANvIn7m9wPkDhdQSP9k9XQBu711GYFz9AlgUTfxScWEAa+gKjUNsxQFEnCy77E0lAsaGcmOUhXkBV15ABpLIdQLMKjW/SkXBALeJP1um/SkCxk1ay5BZeQPVa7aYMxkZAfwNwGu8nTkB/AT5jK/9HQOwADDlTRFVAkZCQkJDcdEAulroP8/JhQNiCLdiCNXNANadrypTcU0A1xryeju5SQAUePJubLndANJMI8X1pW0AudSY4cKdhQDtWIIy0c2JA7tpJ5mg9e0CG8QvdmsdQQBPY1vjIKlRAc7FdAvdGd0ALaMP4EqJpQOcTrZWOEHBAh/bjk2qkVkAkA4EYu7h1QLGb8bI0AxpA5IpE8MfCU0Bp/6JPMHxVQBWjhr9NkWFANytwoCibaED7ILcPcouBQCEfaVaENEdAzczMzMzkbEDIpw7nHIR0QGzDNbEv71BAObu6VzmfR0C2/lfu2WFqQEjyvAj8K0BAZPUPVL/sUkArOG40vr9VQL0+Ar2UukRAV76drV5wTkBR+qRP+phxQCjV72js5lJAhXSEQSyeLEAu1DbHITpTQLkPh9T9JEdAuF+XVD6sXEDhSOVLXNs/QMMdRuZJYYNAU1YqC45tZUDo09wtzvVWQNp0AV9wSS5AKpYioL09LUAxxkn3MNloQADyyA283EhAepVojy8cf0CPwoX+oNArQBRBwDD8HWhAzczMzMxugEAZ0QdUx94wQLKt06texihApNWsLPIccUARIm/chbpJQGiz6nOVSzdAsaA8wdRjdUCTyodxvy5DQNMpgaJ7VTJA6eSiIZYMX0Bu9rRiZJJcQA7okbaRHS5ADfCCpPzDUkAcW2aLI6JkQJrTMsd4sFVAHbaXLrUafEAtzZHsULMpQOWrRUdcOjRADi4KrLPNUUC4Z47FcEE1QOJP1ZQpQVdAHR/1EtxmckB3d3d3dzWBQNCy8ia5gzRARYYUDzh8VEAB75qTjKsxQEREREREJmlA01U4BAeSWUAxRIoiiJE3QNNJDiydbFBAEON+XVJxaECYktCHTLZBQFGXCu1buyVAeAp4kFe+YECs9xrXzRZhQOcvupSUWk1A7Era7A1HKUCwBVuwBZdiQNCQERATVXBA9kBQ4qTtUUAzMzMzM+t2QAFS5PMwj0tA0O4zlU0bZkC4a1qfj+dTQADpE98wHTNApqBpO19KQUAabqa64ndRQBnotIFOa2pA9/XgrFTgNEA5HHyezINRQJ+VuBV4iUZAT+LqbO22NEAnO6zs2hxCQA==",
             "dtype": "f8"
            },
            "sizemode": "area",
            "sizeref": 0.40873110465116275,
            "symbol": "circle"
           },
           "mode": "markers",
           "name": "",
           "orientation": "v",
           "showlegend": false,
           "type": "scatter",
           "x": {
            "bdata": "q6qqqqpYgkC+JTzx8j1IQKI36kfn/DRAPBpBOUJqWkBxyNhrl/9jQKCfEz2cFFtA40LvLaMeL0CWiM+EZYlaQAV5SpCnBGlA3OwoTbGwWUBPp66aNkpcQKybcCZDaHlAYAmdZVj+dkAKAcnrFr5XQJ4LyuZGK1BAfVNYIRkuUEAUrkfhkqFRQFv96NtzREdAfSHctUL0LUAxYNmU67gjQCaHUSsovzdAxB1xR9wthEBycQrarwsvQCOBnFLNzh1AxioIUYNND0DS+vOHwJRpQP4jS6CuyTdADOjZE6AmYkCne4BjEdJSQDvuMQ9Ro0ZARZVFAWLMREBso6zFh2F3QCdzuvtYF1dAXjYtDZ1MWkDyWTeYIqd1QKmqqqqqjG5AR0BKuxEEYED8snScTAJhQGX+uqKv32xArRTkJzM+RUCcNtBpAz1XQBlz1xLyi2FAjHqPukdgakBFJFwC7SAwQOd3cDGZjExANvIn7m9wPkDhdQSP9k9XQBu711GYFz9AlgUTfxScWEAa+gKjUNsxQFEnCy77E0lAsaGcmOUhXkBV15ABpLIdQLMKjW/SkXBALeJP1um/SkCxk1ay5BZeQPVa7aYMxkZAfwNwGu8nTkB/AT5jK/9HQOwADDlTRFVAkZCQkJDcdEAulroP8/JhQNiCLdiCNXNANadrypTcU0A1xryeju5SQAUePJubLndANJMI8X1pW0AudSY4cKdhQDtWIIy0c2JA7tpJ5mg9e0CG8QvdmsdQQBPY1vjIKlRAc7FdAvdGd0ALaMP4EqJpQOcTrZWOEHBAh/bjk2qkVkAkA4EYu7h1QLGb8bI0AxpA5IpE8MfCU0Bp/6JPMHxVQBWjhr9NkWFANytwoCibaED7ILcPcouBQCEfaVaENEdAzczMzMzkbEDIpw7nHIR0QGzDNbEv71BAObu6VzmfR0C2/lfu2WFqQEjyvAj8K0BAZPUPVL/sUkArOG40vr9VQL0+Ar2UukRAV76drV5wTkBR+qRP+phxQCjV72js5lJAhXSEQSyeLEAu1DbHITpTQLkPh9T9JEdAuF+XVD6sXEDhSOVLXNs/QMMdRuZJYYNAU1YqC45tZUDo09wtzvVWQNp0AV9wSS5AKpYioL09LUAxxkn3MNloQADyyA283EhAepVojy8cf0CPwoX+oNArQBRBwDD8HWhAzczMzMxugEAZ0QdUx94wQLKt06texihApNWsLPIccUARIm/chbpJQGiz6nOVSzdAsaA8wdRjdUCTyodxvy5DQNMpgaJ7VTJA6eSiIZYMX0Bu9rRiZJJcQA7okbaRHS5ADfCCpPzDUkAcW2aLI6JkQJrTMsd4sFVAHbaXLrUafEAtzZHsULMpQOWrRUdcOjRADi4KrLPNUUC4Z47FcEE1QOJP1ZQpQVdAHR/1EtxmckB3d3d3dzWBQNCy8ia5gzRARYYUDzh8VEAB75qTjKsxQEREREREJmlA01U4BAeSWUAxRIoiiJE3QNNJDiydbFBAEON+XVJxaECYktCHTLZBQFGXCu1buyVAeAp4kFe+YECs9xrXzRZhQOcvupSUWk1A7Era7A1HKUCwBVuwBZdiQNCQERATVXBA9kBQ4qTtUUAzMzMzM+t2QAFS5PMwj0tA0O4zlU0bZkC4a1qfj+dTQADpE98wHTNApqBpO19KQUAabqa64ndRQBnotIFOa2pA9/XgrFTgNEA5HHyezINRQJ+VuBV4iUZAT+LqbO22NEAnO6zs2hxCQA==",
            "dtype": "f8"
           },
           "xaxis": "x",
           "y": {
            "bdata": "AAAAAAAAAABzrRondYq+P2ce6KtMndw/Ctnsw2fYNT9VVVVVVVXVPwAAAAAAAAAA6P9FmHWE0j8VqfHSTWJgPxfU0q//xMY/DZ8OhcHJwT8AAAAAAAAAAA+fYVeA3NM/10H+/jvBsz8Nn2FXgNzLPz81XrpJDNI/XiqjPVryxz8bGui0gU5bP/YhzdDVV6U/GqOMGNuT1D+SXyz5xZLXP7truQeXLMw/hidksZOXzD+ih0NXaRPVP8eSXyz5xe4/VVVVVVVV1T8AAAAAAAAAAIHVWfFcIcw/AAAAAAAAAABsoNMGOm3AP4wILU4yr8c/uAA2suXNsz/iJjEIrBy6Pwvi7MNn2FU/exSuR+F6dD+Lg8cEZEPHPwAAAAAAAAAAVVVVVVVV1T/qYJYaP6K9P1zi00lgdbE/suzK77SP0j94Q1d4UHbAPwAAAAAAAAAAf+Lsw2fYdT/2TvB4QzzSPwIb6LSBTns/VFNlxj6j4T+X+zgozkLRP0cWTUIZK8Q/USrOPnyGzT8chY37ozjfP1qCB/NE/Zs/RKAb483UmD9uy1odEzzYPwAAAAAAAAAAAAAAAAAAAABiHz7DrgC5P2BMXjW71tA/QGDl0CLb0T+9fry9ma3dP1VVVVVVVdU/bfbhM+wKoD+6OiZ4ME+kPwAAAAAAAAAAnOLsw2fYpT/7FKpEowHAP3YwT9S/Eco/AAAAAAAAAAC+F0t+seSHPwAAAAAAAAAAOcOuALnXrD8AAAAAAAAAAAIb6LSBTms/AAAAAAAAAADq3fDiDgrUP7ycvymr7LI//Knx0k1iUD8AAAAAAAAAAFVVVVVVVdU/JqO3Za2OyT9Xq2OCB/PEP6wrQO41F7I/AAAAAAAAAAAL4uzDZ9hVP5Eqx+g8KNU/AAAAAAAAAAB9XQFyr7mgP5i1OiZ4MM8/MA184rWElz8AAAAAAAAAAN62Octd1cI/PUZvy1odgz8L4uzDZ9hVPzHQW4oiI9c/sXG4XUnmkz850pSKsw+fP/yp8dJNYlA/rAca4nC64D+PwvUoXI/CPwLl9Ed6WKA/AAAAAAAAAAAEf0O+IjvaPxWp8dJNYmA/aQOdNtBp0z8L4uzDZ9hVP5Oc/zsVl9I/F0boA9d64j+IbOf7qfHCP10eLZp4CLA/KH4NsOxNvT8/7nUR1T/TPxMg95oLSbM/Fanx0k1iYD+LochsUavRPzdalDheD9Q/bAXIveZCoj/8uNdcSJqiPzPn82QR288/TFVVVVVVpT8XaF1Fj7XbP0jAnotYNuE/wI2hV5T2oT9cPBdc6TfMP2Wj/hZl2dI/dPGVZMsZsT8AAAAAAAAAAEWIWF7iIrY/sCtA7jUX0j+eHtmvLtDTP5ham4JfBNw/WPKLJb9Ywj9YukKxriDbP3PaQKcNdNI//hARERERkT/OiqiJPl/JPxu1PYh+Eto/EAe4YKderz9UX0l09OHiP9nd3d3d3b0/bAnr0yrwyT/aUDnskDHMPyAiIiIiIsI/AhvotIFOez9jbNsRUxi/P5Bg5+cIPeQ/KvnFkl8syT8VqfHSTWJgPwIb6LSBTms/xm9hdIPy0z+9Azknvmu1PwAAAAAAAAAA/Knx0k1iUD/8qfHSTWKAPwll9Las1dE/ke18PzVe0j8URCWA5ia7PwXXQWjPjtA/8lPJCWhywD8+4OzDZ9hFP1Mqzj58htU/u4RRY6j14D/6oK4b2vO7PzsO3ORfI7c/JZ1vI+mH3j8+iMRFuATUPw==",
            "dtype": "f8"
           },
           "yaxis": "y"
          }
         ],
         "name": "2013"
        },
        {
         "data": [
          {
           "hovertemplate": "<b>%{hovertext}</b><br><br>Year=2014<br>Population Density (per km²)=%{marker.size}<br>Multidimensional Poverty Index (MPI)=%{marker.color}<extra></extra>",
           "hovertext": [
            "Aruba",
            "Afghanistan",
            "Angola",
            "Albania",
            "Andorra",
            "United Arab Emirates",
            "Argentina",
            "Armenia",
            "Antigua and Barbuda",
            "Austria",
            "Azerbaijan",
            "Burundi",
            "Belgium",
            "Benin",
            "Burkina Faso",
            "Bulgaria",
            "Bosnia and Herzegovina",
            "Belarus",
            "Belize",
            "Bolivia",
            "Brazil",
            "Barbados",
            "Bhutan",
            "Central African Republic",
            "Canada",
            "Switzerland",
            "Chile",
            "China",
            "Cote d'Ivoire",
            "Cameroon",
            "Colombia",
            "Comoros",
            "Costa Rica",
            "Cuba",
            "Curacao",
            "Cayman Islands",
            "Cyprus",
            "Czechia",
            "Germany",
            "Djibouti",
            "Dominica",
            "Denmark",
            "Dominican Republic",
            "Algeria",
            "Ecuador",
            "Eritrea",
            "Spain",
            "Estonia",
            "Ethiopia",
            "Finland",
            "Fiji",
            "France",
            "Gabon",
            "United Kingdom",
            "Georgia",
            "Ghana",
            "Guinea",
            "Guinea-Bissau",
            "Equatorial Guinea",
            "Greece",
            "Grenada",
            "Guatemala",
            "Guam",
            "Honduras",
            "Croatia",
            "Haiti",
            "Hungary",
            "Indonesia",
            "Isle of Man",
            "India",
            "Ireland",
            "Iraq",
            "Israel",
            "Italy",
            "Jamaica",
            "Jordan",
            "Japan",
            "Kazakhstan",
            "Kenya",
            "Cambodia",
            "Kiribati",
            "Kuwait",
            "Lebanon",
            "Liberia",
            "Liechtenstein",
            "Sri Lanka",
            "Lesotho",
            "Lithuania",
            "Luxembourg",
            "Latvia",
            "Morocco",
            "Moldova",
            "Madagascar",
            "Mexico",
            "Marshall Islands",
            "North Macedonia",
            "Mali",
            "Myanmar",
            "Montenegro",
            "Northern Mariana Islands",
            "Mozambique",
            "Mauritius",
            "Malawi",
            "Malaysia",
            "New Caledonia",
            "Niger",
            "Nigeria",
            "Nicaragua",
            "Netherlands",
            "Norway",
            "Nepal",
            "Nauru",
            "New Zealand",
            "Oman",
            "Pakistan",
            "Panama",
            "Peru",
            "Philippines",
            "Palau",
            "Papua New Guinea",
            "Poland",
            "Portugal",
            "Paraguay",
            "French Polynesia",
            "Qatar",
            "Romania",
            "Rwanda",
            "Saudi Arabia",
            "Sudan",
            "Senegal",
            "Solomon Islands",
            "Sierra Leone",
            "El Salvador",
            "San Marino",
            "Somalia",
            "Serbia",
            "South Sudan",
            "Sao Tome and Principe",
            "Slovenia",
            "Sweden",
            "Eswatini",
            "Seychelles",
            "Turks and Caicos Islands",
            "Chad",
            "Togo",
            "Thailand",
            "Tajikistan",
            "Turkmenistan",
            "Tonga",
            "Trinidad and Tobago",
            "Tunisia",
            "Tuvalu",
            "Tanzania",
            "Uganda",
            "Ukraine",
            "Uruguay",
            "United States",
            "Uzbekistan",
            "British Virgin Islands",
            "Vanuatu",
            "Samoa",
            "South Africa",
            "Zambia",
            "Zimbabwe"
           ],
           "legendgroup": "",
           "marker": {
            "color": {
             "bdata": "N8IQYrdk0j/dUbgeheuhP7xyLB7Xjd0/AAAAAAAAAAAAAAAAAAAAAAAAAAAAAAAARoHX/MPO4z/8qfHSTWJQPwAAAAAAAAAA8+VlwN/Imz8AAAAAAAAAANWjcD0K19M/AAAAAAAAAAC1Za2OCR7MP9bqmODBPNE/owibKQq/kz8K2ezDZ9g1P80ojIt9IqQ/ZIuKyFZS1D/0pKjXdnXXP7+UkUWbfdE/LJ6NKrgZuj+S/UXk+CHUPyQ60VcVUuc/VVVVVVVV1T8AAAAAAAAAAP8XD0GZtMs/AAAAAAAAAACoxks3iUHAPybLGrDC/MU/DYjPUzACsz+q8dJNYhC4PxWp8dJNYmA/AHgwT9S/cT/maIj3lEnHPwAAAAAAAAAAl7jRHKm90z8AAAAAAAAAAAAAAAAAAAAAeVgwoUW6yD97UEZvy1qNPwAAAAAAAAAAexSuR+F6dD/q975VdwnSPwIb6LSBTms/fAhFuyQk1j8AAAAAAAAAABTd3+1VQcQ/QNKUirMPzz8R1EMURZ3bP9sXS36x5Jc/P5OO8luPLz/i7MNn2BXYPwAAAAAAAAAAAAAAAAAAAAAczBP1b4SyP1uWe18j588/imzHGpDq0T9vQ5+tZe3GPxAzajzio5c/mx6F61G4nj+6WPKLJb+oPwAAAAAAAAAADCD3mgtJoz/nEIEtaSXGP15zIWlKxck/AAAAAAAAAAB7FK5H4XqEPwAAAAAAAAAAy78RyuhtqT8AAAAAAAAAAAvi7MNn2GU/AAAAAAAAAABZCxLR4Xu8PzxAeWKQFK0/PuDsw2fYRT+P9SkD4AS0P1VVVVVVVdU/TRvotIFOyz9TnH34DLvCP+k1F5KmVKw/NiOJt3RkrD/8qfHSTWJQP6Euqvdb2NY/AAAAAAAAAAB7Mnpb1uqYP5kLSVMqzs4/xWiqyA7Jmj8AAAAAAAAAAH6nSoImKMM/O99PjZdugj8+4OzDZ9hFPwTjJhe/YdQ/C+Lsw2fYZT9NgLL7qOHRPz7g7MNn2EU/lUI2/etp4D93FK5H4XrEP/kLI+pUZKM/AAAAAAAAAACC1W+iIDjZPxsa6LSBTls//Y1QRm/L0j/8qfHSTWJQPwX061M0dtI/bEo+Ha1H4j+75kLSlIrDP3n4DLsC5K4/AAAAAAAAAAA4rT4YTCrTP1pzIWlKxak/GxrotIFOWz+ek2NavYTRP0btFzMGxdM/TDeJQWDloD+6haQpFWefP27+JhQiRM8/jcQgsHJooT/I1iurSa64P/J29bngDOE/AAAAAAAAAAA5acFbhWydP/zbLg1fu9I/uQ9w1Eofpz8AAAAAAAAAAH/i7MNn2HU/ggfzRP0b0T/QWuWqqKTTP8xFxGM9Vts/pHA9CtejwD8mbqOAynjZP4cW2c73U+M/fV0Bcq+5kD/CfYJPJDbIPzQOyBuwsdk/s3Mq9mYB1D/Ge9mQ3sziP/qNUEZvy7o/AAAAAAAAAABY8lIsZPHLP9nd3d3d3b0/AAAAAAAAAABVv+eWOPW7P47ThwfiGeQ/W7pJDAIrxz9dTQQ0RcprP/p+arx0k2g/TVdyPI7F0z89ggfzRP2LPwAAAAAAAAAAPuDsw2fYRT+sNYSfhzy+P1K4HoXrUdA/LiRNqTj70D9VVVVVVVXVP05/xCPFgNA/ilZJQPAmwD8+4OzDZ9hFPxkv3SQGgdU/vwIl+K4j2j9IlfwbOe6mP6iCv38N7rQ/LjZOm+ek3j8xxD8Is4XVPw==",
             "dtype": "f8"
            },
            "coloraxis": "coloraxis",
            "size": {
             "bdata": "UPqkT/qKgkBpvfOVhiNJQBLcn9o/yTVAiCJyqUVcWkA+laU4ZJxjQNP0xCzNXlxAbbavF0JxL0Bvt/iO9nZaQI0uuuiiN2lA1GVLJkvkWUCd54aDLaVcQPiJk4fWSHpAsp1/24gYd0D19J/XYHRYQHorLo8zqFBANWCERzH4T0B7FK5HCWhRQNsD41PMR0dAD0LFXAeYLkBmlUdXggckQMUiFkZf8DdAFKneQ5E6hED6Aw5W4mEvQCP675Murx1A2uHgTiqeD0DZuXGhJOVpQH/ZAVOwBjhA68XHtwFEYkAUL/PAVEhTQGnhsMdbVUdAjZllgyD8REAsTQPIKuV3QOOUAL88V1dA3AIKozpFWkBmbL+jV/J1QFRVVVVVVW9A7XGq1RRCYEClfUrC4gZhQIIAm42Q/mxAPnX2RwGhRUB9zYWkKXVXQOF6FK7HomFAo1ELvOOwakBw0LRT7nUwQI3Gbc0D9kxAP+xt4zClPkBOnAB2lz1XQLsg/nC/Aj9AzEV8J2ZHWUB7KLlfQu4xQPaMxp2eHElAjdgh/ZxGXkD30RSGTrYeQOUbtAOisXBAGaPIKSHDSkAnvZCmPM9eQFLeCjh0WEdAV0mj2nL1TkD0uw+SzvNIQMWVuyMuIFVA6+rq6ur6dECMhoD520piQPVJn/RJJ3NAx/qMrwRAVEAizF9RjslSQA8H/YcyhndAgBsxt0ZNW0DyBKAY39xhQFzi1O+5ZWJAHjo59uuVe0AYanH0HudQQFCAuDhX5FRAwn8aaHS6d0Aw3YxFEKNpQCby0h5sH3BApARUipToWEAiqjliW7F1QLH08u29ZRpA1WImTYA6VEAyJZo6Vc5VQMEWbMEWzGFALx1cO/G2aUC77bbbbmODQGAKI3KBsUdAmpmZmZkZbUB8U33+WrV0QEHRVoPnIFFA2wM+IjhuR0ANDQ/Q7QJrQHwB7fItBUBAFoz8AJIoU0CVhsBoWbxVQJLxsUDDSkVAWBUHfjvPTkClT/qkT0pxQC2l3JPw2VJAQH0mH22JLUDM3v5YKWNTQI0N7JsAMEdAYJdUPoxbXEDg/lrYnmVAQCkSCCBHaoNA4WdCV5cJZkBcs+6udltXQOwsS8W7xC5ASQ+3exFXLkAM7H75gYNpQBVpp26kNElAoj2+EOU4f0Br9hSlYiEsQFOeSyBrMGhAzczMzMzIgEA5S4X2HCcxQDZGZsAo3SlAOCE5gCtfcUAm8+z+fS1KQE0VjEoqhzdAqXwiZ4i+dUCykIUsZEFDQLh30KJE0jJA6Wabs6MGX0AHGGdMD2tcQNoTXVsoji5AA7wgKf/gUkDhcn9OvCpnQKRaC2a2m1VAjfhI/LzKfEBz6yN/h1YqQCrUk1WKyDRAmf+em2FgUkBGXpobUQo2QCQKGXcZ0VdAVu23rl15ckAAAAAAAAKBQMwi86J5QzVA+XcRTMdiVEAgUUt1a8cxQGZmZmbmnmlARFv3/XeYWUDOPHIWss03QNRnhNwWhFBAGzxHoGjTaEAor6G8hnJCQJsuANyOhSZA6rVZ8l0sYUC4X0jLDi5hQBF9KzyQGU5AmzhTnSrbKUCDLdiCLYJiQMBMM2YAZHBABpphI2ckUkAiIiIiIuJ2QASvw8fma0xAuJnr2NLEZkDez2J6gdZTQGoW265GLTNAb5/dYb9tQUBCPmSm8sJRQBhLfrHkd2tANip95EBZNUDWoAERzqtRQLHVLVsg6kZAQv49+tdhNUAcD+iY5VxCQA==",
             "dtype": "f8"
            },
            "sizemode": "area",
            "sizeref": 0.40873110465116275,
            "symbol": "circle"
           },
           "mode": "markers",
           "name": "",
           "orientation": "v",
           "showlegend": false,
           "type": "scatter",
           "x": {
            "bdata": "UPqkT/qKgkBpvfOVhiNJQBLcn9o/yTVAiCJyqUVcWkA+laU4ZJxjQNP0xCzNXlxAbbavF0JxL0Bvt/iO9nZaQI0uuuiiN2lA1GVLJkvkWUCd54aDLaVcQPiJk4fWSHpAsp1/24gYd0D19J/XYHRYQHorLo8zqFBANWCERzH4T0B7FK5HCWhRQNsD41PMR0dAD0LFXAeYLkBmlUdXggckQMUiFkZf8DdAFKneQ5E6hED6Aw5W4mEvQCP675Murx1A2uHgTiqeD0DZuXGhJOVpQH/ZAVOwBjhA68XHtwFEYkAUL/PAVEhTQGnhsMdbVUdAjZllgyD8REAsTQPIKuV3QOOUAL88V1dA3AIKozpFWkBmbL+jV/J1QFRVVVVVVW9A7XGq1RRCYEClfUrC4gZhQIIAm42Q/mxAPnX2RwGhRUB9zYWkKXVXQOF6FK7HomFAo1ELvOOwakBw0LRT7nUwQI3Gbc0D9kxAP+xt4zClPkBOnAB2lz1XQLsg/nC/Aj9AzEV8J2ZHWUB7KLlfQu4xQPaMxp2eHElAjdgh/ZxGXkD30RSGTrYeQOUbtAOisXBAGaPIKSHDSkAnvZCmPM9eQFLeCjh0WEdAV0mj2nL1TkD0uw+SzvNIQMWVuyMuIFVA6+rq6ur6dECMhoD520piQPVJn/RJJ3NAx/qMrwRAVEAizF9RjslSQA8H/YcyhndAgBsxt0ZNW0DyBKAY39xhQFzi1O+5ZWJAHjo59uuVe0AYanH0HudQQFCAuDhX5FRAwn8aaHS6d0Aw3YxFEKNpQCby0h5sH3BApARUipToWEAiqjliW7F1QLH08u29ZRpA1WImTYA6VEAyJZo6Vc5VQMEWbMEWzGFALx1cO/G2aUC77bbbbmODQGAKI3KBsUdAmpmZmZkZbUB8U33+WrV0QEHRVoPnIFFA2wM+IjhuR0ANDQ/Q7QJrQHwB7fItBUBAFoz8AJIoU0CVhsBoWbxVQJLxsUDDSkVAWBUHfjvPTkClT/qkT0pxQC2l3JPw2VJAQH0mH22JLUDM3v5YKWNTQI0N7JsAMEdAYJdUPoxbXEDg/lrYnmVAQCkSCCBHaoNA4WdCV5cJZkBcs+6udltXQOwsS8W7xC5ASQ+3exFXLkAM7H75gYNpQBVpp26kNElAoj2+EOU4f0Br9hSlYiEsQFOeSyBrMGhAzczMzMzIgEA5S4X2HCcxQDZGZsAo3SlAOCE5gCtfcUAm8+z+fS1KQE0VjEoqhzdAqXwiZ4i+dUCykIUsZEFDQLh30KJE0jJA6Wabs6MGX0AHGGdMD2tcQNoTXVsoji5AA7wgKf/gUkDhcn9OvCpnQKRaC2a2m1VAjfhI/LzKfEBz6yN/h1YqQCrUk1WKyDRAmf+em2FgUkBGXpobUQo2QCQKGXcZ0VdAVu23rl15ckAAAAAAAAKBQMwi86J5QzVA+XcRTMdiVEAgUUt1a8cxQGZmZmbmnmlARFv3/XeYWUDOPHIWss03QNRnhNwWhFBAGzxHoGjTaEAor6G8hnJCQJsuANyOhSZA6rVZ8l0sYUC4X0jLDi5hQBF9KzyQGU5AmzhTnSrbKUCDLdiCLYJiQMBMM2YAZHBABpphI2ckUkAiIiIiIuJ2QASvw8fma0xAuJnr2NLEZkDez2J6gdZTQGoW265GLTNAb5/dYb9tQUBCPmSm8sJRQBhLfrHkd2tANip95EBZNUDWoAERzqtRQLHVLVsg6kZAQv49+tdhNUAcD+iY5VxCQA==",
            "dtype": "f8"
           },
           "xaxis": "x",
           "y": {
            "bdata": "N8IQYrdk0j/dUbgeheuhP7xyLB7Xjd0/AAAAAAAAAAAAAAAAAAAAAAAAAAAAAAAARoHX/MPO4z/8qfHSTWJQPwAAAAAAAAAA8+VlwN/Imz8AAAAAAAAAANWjcD0K19M/AAAAAAAAAAC1Za2OCR7MP9bqmODBPNE/owibKQq/kz8K2ezDZ9g1P80ojIt9IqQ/ZIuKyFZS1D/0pKjXdnXXP7+UkUWbfdE/LJ6NKrgZuj+S/UXk+CHUPyQ60VcVUuc/VVVVVVVV1T8AAAAAAAAAAP8XD0GZtMs/AAAAAAAAAACoxks3iUHAPybLGrDC/MU/DYjPUzACsz+q8dJNYhC4PxWp8dJNYmA/AHgwT9S/cT/maIj3lEnHPwAAAAAAAAAAl7jRHKm90z8AAAAAAAAAAAAAAAAAAAAAeVgwoUW6yD97UEZvy1qNPwAAAAAAAAAAexSuR+F6dD/q975VdwnSPwIb6LSBTms/fAhFuyQk1j8AAAAAAAAAABTd3+1VQcQ/QNKUirMPzz8R1EMURZ3bP9sXS36x5Jc/P5OO8luPLz/i7MNn2BXYPwAAAAAAAAAAAAAAAAAAAAAczBP1b4SyP1uWe18j588/imzHGpDq0T9vQ5+tZe3GPxAzajzio5c/mx6F61G4nj+6WPKLJb+oPwAAAAAAAAAADCD3mgtJoz/nEIEtaSXGP15zIWlKxck/AAAAAAAAAAB7FK5H4XqEPwAAAAAAAAAAy78RyuhtqT8AAAAAAAAAAAvi7MNn2GU/AAAAAAAAAABZCxLR4Xu8PzxAeWKQFK0/PuDsw2fYRT+P9SkD4AS0P1VVVVVVVdU/TRvotIFOyz9TnH34DLvCP+k1F5KmVKw/NiOJt3RkrD/8qfHSTWJQP6Euqvdb2NY/AAAAAAAAAAB7Mnpb1uqYP5kLSVMqzs4/xWiqyA7Jmj8AAAAAAAAAAH6nSoImKMM/O99PjZdugj8+4OzDZ9hFPwTjJhe/YdQ/C+Lsw2fYZT9NgLL7qOHRPz7g7MNn2EU/lUI2/etp4D93FK5H4XrEP/kLI+pUZKM/AAAAAAAAAACC1W+iIDjZPxsa6LSBTls//Y1QRm/L0j/8qfHSTWJQPwX061M0dtI/bEo+Ha1H4j+75kLSlIrDP3n4DLsC5K4/AAAAAAAAAAA4rT4YTCrTP1pzIWlKxak/GxrotIFOWz+ek2NavYTRP0btFzMGxdM/TDeJQWDloD+6haQpFWefP27+JhQiRM8/jcQgsHJooT/I1iurSa64P/J29bngDOE/AAAAAAAAAAA5acFbhWydP/zbLg1fu9I/uQ9w1Eofpz8AAAAAAAAAAH/i7MNn2HU/ggfzRP0b0T/QWuWqqKTTP8xFxGM9Vts/pHA9CtejwD8mbqOAynjZP4cW2c73U+M/fV0Bcq+5kD/CfYJPJDbIPzQOyBuwsdk/s3Mq9mYB1D/Ge9mQ3sziP/qNUEZvy7o/AAAAAAAAAABY8lIsZPHLP9nd3d3d3b0/AAAAAAAAAABVv+eWOPW7P47ThwfiGeQ/W7pJDAIrxz9dTQQ0RcprP/p+arx0k2g/TVdyPI7F0z89ggfzRP2LPwAAAAAAAAAAPuDsw2fYRT+sNYSfhzy+P1K4HoXrUdA/LiRNqTj70D9VVVVVVVXVP05/xCPFgNA/ilZJQPAmwD8+4OzDZ9hFPxkv3SQGgdU/vwIl+K4j2j9IlfwbOe6mP6iCv38N7rQ/LjZOm+ek3j8xxD8Is4XVPw==",
            "dtype": "f8"
           },
           "yaxis": "y"
          }
         ],
         "name": "2014"
        },
        {
         "data": [
          {
           "hovertemplate": "<b>%{hovertext}</b><br><br>Year=2015<br>Population Density (per km²)=%{marker.size}<br>Multidimensional Poverty Index (MPI)=%{marker.color}<extra></extra>",
           "hovertext": [
            "Aruba",
            "Afghanistan",
            "Angola",
            "Albania",
            "Andorra",
            "United Arab Emirates",
            "Argentina",
            "Armenia",
            "Antigua and Barbuda",
            "Austria",
            "Azerbaijan",
            "Burundi",
            "Belgium",
            "Benin",
            "Burkina Faso",
            "Bulgaria",
            "Bosnia and Herzegovina",
            "Belarus",
            "Belize",
            "Bolivia",
            "Brazil",
            "Barbados",
            "Bhutan",
            "Botswana",
            "Central African Republic",
            "Canada",
            "Switzerland",
            "Chile",
            "China",
            "Cote d'Ivoire",
            "Cameroon",
            "Colombia",
            "Comoros",
            "Costa Rica",
            "Cuba",
            "Curacao",
            "Cayman Islands",
            "Cyprus",
            "Czechia",
            "Germany",
            "Djibouti",
            "Dominica",
            "Denmark",
            "Dominican Republic",
            "Algeria",
            "Ecuador",
            "Eritrea",
            "Spain",
            "Estonia",
            "Ethiopia",
            "Finland",
            "Fiji",
            "France",
            "Gabon",
            "United Kingdom",
            "Georgia",
            "Ghana",
            "Guinea",
            "Guinea-Bissau",
            "Equatorial Guinea",
            "Greece",
            "Grenada",
            "Guatemala",
            "Guam",
            "Honduras",
            "Croatia",
            "Haiti",
            "Hungary",
            "Indonesia",
            "Isle of Man",
            "India",
            "Ireland",
            "Iraq",
            "Israel",
            "Italy",
            "Jamaica",
            "Jordan",
            "Japan",
            "Kazakhstan",
            "Kenya",
            "Cambodia",
            "Kiribati",
            "Kuwait",
            "Lebanon",
            "Liberia",
            "Liechtenstein",
            "Sri Lanka",
            "Lesotho",
            "Lithuania",
            "Luxembourg",
            "Latvia",
            "Morocco",
            "Moldova",
            "Madagascar",
            "Mexico",
            "Marshall Islands",
            "North Macedonia",
            "Mali",
            "Myanmar",
            "Montenegro",
            "Northern Mariana Islands",
            "Mozambique",
            "Mauritius",
            "Malawi",
            "Malaysia",
            "New Caledonia",
            "Niger",
            "Nigeria",
            "Nicaragua",
            "Netherlands",
            "Norway",
            "Nepal",
            "Nauru",
            "New Zealand",
            "Oman",
            "Pakistan",
            "Panama",
            "Peru",
            "Philippines",
            "Palau",
            "Papua New Guinea",
            "Poland",
            "Portugal",
            "Paraguay",
            "French Polynesia",
            "Qatar",
            "Romania",
            "Rwanda",
            "Saudi Arabia",
            "Sudan",
            "Senegal",
            "Solomon Islands",
            "Sierra Leone",
            "El Salvador",
            "San Marino",
            "Somalia",
            "Serbia",
            "South Sudan",
            "Sao Tome and Principe",
            "Slovenia",
            "Sweden",
            "Eswatini",
            "Seychelles",
            "Turks and Caicos Islands",
            "Chad",
            "Togo",
            "Thailand",
            "Tajikistan",
            "Turkmenistan",
            "Tonga",
            "Trinidad and Tobago",
            "Tunisia",
            "Tuvalu",
            "Tanzania",
            "Uganda",
            "Ukraine",
            "Uruguay",
            "United States",
            "Uzbekistan",
            "British Virgin Islands",
            "Vanuatu",
            "Samoa",
            "South Africa",
            "Zambia",
            "Zimbabwe"
           ],
           "legendgroup": "",
           "marker": {
            "color": {
             "bdata": "qKCOBnEXxz9SuB6F61G4P82p4Ms9Zds/AAAAAAAAAAAAAAAAAAAAAAAAAAAAAAAAEefBD/xB0j8AAAAAAAAAAAAAAAAAAAAAAAAAAAAAAAAAAAAAAAAAABeSplScfeQ/AAAAAAAAAACht2WtjgnOP3pb1uqY4NE/vLArQO41hz/8qfHSTWJQP640B+ZssNc/P3bY4pkV1D8eXS5CpQ7XPwQavzD4mOE/ZxYpiXBByj/S9gvzqTHTP8ZLN4lBYOk/xwQP5on64z/lGmuritLXPwAAAAAAAAAANxh2OACSyz8AAAAAAAAAABkTPJgn6r8/hqiDS8Ghwz+AVCOIseOxP0upOPvwGbY/Fanx0k1iYD8CG+i0gU5rPzRwpXY9064/AAAAAAAAAAAAAAAAAAAAAAAAAAAAAAAAAAAAAAAAAACNC+oZJNXHP6G3Za2OCdY/AAAAAAAAAAAERm/LWh1zPx8lDE5Q1dE/kdJStlkQuj8t/VnJldTVPwAAAAAAAAAAjCYmacg7xD9JfrHkF0vOP6vDns2m3dQ/vLArQO41lz8AAAAAAAAAAHD24TPsCtg/AAAAAAAAAAAAAAAAAAAAACuW/GLJL7Y/xyVSuFYHzj/YFSD3mgvRP10Bcq+5kNw/mLyKVxx4wT97UEZvy1qdPy3QaQOdNqA/mQQC7zPVkz8MERERERGhPwAAAAAAAAAADuaJ+jdCyT8AAAAAAAAAAP4QEREREYE/v5eZjsm1wz9sFK5H4XqkPwAAAAAAAAAAFanx0k1iYD8AAAAAAAAAAJ7ktc5XBIo/6yeoHU1Xmj8K2ezDZ9g1PwAAAAAAAAAAVVVVVVVV1T+CMnpb1urIPzgmeDBP1L8/bfbhM+wKoD+nJ/G/tCqnPxUx/s6XGa8/+nhhQmMz2j8AAAAAAAAAANv5fmq8dJM/5Yn6N0IZzT9OeX+LO1iePwAAAAAAAAAANSVqLntvwz8730+Nl26CPwKwJjVKE8M/rFzLjIya0z8CG+i0gU5rP7pn2BUg95o/Ctnsw2fYNT+g6VjgEdrfP9hApw102sA/Pe8/JT4IoD8AAAAAAAAAADg/35EF4Ng/C+Lsw2fYVT9tWatjggfTPwrZ7MNn2DU/cgdpRq9n0j/YhYKGGgjiP0NERERERMQ/aukmMQisrD8AAAAAAAAAAOYESbEXF9M/uB6F61G4rj8CG+i0gU5rP+cinYmRVNE/kpMlCIl00z+bHoXrUbieP3npJjEIrJw/wIN5ov6Nzj/8uNdcSJqiP+yepXSGrrg/PH4MG43j4D8AAAAAAAAAAAAAAAAAAAAAJDbdRE2M0j8AAAAAAAAAAAAAAAAAAAAA/Knx0k1icD/elrU6JnjQP1j6MxPwRNM/ZU+r+SVV2j/YQKcNdNrAP0XaSTXID9g/CKwcWmQ74z+6haQpFWePPwAAAAAAAAAAF+Bq5d5W2T8K2ezDZ9g1P0W1WF+od+0/gZVDi2znuz8AAAAAAAAAAMcEyOtKrMs/2DHBg3mivj8AAAAAAAAAADtU+3lJd7g/rBgF0iEU5D/KWh0TPJjHPwvi7MNn2FU/AhvotIFOez9gRPcRvZzTPwAAAAAAAAAAQQe+HFNBxj+PoKDPYhBwP/5MqTj78Hk/sHJoke18zz9iyS+W/GLRP1VVVVVVVdU/fC3RzS/x1D9LE9a4X7W/PwrZ7MNn2DU/VRbEN8M7pD8zqzZpRjPZP/p+arx0k3g/YWot9/t0sz/VmtkJnpndP0wOElyZ9dQ/",
             "dtype": "f8"
            },
            "coloraxis": "coloraxis",
            "size": {
             "bdata": "fdInfdK7gkAya1z/ee9JQHjhDkH7lTZACt9YO6ZIWkCHjL12+TFjQCFYYJKI8F1Au+e/aP/FL0AmVn4dSGJaQEqQpwR5ZmlAQKD1pQMvWkC5Gee9Df1cQO5W0zc643pAmu3T3eQ6d0BidtYgEDBZQAMEzwVlKFFAkzn4L9GQT0DsUbgeLS5RQCAqq6C4T0dAIwdKFls+L0Cd754U4VUkQJHjHpsVIThAMOgL+oJGhEAZanQr17MvQNxNUnr/GQ9AJqCqY0W5HUB3FMGT8NsPQFlUNEYJMWpAaM78HNhFOECwU8xbRl9iQNden1kG2VNASSoVedsTSECOR9pZyypFQBdeREOrZ3hAkZacgA+XV0C2fjvQ2D5aQNC6wRT5PHZAd3d3d3cNcEC8kFEwYn9gQNKT0Zl2D2FAXXtb1xk/bUBEkruOKwJGQLgehetReFdAk6mCUcnCYUCL5T/J6f9qQKBEgBF6zTBAeUDp7t1gTUD4jFihe78+QJPN46GrOFdA3DtsHfQHP0Djjcwjf/dZQNzn1V1n/TFA2CBUmpMjSUCMzTCZOGJeQBR61koLrx9A+mMYf5XQcEBxznVj7c1KQNy95CRSh19Az2nrEa7xR0A9AV1Zz8NPQCxnjFSo6klA3p4iOqr8VECFhISEhBR1QHCFHtF2oWJAob2E9hIWc0AKz2s4pqNUQLCcLmp3kFJAgcEEwEjdd0DhL7F+MjRbQLby59R7EGJAT8jVuvBUYkAaeaUoqup7QIFiogMzEFFA0Onm7TN4VUCX9Y3kATR4QOwZisImmWlA8BwEr2YscEAgKd6qvQpbQJpqs3J3q3VAirzGxlnLGkDaCjUzH69UQExr4EFyIFZAxCJl4OkGYkBu66kV4eVqQArzmDCPxYNA9R6KVO8vSEDNzMzMzEptQAB348RX5nRAaLwt/phUUUDkh9OC1DhHQCuy+ggPqGtAHX18hHzHP0CbVDIOVGJTQMyvbsrUkVVAXGPY34zcRUACw3pLCyRPQBzHcRzH8XBAeDe3XAnNUkDU5WoVwnkuQA02QEMPi1NAjxs8UaI4R0Bh3K9LKv9bQO7ncfot4UBAqoQe8dxwg0DYc5OcGKdmQCgt8K0AxFdAEyT2ty77LkDlMrL6insvQP73cctGK2pAOKQ5gtiMSUDgHFdHZlx/QJ0tLidnaSxA/orSQURSaECamZmZmR2BQI1e+R1vgTFAnRZzIf4KK0CNtaog+51xQH/4yFJ2okpA7FG4HoXLN0Dh1rSzdRF2QFnIQhayUENAQZfO5IVOM0DVjQchWQFfQNSYeDj+TFxAhze4ZjoBL0CQlH/o2/pSQBo4KDAsPmlAD8rFhcWBVUCuOLutQ319QDQV/bd7vStA7JermCVtNUDfkFuADfNSQLKvcSsr2DZAZ5Jw1RdgWEAUPiBXRIlyQEREREREIoFAWIcpyjwCNkBBfcavI0hUQFAGu3vDkzFA3d3d3V0UakB23DC9ZZ1ZQIR79MJ5DjhACtI601OcUEDDcwSKtmJpQEEYaccKRENAzGpKlgxAJ0Clb0Qul5xhQHv4jOtgQmFAfCbWszLhTkCVv6D8OnQqQFVVVVVVa2JAmQMs23xxcEBpwbREH1lSQO7u7u7u1nZAo+XO/SNdTUBfkCvXvXpnQMtJtm/LwVNAzCPOXV0+M0B6062QfZFBQGhY478iElJAYCz5xZK/bEARLQHcVtQ1QJBqdZFE01FAgZgbyThhR0A9wH3WUw82QFsI2JVPnEJA",
             "dtype": "f8"
            },
            "sizemode": "area",
            "sizeref": 0.40873110465116275,
            "symbol": "circle"
           },
           "mode": "markers",
           "name": "",
           "orientation": "v",
           "showlegend": false,
           "type": "scatter",
           "x": {
            "bdata": "fdInfdK7gkAya1z/ee9JQHjhDkH7lTZACt9YO6ZIWkCHjL12+TFjQCFYYJKI8F1Au+e/aP/FL0AmVn4dSGJaQEqQpwR5ZmlAQKD1pQMvWkC5Gee9Df1cQO5W0zc643pAmu3T3eQ6d0BidtYgEDBZQAMEzwVlKFFAkzn4L9GQT0DsUbgeLS5RQCAqq6C4T0dAIwdKFls+L0Cd754U4VUkQJHjHpsVIThAMOgL+oJGhEAZanQr17MvQNxNUnr/GQ9AJqCqY0W5HUB3FMGT8NsPQFlUNEYJMWpAaM78HNhFOECwU8xbRl9iQNden1kG2VNASSoVedsTSECOR9pZyypFQBdeREOrZ3hAkZacgA+XV0C2fjvQ2D5aQNC6wRT5PHZAd3d3d3cNcEC8kFEwYn9gQNKT0Zl2D2FAXXtb1xk/bUBEkruOKwJGQLgehetReFdAk6mCUcnCYUCL5T/J6f9qQKBEgBF6zTBAeUDp7t1gTUD4jFihe78+QJPN46GrOFdA3DtsHfQHP0Djjcwjf/dZQNzn1V1n/TFA2CBUmpMjSUCMzTCZOGJeQBR61koLrx9A+mMYf5XQcEBxznVj7c1KQNy95CRSh19Az2nrEa7xR0A9AV1Zz8NPQCxnjFSo6klA3p4iOqr8VECFhISEhBR1QHCFHtF2oWJAob2E9hIWc0AKz2s4pqNUQLCcLmp3kFJAgcEEwEjdd0DhL7F+MjRbQLby59R7EGJAT8jVuvBUYkAaeaUoqup7QIFiogMzEFFA0Onm7TN4VUCX9Y3kATR4QOwZisImmWlA8BwEr2YscEAgKd6qvQpbQJpqs3J3q3VAirzGxlnLGkDaCjUzH69UQExr4EFyIFZAxCJl4OkGYkBu66kV4eVqQArzmDCPxYNA9R6KVO8vSEDNzMzMzEptQAB348RX5nRAaLwt/phUUUDkh9OC1DhHQCuy+ggPqGtAHX18hHzHP0CbVDIOVGJTQMyvbsrUkVVAXGPY34zcRUACw3pLCyRPQBzHcRzH8XBAeDe3XAnNUkDU5WoVwnkuQA02QEMPi1NAjxs8UaI4R0Bh3K9LKv9bQO7ncfot4UBAqoQe8dxwg0DYc5OcGKdmQCgt8K0AxFdAEyT2ty77LkDlMrL6insvQP73cctGK2pAOKQ5gtiMSUDgHFdHZlx/QJ0tLidnaSxA/orSQURSaECamZmZmR2BQI1e+R1vgTFAnRZzIf4KK0CNtaog+51xQH/4yFJ2okpA7FG4HoXLN0Dh1rSzdRF2QFnIQhayUENAQZfO5IVOM0DVjQchWQFfQNSYeDj+TFxAhze4ZjoBL0CQlH/o2/pSQBo4KDAsPmlAD8rFhcWBVUCuOLutQ319QDQV/bd7vStA7JermCVtNUDfkFuADfNSQLKvcSsr2DZAZ5Jw1RdgWEAUPiBXRIlyQEREREREIoFAWIcpyjwCNkBBfcavI0hUQFAGu3vDkzFA3d3d3V0UakB23DC9ZZ1ZQIR79MJ5DjhACtI601OcUEDDcwSKtmJpQEEYaccKRENAzGpKlgxAJ0Clb0Qul5xhQHv4jOtgQmFAfCbWszLhTkCVv6D8OnQqQFVVVVVVa2JAmQMs23xxcEBpwbREH1lSQO7u7u7u1nZAo+XO/SNdTUBfkCvXvXpnQMtJtm/LwVNAzCPOXV0+M0B6062QfZFBQGhY478iElJAYCz5xZK/bEARLQHcVtQ1QJBqdZFE01FAgZgbyThhR0A9wH3WUw82QFsI2JVPnEJA",
            "dtype": "f8"
           },
           "xaxis": "x",
           "y": {
            "bdata": "qKCOBnEXxz9SuB6F61G4P82p4Ms9Zds/AAAAAAAAAAAAAAAAAAAAAAAAAAAAAAAAEefBD/xB0j8AAAAAAAAAAAAAAAAAAAAAAAAAAAAAAAAAAAAAAAAAABeSplScfeQ/AAAAAAAAAACht2WtjgnOP3pb1uqY4NE/vLArQO41hz/8qfHSTWJQP640B+ZssNc/P3bY4pkV1D8eXS5CpQ7XPwQavzD4mOE/ZxYpiXBByj/S9gvzqTHTP8ZLN4lBYOk/xwQP5on64z/lGmuritLXPwAAAAAAAAAANxh2OACSyz8AAAAAAAAAABkTPJgn6r8/hqiDS8Ghwz+AVCOIseOxP0upOPvwGbY/Fanx0k1iYD8CG+i0gU5rPzRwpXY9064/AAAAAAAAAAAAAAAAAAAAAAAAAAAAAAAAAAAAAAAAAACNC+oZJNXHP6G3Za2OCdY/AAAAAAAAAAAERm/LWh1zPx8lDE5Q1dE/kdJStlkQuj8t/VnJldTVPwAAAAAAAAAAjCYmacg7xD9JfrHkF0vOP6vDns2m3dQ/vLArQO41lz8AAAAAAAAAAHD24TPsCtg/AAAAAAAAAAAAAAAAAAAAACuW/GLJL7Y/xyVSuFYHzj/YFSD3mgvRP10Bcq+5kNw/mLyKVxx4wT97UEZvy1qdPy3QaQOdNqA/mQQC7zPVkz8MERERERGhPwAAAAAAAAAADuaJ+jdCyT8AAAAAAAAAAP4QEREREYE/v5eZjsm1wz9sFK5H4XqkPwAAAAAAAAAAFanx0k1iYD8AAAAAAAAAAJ7ktc5XBIo/6yeoHU1Xmj8K2ezDZ9g1PwAAAAAAAAAAVVVVVVVV1T+CMnpb1urIPzgmeDBP1L8/bfbhM+wKoD+nJ/G/tCqnPxUx/s6XGa8/+nhhQmMz2j8AAAAAAAAAANv5fmq8dJM/5Yn6N0IZzT9OeX+LO1iePwAAAAAAAAAANSVqLntvwz8730+Nl26CPwKwJjVKE8M/rFzLjIya0z8CG+i0gU5rP7pn2BUg95o/Ctnsw2fYNT+g6VjgEdrfP9hApw102sA/Pe8/JT4IoD8AAAAAAAAAADg/35EF4Ng/C+Lsw2fYVT9tWatjggfTPwrZ7MNn2DU/cgdpRq9n0j/YhYKGGgjiP0NERERERMQ/aukmMQisrD8AAAAAAAAAAOYESbEXF9M/uB6F61G4rj8CG+i0gU5rP+cinYmRVNE/kpMlCIl00z+bHoXrUbieP3npJjEIrJw/wIN5ov6Nzj/8uNdcSJqiP+yepXSGrrg/PH4MG43j4D8AAAAAAAAAAAAAAAAAAAAAJDbdRE2M0j8AAAAAAAAAAAAAAAAAAAAA/Knx0k1icD/elrU6JnjQP1j6MxPwRNM/ZU+r+SVV2j/YQKcNdNrAP0XaSTXID9g/CKwcWmQ74z+6haQpFWePPwAAAAAAAAAAF+Bq5d5W2T8K2ezDZ9g1P0W1WF+od+0/gZVDi2znuz8AAAAAAAAAAMcEyOtKrMs/2DHBg3mivj8AAAAAAAAAADtU+3lJd7g/rBgF0iEU5D/KWh0TPJjHPwvi7MNn2FU/AhvotIFOez9gRPcRvZzTPwAAAAAAAAAAQQe+HFNBxj+PoKDPYhBwP/5MqTj78Hk/sHJoke18zz9iyS+W/GLRP1VVVVVVVdU/fC3RzS/x1D9LE9a4X7W/PwrZ7MNn2DU/VRbEN8M7pD8zqzZpRjPZP/p+arx0k3g/YWot9/t0sz/VmtkJnpndP0wOElyZ9dQ/",
            "dtype": "f8"
           },
           "yaxis": "y"
          }
         ],
         "name": "2015"
        },
        {
         "data": [
          {
           "hovertemplate": "<b>%{hovertext}</b><br><br>Year=2016<br>Population Density (per km²)=%{marker.size}<br>Multidimensional Poverty Index (MPI)=%{marker.color}<extra></extra>",
           "hovertext": [
            "Aruba",
            "Afghanistan",
            "Angola",
            "Albania",
            "Andorra",
            "United Arab Emirates",
            "Argentina",
            "Armenia",
            "Antigua and Barbuda",
            "Austria",
            "Azerbaijan",
            "Burundi",
            "Belgium",
            "Benin",
            "Burkina Faso",
            "Bulgaria",
            "Bosnia and Herzegovina",
            "Belarus",
            "Belize",
            "Bolivia",
            "Brazil",
            "Barbados",
            "Bhutan",
            "Botswana",
            "Central African Republic",
            "Canada",
            "Switzerland",
            "Chile",
            "China",
            "Cote d'Ivoire",
            "Cameroon",
            "Colombia",
            "Comoros",
            "Costa Rica",
            "Cuba",
            "Curacao",
            "Cayman Islands",
            "Cyprus",
            "Czechia",
            "Germany",
            "Djibouti",
            "Dominica",
            "Denmark",
            "Dominican Republic",
            "Algeria",
            "Ecuador",
            "Eritrea",
            "Spain",
            "Estonia",
            "Ethiopia",
            "Finland",
            "Fiji",
            "France",
            "Gabon",
            "United Kingdom",
            "Georgia",
            "Ghana",
            "Guinea",
            "Guinea-Bissau",
            "Equatorial Guinea",
            "Greece",
            "Grenada",
            "Guatemala",
            "Guam",
            "Guyana",
            "Honduras",
            "Croatia",
            "Haiti",
            "Hungary",
            "Indonesia",
            "Isle of Man",
            "India",
            "Ireland",
            "Iraq",
            "Israel",
            "Italy",
            "Jamaica",
            "Jordan",
            "Japan",
            "Kazakhstan",
            "Kenya",
            "Cambodia",
            "Kiribati",
            "Kuwait",
            "Lebanon",
            "Liberia",
            "Liechtenstein",
            "Sri Lanka",
            "Lesotho",
            "Lithuania",
            "Luxembourg",
            "Latvia",
            "Morocco",
            "Moldova",
            "Madagascar",
            "Mexico",
            "Marshall Islands",
            "North Macedonia",
            "Mali",
            "Myanmar",
            "Montenegro",
            "Northern Mariana Islands",
            "Mozambique",
            "Mauritania",
            "Mauritius",
            "Malawi",
            "Malaysia",
            "New Caledonia",
            "Niger",
            "Nigeria",
            "Nicaragua",
            "Netherlands",
            "Norway",
            "Nepal",
            "Nauru",
            "New Zealand",
            "Oman",
            "Pakistan",
            "Panama",
            "Peru",
            "Philippines",
            "Palau",
            "Papua New Guinea",
            "Poland",
            "Portugal",
            "Paraguay",
            "French Polynesia",
            "Qatar",
            "Romania",
            "Rwanda",
            "Saudi Arabia",
            "Sudan",
            "Senegal",
            "Solomon Islands",
            "Sierra Leone",
            "El Salvador",
            "San Marino",
            "Somalia",
            "Serbia",
            "South Sudan",
            "Sao Tome and Principe",
            "Slovenia",
            "Sweden",
            "Eswatini",
            "Seychelles",
            "Turks and Caicos Islands",
            "Chad",
            "Togo",
            "Thailand",
            "Tajikistan",
            "Turkmenistan",
            "Tonga",
            "Trinidad and Tobago",
            "Tunisia",
            "Tuvalu",
            "Tanzania",
            "Uganda",
            "Ukraine",
            "Uruguay",
            "United States",
            "Uzbekistan",
            "British Virgin Islands",
            "Vanuatu",
            "Samoa",
            "South Africa",
            "Zambia",
            "Zimbabwe"
           ],
           "legendgroup": "",
           "marker": {
            "color": {
             "bdata": "AAAAAAAAAACBhaQpFWd/P6qwQZo+9+c/Ctnsw2fYNT8AAAAAAAAAAAAAAAAAAAAASDywbqO74z/YRUnmHO22PwAAAAAAAAAAAAAAAAAAAABVVVVVVVXVP7pMJTDV5d4/AAAAAAAAAADhehSuR+HKP5ZuEoPAytE/O99PjZdugj8AAAAAAAAAAL3DTCwSitc/oos7iLRK2j9KIWwWbenWPxArUMNejOE/AAAAAAAAAADYojXqfUfSP5GmVJx9+Nw/gJVDi2zn4z9VVVVVVVXVPwAAAAAAAAAAuCVWu5Ugyz8AAAAAAAAAABBYObTIdr4/VAsKKKqPwT/3Dkkd2dGwP+tgnqh/I7Q/GxrotIFOWz+IqWYQQxStP9CIvf5LaM0/AAAAAAAAAAAAAAAAAAAAAAAAAAAAAAAAAAAAAAAAAABc0F2XabzGP323Za2OCX4/AAAAAAAAAAAJt2WtjgluP1g/YGOqpdE/A8nKBaaPyD9A9ErXnn7VPwAAAAAAAAAAGWPYzlA5xD/CrgC511zIP+72ZqhhC9E/nkkMAiuHlj+nRYTmx9mPP6wcWmQ739c/AAAAAAAAAAAAAAAAAAAAAESLbOf7qbE/7D+bxD5MzT+mm8QgsHLQPyMGgZVDi9w/mtO/2kxZvT9aggfzRP2bP1qCB/NE/Zs///e1DZ1Etz+uR+F6FK7XP3npJjEIrJw/AAAAAAAAAADSvxHK6G3JPwAAAAAAAAAA/Knx0k1igD8AAAAAAAAAAB14ME/Uv6E/AAAAAAAAAAD8qfHSTWJQPwAAAAAAAAAAAAAAAAAAAAC8sCtA7jWHPwAAAAAAAAAA+4gl01ACnD9VVVVVVVXVP5t9+Ay7AsQ/ObTIdr6fuj/85Yn6N0KZPwAAAAAAAAAAPuDsw2fYRT/gN721uAfiPwAAAAAAAAAA/hARERERgT9JxdmHz7DLP/kmxMbWeKE/AAAAAAAAAADBJZDubL7DP7LdlKdv/q4/Ctnsw2fYNT+lr3LYoi3TPxsa6LSBTls/ezJ6W9bqmD8AAAAAAAAAAEHFZjWXVd8/iGzn+6nxwj8jEVQOFkefPwAAAAAAAAAA07Qfqsre1z+9LWt1TPDgP/yp8dJNYlA/+2LJL5b80j8K2ezDZ9g1P3kz3LLHZdI/fstkefbU4T+wf56QoErbPwr1b4Qyeqs/AAAAAAAAAABmHmkU7gXTP+vaAFGOD7g//Knx0k1iUD/IHhVbRx7RP+mlEQWrGdM/WoIH80T9mz8bTak4+/CZP+RZXPb+Fc4/OxvotIFOmz8VxRwvu0XQP/yyrI9rSOE/AAAAAAAAAAAAAAAAAAAAAIhDhWSEntI/AAAAAAAAAAAAAAAAAAAAAPp+arx0k2g/haQpFWcfzj+tjAELIgLTP1Cu73lQctk/SX6x5BdLvj+RJDbBdvbWP2YfPsOuANE/OxvotIFOiz8AAAAAAAAAAGGzRqVr5tg/Ctnsw2fYNT9qywSwT93iP+ImMQisHLo/AAAAAAAAAAC/MzsoPFnLPwisHFpkO78/AAAAAAAAAABksIo8P6C0P7IM1vCIfO4/fiOU0duyxj8K2ezDZ9g1PwRGb8taHWM/5PUNddJy0z97FK5H4XqEP1VVVVVVVdU/AAAAAAAAAAA730+Nl26CP3npJjEIrMw/eKL+jVBGzz8AAAAAAAAAALsskBbebtA/TuvJMQYevz8K2ezDZ9g1PwAAAAAAAAAA+tClG9vD1z8Jt2WtjgluP1mdAi4pQL0/5AiP1CFQ3D9XvbuXhorUPw==",
             "dtype": "f8"
            },
            "coloraxis": "coloraxis",
            "size": {
             "bdata": "pU/6pE/ggkAoNMff/JlKQMuKBFKDaDdA7aD3b+Y9WkBYTet4czJjQPlhb+nmc19A/PSOkZgKMEBrHLysoUZaQDMzMzMzj2lA6PiZzOR3WkAPQj7SeVBdQCjBAfHFWntAVccWWRRZd0CvjrCJbe9ZQJNfLPnFqlFAc1woNZYoT0Bcj8L1QPVQQOVu3lz1VEdAY1OxtEb6L0C5ReAUA6QkQKTjfvVUUDhALJ3kwNJRhEDxT1b9oQEwQJQYrT3Xiw9AxfASHehDHkAjgEgzYBwQQAJCHpioempAojxfoHOROEDkRy7rTXpiQMrBiXOSblRAuiHfreXOSEDPmEGivGBFQBTkzqAj6XhAXgHsqG3UV0BYTy+/NjlaQJuTQFyoeXZAq6qqqqpucECvpDPdXrxgQD+eoubbF2FAQ1xmZch7bUBe3a/x62FGQMHKoUW2M1dAxSCwcmjmYUCNSp/+JU1rQHOTginRJjFA5ixX2FTPTUBGgCrQBvA+QJPlX2xCPVdAFiMVPkQKP0C4zr9d9q1aQAHxPuSoCjJAw2KENLInSUCMAMHBxXZeQNKajB1jTSBARXJRb+jycEB3HiF5CNJKQHepSPaSIGBA1gakYA+RSEAVLe/EUElQQGI491hG4kpAVtExoV3mVEDi4eHh4Sl1QMmULbUo+mJAY9TwtykCc0Dv9vg0gA0PQMJxxF7KB1VA0AaIHh5dUkA70sejVDN4QAPyEOEvGVtASZv/73BCYkDdEqd+z01iQKB8sfxVQHxAUyyEqKZIUUDVDr/DOv1VQN1RL0yrrnhAUwdw0bSMaUACgu49TjdwQB/GfICQWVxA1KqrZ6GodUCp67zZVjUbQBKUo0dTJVVAFv3qgqxzVkA0ua/CnEhiQJsap7xLFmxA4YILLrhQg0DGsoWuvq9IQDMzMzMzd21ANZvaa1IjdUBUFlcXAotRQG4DtdTW80ZApXX1+09CbECb3FjgeX0/QL/m/4r1nVNAD2Bzq/tRVUBAzcxzvHBGQLWk7b+tcU9AzczMzMyQcECIH6ZPpL1SQD/FGofLdC9ARr7EkuGyU0ATwXCWUD9HQKStBs8RmFtAOzyrXLFhQUBxpHMTL7gPQGa7b6NIdINAXzn381lHZ0DgNTJMezBYQPc+RiFTAi9AGjj565ZUMEAWF+Jc79JqQCvjC89k5UlAL8AYJj2Hf0AAznUzw6ksQOH1UInEb2hAAAAAAABsgUBIZjg1OucxQNTR/ay+XyxAy5msoxfZcUBuoCkCWxlLQAskKH5MHThAGBdy/cdddkDoCBRtNVhDQGb60T4GyjNApkgl4O/9XkA9FkeQLDZcQAUkh5s9dS9AIY5sFM0RU0CVf9+Eh6tqQFR6swxHYlVAP8UgO1EyfkCD3gE4e8wsQPdlK+h1FjZAtbl4E7aFU0Ammj9BM6o3QD41Y5vD9FhADGxQXWiWckB3d3d3dz2BQDkyEVNS3zZA+wjZ/wQtVEAVgALaXCMxQCEiIiKihWpAr5se8jKiWUB5f0iaV1w4QPdG0j88tVBAULTV4Dm6aUCnfs8tcSpEQGwR+PvT/SdAP3CEcV8PYkD8KEC/XFZhQCg5ck4JrE9A6qULyWoRK0Cf9Emf9FFiQGsqq6msfnBAi145QDKNUkBVVVVVVcV2QMuNsHGvYU5A30RDdMRFaEDOIniXOq9TQD8xnefXTjNA2axUjPa0QUBTWap4qGJSQBnotIFOO2xADJM92gxSNkCVL3/3GPpRQP3l+JnHmUdAKXPkzsrANkC+YnIG6d5CQA==",
             "dtype": "f8"
            },
            "sizemode": "area",
            "sizeref": 0.40873110465116275,
            "symbol": "circle"
           },
           "mode": "markers",
           "name": "",
           "orientation": "v",
           "showlegend": false,
           "type": "scatter",
           "x": {
            "bdata": "pU/6pE/ggkAoNMff/JlKQMuKBFKDaDdA7aD3b+Y9WkBYTet4czJjQPlhb+nmc19A/PSOkZgKMEBrHLysoUZaQDMzMzMzj2lA6PiZzOR3WkAPQj7SeVBdQCjBAfHFWntAVccWWRRZd0CvjrCJbe9ZQJNfLPnFqlFAc1woNZYoT0Bcj8L1QPVQQOVu3lz1VEdAY1OxtEb6L0C5ReAUA6QkQKTjfvVUUDhALJ3kwNJRhEDxT1b9oQEwQJQYrT3Xiw9AxfASHehDHkAjgEgzYBwQQAJCHpioempAojxfoHOROEDkRy7rTXpiQMrBiXOSblRAuiHfreXOSEDPmEGivGBFQBTkzqAj6XhAXgHsqG3UV0BYTy+/NjlaQJuTQFyoeXZAq6qqqqpucECvpDPdXrxgQD+eoubbF2FAQ1xmZch7bUBe3a/x62FGQMHKoUW2M1dAxSCwcmjmYUCNSp/+JU1rQHOTginRJjFA5ixX2FTPTUBGgCrQBvA+QJPlX2xCPVdAFiMVPkQKP0C4zr9d9q1aQAHxPuSoCjJAw2KENLInSUCMAMHBxXZeQNKajB1jTSBARXJRb+jycEB3HiF5CNJKQHepSPaSIGBA1gakYA+RSEAVLe/EUElQQGI491hG4kpAVtExoV3mVEDi4eHh4Sl1QMmULbUo+mJAY9TwtykCc0Dv9vg0gA0PQMJxxF7KB1VA0AaIHh5dUkA70sejVDN4QAPyEOEvGVtASZv/73BCYkDdEqd+z01iQKB8sfxVQHxAUyyEqKZIUUDVDr/DOv1VQN1RL0yrrnhAUwdw0bSMaUACgu49TjdwQB/GfICQWVxA1KqrZ6GodUCp67zZVjUbQBKUo0dTJVVAFv3qgqxzVkA0ua/CnEhiQJsap7xLFmxA4YILLrhQg0DGsoWuvq9IQDMzMzMzd21ANZvaa1IjdUBUFlcXAotRQG4DtdTW80ZApXX1+09CbECb3FjgeX0/QL/m/4r1nVNAD2Bzq/tRVUBAzcxzvHBGQLWk7b+tcU9AzczMzMyQcECIH6ZPpL1SQD/FGofLdC9ARr7EkuGyU0ATwXCWUD9HQKStBs8RmFtAOzyrXLFhQUBxpHMTL7gPQGa7b6NIdINAXzn381lHZ0DgNTJMezBYQPc+RiFTAi9AGjj565ZUMEAWF+Jc79JqQCvjC89k5UlAL8AYJj2Hf0AAznUzw6ksQOH1UInEb2hAAAAAAABsgUBIZjg1OucxQNTR/ay+XyxAy5msoxfZcUBuoCkCWxlLQAskKH5MHThAGBdy/cdddkDoCBRtNVhDQGb60T4GyjNApkgl4O/9XkA9FkeQLDZcQAUkh5s9dS9AIY5sFM0RU0CVf9+Eh6tqQFR6swxHYlVAP8UgO1EyfkCD3gE4e8wsQPdlK+h1FjZAtbl4E7aFU0Ammj9BM6o3QD41Y5vD9FhADGxQXWiWckB3d3d3dz2BQDkyEVNS3zZA+wjZ/wQtVEAVgALaXCMxQCEiIiKihWpAr5se8jKiWUB5f0iaV1w4QPdG0j88tVBAULTV4Dm6aUCnfs8tcSpEQGwR+PvT/SdAP3CEcV8PYkD8KEC/XFZhQCg5ck4JrE9A6qULyWoRK0Cf9Emf9FFiQGsqq6msfnBAi145QDKNUkBVVVVVVcV2QMuNsHGvYU5A30RDdMRFaEDOIniXOq9TQD8xnefXTjNA2axUjPa0QUBTWap4qGJSQBnotIFOO2xADJM92gxSNkCVL3/3GPpRQP3l+JnHmUdAKXPkzsrANkC+YnIG6d5CQA==",
            "dtype": "f8"
           },
           "xaxis": "x",
           "y": {
            "bdata": "AAAAAAAAAACBhaQpFWd/P6qwQZo+9+c/Ctnsw2fYNT8AAAAAAAAAAAAAAAAAAAAASDywbqO74z/YRUnmHO22PwAAAAAAAAAAAAAAAAAAAABVVVVVVVXVP7pMJTDV5d4/AAAAAAAAAADhehSuR+HKP5ZuEoPAytE/O99PjZdugj8AAAAAAAAAAL3DTCwSitc/oos7iLRK2j9KIWwWbenWPxArUMNejOE/AAAAAAAAAADYojXqfUfSP5GmVJx9+Nw/gJVDi2zn4z9VVVVVVVXVPwAAAAAAAAAAuCVWu5Ugyz8AAAAAAAAAABBYObTIdr4/VAsKKKqPwT/3Dkkd2dGwP+tgnqh/I7Q/GxrotIFOWz+IqWYQQxStP9CIvf5LaM0/AAAAAAAAAAAAAAAAAAAAAAAAAAAAAAAAAAAAAAAAAABc0F2XabzGP323Za2OCX4/AAAAAAAAAAAJt2WtjgluP1g/YGOqpdE/A8nKBaaPyD9A9ErXnn7VPwAAAAAAAAAAGWPYzlA5xD/CrgC511zIP+72ZqhhC9E/nkkMAiuHlj+nRYTmx9mPP6wcWmQ739c/AAAAAAAAAAAAAAAAAAAAAESLbOf7qbE/7D+bxD5MzT+mm8QgsHLQPyMGgZVDi9w/mtO/2kxZvT9aggfzRP2bP1qCB/NE/Zs///e1DZ1Etz+uR+F6FK7XP3npJjEIrJw/AAAAAAAAAADSvxHK6G3JPwAAAAAAAAAA/Knx0k1igD8AAAAAAAAAAB14ME/Uv6E/AAAAAAAAAAD8qfHSTWJQPwAAAAAAAAAAAAAAAAAAAAC8sCtA7jWHPwAAAAAAAAAA+4gl01ACnD9VVVVVVVXVP5t9+Ay7AsQ/ObTIdr6fuj/85Yn6N0KZPwAAAAAAAAAAPuDsw2fYRT/gN721uAfiPwAAAAAAAAAA/hARERERgT9JxdmHz7DLP/kmxMbWeKE/AAAAAAAAAADBJZDubL7DP7LdlKdv/q4/Ctnsw2fYNT+lr3LYoi3TPxsa6LSBTls/ezJ6W9bqmD8AAAAAAAAAAEHFZjWXVd8/iGzn+6nxwj8jEVQOFkefPwAAAAAAAAAA07Qfqsre1z+9LWt1TPDgP/yp8dJNYlA/+2LJL5b80j8K2ezDZ9g1P3kz3LLHZdI/fstkefbU4T+wf56QoErbPwr1b4Qyeqs/AAAAAAAAAABmHmkU7gXTP+vaAFGOD7g//Knx0k1iUD/IHhVbRx7RP+mlEQWrGdM/WoIH80T9mz8bTak4+/CZP+RZXPb+Fc4/OxvotIFOmz8VxRwvu0XQP/yyrI9rSOE/AAAAAAAAAAAAAAAAAAAAAIhDhWSEntI/AAAAAAAAAAAAAAAAAAAAAPp+arx0k2g/haQpFWcfzj+tjAELIgLTP1Cu73lQctk/SX6x5BdLvj+RJDbBdvbWP2YfPsOuANE/OxvotIFOiz8AAAAAAAAAAGGzRqVr5tg/Ctnsw2fYNT9qywSwT93iP+ImMQisHLo/AAAAAAAAAAC/MzsoPFnLPwisHFpkO78/AAAAAAAAAABksIo8P6C0P7IM1vCIfO4/fiOU0duyxj8K2ezDZ9g1PwRGb8taHWM/5PUNddJy0z97FK5H4XqEP1VVVVVVVdU/AAAAAAAAAAA730+Nl26CP3npJjEIrMw/eKL+jVBGzz8AAAAAAAAAALsskBbebtA/TuvJMQYevz8K2ezDZ9g1PwAAAAAAAAAA+tClG9vD1z8Jt2WtjgluP1mdAi4pQL0/5AiP1CFQ3D9XvbuXhorUPw==",
            "dtype": "f8"
           },
           "yaxis": "y"
          }
         ],
         "name": "2016"
        },
        {
         "data": [
          {
           "hovertemplate": "<b>%{hovertext}</b><br><br>Year=2017<br>Population Density (per km²)=%{marker.size}<br>Multidimensional Poverty Index (MPI)=%{marker.color}<extra></extra>",
           "hovertext": [
            "Aruba",
            "Afghanistan",
            "Angola",
            "Albania",
            "Andorra",
            "United Arab Emirates",
            "Argentina",
            "Armenia",
            "Antigua and Barbuda",
            "Austria",
            "Azerbaijan",
            "Burundi",
            "Belgium",
            "Benin",
            "Burkina Faso",
            "Bulgaria",
            "Bosnia and Herzegovina",
            "Belarus",
            "Belize",
            "Bolivia",
            "Brazil",
            "Barbados",
            "Bhutan",
            "Botswana",
            "Central African Republic",
            "Canada",
            "Switzerland",
            "Chile",
            "China",
            "Cote d'Ivoire",
            "Cameroon",
            "Colombia",
            "Comoros",
            "Costa Rica",
            "Cuba",
            "Curacao",
            "Cayman Islands",
            "Cyprus",
            "Czechia",
            "Germany",
            "Djibouti",
            "Dominica",
            "Denmark",
            "Dominican Republic",
            "Algeria",
            "Ecuador",
            "Eritrea",
            "Spain",
            "Estonia",
            "Ethiopia",
            "Finland",
            "Fiji",
            "France",
            "Gabon",
            "United Kingdom",
            "Georgia",
            "Ghana",
            "Guinea",
            "Guinea-Bissau",
            "Equatorial Guinea",
            "Greece",
            "Grenada",
            "Guatemala",
            "Guam",
            "Guyana",
            "Honduras",
            "Croatia",
            "Haiti",
            "Hungary",
            "Indonesia",
            "Isle of Man",
            "India",
            "Ireland",
            "Iraq",
            "Israel",
            "Italy",
            "Jamaica",
            "Jordan",
            "Japan",
            "Kazakhstan",
            "Kenya",
            "Cambodia",
            "Kiribati",
            "Kuwait",
            "Lebanon",
            "Liberia",
            "Liechtenstein",
            "Sri Lanka",
            "Lesotho",
            "Lithuania",
            "Luxembourg",
            "Latvia",
            "Morocco",
            "Moldova",
            "Madagascar",
            "Mexico",
            "Marshall Islands",
            "North Macedonia",
            "Mali",
            "Myanmar",
            "Montenegro",
            "Northern Mariana Islands",
            "Mozambique",
            "Mauritania",
            "Mauritius",
            "Malawi",
            "Malaysia",
            "New Caledonia",
            "Niger",
            "Nigeria",
            "Nicaragua",
            "Netherlands",
            "Norway",
            "Nepal",
            "Nauru",
            "New Zealand",
            "Oman",
            "Pakistan",
            "Panama",
            "Peru",
            "Philippines",
            "Palau",
            "Papua New Guinea",
            "Poland",
            "Portugal",
            "Paraguay",
            "French Polynesia",
            "Qatar",
            "Romania",
            "Rwanda",
            "Saudi Arabia",
            "Sudan",
            "Senegal",
            "Solomon Islands",
            "Sierra Leone",
            "El Salvador",
            "San Marino",
            "Somalia",
            "Serbia",
            "South Sudan",
            "Sao Tome and Principe",
            "Slovenia",
            "Sweden",
            "Eswatini",
            "Seychelles",
            "Turks and Caicos Islands",
            "Chad",
            "Togo",
            "Thailand",
            "Tajikistan",
            "Turkmenistan",
            "Tonga",
            "Trinidad and Tobago",
            "Tunisia",
            "Tuvalu",
            "Tanzania",
            "Uganda",
            "Ukraine",
            "Uruguay",
            "United States",
            "Uzbekistan",
            "British Virgin Islands",
            "Vanuatu",
            "Samoa",
            "South Africa",
            "Zambia",
            "Zimbabwe"
           ],
           "legendgroup": "",
           "marker": {
            "color": {
             "bdata": "AAAAAAAAAACBhaQpFWd/P0XULaYqCeE/Ctnsw2fYNT8CLZlZwpmyPwDYW9muJJ4/8fNcihgJ0j/8qfHSTWJQPwAAAAAAAAAAAAAAAAAAAAB8T3CnMBO4P/VMyDWm59Y/AAAAAAAAAADxiyW/WPLLP7SBThvotNE//kypOPvweT8AAAAAAAAAAHQfQbj9q6A/e+WNoxmX4z+8sdJar9TWPzV5qE1dS8s/db2taHbKuD8cGjc1+IvSP3s/NV66Sdw/OiZ4ME/U4z9VVVVVVVXVPwAAAAAAAAAAJ/hKZj7Wyj8AAAAAAAAAAJBQRm/LWr0/FGcfPsOuwD8mes1dNs2uP4wYBFYOLbI/C+Lsw2fYVT8VqfHSTWJgPwrDPdy1L9A/AAAAAAAAAAAAAAAAAAAAAAAAAAAAAAAAAAAAAAAAAACvxkwVPsbFP8MgsHJokdU/AAAAAAAAAAAAAAAAAAAAALNwpPohcNE/C+Lsw2fYZT+8ml+D3x/VPwAAAAAAAAAAPIE4JwwvxD+ONKXi7MPHP4i82RWYBdE/OxvotIFOiz8AAAAAAAAAALVTsNePAdw/AAAAAAAAAAAAAAAAAAAAAORRuB6F67E/9eEz7AqQyz+QXyz5xZLPP7MPn2FXgNw/AAAAAAAAAAAdtMh2vp+aPzv9G6GM3pY/7h9g8iQCiT92d3d3d3fXPwrXo3A9Cqc/AAAAAAAAAAD61HjpJjHIPwAAAAAAAAAA/kypOPvweT8AAAAAAAAAAFqCB/NE/Zs/AAAAAAAAAAAGQoICqRLUPwAAAAAAAAAAAAAAAAAAAAC4QoVRbGeCPwAAAAAAAAAAAAAAAAAAAABVVVVVVVXVP6d/I5TR28I//LjXXEiaoj8rpeLsw2eoP1VVVVVVVdU/PjlbmsO/hj/E2YfPsCvQPwAAAAAAAAAA/hARERERgT+K+jdCGb3hP0l22atH1aM/AAAAAAAAAAAQcf0vSwrEPwAAAAAAAAAAAAAAAAAAAACaemcQeUrSPwAAAAAAAAAAfXvNhaQplT8AAAAAAAAAAFzwIvB56t8/WnMhaUrFuT+Sb3g9ZoOdPwAAAAAAAAAARCeB6JK21z9b1uqY4MHgPwvi7MNn2FU/ObTIdr6f0j8AAAAAAAAAAOR1yIPcZNI/fcV74yyc4T9H41UzezfGP6oAuddcSKo/AAAAAAAAAAALXRHdD/bSPzv9G6GM3qY/xUs3iUFg1T9rv+Zvr+rQPw5U7Pr0y9c/ezJ6W9bqmD/+Lt0kBoGVPxRVrAe5cs0/2xdLfrHklz+bSVAfMVnbP2S3NJsPjOA/AAAAAAAAAAAAAAAAAAAAANLvULaYTtI/AAAAAAAAAACHXJgnwMLRPwAAAAAAAAAAtWWtjgkezD/zb5hsM/vSP5vglX7CkNo/iLMPn2FXwD8DXUrXKITVP4qzD59hV9A/f+Lsw2fYhT/q41BjJRm1P3SKPXA2NNg/AAAAAAAAAADM/uwHBznjP4PPsCtA7rU/AAAAAAAAAACI7mm5/v7KP5s20GkDnbY/AAAAAAAAAACZXltNu5fZP+Tzg+T53+w/L5b8Yskvxj8K2ezDZ9g1PwRGb8taHWM/8tPzYBtI0z/6fmq8dJN4P1VVVVVVVdU/AAAAAAAAAAAAeDBP1L9xP5GmVJx9+Mw/PcOuALnXzD8AAAAAAAAAAAbnzq1DYtA/lFkR24uXvj8AAAAAAAAAALCJe9CWprw/rqP05eFq1j9/4uzDZ9iFP6i7aLItn7I/EFcHWcHj2j+tnY5RJzHSPw==",
             "dtype": "f8"
            },
            "coloraxis": "coloraxis",
            "size": {
             "bdata": "q6qqqqrggkC8rhYr8ltLQNmvDkV8QDhA3WDwcLk3WkD+hU9lKZ5jQGA4Tp3GO2BAnbaR/PEuMECb8srxoSlaQMPaN6x9s2lAziR/1x+nWkCajPgVeppdQM+jWXZSAXxAotT5NiZwd0C7/lkLgbFaQNfBuZapLVJAgAhB9K2/TkDXo3A92r1QQBJUkaBnTkdAsguTTYBcMEARqF+UyvEkQHG8eWjTfThAvYci1XtchEDzAPG6EyUwQPBAsvRf/w9ASgOPYifHHkAjaR/W+U0QQOibu8c1umpAdzwF0t31OED+eelnBZdiQOFI4iBNBFVAUug2foWFSUB8uM5twLBFQLdntqp7aXlAzmEPdU8OWEDdY7vtnS5aQIG4UHMSjHZAVVVVVVXOcEA9z/M8z/dgQNRrjaN/I2FA1kg5IguYbUDTK2B11cBGQKJFtvP91FZARIts5/sDYkC7Z4zAmJlrQOHfPn3zgDFAQVJ1YfJETkCtinm2CTE/QMfm0+K9S1dA2AY7m+QTP0Dymeyfp2pbQH++B9eCFTJAXwTcO9gkSUDR6g0EcI1eQMi9znHXvSBAP5qPfaYKcUAljMvG89JKQFr7BJk2fGBAIC+eB+ozSUACE8EfJLBQQNoMQHOm2UtAbvpcSMvbVEBgYGBgYDh1QD9/SmJTU2NAQnsJ7SXsckCaydC41kAPQDS1iWJSbFVAsVN/kC8SUkBJZVl5Q4h4QNoOZUO7AVtAxP0ndnlyYkBeeEKu1lViQAhpgBDllHxAtUOSoMeEUUCwh60ENHxWQLD8crFdKnlAqG95LWqAaUBrxm1i8j9wQG8D4lHU/lxAmBFsvBekdUBtLvsftKIbQA/fmIJOnFVAOXNF/qTDVkCkDDzdmo9iQEdB8B3xJG1A0d4U7U3RgkDt0igQwStJQGZmZmZmqG1AWGj8p5NhdUBV4xJ4RMNRQCKE3JkBrUZAgP3S91T0bED+ZQKDWTY/QF6+v2ea2lNABmLpo4f0VEC+RID7QghHQES3WsxQvU9AP+mTPukncEBqUDK3X6pSQGMrBj/WPDBAdG87a/rZU0B18WUCTUVHQDZ4jkDRJltA01tEUK3oQUBBgeSwOlcQQNonLr/GeINAQbEg5/DqZ0AGcZBQup5YQOlF0BHFBS9AXgRMOhrsMEBd2IY793trQLcPdSdHPkpA+ylN/hi3f0AQ4/6CROUsQJaI5edAfGhAmpmZmZmxgUAWWS8O90cyQJ7dZ+EgUi1ADn++sSkackDO0vjwOpFLQE8eFmrteDhAniluFQaodkD+uqTyYVxDQJgIGf+wRDRAeymHX+3+XkADw/3XlCRcQDk/Rn2f6C9AjA6EOLIhU0AAcmMV52hrQKIqKiO6QlVA+fa8wcfpfkAuXMQo/9EsQOFYjNvH3TZA4XfhUCIYVEBuNcWpPX84QD5ggPMEj1lAZlDmxS2gckAAAAAAAJ6BQI34G7APxzdAKMJR0ZoRVEDT/GUnETwwQAAAAAAA82pAyNqT7HmmWUBhsCwy8bA4QAEZDROQ1VBAdo5A0VYLakBQV3pnwAFFQL33WLRLzChARsz0kV2EYkDHc1W5LGlhQBAx8SvDOlBANaVtVJmxK0AofdInfUpiQPPlAMs2h3BA3JYFmmG/UkDNzMzMzKR2QHuQLkT2aU9AkyR/rn4iaUAanevTQZtTQOi8Y/s7XDNAAe+nOHvUQUBc/lKfFrNSQC+W/GLJP2tA+sfpHuDYNkDkTLF0bSVSQCL5GpxpwUdAo7cmJz12N0Bhf71WHiVDQA==",
             "dtype": "f8"
            },
            "sizemode": "area",
            "sizeref": 0.40873110465116275,
            "symbol": "circle"
           },
           "mode": "markers",
           "name": "",
           "orientation": "v",
           "showlegend": false,
           "type": "scatter",
           "x": {
            "bdata": "q6qqqqrggkC8rhYr8ltLQNmvDkV8QDhA3WDwcLk3WkD+hU9lKZ5jQGA4Tp3GO2BAnbaR/PEuMECb8srxoSlaQMPaN6x9s2lAziR/1x+nWkCajPgVeppdQM+jWXZSAXxAotT5NiZwd0C7/lkLgbFaQNfBuZapLVJAgAhB9K2/TkDXo3A92r1QQBJUkaBnTkdAsguTTYBcMEARqF+UyvEkQHG8eWjTfThAvYci1XtchEDzAPG6EyUwQPBAsvRf/w9ASgOPYifHHkAjaR/W+U0QQOibu8c1umpAdzwF0t31OED+eelnBZdiQOFI4iBNBFVAUug2foWFSUB8uM5twLBFQLdntqp7aXlAzmEPdU8OWEDdY7vtnS5aQIG4UHMSjHZAVVVVVVXOcEA9z/M8z/dgQNRrjaN/I2FA1kg5IguYbUDTK2B11cBGQKJFtvP91FZARIts5/sDYkC7Z4zAmJlrQOHfPn3zgDFAQVJ1YfJETkCtinm2CTE/QMfm0+K9S1dA2AY7m+QTP0Dymeyfp2pbQH++B9eCFTJAXwTcO9gkSUDR6g0EcI1eQMi9znHXvSBAP5qPfaYKcUAljMvG89JKQFr7BJk2fGBAIC+eB+ozSUACE8EfJLBQQNoMQHOm2UtAbvpcSMvbVEBgYGBgYDh1QD9/SmJTU2NAQnsJ7SXsckCaydC41kAPQDS1iWJSbFVAsVN/kC8SUkBJZVl5Q4h4QNoOZUO7AVtAxP0ndnlyYkBeeEKu1lViQAhpgBDllHxAtUOSoMeEUUCwh60ENHxWQLD8crFdKnlAqG95LWqAaUBrxm1i8j9wQG8D4lHU/lxAmBFsvBekdUBtLvsftKIbQA/fmIJOnFVAOXNF/qTDVkCkDDzdmo9iQEdB8B3xJG1A0d4U7U3RgkDt0igQwStJQGZmZmZmqG1AWGj8p5NhdUBV4xJ4RMNRQCKE3JkBrUZAgP3S91T0bED+ZQKDWTY/QF6+v2ea2lNABmLpo4f0VEC+RID7QghHQES3WsxQvU9AP+mTPukncEBqUDK3X6pSQGMrBj/WPDBAdG87a/rZU0B18WUCTUVHQDZ4jkDRJltA01tEUK3oQUBBgeSwOlcQQNonLr/GeINAQbEg5/DqZ0AGcZBQup5YQOlF0BHFBS9AXgRMOhrsMEBd2IY793trQLcPdSdHPkpA+ylN/hi3f0AQ4/6CROUsQJaI5edAfGhAmpmZmZmxgUAWWS8O90cyQJ7dZ+EgUi1ADn++sSkackDO0vjwOpFLQE8eFmrteDhAniluFQaodkD+uqTyYVxDQJgIGf+wRDRAeymHX+3+XkADw/3XlCRcQDk/Rn2f6C9AjA6EOLIhU0AAcmMV52hrQKIqKiO6QlVA+fa8wcfpfkAuXMQo/9EsQOFYjNvH3TZA4XfhUCIYVEBuNcWpPX84QD5ggPMEj1lAZlDmxS2gckAAAAAAAJ6BQI34G7APxzdAKMJR0ZoRVEDT/GUnETwwQAAAAAAA82pAyNqT7HmmWUBhsCwy8bA4QAEZDROQ1VBAdo5A0VYLakBQV3pnwAFFQL33WLRLzChARsz0kV2EYkDHc1W5LGlhQBAx8SvDOlBANaVtVJmxK0AofdInfUpiQPPlAMs2h3BA3JYFmmG/UkDNzMzMzKR2QHuQLkT2aU9AkyR/rn4iaUAanevTQZtTQOi8Y/s7XDNAAe+nOHvUQUBc/lKfFrNSQC+W/GLJP2tA+sfpHuDYNkDkTLF0bSVSQCL5GpxpwUdAo7cmJz12N0Bhf71WHiVDQA==",
            "dtype": "f8"
           },
           "xaxis": "x",
           "y": {
            "bdata": "AAAAAAAAAACBhaQpFWd/P0XULaYqCeE/Ctnsw2fYNT8CLZlZwpmyPwDYW9muJJ4/8fNcihgJ0j/8qfHSTWJQPwAAAAAAAAAAAAAAAAAAAAB8T3CnMBO4P/VMyDWm59Y/AAAAAAAAAADxiyW/WPLLP7SBThvotNE//kypOPvweT8AAAAAAAAAAHQfQbj9q6A/e+WNoxmX4z+8sdJar9TWPzV5qE1dS8s/db2taHbKuD8cGjc1+IvSP3s/NV66Sdw/OiZ4ME/U4z9VVVVVVVXVPwAAAAAAAAAAJ/hKZj7Wyj8AAAAAAAAAAJBQRm/LWr0/FGcfPsOuwD8mes1dNs2uP4wYBFYOLbI/C+Lsw2fYVT8VqfHSTWJgPwrDPdy1L9A/AAAAAAAAAAAAAAAAAAAAAAAAAAAAAAAAAAAAAAAAAACvxkwVPsbFP8MgsHJokdU/AAAAAAAAAAAAAAAAAAAAALNwpPohcNE/C+Lsw2fYZT+8ml+D3x/VPwAAAAAAAAAAPIE4JwwvxD+ONKXi7MPHP4i82RWYBdE/OxvotIFOiz8AAAAAAAAAALVTsNePAdw/AAAAAAAAAAAAAAAAAAAAAORRuB6F67E/9eEz7AqQyz+QXyz5xZLPP7MPn2FXgNw/AAAAAAAAAAAdtMh2vp+aPzv9G6GM3pY/7h9g8iQCiT92d3d3d3fXPwrXo3A9Cqc/AAAAAAAAAAD61HjpJjHIPwAAAAAAAAAA/kypOPvweT8AAAAAAAAAAFqCB/NE/Zs/AAAAAAAAAAAGQoICqRLUPwAAAAAAAAAAAAAAAAAAAAC4QoVRbGeCPwAAAAAAAAAAAAAAAAAAAABVVVVVVVXVP6d/I5TR28I//LjXXEiaoj8rpeLsw2eoP1VVVVVVVdU/PjlbmsO/hj/E2YfPsCvQPwAAAAAAAAAA/hARERERgT+K+jdCGb3hP0l22atH1aM/AAAAAAAAAAAQcf0vSwrEPwAAAAAAAAAAAAAAAAAAAACaemcQeUrSPwAAAAAAAAAAfXvNhaQplT8AAAAAAAAAAFzwIvB56t8/WnMhaUrFuT+Sb3g9ZoOdPwAAAAAAAAAARCeB6JK21z9b1uqY4MHgPwvi7MNn2FU/ObTIdr6f0j8AAAAAAAAAAOR1yIPcZNI/fcV74yyc4T9H41UzezfGP6oAuddcSKo/AAAAAAAAAAALXRHdD/bSPzv9G6GM3qY/xUs3iUFg1T9rv+Zvr+rQPw5U7Pr0y9c/ezJ6W9bqmD/+Lt0kBoGVPxRVrAe5cs0/2xdLfrHklz+bSVAfMVnbP2S3NJsPjOA/AAAAAAAAAAAAAAAAAAAAANLvULaYTtI/AAAAAAAAAACHXJgnwMLRPwAAAAAAAAAAtWWtjgkezD/zb5hsM/vSP5vglX7CkNo/iLMPn2FXwD8DXUrXKITVP4qzD59hV9A/f+Lsw2fYhT/q41BjJRm1P3SKPXA2NNg/AAAAAAAAAADM/uwHBznjP4PPsCtA7rU/AAAAAAAAAACI7mm5/v7KP5s20GkDnbY/AAAAAAAAAACZXltNu5fZP+Tzg+T53+w/L5b8Yskvxj8K2ezDZ9g1PwRGb8taHWM/8tPzYBtI0z/6fmq8dJN4P1VVVVVVVdU/AAAAAAAAAAAAeDBP1L9xP5GmVJx9+Mw/PcOuALnXzD8AAAAAAAAAAAbnzq1DYtA/lFkR24uXvj8AAAAAAAAAALCJe9CWprw/rqP05eFq1j9/4uzDZ9iFP6i7aLItn7I/EFcHWcHj2j+tnY5RJzHSPw==",
            "dtype": "f8"
           },
           "yaxis": "y"
          }
         ],
         "name": "2017"
        },
        {
         "data": [
          {
           "hovertemplate": "<b>%{hovertext}</b><br><br>Year=2018<br>Population Density (per km²)=%{marker.size}<br>Multidimensional Poverty Index (MPI)=%{marker.color}<extra></extra>",
           "hovertext": [
            "Aruba",
            "Afghanistan",
            "Angola",
            "Albania",
            "Andorra",
            "United Arab Emirates",
            "Argentina",
            "Armenia",
            "Antigua and Barbuda",
            "Austria",
            "Azerbaijan",
            "Burundi",
            "Belgium",
            "Benin",
            "Burkina Faso",
            "Bulgaria",
            "Bosnia and Herzegovina",
            "Belarus",
            "Belize",
            "Bolivia",
            "Brazil",
            "Barbados",
            "Bhutan",
            "Botswana",
            "Central African Republic",
            "Canada",
            "Switzerland",
            "Chile",
            "China",
            "Cote d'Ivoire",
            "Cameroon",
            "Colombia",
            "Comoros",
            "Costa Rica",
            "Cuba",
            "Curacao",
            "Cayman Islands",
            "Cyprus",
            "Czechia",
            "Germany",
            "Djibouti",
            "Dominica",
            "Denmark",
            "Dominican Republic",
            "Algeria",
            "Ecuador",
            "Eritrea",
            "Spain",
            "Estonia",
            "Ethiopia",
            "Finland",
            "Fiji",
            "France",
            "Gabon",
            "United Kingdom",
            "Georgia",
            "Ghana",
            "Guinea",
            "Guinea-Bissau",
            "Equatorial Guinea",
            "Greece",
            "Grenada",
            "Guatemala",
            "Guam",
            "Guyana",
            "Honduras",
            "Croatia",
            "Haiti",
            "Hungary",
            "Indonesia",
            "Isle of Man",
            "India",
            "Ireland",
            "Iraq",
            "Israel",
            "Italy",
            "Jamaica",
            "Jordan",
            "Japan",
            "Kazakhstan",
            "Kenya",
            "Cambodia",
            "Kiribati",
            "Kuwait",
            "Lebanon",
            "Liberia",
            "Libya",
            "Liechtenstein",
            "Sri Lanka",
            "Lesotho",
            "Lithuania",
            "Luxembourg",
            "Latvia",
            "Morocco",
            "Moldova",
            "Madagascar",
            "Mexico",
            "Marshall Islands",
            "North Macedonia",
            "Mali",
            "Myanmar",
            "Montenegro",
            "Northern Mariana Islands",
            "Mozambique",
            "Mauritania",
            "Mauritius",
            "Malawi",
            "Malaysia",
            "New Caledonia",
            "Niger",
            "Nigeria",
            "Nicaragua",
            "Netherlands",
            "Norway",
            "Nepal",
            "Nauru",
            "New Zealand",
            "Oman",
            "Pakistan",
            "Panama",
            "Peru",
            "Philippines",
            "Palau",
            "Papua New Guinea",
            "Poland",
            "Portugal",
            "Paraguay",
            "French Polynesia",
            "Qatar",
            "Romania",
            "Rwanda",
            "Saudi Arabia",
            "Sudan",
            "Senegal",
            "Solomon Islands",
            "Sierra Leone",
            "El Salvador",
            "San Marino",
            "Somalia",
            "Serbia",
            "South Sudan",
            "Sao Tome and Principe",
            "Slovenia",
            "Sweden",
            "Eswatini",
            "Seychelles",
            "Turks and Caicos Islands",
            "Chad",
            "Togo",
            "Thailand",
            "Tajikistan",
            "Turkmenistan",
            "Tonga",
            "Trinidad and Tobago",
            "Tunisia",
            "Tuvalu",
            "Tanzania",
            "Uganda",
            "Ukraine",
            "Uruguay",
            "United States",
            "Uzbekistan",
            "British Virgin Islands",
            "Vanuatu",
            "Samoa",
            "South Africa",
            "Zambia",
            "Zimbabwe"
           ],
           "legendgroup": "",
           "marker": {
            "color": {
             "bdata": "AAAAAAAAAACeSQwCK4eWP5ap5kSlteQ/AAAAAAAAAAAAAAAAAAAAAAAAAAAAAAAAc+TgxBWm4z8K2ezDZ9g1PwAAAAAAAAAAAAAAAAAAAAAAAAAAAAAAAE0b6LSBTtM/AAAAAAAAAAAGOm2g0wbKP3YFyL3mQtI/AHgwT9S/cT8AAAAAAAAAAM6VuYWYEqA/k67H7wuM0z+0sgT4bYnWP9CYE2VsKMs/kCmsiYfrzj+NZdJKgv7RP39qvHSTGNw/LLKd76fG4z9VVVVVVVXVPwAAAAAAAAAAmO3PjrE6yj8AAAAAAAAAAEJvy1odE7w/VOOlm8QgwD86Jiyxs12rPzTQaQOdNrA//Knx0k1iUD8L4uzDZ9hVP1VVVVVVVdU/AAAAAAAAAAAAAAAAAAAAAAAAAAAAAAAAAAAAAAAAAADJAwU+Mg3EPwvi7MNn2FU/AAAAAAAAAAAJt2WtjgluP4aD9cfoO9E/AHgwT9S/cT9wX8jBdqrUPwAAAAAAAAAAaEkU3nURxD9aZDvfT43HP7UuzyBRAtE/fV0Bcq+5kD8AAAAAAAAAAJWeVjhgtNg/AAAAAAAAAAAK2ezDZ9g1P4RdAXKvubA/dnd3d3d3xz/xRP0boYzOP3kUrkfhetw/AAAAAAAAAACcALnXXEiaP1ytjgkezJM/Lc+GpGMAyj94ov6NUEbXP3npJjEIrJw/AAAAAAAAAAAePsOuALnHPwAAAAAAAAAAexSuR+F6dD8AAAAAAAAAAHtQRm/LWo0/AAAAAAAAAAAK2ezDZ9g1PwAAAAAAAAAAWTObzUe5kz/6fmq8dJN4PwrZ7MNn2DU/Y4JOoH5JpD9VVVVVVVXVP8CDeaL+jcA/3Ja1OiZ4sD9MVVVVVVWlPwAAAAAAAAAA3R4QoNST1D/elrU6JnjQP18s+cWSX9w/AAAAAAAAAAAL4uzDZ9hVPykZb4xc8tw/SGka17ptpT8AAAAAAAAAAFeOeCNxTMQ//kypOPvweT8AAAAAAAAAAIw59cHE/s0/GxrotIFOWz9e9uEz7AqQPz7g7MNn2EU/jUSYRtE03D8hsHJoke28Py7vbh1WOZ0/VVVVVVVV1T8QL82wO6/VPxVnHz7DruA/PuDsw2fYRT9+seQXS37RPwAAAAAAAAAAOKc5E+Zk0j94vcYunXPhP4/C9Shcj8I/FpKmVJx92D8AAAAAAAAAAMvlMyprINQ//Me95kLSlD98wKzVf5rPP2sYAc6SvdA/Cg/xClq+0j+eSQwCK4eWP317zYWkKZU/1Ad/rM3MzD9crY4JHsyTP/UzcP7jrsg/XmT/b+4+5T8AAAAAAAAAAAAAAAAAAAAA0VlVE7kf0j8AAAAAAAAAAAAAAAAAAAAAPuDsw2fYRT9y2kCnDXTKP5qVR0VFMtM/QzrCvi905j8BnTbQaQO9P967zut+c9Q/IGlKxdmHzz97FK5H4XqEPwAAAAAAAAAAU4n1SAwM2D8AAAAAAAAAAHH/gP5kDuM/uljyiyW/uD8AAAAAAAAAAEZ93F43sMo/E/zewpSqxT8AAAAAAAAAADOMutiwrqo/Id1e8deA4z9TVVVVVVXFPz7g7MNn2EU/BEZvy1odYz/GnPX4+BzTP9YcEylXe6M/BBS3ghM9zD8+4OzDZ9hFPwIb6LSBTms/LbKd76fGyz8uT9S/EcrIPwAAAAAAAAAAOZwhHvxN1j9MJiuSACW+PwAAAAAAAAAAAAAAAAAAAABMWAsGy2DWP4mB9T5k+sY/oFZ9UWulsD8ZffdKdofaPzRDq4taltE/",
             "dtype": "f8"
            },
            "coloraxis": "coloraxis",
            "size": {
             "bdata": "BluwBVvogkAJ+N9L0CpMQP6oPaafGjlAm2wzUC8nWkAjoAeraf1jQK0lUUxpc2BAUae0XS5RMEAlsfLrQBJaQM3MzMzM1GlAb0Z+YHDIWkBOpG9tatxdQI+AEhwQ3XxAV+9t9oWLd0AMP38+gXRbQAHzQtbirFJAXq+Um3VUTkAAAAAAwIlQQBWxkSqpQUdA/FCII1WrMECdVxf6Mj8lQNslKbPSqDhAfChSvYdmhECTgbWzy0IwQPmeDf83OhBAE4YBARxTH0BbcyusOooQQGBPFFjM7GpAQREdivloOUDlj0xxVK1iQL0Pfndhl1VAwdz0+Aw9SkBSoAm+0RdGQO7Ne0zE6XlAbxvIvkNGWEDwAsZwRiJaQN1ginzWbXZAEREREREscUB8RpYe0jBhQIkTdDYyMmFAUllxhNiubUC9kT8r7x5HQK7VMcGDuVZAm+Ydp+gaYkBpnC4W6eVrQIsFo0uh2DFAUDnRXgvLTkBp3GpKipw/QHL5jru7ZldALvvMf6EvP0Cs5GN3gSpcQGyIe+KnGzJA/jppO8gZSUA2kef9hqleQN1rZ5D1KyFAm4EoDAMgcUBh6+arRdBKQNirW3a01GBAKi1vnyXaSUBsHYQexxZRQFCfqJov0ExATj07v/jQVEBISEhISER1QM2LP5FwpmNAAsk6Vx7UckCH2069jBgQQO3B1Bmb0VVAlRdLKPDVUUDzQH5JN9x4QD+LGtep81pAxrbFPH6gYkAN5TWU12BiQAZnuAeg5XxAS/YB2FjGUUAnwt9NCQRXQDy1tYCwp3lAoEfHGViQaUCHdaYpWUZwQNcuDSxBpF1AwesVYhGddUAK0/i9NQ0cQK1nkrTODVZAsytqEZMMV0AchLNUEtdiQMY9q0TjU25AdJs6t6lHgkAtOup/EKtJQBdgy5zkIw9AMzMzMzPhbUB82DdY8Zh1QAmXG50d+1FAqOfKGiR9RkBWyyoGsYRtQIz6vu5V+D5AQd1I8AETVEBO3wAYGZdUQDlASPjGo0dAeg+tMEwFUECpqqqqqnJvQPcS9sYyklJAF/Dfpc7AMEBY3ZVp7f5TQPt/RvSjSUdAcwSKthqsWkAohboeZnNCQHXDo/d81RBAEkFy3X57g0CnW50Us5BoQHYLovDmCllA6cznN6EFL0Bw4vIfNYQxQH3GCHaLIGxA/dDQ1HaXSkD4vnN9peZ/QJQ0ogBCFi1Aic7JF5GLaEDNzMzMzO6BQDfyvb2MnDJAmQf4Vi62LUCCtF/NBWZyQKiAJJZMCExAkzoBTYTrOECZ4P4aNfB2QBIo2mrwXENAi0jSha6+NEAJr8pO6f5eQAtgjkoOGVxAv1NPvnotMEDodq2c8BxTQAnLlFoiyWtAKKYRXtgiVUAYOF8sOqN/QBE9ex33FyxAZiC8opStN0BI6N67OqpUQG2nvYCGVTlAqtB8ymsqWkBUjjxO/qRyQO/u7u7u+oFAOr244rqhOED+/uWknPVTQJJWSo3mBDBAvLu7uztea0BLyZsYVL5ZQI5KERfM+jhAdH5f1YD9UEDW4DkCRUtqQJEjmkaH30VAcNdwjDGlKUBCZqN2//piQB2GQICydmFAtJA5Lv+fUEAX9GZaWlMsQN7d3d3dU2JAc+b/zDKPcECujAz+wu5SQN7d3d3dZXZAlAgaNOU1UEAyAqhi2wBqQJ3zP3wqglNAIRbxniZlM0AG473dU+9BQPwPOJV7BlNAseQXS37hbEDMSW1KrGY3QBWChxVvVlJAQmLcAZcoSEBZRyhShy04QOvCxzuQbkNA",
             "dtype": "f8"
            },
            "sizemode": "area",
            "sizeref": 0.40873110465116275,
            "symbol": "circle"
           },
           "mode": "markers",
           "name": "",
           "orientation": "v",
           "showlegend": false,
           "type": "scatter",
           "x": {
            "bdata": "BluwBVvogkAJ+N9L0CpMQP6oPaafGjlAm2wzUC8nWkAjoAeraf1jQK0lUUxpc2BAUae0XS5RMEAlsfLrQBJaQM3MzMzM1GlAb0Z+YHDIWkBOpG9tatxdQI+AEhwQ3XxAV+9t9oWLd0AMP38+gXRbQAHzQtbirFJAXq+Um3VUTkAAAAAAwIlQQBWxkSqpQUdA/FCII1WrMECdVxf6Mj8lQNslKbPSqDhAfChSvYdmhECTgbWzy0IwQPmeDf83OhBAE4YBARxTH0BbcyusOooQQGBPFFjM7GpAQREdivloOUDlj0xxVK1iQL0Pfndhl1VAwdz0+Aw9SkBSoAm+0RdGQO7Ne0zE6XlAbxvIvkNGWEDwAsZwRiJaQN1ginzWbXZAEREREREscUB8RpYe0jBhQIkTdDYyMmFAUllxhNiubUC9kT8r7x5HQK7VMcGDuVZAm+Ydp+gaYkBpnC4W6eVrQIsFo0uh2DFAUDnRXgvLTkBp3GpKipw/QHL5jru7ZldALvvMf6EvP0Cs5GN3gSpcQGyIe+KnGzJA/jppO8gZSUA2kef9hqleQN1rZ5D1KyFAm4EoDAMgcUBh6+arRdBKQNirW3a01GBAKi1vnyXaSUBsHYQexxZRQFCfqJov0ExATj07v/jQVEBISEhISER1QM2LP5FwpmNAAsk6Vx7UckCH2069jBgQQO3B1Bmb0VVAlRdLKPDVUUDzQH5JN9x4QD+LGtep81pAxrbFPH6gYkAN5TWU12BiQAZnuAeg5XxAS/YB2FjGUUAnwt9NCQRXQDy1tYCwp3lAoEfHGViQaUCHdaYpWUZwQNcuDSxBpF1AwesVYhGddUAK0/i9NQ0cQK1nkrTODVZAsytqEZMMV0AchLNUEtdiQMY9q0TjU25AdJs6t6lHgkAtOup/EKtJQBdgy5zkIw9AMzMzMzPhbUB82DdY8Zh1QAmXG50d+1FAqOfKGiR9RkBWyyoGsYRtQIz6vu5V+D5AQd1I8AETVEBO3wAYGZdUQDlASPjGo0dAeg+tMEwFUECpqqqqqnJvQPcS9sYyklJAF/Dfpc7AMEBY3ZVp7f5TQPt/RvSjSUdAcwSKthqsWkAohboeZnNCQHXDo/d81RBAEkFy3X57g0CnW50Us5BoQHYLovDmCllA6cznN6EFL0Bw4vIfNYQxQH3GCHaLIGxA/dDQ1HaXSkD4vnN9peZ/QJQ0ogBCFi1Aic7JF5GLaEDNzMzMzO6BQDfyvb2MnDJAmQf4Vi62LUCCtF/NBWZyQKiAJJZMCExAkzoBTYTrOECZ4P4aNfB2QBIo2mrwXENAi0jSha6+NEAJr8pO6f5eQAtgjkoOGVxAv1NPvnotMEDodq2c8BxTQAnLlFoiyWtAKKYRXtgiVUAYOF8sOqN/QBE9ex33FyxAZiC8opStN0BI6N67OqpUQG2nvYCGVTlAqtB8ymsqWkBUjjxO/qRyQO/u7u7u+oFAOr244rqhOED+/uWknPVTQJJWSo3mBDBAvLu7uztea0BLyZsYVL5ZQI5KERfM+jhAdH5f1YD9UEDW4DkCRUtqQJEjmkaH30VAcNdwjDGlKUBCZqN2//piQB2GQICydmFAtJA5Lv+fUEAX9GZaWlMsQN7d3d3dU2JAc+b/zDKPcECujAz+wu5SQN7d3d3dZXZAlAgaNOU1UEAyAqhi2wBqQJ3zP3wqglNAIRbxniZlM0AG473dU+9BQPwPOJV7BlNAseQXS37hbEDMSW1KrGY3QBWChxVvVlJAQmLcAZcoSEBZRyhShy04QOvCxzuQbkNA",
            "dtype": "f8"
           },
           "xaxis": "x",
           "y": {
            "bdata": "AAAAAAAAAACeSQwCK4eWP5ap5kSlteQ/AAAAAAAAAAAAAAAAAAAAAAAAAAAAAAAAc+TgxBWm4z8K2ezDZ9g1PwAAAAAAAAAAAAAAAAAAAAAAAAAAAAAAAE0b6LSBTtM/AAAAAAAAAAAGOm2g0wbKP3YFyL3mQtI/AHgwT9S/cT8AAAAAAAAAAM6VuYWYEqA/k67H7wuM0z+0sgT4bYnWP9CYE2VsKMs/kCmsiYfrzj+NZdJKgv7RP39qvHSTGNw/LLKd76fG4z9VVVVVVVXVPwAAAAAAAAAAmO3PjrE6yj8AAAAAAAAAAEJvy1odE7w/VOOlm8QgwD86Jiyxs12rPzTQaQOdNrA//Knx0k1iUD8L4uzDZ9hVP1VVVVVVVdU/AAAAAAAAAAAAAAAAAAAAAAAAAAAAAAAAAAAAAAAAAADJAwU+Mg3EPwvi7MNn2FU/AAAAAAAAAAAJt2WtjgluP4aD9cfoO9E/AHgwT9S/cT9wX8jBdqrUPwAAAAAAAAAAaEkU3nURxD9aZDvfT43HP7UuzyBRAtE/fV0Bcq+5kD8AAAAAAAAAAJWeVjhgtNg/AAAAAAAAAAAK2ezDZ9g1P4RdAXKvubA/dnd3d3d3xz/xRP0boYzOP3kUrkfhetw/AAAAAAAAAACcALnXXEiaP1ytjgkezJM/Lc+GpGMAyj94ov6NUEbXP3npJjEIrJw/AAAAAAAAAAAePsOuALnHPwAAAAAAAAAAexSuR+F6dD8AAAAAAAAAAHtQRm/LWo0/AAAAAAAAAAAK2ezDZ9g1PwAAAAAAAAAAWTObzUe5kz/6fmq8dJN4PwrZ7MNn2DU/Y4JOoH5JpD9VVVVVVVXVP8CDeaL+jcA/3Ja1OiZ4sD9MVVVVVVWlPwAAAAAAAAAA3R4QoNST1D/elrU6JnjQP18s+cWSX9w/AAAAAAAAAAAL4uzDZ9hVPykZb4xc8tw/SGka17ptpT8AAAAAAAAAAFeOeCNxTMQ//kypOPvweT8AAAAAAAAAAIw59cHE/s0/GxrotIFOWz9e9uEz7AqQPz7g7MNn2EU/jUSYRtE03D8hsHJoke28Py7vbh1WOZ0/VVVVVVVV1T8QL82wO6/VPxVnHz7DruA/PuDsw2fYRT9+seQXS37RPwAAAAAAAAAAOKc5E+Zk0j94vcYunXPhP4/C9Shcj8I/FpKmVJx92D8AAAAAAAAAAMvlMyprINQ//Me95kLSlD98wKzVf5rPP2sYAc6SvdA/Cg/xClq+0j+eSQwCK4eWP317zYWkKZU/1Ad/rM3MzD9crY4JHsyTP/UzcP7jrsg/XmT/b+4+5T8AAAAAAAAAAAAAAAAAAAAA0VlVE7kf0j8AAAAAAAAAAAAAAAAAAAAAPuDsw2fYRT9y2kCnDXTKP5qVR0VFMtM/QzrCvi905j8BnTbQaQO9P967zut+c9Q/IGlKxdmHzz97FK5H4XqEPwAAAAAAAAAAU4n1SAwM2D8AAAAAAAAAAHH/gP5kDuM/uljyiyW/uD8AAAAAAAAAAEZ93F43sMo/E/zewpSqxT8AAAAAAAAAADOMutiwrqo/Id1e8deA4z9TVVVVVVXFPz7g7MNn2EU/BEZvy1odYz/GnPX4+BzTP9YcEylXe6M/BBS3ghM9zD8+4OzDZ9hFPwIb6LSBTms/LbKd76fGyz8uT9S/EcrIPwAAAAAAAAAAOZwhHvxN1j9MJiuSACW+PwAAAAAAAAAAAAAAAAAAAABMWAsGy2DWP4mB9T5k+sY/oFZ9UWulsD8ZffdKdofaPzRDq4taltE/",
            "dtype": "f8"
           },
           "yaxis": "y"
          }
         ],
         "name": "2018"
        },
        {
         "data": [
          {
           "hovertemplate": "<b>%{hovertext}</b><br><br>Year=2019<br>Population Density (per km²)=%{marker.size}<br>Multidimensional Poverty Index (MPI)=%{marker.color}<extra></extra>",
           "hovertext": [
            "Aruba",
            "Afghanistan",
            "Angola",
            "Albania",
            "Andorra",
            "United Arab Emirates",
            "Argentina",
            "Armenia",
            "Antigua and Barbuda",
            "Austria",
            "Azerbaijan",
            "Burundi",
            "Belgium",
            "Benin",
            "Burkina Faso",
            "Bulgaria",
            "Bosnia and Herzegovina",
            "Belarus",
            "Belize",
            "Bolivia",
            "Brazil",
            "Barbados",
            "Bhutan",
            "Botswana",
            "Central African Republic",
            "Canada",
            "Switzerland",
            "Chile",
            "China",
            "Cote d'Ivoire",
            "Cameroon",
            "Colombia",
            "Comoros",
            "Costa Rica",
            "Cuba",
            "Curacao",
            "Cayman Islands",
            "Cyprus",
            "Czechia",
            "Germany",
            "Djibouti",
            "Dominica",
            "Denmark",
            "Dominican Republic",
            "Algeria",
            "Ecuador",
            "Eritrea",
            "Spain",
            "Estonia",
            "Ethiopia",
            "Finland",
            "Fiji",
            "France",
            "Gabon",
            "United Kingdom",
            "Georgia",
            "Ghana",
            "Guinea",
            "Guinea-Bissau",
            "Equatorial Guinea",
            "Greece",
            "Grenada",
            "Guatemala",
            "Guam",
            "Guyana",
            "Honduras",
            "Croatia",
            "Haiti",
            "Hungary",
            "Indonesia",
            "Isle of Man",
            "India",
            "Ireland",
            "Iraq",
            "Israel",
            "Italy",
            "Jamaica",
            "Jordan",
            "Japan",
            "Kazakhstan",
            "Kenya",
            "Cambodia",
            "Kiribati",
            "Kuwait",
            "Lebanon",
            "Liberia",
            "Libya",
            "Liechtenstein",
            "Sri Lanka",
            "Lesotho",
            "Lithuania",
            "Luxembourg",
            "Latvia",
            "Morocco",
            "Moldova",
            "Madagascar",
            "Mexico",
            "Marshall Islands",
            "North Macedonia",
            "Mali",
            "Myanmar",
            "Montenegro",
            "Northern Mariana Islands",
            "Mozambique",
            "Mauritania",
            "Mauritius",
            "Malawi",
            "Malaysia",
            "New Caledonia",
            "Niger",
            "Nigeria",
            "Nicaragua",
            "Netherlands",
            "Norway",
            "Nepal",
            "Nauru",
            "New Zealand",
            "Oman",
            "Pakistan",
            "Panama",
            "Peru",
            "Philippines",
            "Palau",
            "Papua New Guinea",
            "Poland",
            "Portugal",
            "Paraguay",
            "French Polynesia",
            "Qatar",
            "Romania",
            "Rwanda",
            "Saudi Arabia",
            "Sudan",
            "Senegal",
            "Solomon Islands",
            "Sierra Leone",
            "El Salvador",
            "San Marino",
            "Somalia",
            "Serbia",
            "South Sudan",
            "Sao Tome and Principe",
            "Slovenia",
            "Sweden",
            "Eswatini",
            "Seychelles",
            "Turks and Caicos Islands",
            "Chad",
            "Togo",
            "Thailand",
            "Tajikistan",
            "Turkmenistan",
            "Tonga",
            "Trinidad and Tobago",
            "Tunisia",
            "Tuvalu",
            "Tanzania",
            "Uganda",
            "Ukraine",
            "Uruguay",
            "United States",
            "Uzbekistan",
            "British Virgin Islands",
            "Vanuatu",
            "Samoa",
            "South Africa",
            "Zambia",
            "Zimbabwe"
           ],
           "legendgroup": "",
           "marker": {
            "color": {
             "bdata": "VVVVVVVV1T+BhaQpFWd/PyFaWvVwQ+I/AAAAAAAAAAAAAAAAAAAAAAAAAAAAAAAAuO9QUyOe4z8AAAAAAAAAAAAAAAAAAAAAAAAAAAAAAAAAAAAAAAAAAKMpFWcfPtM/AAAAAAAAAACWmZmZmZnJP2CeqH8jlNE/C+Lsw2fYZT8AAAAAAAAAANOokWJZjp4/JtTWQeUz0z+5dDXiRffVP3c1/EB08co/KqfacJfDoz8NU5tEte/RP4PAyqFFtts/AiuHFtnO4z9VVVVVVVXVPwAAAAAAAAAAZTbEYhL+zj8AAAAAAAAAAPqNUEZvy7o/yYWkKRVnvz/LcXhwsG6mP6oPn2FXgKw//Knx0k1iUD+iIWdFhKDAP1VVVVVVVdU/AAAAAAAAAAAAAAAAAAAAAAAAAAAAAAAAaGMfmxsKVj9bSamRv0vCPwrZ7MNn2DU/AAAAAAAAAAACG+i0gU5rPwuUeQUoytE/BNIFffKBuD++GAJPzijUPwAAAAAAAAAAGkTercLxwz8vlvxiyS/GPyFjG1GX/9A/JNknG60pyD8AAAAAAAAAAMyFpCkVZ9c/AAAAAAAAAAAAAAAAAAAAAClcj8L1KKw/2msuJE2pyD/hM+wKkHvNP0EZvS1rddw/AAAAAAAAAACdcbtlfFmuP7qFpCkVZ48/AAAAAAAAAADsw2fYFSDXPxtrdUzwYJ4/AAAAAAAAAAB+HF2CIgPfPwAAAAAAAAAACbdlrY4Jbj/BxhJe0DG1Pz2CB/NE/Ys/AAAAAAAAAAAAAAAAAAAAAAAAAAAAAAAAGHfBKbY8sD86uQp5bQKQPwrZ7MNn2DU/cEVuayTxwz9VVVVVVVXVPzpg5dAi27k/ShvotIFOqz9sBci95kKiPwAAAAAAAAAAVVVVVVVV1T9E/RuhjN7iP7HkF0t+seg/AAAAAAAAAABS6abWfXHBPz8UOfBmA90/28FyoRL7pT8AAAAAAAAAAE/1UR/3JMk/C+Lsw2fYVT8AAAAAAAAAADXZnq9CA88/P6v/cVL6wz9/4uzDZ9iFPwAAAAAAAAAAUQ+5tJGS3D+iVJx9+Ay7P8GU/KgsBp0/VVVVVVVV1T9EEc9oYWXVPyQGgZVDi+A/AAAAAAAAAACLbOf7qfHSPwAAAAAAAAAAOybkbb264T9grBaMGDLhP2xZq2OCB8M//Knx0k1i2D8AAAAAAAAAAF5fTk+M29I/zeqY4ME8oT8AAAAAAAAAAMsscTbRlNA/HGvBVizy4D/8x73mQtKUP/zHveZC0pQ/8zFFpmkrzD9e9uEz7AqQP31/Yh+vcMc/gmj2vxem3z8AAAAAAAAAAAAAAAAAAAAAPzv/fSH02z8AAAAAAAAAACSFx/ZRvKE/AAAAAAAAAABiEFg5tMjGP58DHT05NdM/fvxl1ToF5j8K5on6N0K5P8CsApH7UdM/FpKmVJx90D8AeDBP1L+BPwAAAAAAAAAA8o1QThHg1z8+4OzDZ9hFP2AJtd5J4OI/c2iR7Xw/tT8AAAAAAAAAAIaJQaq3aso/nNMGOm2gsz8AAAAAAAAAACZWGhcJd6M/ZNlz0Z6S4z9DRERERETEPwrZ7MNn2DU/Fanx0k1iYD+AoandT/fSPxLrqcyI3sE/x0GlbkYMrj8AAAAAAAAAAPyp8dJNYlA/xr3mQtKUyj/WFSD3mgvJPwAAAAAAAAAAM6woWGXY0D+FkWZ31b+9PwAAAAAAAAAAAAAAAAAAAACX9l2LFHfVPwvi7MNn2GU/US+RyvzcwT/d1XYrUYvZP9Tx4WeJKOM/",
             "dtype": "f8"
            },
            "coloraxis": "coloraxis",
            "size": {
             "bdata": "d3d3d3f1gkBNydp5QQVNQBDP2ZIU+DlAuQGJN7kKWkCzFIeMvVZkQCQXIWsOoGBADX2Qh/tuMEA6iEtIpANaQAV5SpCn9GlA3RIY4v7mWkDAuwlkaR1eQGE6ai65031ALFUkGzCsd0CsiVxXajdcQENRAW5hJ1NAmqEj/53nTUD2KFyP6lVQQBt3OcOoNUdAJIRFQzfqMEAz3G8OP4wlQPU7W+Qd0jhAIbxuFcJvhEBDxFwfjF4wQDONuX69dRBAdXO9hqu/H0An/ix1k8gQQE0iEiokHmtAgbqFSdXROUCYRxpBUr5iQLa8d5AQKlZAcWSroIT6SkDIZ72kv31GQAuXPmWganpAWiNBkJN6WEBw07C3zxNaQNl+R6+MKXZAd3d3d3eIcUCd6fbiAGhhQFk5U9CQQ2FAlEMmhADAbUAraK5c2ntHQKDTBjptoFZAVFInoIkrYkBDYJ9mFzBsQBjXfX59LTJABMCMJllRT0A+RvhsYgpAQM+gyrDSkVdAJaD/fFlNP0AWaHdIMe9cQCCm7EfEIDJAEGwQKs0JSUCQVGvSrMNeQOZJU2wEmiFAgmfKSKE2cUDACjVpgcRKQOUFmvMWLGFAwgiftdOFSkDmHz7RZX5RQIV3DC18xU1AHlgsclzLVEDu7e3t7VF1QHtZssSE82NApU/6pE+6ckDXhtFEaGwQQGNiK3+pN1ZACW/RrtqoUUDA36mKHi95QOHWb80I61pA72xXFVHNYkCWbb4cYGliQAx4qIH2Mn1ASC6hrTYPUkB7ADQCnotXQAeEPRZFJnpAxE0PZ7FiaUAI9deYCUtwQOyOC/VDPF5ALTlfJE2VdUAJCNQPNnYcQC1L8snGfVZAmufm4otXV0D6pE/6pB9jQMICsA85KW9Amzq3qXOzgUDEgGuIni5KQHetm9+Wmg9AmpmZmZkgbkAWmaZx4Lp1QGwH5tqBMVJASI0U0ZNsRkDaZC6gexpuQOUtSexnwT5AfR0rdzlIVEDoLE9HakNUQPtWeopFQ0hAexS3mnMsUEB2d3d3d49uQLdBwBkDclJAG6eVCjlEMUDxZCG3AiNUQEgzGWKjTEdA6AgUbTUoWkBgorPWUABDQJ2dh3uqVhFAqBGWexp9g0AoRE7FnTlpQPlRYkQScllA4vG1SHMHL0Avk0SMvR0yQODkoNJMwGxA3J63cVzwSkClyR/jKA6AQFwamtaxSC1AJBZyVmTWaEDNzMzMzBqCQAHM67n36DJA7wVBBTSrLUDknvxaY7ZyQK1V1LFie0xA8BZIUNxZOUDsVZkCDzh3QHK/Lql8WENAnL4Hoe83NUBTauMr+fxeQK2QgGDDGlxAA05pM/llMEAzmKB2SA9TQP6oKL7IaGxAbTGyPWoGVUD2a7KFCi+AQGYy01pp+CtAG7Yd7yViOEDuISHt9ztVQFQG8vO4AzpAAbo91b3HWkAisvqX66ZyQLy7u7u7DYJAKq5HEsuNOUApukRCRNpTQCH+UxGZfjBAERERERHJa0DY55CaYOxZQBKPYtDzOzlAEEoTlTomUUCmN73pTYdqQObpSu8MuEZA2QKW8QZ8KkB89UbKMHNjQBGGsKfaf2FAKFN7DM0FUUBwkAtiD/UsQGZmZmZmWGJAYjuJ7SSecEArr6q95RtTQDMzMzMzC3ZAY0DYB3OzUECPo6jse+ZqQGIV9INjZlNAQkHKJQ9pM0Dk9QP4CQdCQOg5HK9tX1NARERERERUbkDVBOOt7PM3QFbzCS8kiFJAuhCSlXSPSEDN+02blOc4QLm2xx/0vENA",
             "dtype": "f8"
            },
            "sizemode": "area",
            "sizeref": 0.40873110465116275,
            "symbol": "circle"
           },
           "mode": "markers",
           "name": "",
           "orientation": "v",
           "showlegend": false,
           "type": "scatter",
           "x": {
            "bdata": "d3d3d3f1gkBNydp5QQVNQBDP2ZIU+DlAuQGJN7kKWkCzFIeMvVZkQCQXIWsOoGBADX2Qh/tuMEA6iEtIpANaQAV5SpCn9GlA3RIY4v7mWkDAuwlkaR1eQGE6ai65031ALFUkGzCsd0CsiVxXajdcQENRAW5hJ1NAmqEj/53nTUD2KFyP6lVQQBt3OcOoNUdAJIRFQzfqMEAz3G8OP4wlQPU7W+Qd0jhAIbxuFcJvhEBDxFwfjF4wQDONuX69dRBAdXO9hqu/H0An/ix1k8gQQE0iEiokHmtAgbqFSdXROUCYRxpBUr5iQLa8d5AQKlZAcWSroIT6SkDIZ72kv31GQAuXPmWganpAWiNBkJN6WEBw07C3zxNaQNl+R6+MKXZAd3d3d3eIcUCd6fbiAGhhQFk5U9CQQ2FAlEMmhADAbUAraK5c2ntHQKDTBjptoFZAVFInoIkrYkBDYJ9mFzBsQBjXfX59LTJABMCMJllRT0A+RvhsYgpAQM+gyrDSkVdAJaD/fFlNP0AWaHdIMe9cQCCm7EfEIDJAEGwQKs0JSUCQVGvSrMNeQOZJU2wEmiFAgmfKSKE2cUDACjVpgcRKQOUFmvMWLGFAwgiftdOFSkDmHz7RZX5RQIV3DC18xU1AHlgsclzLVEDu7e3t7VF1QHtZssSE82NApU/6pE+6ckDXhtFEaGwQQGNiK3+pN1ZACW/RrtqoUUDA36mKHi95QOHWb80I61pA72xXFVHNYkCWbb4cYGliQAx4qIH2Mn1ASC6hrTYPUkB7ADQCnotXQAeEPRZFJnpAxE0PZ7FiaUAI9deYCUtwQOyOC/VDPF5ALTlfJE2VdUAJCNQPNnYcQC1L8snGfVZAmufm4otXV0D6pE/6pB9jQMICsA85KW9Amzq3qXOzgUDEgGuIni5KQHetm9+Wmg9AmpmZmZkgbkAWmaZx4Lp1QGwH5tqBMVJASI0U0ZNsRkDaZC6gexpuQOUtSexnwT5AfR0rdzlIVEDoLE9HakNUQPtWeopFQ0hAexS3mnMsUEB2d3d3d49uQLdBwBkDclJAG6eVCjlEMUDxZCG3AiNUQEgzGWKjTEdA6AgUbTUoWkBgorPWUABDQJ2dh3uqVhFAqBGWexp9g0AoRE7FnTlpQPlRYkQScllA4vG1SHMHL0Avk0SMvR0yQODkoNJMwGxA3J63cVzwSkClyR/jKA6AQFwamtaxSC1AJBZyVmTWaEDNzMzMzBqCQAHM67n36DJA7wVBBTSrLUDknvxaY7ZyQK1V1LFie0xA8BZIUNxZOUDsVZkCDzh3QHK/Lql8WENAnL4Hoe83NUBTauMr+fxeQK2QgGDDGlxAA05pM/llMEAzmKB2SA9TQP6oKL7IaGxAbTGyPWoGVUD2a7KFCi+AQGYy01pp+CtAG7Yd7yViOEDuISHt9ztVQFQG8vO4AzpAAbo91b3HWkAisvqX66ZyQLy7u7u7DYJAKq5HEsuNOUApukRCRNpTQCH+UxGZfjBAERERERHJa0DY55CaYOxZQBKPYtDzOzlAEEoTlTomUUCmN73pTYdqQObpSu8MuEZA2QKW8QZ8KkB89UbKMHNjQBGGsKfaf2FAKFN7DM0FUUBwkAtiD/UsQGZmZmZmWGJAYjuJ7SSecEArr6q95RtTQDMzMzMzC3ZAY0DYB3OzUECPo6jse+ZqQGIV9INjZlNAQkHKJQ9pM0Dk9QP4CQdCQOg5HK9tX1NARERERERUbkDVBOOt7PM3QFbzCS8kiFJAuhCSlXSPSEDN+02blOc4QLm2xx/0vENA",
            "dtype": "f8"
           },
           "xaxis": "x",
           "y": {
            "bdata": "VVVVVVVV1T+BhaQpFWd/PyFaWvVwQ+I/AAAAAAAAAAAAAAAAAAAAAAAAAAAAAAAAuO9QUyOe4z8AAAAAAAAAAAAAAAAAAAAAAAAAAAAAAAAAAAAAAAAAAKMpFWcfPtM/AAAAAAAAAACWmZmZmZnJP2CeqH8jlNE/C+Lsw2fYZT8AAAAAAAAAANOokWJZjp4/JtTWQeUz0z+5dDXiRffVP3c1/EB08co/KqfacJfDoz8NU5tEte/RP4PAyqFFtts/AiuHFtnO4z9VVVVVVVXVPwAAAAAAAAAAZTbEYhL+zj8AAAAAAAAAAPqNUEZvy7o/yYWkKRVnvz/LcXhwsG6mP6oPn2FXgKw//Knx0k1iUD+iIWdFhKDAP1VVVVVVVdU/AAAAAAAAAAAAAAAAAAAAAAAAAAAAAAAAaGMfmxsKVj9bSamRv0vCPwrZ7MNn2DU/AAAAAAAAAAACG+i0gU5rPwuUeQUoytE/BNIFffKBuD++GAJPzijUPwAAAAAAAAAAGkTercLxwz8vlvxiyS/GPyFjG1GX/9A/JNknG60pyD8AAAAAAAAAAMyFpCkVZ9c/AAAAAAAAAAAAAAAAAAAAAClcj8L1KKw/2msuJE2pyD/hM+wKkHvNP0EZvS1rddw/AAAAAAAAAACdcbtlfFmuP7qFpCkVZ48/AAAAAAAAAADsw2fYFSDXPxtrdUzwYJ4/AAAAAAAAAAB+HF2CIgPfPwAAAAAAAAAACbdlrY4Jbj/BxhJe0DG1Pz2CB/NE/Ys/AAAAAAAAAAAAAAAAAAAAAAAAAAAAAAAAGHfBKbY8sD86uQp5bQKQPwrZ7MNn2DU/cEVuayTxwz9VVVVVVVXVPzpg5dAi27k/ShvotIFOqz9sBci95kKiPwAAAAAAAAAAVVVVVVVV1T9E/RuhjN7iP7HkF0t+seg/AAAAAAAAAABS6abWfXHBPz8UOfBmA90/28FyoRL7pT8AAAAAAAAAAE/1UR/3JMk/C+Lsw2fYVT8AAAAAAAAAADXZnq9CA88/P6v/cVL6wz9/4uzDZ9iFPwAAAAAAAAAAUQ+5tJGS3D+iVJx9+Ay7P8GU/KgsBp0/VVVVVVVV1T9EEc9oYWXVPyQGgZVDi+A/AAAAAAAAAACLbOf7qfHSPwAAAAAAAAAAOybkbb264T9grBaMGDLhP2xZq2OCB8M//Knx0k1i2D8AAAAAAAAAAF5fTk+M29I/zeqY4ME8oT8AAAAAAAAAAMsscTbRlNA/HGvBVizy4D/8x73mQtKUP/zHveZC0pQ/8zFFpmkrzD9e9uEz7AqQP31/Yh+vcMc/gmj2vxem3z8AAAAAAAAAAAAAAAAAAAAAPzv/fSH02z8AAAAAAAAAACSFx/ZRvKE/AAAAAAAAAABiEFg5tMjGP58DHT05NdM/fvxl1ToF5j8K5on6N0K5P8CsApH7UdM/FpKmVJx90D8AeDBP1L+BPwAAAAAAAAAA8o1QThHg1z8+4OzDZ9hFP2AJtd5J4OI/c2iR7Xw/tT8AAAAAAAAAAIaJQaq3aso/nNMGOm2gsz8AAAAAAAAAACZWGhcJd6M/ZNlz0Z6S4z9DRERERETEPwrZ7MNn2DU/Fanx0k1iYD+AoandT/fSPxLrqcyI3sE/x0GlbkYMrj8AAAAAAAAAAPyp8dJNYlA/xr3mQtKUyj/WFSD3mgvJPwAAAAAAAAAAM6woWGXY0D+FkWZ31b+9PwAAAAAAAAAAAAAAAAAAAACX9l2LFHfVPwvi7MNn2GU/US+RyvzcwT/d1XYrUYvZP9Tx4WeJKOM/",
            "dtype": "f8"
           },
           "yaxis": "y"
          }
         ],
         "name": "2019"
        },
        {
         "data": [
          {
           "hovertemplate": "<b>%{hovertext}</b><br><br>Year=2020<br>Population Density (per km²)=%{marker.size}<br>Multidimensional Poverty Index (MPI)=%{marker.color}<extra></extra>",
           "hovertext": [
            "Aruba",
            "Afghanistan",
            "Angola",
            "Albania",
            "Andorra",
            "United Arab Emirates",
            "Argentina",
            "Armenia",
            "Antigua and Barbuda",
            "Austria",
            "Azerbaijan",
            "Burundi",
            "Belgium",
            "Benin",
            "Burkina Faso",
            "Bulgaria",
            "Bosnia and Herzegovina",
            "Belarus",
            "Belize",
            "Bolivia",
            "Brazil",
            "Bhutan",
            "Botswana",
            "Central African Republic",
            "Canada",
            "Switzerland",
            "Chile",
            "China",
            "Cote d'Ivoire",
            "Cameroon",
            "Colombia",
            "Comoros",
            "Costa Rica",
            "Cuba",
            "Curacao",
            "Cayman Islands",
            "Cyprus",
            "Czechia",
            "Germany",
            "Djibouti",
            "Dominica",
            "Denmark",
            "Dominican Republic",
            "Algeria",
            "Ecuador",
            "Eritrea",
            "Spain",
            "Estonia",
            "Ethiopia",
            "Finland",
            "Fiji",
            "France",
            "Gabon",
            "United Kingdom",
            "Georgia",
            "Ghana",
            "Guinea",
            "Guinea-Bissau",
            "Equatorial Guinea",
            "Greece",
            "Grenada",
            "Guatemala",
            "Guam",
            "Guyana",
            "Honduras",
            "Croatia",
            "Haiti",
            "Hungary",
            "Indonesia",
            "Isle of Man",
            "India",
            "Ireland",
            "Iraq",
            "Israel",
            "Italy",
            "Jamaica",
            "Jordan",
            "Japan",
            "Kazakhstan",
            "Kenya",
            "Cambodia",
            "Kiribati",
            "Kuwait",
            "Lebanon",
            "Liberia",
            "Libya",
            "Liechtenstein",
            "Sri Lanka",
            "Lesotho",
            "Lithuania",
            "Luxembourg",
            "Latvia",
            "Morocco",
            "Moldova",
            "Madagascar",
            "Mexico",
            "Marshall Islands",
            "North Macedonia",
            "Mali",
            "Myanmar",
            "Montenegro",
            "Northern Mariana Islands",
            "Mozambique",
            "Mauritania",
            "Mauritius",
            "Malawi",
            "Malaysia",
            "New Caledonia",
            "Niger",
            "Nigeria",
            "Nicaragua",
            "Netherlands",
            "Norway",
            "Nepal",
            "Nauru",
            "New Zealand",
            "Oman",
            "Pakistan",
            "Panama",
            "Peru",
            "Philippines",
            "Palau",
            "Papua New Guinea",
            "Poland",
            "Portugal",
            "Paraguay",
            "French Polynesia",
            "Qatar",
            "Romania",
            "Rwanda",
            "Saudi Arabia",
            "Sudan",
            "Senegal",
            "Solomon Islands",
            "Sierra Leone",
            "El Salvador",
            "San Marino",
            "Somalia",
            "Serbia",
            "South Sudan",
            "Sao Tome and Principe",
            "Slovenia",
            "Sweden",
            "Eswatini",
            "Seychelles",
            "Turks and Caicos Islands",
            "Chad",
            "Togo",
            "Thailand",
            "Tajikistan",
            "Turkmenistan",
            "Tonga",
            "Trinidad and Tobago",
            "Tunisia",
            "Tuvalu",
            "Tanzania",
            "Uganda",
            "Ukraine",
            "Uruguay",
            "United States",
            "Uzbekistan",
            "British Virgin Islands",
            "Vanuatu",
            "Samoa",
            "South Africa",
            "Zambia",
            "Zimbabwe"
           ],
           "legendgroup": "",
           "marker": {
            "color": {
             "bdata": "VVVVVVVV1T9r5/up8dLVP5bDfy+Kf+Y/VVVVVVVV1T9VVVVVVVXVP1VVVVVVVdU/r0/WALCY4z9VVVVVVVXVP1VVVVVVVdU/VVVVVVVV1T9VVVVVVVXVP5cgHbo5Ldg/VVVVVVVV1T8q+cWSXyzJP2LJL5b8YtE//0Yoo7dl1T9VVVVVVVXVPz4jxg+h0cs/FYaIaL7F4z8iDrW+02PlP3HBfGnqX+E/in6eBvOa4z+Ksw+fYVfoPxqbYjjVC+Q/VVVVVVVV5T9VVVVVVVXVPx+KykiBDeE/AAAAAAAAAADWmi49+hzBP23Ms97kwck/LMPRke+51z/6fmq8dJOoP41QRm/LWtU/jVBGb8ta1T9VVVVVVVXVP1VVVVVVVdU/VVVVVVVV1T9VVVVVVVXVP1VVVVVVVdU/LGdvcXefwT9VVVVVVVXVPwOyaE8HxdM/VVVVVVVV1T+SpXqy1RnjP8MgsHJokdU/rBdoSoJ+5D9VVVVVVVXVP3tB/Q/DRd8/c76fGi/dxD+dAMvtrijjP7/KoUW289U/VVVVVVVV1T/+FThusLTlP1VVVVVVVdU/VVVVVVVV1T+63GeTyUi6P8paHRM8mMc/0SLb+X5qzD8JHswT9W/cP1VVVVVVVdU/8Bl2Bci91j+uL9C9oIjUP1VVVVVVVdU/YOXQItv51j+aC0lTKs7WP1VVVVVVVdU/mCfq3whl4D9VVVVVVVXVP/nFkl8s+dU/VVVVVVVV1T8UrkfhehTWPwAAAAAAAAAAVVVVVVVV1T9VVVVVVVXVP1VVVVVVVdU//0Yoo7dl1T9CGJwCz/LNP1VVVVVVVdU/VVVVVVVV5T/TJo719ULOP27LWh0TPNg/S7TLyn940z9VVVVVVVXVP1VVVVVVVdU/yuhtWatj4j8yelvW6pjoP1VVVVVVVdU/VVVVVVVV1T9ERERERETgP90NDfXnHsM//bqgIu55xT+LntMsMbbfP1VVVVVVVdU/VVVVVVVV1T+SxYDSAvrhP6c4+/AZdtU/FwRWDi2y1T9VVVVVVVXVP2bBD1zJkeU/1873U+Ol2z8pYnLQ1SzXP1VVVVVVVdU/y3diiE0w4j+eVit7HFTlP289CtejcNU/fkwptwZZ1D9VVVVVVVXVP6bBs5++2uM/OltN+yQD4T9fU9eDiWLdP1K4HoXrUdg/VVVVVVVV1T9H/cWng4HhP7ByaJHtfNc/AAAAAAAAAADXI8b1B6fZP6C70hp4GuQ/oAapIjlY0T+8dJMYBFbWP4t0LNxfkOE/S6k4+/AZ1j8b1TTMIF/bP6Ix3fwys+o/VVVVVVVV1T9VVVVVVVXVPwG3/WV5zt4/VVVVVVVV1T9VVVVVVVXVP1VVVVVVVdU/UI2XbhKD4D9fQDSPABbkP/J0MvGHnuU/EFg5tMh2vj/Q/syDNMzjP4v113EZv98//0Yoo7dl1T9VVVVVVVXVP5h0mQsYROY/r5ByGNK7yz/So+HBlV/tP2OtjgkezLM/VVVVVVVV1T8AmRrr2TjhP5iZmZmZmdk/VVVVVVVV1T9FRZiqpDXXP01iEXOIM+g/LN0kBoGVwz9VVVVVVVXVPxsa6LSBTls//oiN7nDH0j8K2ezDZ9g1P1VVVVVVVdU/jVBGb8ta1T+nOPvwGXbVPwqQe82FpMk/SmIQWDm0yD9VVVVVVVXVP2A7+vM60uI/Yh24HSWx3D8AAAAAAAAAAFVVVVVVVdU/OLmjAELz5D9VVVVVVVXVPwumjazVgdc/EMizB4kS5z8LhTAKm1fiPw==",
             "dtype": "f8"
            },
            "coloraxis": "coloraxis",
            "size": {
             "bdata": "wRZswRbagkCdSn5lR/NNQL0VFAHt1DpAdxKpao3kWUDf2ajvbJRkQMMGcfPki2BALlXc/GuDMEAW+KfMZAFaQHBY+4a1F2pAVECg9aUDW0C+M4xpWlJeQBpTC+UUtX5Ak9k8Dl3Gd0A4BGhPVPpcQKSEw0VBoFNARH+3RTibTUDhehSuLxxQQBSFnQyNHEdAeep6DCQiMUBCIImNvNAlQLavV0YJ9zhAeaUtp/B6MEDt9U/01LIQQMRzw2MqIyBANfaelmv3EEAzGz82DVFrQAt6CC9bDTpAhwewwsHJYkAvQYkgdrtWQOUvlp5FuUtAlhtBkAvRRkBdUzp4nvB6QCs9DoInplhAQD20VAYEWkC7wRT5rM91QO/u7u7u4nFA/NoMQvKdYUDPwIIBVE5hQM96hu85xm1APGFtnNnWR0CN3pa1OoZWQN4CCYofOWJAvnQ7IsZ7bEA5mJ/01n0yQFrWtWydsE9AVfIBoB1LQEBNLAi7rLBXQDclBUIyXT9ANV8lH7u6XUCyvUYEcCcyQFX5cfM/CklA3xQiGUfdXkAlH8L2+AYiQJIAym4aPnFA07GKODbJSkD74m+ah4RhQGOv155KNUtA4avYkxbmUUCaSUBOuZhOQFs4iinzv1RA397e3t5idUAjqRqfOT9kQMsDknWuxHJAlDMNEHNrEEALDW4eVpxWQCj6iUeUgFFAt8hHEqJ/eUC42UT7r9laQK5Rogdl9mJA9kal6GFvYkBMMl4YFXx9QFcPsBMDSlJAIZ44j+MSWEBFZbLzYZ16QKmFaHkdQ2lA7w85DxJWcEBVKlDjfcheQK1tD/ERhXVAL5LlJZjdHEDYTQCz2+9WQNoYQu8SsFdAW7AFW7B1Y0B8y53Ktt1uQAOnNXBaa4FAGoka5CO7SkBom35/NgQQQDMzMzMzZG5Ai06EKXnYdUDuZeO3/mhSQKas1Gkba0ZAqi1f+vmbbkC6NvPLY4o+QEulkLjAfVRAgFp6a8QKVEAmJ+hO1ORIQPReo9OPTlBAhC3Ygi2obUAhoTefVD9SQMUnGu2iyzFALNG/GtBHVEB9r+ZEFktHQOXDuF+X1FlA+xewe7KSQ0Dzt2NnOtoRQOouar03fYNAItoWxBXmaUC9hbHshslZQKLTO1JqFy9AaNXvCVS5MkCEhmdEx15tQPw12HMqR0tA53Yqjw4lgEA0WyNT9nQtQFCw09EHUmlAMzMzMzMxgkA9Y7PX4lQzQM6A0zZ7OS1At0JxK5QNc0ARy/qJN+BMQHo2qz63pzlAPycFR4p8d0A1eI5A0VZDQKpSj5jNrDVA7+E/eACfXkDQWABzVCJcQOeVu28dnzBASyHz2VcSU0A+OWb6WhVuQHbprTDa6FRAstdJBv+MgEAzHfjN+1otQJVObok6DDlAmRtGHQDNVUBL6C9PRZk6QA/+/GPYZ1tAMPRovmawckAAAAAAAByCQNBhJEXjijpANr76mIa4U0C9hzlKCe4wQFRVVVXVT2xATX7kVvkYWkA9QlzOzmo5QGIHm7cPVlFA9uuSyofBakAtxPzxbVxHQENEcxE8VytAX5sl38XsY0DUiww1UodhQOqGZOYZalFAST5tgRiULUCf9Emf9FliQOwprKewpnBA0bmklKtEU0AiIiIiIqp1QHgWtZxZNVFAHzjygejPa0AT22FovUdTQFmhFe2iazNAc2QjNO0ZQkA8u5Pu9LxTQCEiIiIi8m5AgbfhXkOEOEAq8Z1xFLlSQFU0O65H9khA7i2t5XOjOUCAL0HcfxFEQA==",
             "dtype": "f8"
            },
            "sizemode": "area",
            "sizeref": 0.40873110465116275,
            "symbol": "circle"
           },
           "mode": "markers",
           "name": "",
           "orientation": "v",
           "showlegend": false,
           "type": "scatter",
           "x": {
            "bdata": "wRZswRbagkCdSn5lR/NNQL0VFAHt1DpAdxKpao3kWUDf2ajvbJRkQMMGcfPki2BALlXc/GuDMEAW+KfMZAFaQHBY+4a1F2pAVECg9aUDW0C+M4xpWlJeQBpTC+UUtX5Ak9k8Dl3Gd0A4BGhPVPpcQKSEw0VBoFNARH+3RTibTUDhehSuLxxQQBSFnQyNHEdAeep6DCQiMUBCIImNvNAlQLavV0YJ9zhAeaUtp/B6MEDt9U/01LIQQMRzw2MqIyBANfaelmv3EEAzGz82DVFrQAt6CC9bDTpAhwewwsHJYkAvQYkgdrtWQOUvlp5FuUtAlhtBkAvRRkBdUzp4nvB6QCs9DoInplhAQD20VAYEWkC7wRT5rM91QO/u7u7u4nFA/NoMQvKdYUDPwIIBVE5hQM96hu85xm1APGFtnNnWR0CN3pa1OoZWQN4CCYofOWJAvnQ7IsZ7bEA5mJ/01n0yQFrWtWydsE9AVfIBoB1LQEBNLAi7rLBXQDclBUIyXT9ANV8lH7u6XUCyvUYEcCcyQFX5cfM/CklA3xQiGUfdXkAlH8L2+AYiQJIAym4aPnFA07GKODbJSkD74m+ah4RhQGOv155KNUtA4avYkxbmUUCaSUBOuZhOQFs4iinzv1RA397e3t5idUAjqRqfOT9kQMsDknWuxHJAlDMNEHNrEEALDW4eVpxWQCj6iUeUgFFAt8hHEqJ/eUC42UT7r9laQK5Rogdl9mJA9kal6GFvYkBMMl4YFXx9QFcPsBMDSlJAIZ44j+MSWEBFZbLzYZ16QKmFaHkdQ2lA7w85DxJWcEBVKlDjfcheQK1tD/ERhXVAL5LlJZjdHEDYTQCz2+9WQNoYQu8SsFdAW7AFW7B1Y0B8y53Ktt1uQAOnNXBaa4FAGoka5CO7SkBom35/NgQQQDMzMzMzZG5Ai06EKXnYdUDuZeO3/mhSQKas1Gkba0ZAqi1f+vmbbkC6NvPLY4o+QEulkLjAfVRAgFp6a8QKVEAmJ+hO1ORIQPReo9OPTlBAhC3Ygi2obUAhoTefVD9SQMUnGu2iyzFALNG/GtBHVEB9r+ZEFktHQOXDuF+X1FlA+xewe7KSQ0Dzt2NnOtoRQOouar03fYNAItoWxBXmaUC9hbHshslZQKLTO1JqFy9AaNXvCVS5MkCEhmdEx15tQPw12HMqR0tA53Yqjw4lgEA0WyNT9nQtQFCw09EHUmlAMzMzMzMxgkA9Y7PX4lQzQM6A0zZ7OS1At0JxK5QNc0ARy/qJN+BMQHo2qz63pzlAPycFR4p8d0A1eI5A0VZDQKpSj5jNrDVA7+E/eACfXkDQWABzVCJcQOeVu28dnzBASyHz2VcSU0A+OWb6WhVuQHbprTDa6FRAstdJBv+MgEAzHfjN+1otQJVObok6DDlAmRtGHQDNVUBL6C9PRZk6QA/+/GPYZ1tAMPRovmawckAAAAAAAByCQNBhJEXjijpANr76mIa4U0C9hzlKCe4wQFRVVVXVT2xATX7kVvkYWkA9QlzOzmo5QGIHm7cPVlFA9uuSyofBakAtxPzxbVxHQENEcxE8VytAX5sl38XsY0DUiww1UodhQOqGZOYZalFAST5tgRiULUCf9Emf9FliQOwprKewpnBA0bmklKtEU0AiIiIiIqp1QHgWtZxZNVFAHzjygejPa0AT22FovUdTQFmhFe2iazNAc2QjNO0ZQkA8u5Pu9LxTQCEiIiIi8m5AgbfhXkOEOEAq8Z1xFLlSQFU0O65H9khA7i2t5XOjOUCAL0HcfxFEQA==",
            "dtype": "f8"
           },
           "xaxis": "x",
           "y": {
            "bdata": "VVVVVVVV1T9r5/up8dLVP5bDfy+Kf+Y/VVVVVVVV1T9VVVVVVVXVP1VVVVVVVdU/r0/WALCY4z9VVVVVVVXVP1VVVVVVVdU/VVVVVVVV1T9VVVVVVVXVP5cgHbo5Ldg/VVVVVVVV1T8q+cWSXyzJP2LJL5b8YtE//0Yoo7dl1T9VVVVVVVXVPz4jxg+h0cs/FYaIaL7F4z8iDrW+02PlP3HBfGnqX+E/in6eBvOa4z+Ksw+fYVfoPxqbYjjVC+Q/VVVVVVVV5T9VVVVVVVXVPx+KykiBDeE/AAAAAAAAAADWmi49+hzBP23Ms97kwck/LMPRke+51z/6fmq8dJOoP41QRm/LWtU/jVBGb8ta1T9VVVVVVVXVP1VVVVVVVdU/VVVVVVVV1T9VVVVVVVXVP1VVVVVVVdU/LGdvcXefwT9VVVVVVVXVPwOyaE8HxdM/VVVVVVVV1T+SpXqy1RnjP8MgsHJokdU/rBdoSoJ+5D9VVVVVVVXVP3tB/Q/DRd8/c76fGi/dxD+dAMvtrijjP7/KoUW289U/VVVVVVVV1T/+FThusLTlP1VVVVVVVdU/VVVVVVVV1T+63GeTyUi6P8paHRM8mMc/0SLb+X5qzD8JHswT9W/cP1VVVVVVVdU/8Bl2Bci91j+uL9C9oIjUP1VVVVVVVdU/YOXQItv51j+aC0lTKs7WP1VVVVVVVdU/mCfq3whl4D9VVVVVVVXVP/nFkl8s+dU/VVVVVVVV1T8UrkfhehTWPwAAAAAAAAAAVVVVVVVV1T9VVVVVVVXVP1VVVVVVVdU//0Yoo7dl1T9CGJwCz/LNP1VVVVVVVdU/VVVVVVVV5T/TJo719ULOP27LWh0TPNg/S7TLyn940z9VVVVVVVXVP1VVVVVVVdU/yuhtWatj4j8yelvW6pjoP1VVVVVVVdU/VVVVVVVV1T9ERERERETgP90NDfXnHsM//bqgIu55xT+LntMsMbbfP1VVVVVVVdU/VVVVVVVV1T+SxYDSAvrhP6c4+/AZdtU/FwRWDi2y1T9VVVVVVVXVP2bBD1zJkeU/1873U+Ol2z8pYnLQ1SzXP1VVVVVVVdU/y3diiE0w4j+eVit7HFTlP289CtejcNU/fkwptwZZ1D9VVVVVVVXVP6bBs5++2uM/OltN+yQD4T9fU9eDiWLdP1K4HoXrUdg/VVVVVVVV1T9H/cWng4HhP7ByaJHtfNc/AAAAAAAAAADXI8b1B6fZP6C70hp4GuQ/oAapIjlY0T+8dJMYBFbWP4t0LNxfkOE/S6k4+/AZ1j8b1TTMIF/bP6Ix3fwys+o/VVVVVVVV1T9VVVVVVVXVPwG3/WV5zt4/VVVVVVVV1T9VVVVVVVXVP1VVVVVVVdU/UI2XbhKD4D9fQDSPABbkP/J0MvGHnuU/EFg5tMh2vj/Q/syDNMzjP4v113EZv98//0Yoo7dl1T9VVVVVVVXVP5h0mQsYROY/r5ByGNK7yz/So+HBlV/tP2OtjgkezLM/VVVVVVVV1T8AmRrr2TjhP5iZmZmZmdk/VVVVVVVV1T9FRZiqpDXXP01iEXOIM+g/LN0kBoGVwz9VVVVVVVXVPxsa6LSBTls//oiN7nDH0j8K2ezDZ9g1P1VVVVVVVdU/jVBGb8ta1T+nOPvwGXbVPwqQe82FpMk/SmIQWDm0yD9VVVVVVVXVP2A7+vM60uI/Yh24HSWx3D8AAAAAAAAAAFVVVVVVVdU/OLmjAELz5D9VVVVVVVXVPwumjazVgdc/EMizB4kS5z8LhTAKm1fiPw==",
            "dtype": "f8"
           },
           "yaxis": "y"
          }
         ],
         "name": "2020"
        },
        {
         "data": [
          {
           "hovertemplate": "<b>%{hovertext}</b><br><br>Year=2021<br>Population Density (per km²)=%{marker.size}<br>Multidimensional Poverty Index (MPI)=%{marker.color}<extra></extra>",
           "hovertext": [
            "Aruba",
            "Afghanistan",
            "Angola",
            "Albania",
            "Andorra",
            "United Arab Emirates",
            "Argentina",
            "Armenia",
            "Antigua and Barbuda",
            "Austria",
            "Azerbaijan",
            "Burundi",
            "Belgium",
            "Benin",
            "Burkina Faso",
            "Bulgaria",
            "Bosnia and Herzegovina",
            "Belarus",
            "Belize",
            "Bolivia",
            "Brazil",
            "Bhutan",
            "Botswana",
            "Central African Republic",
            "Canada",
            "Switzerland",
            "Chile",
            "China",
            "Cote d'Ivoire",
            "Cameroon",
            "Colombia",
            "Comoros",
            "Costa Rica",
            "Cuba",
            "Curacao",
            "Cayman Islands",
            "Cyprus",
            "Czechia",
            "Germany",
            "Djibouti",
            "Dominica",
            "Denmark",
            "Dominican Republic",
            "Algeria",
            "Ecuador",
            "Eritrea",
            "Spain",
            "Estonia",
            "Ethiopia",
            "Finland",
            "Fiji",
            "France",
            "Gabon",
            "United Kingdom",
            "Georgia",
            "Ghana",
            "Guinea",
            "Guinea-Bissau",
            "Equatorial Guinea",
            "Greece",
            "Grenada",
            "Guatemala",
            "Guam",
            "Guyana",
            "Honduras",
            "Croatia",
            "Haiti",
            "Hungary",
            "Indonesia",
            "Isle of Man",
            "India",
            "Ireland",
            "Iraq",
            "Israel",
            "Italy",
            "Jamaica",
            "Jordan",
            "Japan",
            "Kazakhstan",
            "Kenya",
            "Cambodia",
            "Kiribati",
            "Kuwait",
            "Lebanon",
            "Liberia",
            "Libya",
            "Liechtenstein",
            "Sri Lanka",
            "Lesotho",
            "Lithuania",
            "Luxembourg",
            "Latvia",
            "Morocco",
            "Moldova",
            "Madagascar",
            "Mexico",
            "Marshall Islands",
            "North Macedonia",
            "Mali",
            "Myanmar",
            "Montenegro",
            "Northern Mariana Islands",
            "Mozambique",
            "Mauritania",
            "Mauritius",
            "Malawi",
            "Malaysia",
            "New Caledonia",
            "Niger",
            "Nigeria",
            "Nicaragua",
            "Netherlands",
            "Norway",
            "Nepal",
            "Nauru",
            "New Zealand",
            "Oman",
            "Pakistan",
            "Panama",
            "Peru",
            "Philippines",
            "Palau",
            "Papua New Guinea",
            "Poland",
            "Portugal",
            "Paraguay",
            "French Polynesia",
            "Qatar",
            "Romania",
            "Rwanda",
            "Saudi Arabia",
            "Sudan",
            "Senegal",
            "Solomon Islands",
            "Sierra Leone",
            "El Salvador",
            "San Marino",
            "Somalia",
            "Serbia",
            "South Sudan",
            "Sao Tome and Principe",
            "Slovenia",
            "Sweden",
            "Eswatini",
            "Seychelles",
            "Turks and Caicos Islands",
            "Chad",
            "Togo",
            "Thailand",
            "Tajikistan",
            "Turkmenistan",
            "Tonga",
            "Trinidad and Tobago",
            "Tunisia",
            "Tuvalu",
            "Tanzania",
            "Uganda",
            "Ukraine",
            "Uruguay",
            "United States",
            "Uzbekistan",
            "British Virgin Islands",
            "Vanuatu",
            "Samoa",
            "South Africa",
            "Zambia",
            "Zimbabwe"
           ],
           "legendgroup": "",
           "marker": {
            "color": {
             "bdata": "AAAAAAAAAABr5/up8dLVP1IJqojK8dY/AAAAAAAAAAAAAAAAAAAAAAAAAAAAAAAACSiaBArW0T8AAAAAAAAAAAAAAAAAAAAAAAAAAAAAAAAAAAAAAAAAAME8Uf9GKNM/AAAAAAAAAAC+WPKLJb/IP0jhehSuR9E/PuDsw2fYRT8AAAAAAAAAADjvO7TcvaE/j7RS+Nzp0T8xaXO4mhbVPxbLe0TIzco//ZwPKK7Q0T+LbOf7qfHaPzUV3U4quOM/VVVVVVVV1T8AAAAAAAAAAHjIsTnga8k/AAAAAAAAAADaay4kTam4P1Eqzj58hr0/opBJ5D18oD877jUXkqakPwAAAAAAAAAAAAAAAAAAAAAAAAAAAAAAAAAAAAAAAAAAAAAAAAAAAAAAAAAAAAAAAAAAAAAAAAAA+qjSr/h/wD8AAAAAAAAAAAAAAAAAAAAA/kypOPvweT/N0OBdqK/QPwAAAAAAAAAAk/0+xfgb0z8AAAAAAAAAAGx8lDzG18M/u+ZC0pSKwz+2MgTa4/bQP9LbslbHBNc/AAAAAAAAAAB8zYWkKRXXPwAAAAAAAAAAAAAAAAAAAACLirMPn2GnP34jlNHbssY/MQisHFpkyz/ozjkgESfAPwAAAAAAAAAA/i7dJAaBlT8G6SYxCKx8PwAAAAAAAAAADAIrhxbZ1j/dYJ6ofyOUPwAAAAAAAAAA2myDz58p3z8AAAAAAAAAAAvi7MNn2GU/AAAAAAAAAAAL4uzDZ9hVPwAAAAAAAAAAAAAAAAAAAAAAAAAAAAAAAAAAAAAAAAAAAAAAAAAAAAAK2ezDZ9g1PwAAAAAAAAAAVVVVVVVV1T8LdNpApw20P9nd3d3d3a0/+n5qvHSTmD8AAAAAAAAAAFVVVVVVVdU/vcqhRbbzzT9JxdmHz7DbPwAAAAAAAAAAAAAAAAAAAACPe82FpCnFP0K+wK9HKqY/AAAAAAAAAABbM0LVvwfFPwAAAAAAAAAAAAAAAAAAAABJxdmHz7DLPwAAAAAAAAAAPuDsw2fYRT8AAAAAAAAAAJa/wBR40to/MzMzMzMz2z9Cz3CUDMmePwAAAAAAAAAALsZuVn3G0z/XItTS/SjhPwvi7MNn2FU/5/up8dJN0j8AAAAAAAAAAOjANEPe1uM/qPkmKJjb4D9I4XoUrkfBP4uKsw+fYac/AAAAAAAAAABmFHHz9cTSP83qmODBPKE/AAAAAAAAAAD7phrgUVDQP4Y3QqFX6dI/f8QgsHJokT9e9uEz7AqQP1Sp2QOtlMs//hARERERgT+v4M6mzGHbP2T4PMyOP+U/AAAAAAAAAAAAAAAAAAAAAFdxy6WgsdE/AAAAAAAAAAAAAAAAAAAAAAAAAAAAAAAAE9nO91PjxT9UJVoFdQfTPzJsblfRvuQ/ShvotIFOuz+nSZOaIjHRP+3u7u7u7s4/BukmMQisfD8AAAAAAAAAAEf/Y2mizNY/AAAAAAAAAAAS/WTI65fiP1TyiyW/WLI/AAAAAAAAAADyfwmi7Q7KP7p2vp8aL60/808mEF94qT9lybjF/UWUP4L1uvYiiOU/GHYFyL3mwj8AAAAAAAAAAAvi7MNn2FU/JGL6fCWe0j/zlB7BXyGyP9iDjYRaMcs/Ctnsw2fYNT/8qfHSTWJQP6KbxCCwcsg/koqzD59hxz8AAAAAAAAAANFUHIHmUNA/5SgMRR5QvT8K2ezDZ9g1PwAAAAAAAAAA+luy2sLq4j8XBFYOLbLVP2wFyL3mQqI/sSgX+Bj51z/cl83qFInPPw==",
             "dtype": "f8"
            },
            "coloraxis": "coloraxis",
            "size": {
             "bdata": "q6qqqqqygkCKp0SKEqpOQD9NRiv2sjtAjqAcIWWnWUBLccjYa9dkQIgwrp1Y2mBA7PReN62OMEAyOJEvMQNaQJCnBHlKPGpAcZOB8dchW0AJBNEYrXReQKhgOmoujn9Ar23senffd0DW+8ooJr1dQDUmdgkWGVRA/7Q56QJpTUCuR+F6RLBPQPf54CLA60ZAXj8dzQZVMUCfujoe9AkmQMwk/3JHEjlApbnidLmYMEA8RedoD/MQQJuNuklpaSBAT7XAmosPEUAE1/L1yYZrQBBU6cndKjpAndMeNg3OYkBeX9zZOk1XQJLrJLM5eExADGE/v3ARR0DofOQnRnp7QC4rA8pTxlhAkIXkMLzjWUBsv6NXxnJ1QN7d3d3dQXJA1r5h7RvSYUC1+5d1x/5gQJMGuQh0yW1AtpJNjIgvSEBA7jUXkmZWQC1DHOtiTWJAVVbqsxDIbECRJkIxH8syQBxuzAat709ARvIUx8aVQEDM1QZ4e7tXQFvLNCe2ZT9AjuczoN6IXkDoIDjHFDEyQMBbqg9/FklA87YIKIf5XkAirpDconIiQA1awsH5TXFAscraiTqvSkCLrMz4P91hQMXpUPwN5ktAXaeyEddNUkDaUp0t1VlPQK/OP6C0f1RAMzMzMzNzdUDER7cOSodkQLSX0F5C83JASkfxhxmVEEAhVbTXtf1WQCWnfNxBWFFAkDExgojLeUDMyjTJnr1aQAF3LjW4GGNAHJWih71xYkA2GQjEbrp9QAwv3l3Si1JAV/aXXJOeWEB6y/pG8hB7QJZIwkPbIWlAwg1b9lNgcEDBH3xqXlpfQLVQ7gbKa3VA5njmvcZAHUCtFwy7g2BXQJWs9ZlKClhAUD1jF6/PY0ANCode9ZZuQABl+k+md4FAbASmMCJNS0BqKpC4dTgQQGZmZmZmnG5AYmJqLvEUdkDdtaj5aZ9SQLNpZ5kLZ0ZAQK2yn9wTb0DY7xEovEg+QGcwdxDXslRARXzS7TS+U0CftNCyKYdJQIQvOSmEalBAISIiIiK6bECQAKzjfA9SQGkJVOM1WTJA6G6SZxpsVEDlOvGzdTxHQOgIFG01iFlAZ1krsh0pREDKh2tiGGASQDyMzJN6foNAK+xIi1SUakBqu2P2DBZaQC5Z9Ad9NC9AWJpjkuFXM0Cg3KusDP5tQAOhntaym0tAPVt48L86gECB8xevZZ0tQDoibnLOw2lAmpmZmZlLgkDpBs57ZmkzQMavR2P3FC1A/9rARntqc0AZtrzc/zlNQATnjCgt5zlAeeYOnD2zd0BbDZ4jUFRDQFaBL1FAHDZAmlqavmEvXkD9eF+Xnk9cQHyLIsny0jBA2Y0Hp4kcU0Cm1z4LJfhqQBERERERwVRArUl+tdnqgED+8+0rCaQsQOlXh35UuzlAhXMJrnxcVkBh6tllwD47QMaApzVCCVxA3+zin5nAckDv7u7u7taBQJ9i3479hztASvenhhuJU0DnnD3v0DExQDMzMzOz5mxAFjXEx/UqWkAMGBc4AZI5QC2ntvuliVFAQdFWg+f4akAyLGoh5s9HQHrjbCyBTCxAnb5FPYlnZEBVjHHCsoxhQIUlZFyazVFA+g9Va/MuLkDHcRzHcVBiQJWjhcFJqXBAGv77E2NjU0DNzMzMzDx1QNaF+oyQu1FAsOKv4Lu4bEDR/bEpnB1TQPbg6s1PaDNAaSbR5zghQkB28uNU2R9UQFK4HoXrgW9AIWRQmnoXOUC5N9T9k+JSQBbsnvd8WUlABEzzs9xeOkAD1CJl8WpEQA==",
             "dtype": "f8"
            },
            "sizemode": "area",
            "sizeref": 0.40873110465116275,
            "symbol": "circle"
           },
           "mode": "markers",
           "name": "",
           "orientation": "v",
           "showlegend": false,
           "type": "scatter",
           "x": {
            "bdata": "q6qqqqqygkCKp0SKEqpOQD9NRiv2sjtAjqAcIWWnWUBLccjYa9dkQIgwrp1Y2mBA7PReN62OMEAyOJEvMQNaQJCnBHlKPGpAcZOB8dchW0AJBNEYrXReQKhgOmoujn9Ar23senffd0DW+8ooJr1dQDUmdgkWGVRA/7Q56QJpTUCuR+F6RLBPQPf54CLA60ZAXj8dzQZVMUCfujoe9AkmQMwk/3JHEjlApbnidLmYMEA8RedoD/MQQJuNuklpaSBAT7XAmosPEUAE1/L1yYZrQBBU6cndKjpAndMeNg3OYkBeX9zZOk1XQJLrJLM5eExADGE/v3ARR0DofOQnRnp7QC4rA8pTxlhAkIXkMLzjWUBsv6NXxnJ1QN7d3d3dQXJA1r5h7RvSYUC1+5d1x/5gQJMGuQh0yW1AtpJNjIgvSEBA7jUXkmZWQC1DHOtiTWJAVVbqsxDIbECRJkIxH8syQBxuzAat709ARvIUx8aVQEDM1QZ4e7tXQFvLNCe2ZT9AjuczoN6IXkDoIDjHFDEyQMBbqg9/FklA87YIKIf5XkAirpDconIiQA1awsH5TXFAscraiTqvSkCLrMz4P91hQMXpUPwN5ktAXaeyEddNUkDaUp0t1VlPQK/OP6C0f1RAMzMzMzNzdUDER7cOSodkQLSX0F5C83JASkfxhxmVEEAhVbTXtf1WQCWnfNxBWFFAkDExgojLeUDMyjTJnr1aQAF3LjW4GGNAHJWih71xYkA2GQjEbrp9QAwv3l3Si1JAV/aXXJOeWEB6y/pG8hB7QJZIwkPbIWlAwg1b9lNgcEDBH3xqXlpfQLVQ7gbKa3VA5njmvcZAHUCtFwy7g2BXQJWs9ZlKClhAUD1jF6/PY0ANCode9ZZuQABl+k+md4FAbASmMCJNS0BqKpC4dTgQQGZmZmZmnG5AYmJqLvEUdkDdtaj5aZ9SQLNpZ5kLZ0ZAQK2yn9wTb0DY7xEovEg+QGcwdxDXslRARXzS7TS+U0CftNCyKYdJQIQvOSmEalBAISIiIiK6bECQAKzjfA9SQGkJVOM1WTJA6G6SZxpsVEDlOvGzdTxHQOgIFG01iFlAZ1krsh0pREDKh2tiGGASQDyMzJN6foNAK+xIi1SUakBqu2P2DBZaQC5Z9Ad9NC9AWJpjkuFXM0Cg3KusDP5tQAOhntaym0tAPVt48L86gECB8xevZZ0tQDoibnLOw2lAmpmZmZlLgkDpBs57ZmkzQMavR2P3FC1A/9rARntqc0AZtrzc/zlNQATnjCgt5zlAeeYOnD2zd0BbDZ4jUFRDQFaBL1FAHDZAmlqavmEvXkD9eF+Xnk9cQHyLIsny0jBA2Y0Hp4kcU0Cm1z4LJfhqQBERERERwVRArUl+tdnqgED+8+0rCaQsQOlXh35UuzlAhXMJrnxcVkBh6tllwD47QMaApzVCCVxA3+zin5nAckDv7u7u7taBQJ9i3479hztASvenhhuJU0DnnD3v0DExQDMzMzOz5mxAFjXEx/UqWkAMGBc4AZI5QC2ntvuliVFAQdFWg+f4akAyLGoh5s9HQHrjbCyBTCxAnb5FPYlnZEBVjHHCsoxhQIUlZFyazVFA+g9Va/MuLkDHcRzHcVBiQJWjhcFJqXBAGv77E2NjU0DNzMzMzDx1QNaF+oyQu1FAsOKv4Lu4bEDR/bEpnB1TQPbg6s1PaDNAaSbR5zghQkB28uNU2R9UQFK4HoXrgW9AIWRQmnoXOUC5N9T9k+JSQBbsnvd8WUlABEzzs9xeOkAD1CJl8WpEQA==",
            "dtype": "f8"
           },
           "xaxis": "x",
           "y": {
            "bdata": "AAAAAAAAAABr5/up8dLVP1IJqojK8dY/AAAAAAAAAAAAAAAAAAAAAAAAAAAAAAAACSiaBArW0T8AAAAAAAAAAAAAAAAAAAAAAAAAAAAAAAAAAAAAAAAAAME8Uf9GKNM/AAAAAAAAAAC+WPKLJb/IP0jhehSuR9E/PuDsw2fYRT8AAAAAAAAAADjvO7TcvaE/j7RS+Nzp0T8xaXO4mhbVPxbLe0TIzco//ZwPKK7Q0T+LbOf7qfHaPzUV3U4quOM/VVVVVVVV1T8AAAAAAAAAAHjIsTnga8k/AAAAAAAAAADaay4kTam4P1Eqzj58hr0/opBJ5D18oD877jUXkqakPwAAAAAAAAAAAAAAAAAAAAAAAAAAAAAAAAAAAAAAAAAAAAAAAAAAAAAAAAAAAAAAAAAAAAAAAAAA+qjSr/h/wD8AAAAAAAAAAAAAAAAAAAAA/kypOPvweT/N0OBdqK/QPwAAAAAAAAAAk/0+xfgb0z8AAAAAAAAAAGx8lDzG18M/u+ZC0pSKwz+2MgTa4/bQP9LbslbHBNc/AAAAAAAAAAB8zYWkKRXXPwAAAAAAAAAAAAAAAAAAAACLirMPn2GnP34jlNHbssY/MQisHFpkyz/ozjkgESfAPwAAAAAAAAAA/i7dJAaBlT8G6SYxCKx8PwAAAAAAAAAADAIrhxbZ1j/dYJ6ofyOUPwAAAAAAAAAA2myDz58p3z8AAAAAAAAAAAvi7MNn2GU/AAAAAAAAAAAL4uzDZ9hVPwAAAAAAAAAAAAAAAAAAAAAAAAAAAAAAAAAAAAAAAAAAAAAAAAAAAAAK2ezDZ9g1PwAAAAAAAAAAVVVVVVVV1T8LdNpApw20P9nd3d3d3a0/+n5qvHSTmD8AAAAAAAAAAFVVVVVVVdU/vcqhRbbzzT9JxdmHz7DbPwAAAAAAAAAAAAAAAAAAAACPe82FpCnFP0K+wK9HKqY/AAAAAAAAAABbM0LVvwfFPwAAAAAAAAAAAAAAAAAAAABJxdmHz7DLPwAAAAAAAAAAPuDsw2fYRT8AAAAAAAAAAJa/wBR40to/MzMzMzMz2z9Cz3CUDMmePwAAAAAAAAAALsZuVn3G0z/XItTS/SjhPwvi7MNn2FU/5/up8dJN0j8AAAAAAAAAAOjANEPe1uM/qPkmKJjb4D9I4XoUrkfBP4uKsw+fYac/AAAAAAAAAABmFHHz9cTSP83qmODBPKE/AAAAAAAAAAD7phrgUVDQP4Y3QqFX6dI/f8QgsHJokT9e9uEz7AqQP1Sp2QOtlMs//hARERERgT+v4M6mzGHbP2T4PMyOP+U/AAAAAAAAAAAAAAAAAAAAAFdxy6WgsdE/AAAAAAAAAAAAAAAAAAAAAAAAAAAAAAAAE9nO91PjxT9UJVoFdQfTPzJsblfRvuQ/ShvotIFOuz+nSZOaIjHRP+3u7u7u7s4/BukmMQisfD8AAAAAAAAAAEf/Y2mizNY/AAAAAAAAAAAS/WTI65fiP1TyiyW/WLI/AAAAAAAAAADyfwmi7Q7KP7p2vp8aL60/808mEF94qT9lybjF/UWUP4L1uvYiiOU/GHYFyL3mwj8AAAAAAAAAAAvi7MNn2FU/JGL6fCWe0j/zlB7BXyGyP9iDjYRaMcs/Ctnsw2fYNT/8qfHSTWJQP6KbxCCwcsg/koqzD59hxz8AAAAAAAAAANFUHIHmUNA/5SgMRR5QvT8K2ezDZ9g1PwAAAAAAAAAA+luy2sLq4j8XBFYOLbLVP2wFyL3mQqI/sSgX+Bj51z/cl83qFInPPw==",
            "dtype": "f8"
           },
           "yaxis": "y"
          }
         ],
         "name": "2021"
        },
        {
         "data": [
          {
           "hovertemplate": "<b>%{hovertext}</b><br><br>Year=2022<br>Population Density (per km²)=%{marker.size}<br>Multidimensional Poverty Index (MPI)=%{marker.color}<extra></extra>",
           "hovertext": [
            "Aruba",
            "Afghanistan",
            "Angola",
            "Albania",
            "Andorra",
            "United Arab Emirates",
            "Argentina",
            "Armenia",
            "Antigua and Barbuda",
            "Austria",
            "Azerbaijan",
            "Burundi",
            "Belgium",
            "Benin",
            "Burkina Faso",
            "Bulgaria",
            "Bosnia and Herzegovina",
            "Belarus",
            "Belize",
            "Bolivia",
            "Brazil",
            "Bhutan",
            "Botswana",
            "Central African Republic",
            "Canada",
            "Switzerland",
            "Chile",
            "China",
            "Cote d'Ivoire",
            "Cameroon",
            "Colombia",
            "Comoros",
            "Costa Rica",
            "Cuba",
            "Curacao",
            "Cayman Islands",
            "Cyprus",
            "Czechia",
            "Germany",
            "Djibouti",
            "Dominica",
            "Denmark",
            "Dominican Republic",
            "Algeria",
            "Ecuador",
            "Eritrea",
            "Spain",
            "Estonia",
            "Ethiopia",
            "Finland",
            "Fiji",
            "France",
            "Gabon",
            "United Kingdom",
            "Georgia",
            "Ghana",
            "Guinea",
            "Guinea-Bissau",
            "Equatorial Guinea",
            "Greece",
            "Grenada",
            "Guatemala",
            "Guam",
            "Guyana",
            "Honduras",
            "Croatia",
            "Haiti",
            "Hungary",
            "Indonesia",
            "Isle of Man",
            "India",
            "Ireland",
            "Iraq",
            "Israel",
            "Italy",
            "Jamaica",
            "Jordan",
            "Japan",
            "Kazakhstan",
            "Kenya",
            "Cambodia",
            "Kiribati",
            "Kuwait",
            "Lebanon",
            "Liberia",
            "Libya",
            "Liechtenstein",
            "Sri Lanka",
            "Lesotho",
            "Lithuania",
            "Luxembourg",
            "Latvia",
            "Morocco",
            "Moldova",
            "Madagascar",
            "Mexico",
            "Marshall Islands",
            "North Macedonia",
            "Mali",
            "Myanmar",
            "Montenegro",
            "Northern Mariana Islands",
            "Mozambique",
            "Mauritania",
            "Mauritius",
            "Malawi",
            "Malaysia",
            "New Caledonia",
            "Niger",
            "Nigeria",
            "Nicaragua",
            "Netherlands",
            "Norway",
            "Nepal",
            "Nauru",
            "New Zealand",
            "Oman",
            "Pakistan",
            "Panama",
            "Peru",
            "Philippines",
            "Palau",
            "Papua New Guinea",
            "Poland",
            "Portugal",
            "Paraguay",
            "French Polynesia",
            "Qatar",
            "Romania",
            "Rwanda",
            "Saudi Arabia",
            "Sudan",
            "Senegal",
            "Solomon Islands",
            "Sierra Leone",
            "El Salvador",
            "San Marino",
            "Somalia",
            "Serbia",
            "South Sudan",
            "Sao Tome and Principe",
            "Suriname",
            "Slovenia",
            "Sweden",
            "Eswatini",
            "Seychelles",
            "Turks and Caicos Islands",
            "Chad",
            "Togo",
            "Thailand",
            "Tajikistan",
            "Turkmenistan",
            "Tonga",
            "Trinidad and Tobago",
            "Tunisia",
            "Tuvalu",
            "Tanzania",
            "Uganda",
            "Ukraine",
            "Uruguay",
            "United States",
            "Uzbekistan",
            "British Virgin Islands",
            "Vanuatu",
            "Samoa",
            "South Africa",
            "Zambia",
            "Zimbabwe"
           ],
           "legendgroup": "",
           "marker": {
            "color": {
             "bdata": "Ctnsw2fYNT/elrU6JnjYP2/SrLCnaNY/AAAAAAAAAAAAAAAAAAAAAAAAAAAAAAAAZi/MvETR0T8AAAAAAAAAAAAAAAAAAAAAAAAAAAAAAAAAAAAAAAAAAIlBYOXQItM/AAAAAAAAAACPwvUoXI/CPyz5xZJfLNE/AAAAAAAAAAAAAAAAAAAAANTxn0ozv9c/i1VctX6M0T/l1M33/L3UP6KW10Z3fso/XtnpqbDA0T+s1THBg3naPxwSkXawmeU/VVVVVVVV1T8AAAAAAAAAAJs++4lcSMk/AAAAAAAAAAAK5on6N0K5P7pY8oslv7g/EeInKwW+nD/N6pjgwTyhPwAAAAAAAAAAAAAAAAAAAAAAAAAAAAAAAAAAAAAAAAAAAAAAAAAAAAAAAAAAAAAAAAAAAAAAAAAAT0vazu/hvz8AAAAAAAAAAAAAAAAAAAAA/kypOPvweT++fVF1rHvQPwAAAAAAAAAA9rh8p3ot0j8AAAAAAAAAAIJ6kECkYNA/MDMzMzMzwz8bK/fRfp/SPzsb6LSBTps/AAAAAAAAAAC4HoXrUbjWPwAAAAAAAAAAAAAAAAAAAADLvxHK6G2pP395ov6NUMY/GqGM3pa1yj8iXI/C9Si8PwAAAAAAAAAAXK2OCR7Mkz/6fmq8dJNoPwAAAAAAAAAA0gY6baDT1j89Rm/LWh2TPwAAAAAAAAAANDY8f0zj3T8AAAAAAAAAAAAAAAAAAAAAVVVVVVVV1T8L4uzDZ9hlPwAAAAAAAAAAAAAAAAAAAAAAAAAAAAAAAAAAAAAAAAAAAAAAAAAAAAAAAAAAAAAAAOWOj+uhZXo/VVVVVVVV1T90FK5H4Xq0P5wAuddcSJo/PUZvy1odkz8AAAAAAAAAADKvuVpaEMc/5Yn6N0IZzT+IiIiIiIjoPz8W4o+oT9Q/VVVVVVVV1T9TVVVVVVXFP8ju5YL3lKQ/4inbZ9vLzT9Hr8b5KB7FPwAAAAAAAAAAVVVVVVVV1T/dJAaBlUPLPwAAAAAAAAAAD3mVcaYfzj8AAAAAAAAAAP5quunGm9o/01xImlJxtj9frdIovgefPwAAAAAAAAAAiNkHrPnE0j8b6LSBThvgPwAAAAAAAAAA3OlmMFro0j8AAAAAAAAAAD6ZqQ8lStI/UHq0r1+X4D/YQKcNdNrAPwrXo3A9Cqc/AAAAAAAAAACabw5Mt7LSPxkEVg4tsp0/AAAAAAAAAAD8vXH3T03QP7z5UJL3g9I//hARERERkT/+EBERERGRP6yE28f3Dss/HXgwT9S/kT94AcJMKJDWP95KACwu7t8/AAAAAAAAAAAAAAAAAAAAANlY2K1jc9c/AAAAAAAAAAAAAAAAAAAAAAAAAAAAAAAAq44JHswTxT/NpHDeHq/SP0QIolKJK+E/KgisHFpkuz+eCOE8ZufQP4WkKRVnH84/AAAAAAAAAAAAAAAAAAAAAP2ioqkHb9Y/AAAAAAAAAAAlwEzdBHTiP+ThS8CpNcU/iyW/WPKL1T8AAAAAAAAAAIaMaMA+38k/aJHtfD81rj8AAAAAAAAAABtrdUzwYI4/AOXT3JrY4j90Bci95kLCPwrZ7MNn2DU/AAAAAAAAAAAQq98kAnbSP1VVVVVVVdU/AAAAAAAAAAAAAAAAAAAAALDhfuaFW6I/6sNn2BUgxz8qQO41F5LGP1VVVVVVVdU/8TQ+NGlV0D8q1Qb+xt28PwAAAAAAAAAAlgUSQWHQtz+uXVCD0F7TPxcEVg4tstU/CtejcD0Kpz9Rn3CKIVjXPzvs1zgLUc4/",
             "dtype": "f8"
            },
            "coloraxis": "coloraxis",
            "size": {
             "bdata": "VVVVVVWhgkCMCwTVlhtPQAaPVS5flTxAmDUTXwhYWUBicgUxuTJlQCMNI1OOu2FAICcBHp+XMEAqAa0EtBJaQAAAAAAAYGpACyexmpVkW0B77UPPwXdeQO2KRdzfNYBAE6R7vg4ReEB8vx8UlIFeQKim26RFkVRAbVVCUS44TUB7FK5HAUxPQEgNCuq/vEZAJ6LolO6nMUCwzwNABkwmQMbilS1wKTlAb4hpwbS2MEDGYUAgiTgRQHxuz+vaXSBA038r7QtfEUApiKz2g8FrQE11pD4pTDpAxz26yGvNYkBPHuWsO+VXQOP7m6ZgOk1Awal4st1QR0DsaeZx9AN8QCV+Romf4VhA9zeZ7ZS+WUDUnATiQh11QLu7u7u7pHJAOSs/Ic4CYkBG3C8bq0NhQLr1GDSfAG5AWNaEywuHSEBTKs4+fEZWQF3+Q/ptcmJAT8LGmhwPbUA7NAekHBgzQJkAy2uJGFBAhGSzIeLgQEDQkxJFUOdXQMLUc17c0T9AylGAKJhYX0BGZRhZwz0yQNaXClp9KUlAhDbA1X8TX0D1fTdj/N0iQImWbq36dnFAAwmBz2W2SkCQuDkO6zViQF96ElWTmUxAAh7sohm4UkDzlSFQChNQQAGhdUkBPlRAy8nJycl9dUCtKr2SttFkQOQ4juM4HnNATfY58SO1EEAR6DbZO2FXQAjWfECKPVFAj8ZQnW8WekCZlWmSPataQDlaSAlUPWNAMzMzMzNzYkA1xML/zvZ9QDeKh4/Q6lJAcTpt6c4wWUDXAsIei5p7QP699pnaFGlAr0xG53xicEBC5956G+RfQFa20NGAU3VAyXYEwyevHUAj1CZ/tdRXQIe6o+C+XFhA0BuEs1QiZEAIC8A+5BhwQOBNBN5EjIFAldJqDJfkS0AJry81CmwQQJqZmZmZ2m5AAq8/GFIbdkA1LoFHNNNSQAQOqf6KlkZA3/FQEe+1b0Cru9WVuTM+QEZJ3XqO6FRANJzcn3M7U0B5etCLZitKQABV8RxJilBAzczMzMzUa0BZVVN/5AFSQC5Ej9a36DJAdnVxRE6QVEDWp5vbiy5HQAjPESjaCllAbDN75H7DREDBGpN38esSQKZJBMl1b4NAFm3SIVNFa0Bw0gX4hGZaQFcBRAX1aS9Ah2hOYIz7M0BtetAlbqBuQGvGYogU90tAUpK7pYtigEB93cmi0OEtQNnpjamb+WlAZmZmZmZwgkDHuwoQCm8zQIFXUJsfkS5AzOMqFiHCc0D5ajpHVZlNQCEf9GwWJzpA16f1gI7hd0Bs8ByBok1DQAfa5dPPhzZA2u7FOP0NXkDxOtegVIJcQD6If8MZBDFAMjoQ4sgmU0AL/a6AQpxsQDTw8PugrFRAOMxwS8NKgUD9ldk9TO8tQKZQdDO9bzpALwYaFoHrVkBxqXPnuec7QJV93JLQqlxAeUJV8G3TckCrqqqqqpSBQNRL+Xh1YDxAKPXtPMwMU0AXoF3MxHAxQAAAAACAd21AFdM89kUPD0COS5ZcqTdaQEH8nSu1vjlASOtMT4G3UUA7R6Boq0lwQOF6FK5HIUhAIzsIkk1LLUA+kB9F4+NkQAa9Uv0yjWFA4nvCcw8wUkCAPrn1d8UuQImIiIiIPGJAvYX0FtKjcEDTaKQ+hIBTQBERERER0XRA5Butm39DUkDBMt/AO5ltQKBdvtOZtlFAuVwLvtpfM0AJZnZcBTxCQBK80cVyiFRAH4XrUbjub0BZUMkJOa45QB8Mm+EXBFNAHMh4Rua1SUAmUIHKCBw7QL/dCAXkxERA",
             "dtype": "f8"
            },
            "sizemode": "area",
            "sizeref": 0.40873110465116275,
            "symbol": "circle"
           },
           "mode": "markers",
           "name": "",
           "orientation": "v",
           "showlegend": false,
           "type": "scatter",
           "x": {
            "bdata": "VVVVVVWhgkCMCwTVlhtPQAaPVS5flTxAmDUTXwhYWUBicgUxuTJlQCMNI1OOu2FAICcBHp+XMEAqAa0EtBJaQAAAAAAAYGpACyexmpVkW0B77UPPwXdeQO2KRdzfNYBAE6R7vg4ReEB8vx8UlIFeQKim26RFkVRAbVVCUS44TUB7FK5HAUxPQEgNCuq/vEZAJ6LolO6nMUCwzwNABkwmQMbilS1wKTlAb4hpwbS2MEDGYUAgiTgRQHxuz+vaXSBA038r7QtfEUApiKz2g8FrQE11pD4pTDpAxz26yGvNYkBPHuWsO+VXQOP7m6ZgOk1Awal4st1QR0DsaeZx9AN8QCV+Romf4VhA9zeZ7ZS+WUDUnATiQh11QLu7u7u7pHJAOSs/Ic4CYkBG3C8bq0NhQLr1GDSfAG5AWNaEywuHSEBTKs4+fEZWQF3+Q/ptcmJAT8LGmhwPbUA7NAekHBgzQJkAy2uJGFBAhGSzIeLgQEDQkxJFUOdXQMLUc17c0T9AylGAKJhYX0BGZRhZwz0yQNaXClp9KUlAhDbA1X8TX0D1fTdj/N0iQImWbq36dnFAAwmBz2W2SkCQuDkO6zViQF96ElWTmUxAAh7sohm4UkDzlSFQChNQQAGhdUkBPlRAy8nJycl9dUCtKr2SttFkQOQ4juM4HnNATfY58SO1EEAR6DbZO2FXQAjWfECKPVFAj8ZQnW8WekCZlWmSPataQDlaSAlUPWNAMzMzMzNzYkA1xML/zvZ9QDeKh4/Q6lJAcTpt6c4wWUDXAsIei5p7QP699pnaFGlAr0xG53xicEBC5956G+RfQFa20NGAU3VAyXYEwyevHUAj1CZ/tdRXQIe6o+C+XFhA0BuEs1QiZEAIC8A+5BhwQOBNBN5EjIFAldJqDJfkS0AJry81CmwQQJqZmZmZ2m5AAq8/GFIbdkA1LoFHNNNSQAQOqf6KlkZA3/FQEe+1b0Cru9WVuTM+QEZJ3XqO6FRANJzcn3M7U0B5etCLZitKQABV8RxJilBAzczMzMzUa0BZVVN/5AFSQC5Ej9a36DJAdnVxRE6QVEDWp5vbiy5HQAjPESjaCllAbDN75H7DREDBGpN38esSQKZJBMl1b4NAFm3SIVNFa0Bw0gX4hGZaQFcBRAX1aS9Ah2hOYIz7M0BtetAlbqBuQGvGYogU90tAUpK7pYtigEB93cmi0OEtQNnpjamb+WlAZmZmZmZwgkDHuwoQCm8zQIFXUJsfkS5AzOMqFiHCc0D5ajpHVZlNQCEf9GwWJzpA16f1gI7hd0Bs8ByBok1DQAfa5dPPhzZA2u7FOP0NXkDxOtegVIJcQD6If8MZBDFAMjoQ4sgmU0AL/a6AQpxsQDTw8PugrFRAOMxwS8NKgUD9ldk9TO8tQKZQdDO9bzpALwYaFoHrVkBxqXPnuec7QJV93JLQqlxAeUJV8G3TckCrqqqqqpSBQNRL+Xh1YDxAKPXtPMwMU0AXoF3MxHAxQAAAAACAd21AFdM89kUPD0COS5ZcqTdaQEH8nSu1vjlASOtMT4G3UUA7R6Boq0lwQOF6FK5HIUhAIzsIkk1LLUA+kB9F4+NkQAa9Uv0yjWFA4nvCcw8wUkCAPrn1d8UuQImIiIiIPGJAvYX0FtKjcEDTaKQ+hIBTQBERERER0XRA5Butm39DUkDBMt/AO5ltQKBdvtOZtlFAuVwLvtpfM0AJZnZcBTxCQBK80cVyiFRAH4XrUbjub0BZUMkJOa45QB8Mm+EXBFNAHMh4Rua1SUAmUIHKCBw7QL/dCAXkxERA",
            "dtype": "f8"
           },
           "xaxis": "x",
           "y": {
            "bdata": "Ctnsw2fYNT/elrU6JnjYP2/SrLCnaNY/AAAAAAAAAAAAAAAAAAAAAAAAAAAAAAAAZi/MvETR0T8AAAAAAAAAAAAAAAAAAAAAAAAAAAAAAAAAAAAAAAAAAIlBYOXQItM/AAAAAAAAAACPwvUoXI/CPyz5xZJfLNE/AAAAAAAAAAAAAAAAAAAAANTxn0ozv9c/i1VctX6M0T/l1M33/L3UP6KW10Z3fso/XtnpqbDA0T+s1THBg3naPxwSkXawmeU/VVVVVVVV1T8AAAAAAAAAAJs++4lcSMk/AAAAAAAAAAAK5on6N0K5P7pY8oslv7g/EeInKwW+nD/N6pjgwTyhPwAAAAAAAAAAAAAAAAAAAAAAAAAAAAAAAAAAAAAAAAAAAAAAAAAAAAAAAAAAAAAAAAAAAAAAAAAAT0vazu/hvz8AAAAAAAAAAAAAAAAAAAAA/kypOPvweT++fVF1rHvQPwAAAAAAAAAA9rh8p3ot0j8AAAAAAAAAAIJ6kECkYNA/MDMzMzMzwz8bK/fRfp/SPzsb6LSBTps/AAAAAAAAAAC4HoXrUbjWPwAAAAAAAAAAAAAAAAAAAADLvxHK6G2pP395ov6NUMY/GqGM3pa1yj8iXI/C9Si8PwAAAAAAAAAAXK2OCR7Mkz/6fmq8dJNoPwAAAAAAAAAA0gY6baDT1j89Rm/LWh2TPwAAAAAAAAAANDY8f0zj3T8AAAAAAAAAAAAAAAAAAAAAVVVVVVVV1T8L4uzDZ9hlPwAAAAAAAAAAAAAAAAAAAAAAAAAAAAAAAAAAAAAAAAAAAAAAAAAAAAAAAAAAAAAAAOWOj+uhZXo/VVVVVVVV1T90FK5H4Xq0P5wAuddcSJo/PUZvy1odkz8AAAAAAAAAADKvuVpaEMc/5Yn6N0IZzT+IiIiIiIjoPz8W4o+oT9Q/VVVVVVVV1T9TVVVVVVXFP8ju5YL3lKQ/4inbZ9vLzT9Hr8b5KB7FPwAAAAAAAAAAVVVVVVVV1T/dJAaBlUPLPwAAAAAAAAAAD3mVcaYfzj8AAAAAAAAAAP5quunGm9o/01xImlJxtj9frdIovgefPwAAAAAAAAAAiNkHrPnE0j8b6LSBThvgPwAAAAAAAAAA3OlmMFro0j8AAAAAAAAAAD6ZqQ8lStI/UHq0r1+X4D/YQKcNdNrAPwrXo3A9Cqc/AAAAAAAAAACabw5Mt7LSPxkEVg4tsp0/AAAAAAAAAAD8vXH3T03QP7z5UJL3g9I//hARERERkT/+EBERERGRP6yE28f3Dss/HXgwT9S/kT94AcJMKJDWP95KACwu7t8/AAAAAAAAAAAAAAAAAAAAANlY2K1jc9c/AAAAAAAAAAAAAAAAAAAAAAAAAAAAAAAAq44JHswTxT/NpHDeHq/SP0QIolKJK+E/KgisHFpkuz+eCOE8ZufQP4WkKRVnH84/AAAAAAAAAAAAAAAAAAAAAP2ioqkHb9Y/AAAAAAAAAAAlwEzdBHTiP+ThS8CpNcU/iyW/WPKL1T8AAAAAAAAAAIaMaMA+38k/aJHtfD81rj8AAAAAAAAAABtrdUzwYI4/AOXT3JrY4j90Bci95kLCPwrZ7MNn2DU/AAAAAAAAAAAQq98kAnbSP1VVVVVVVdU/AAAAAAAAAAAAAAAAAAAAALDhfuaFW6I/6sNn2BUgxz8qQO41F5LGP1VVVVVVVdU/8TQ+NGlV0D8q1Qb+xt28PwAAAAAAAAAAlgUSQWHQtz+uXVCD0F7TPxcEVg4tstU/CtejcD0Kpz9Rn3CKIVjXPzvs1zgLUc4/",
            "dtype": "f8"
           },
           "yaxis": "y"
          }
         ],
         "name": "2022"
        }
       ],
       "layout": {
        "coloraxis": {
         "colorbar": {
          "title": {
           "text": "MPI"
          }
         },
         "colorscale": [
          [
           0,
           "#000004"
          ],
          [
           0.1111111111111111,
           "#1b0c41"
          ],
          [
           0.2222222222222222,
           "#4a0c6b"
          ],
          [
           0.3333333333333333,
           "#781c6d"
          ],
          [
           0.4444444444444444,
           "#a52c60"
          ],
          [
           0.5555555555555556,
           "#cf4446"
          ],
          [
           0.6666666666666666,
           "#ed6925"
          ],
          [
           0.7777777777777778,
           "#fb9b06"
          ],
          [
           0.8888888888888888,
           "#f7d13d"
          ],
          [
           1,
           "#fcffa4"
          ]
         ]
        },
        "legend": {
         "itemsizing": "constant",
         "tracegroupgap": 0
        },
        "sliders": [
         {
          "active": 0,
          "currentvalue": {
           "prefix": "Year="
          },
          "len": 0.9,
          "pad": {
           "b": 10,
           "t": 60
          },
          "steps": [
           {
            "args": [
             [
              "2000"
             ],
             {
              "frame": {
               "duration": 0,
               "redraw": false
              },
              "fromcurrent": true,
              "mode": "immediate",
              "transition": {
               "duration": 0,
               "easing": "linear"
              }
             }
            ],
            "label": "2000",
            "method": "animate"
           },
           {
            "args": [
             [
              "2001"
             ],
             {
              "frame": {
               "duration": 0,
               "redraw": false
              },
              "fromcurrent": true,
              "mode": "immediate",
              "transition": {
               "duration": 0,
               "easing": "linear"
              }
             }
            ],
            "label": "2001",
            "method": "animate"
           },
           {
            "args": [
             [
              "2002"
             ],
             {
              "frame": {
               "duration": 0,
               "redraw": false
              },
              "fromcurrent": true,
              "mode": "immediate",
              "transition": {
               "duration": 0,
               "easing": "linear"
              }
             }
            ],
            "label": "2002",
            "method": "animate"
           },
           {
            "args": [
             [
              "2003"
             ],
             {
              "frame": {
               "duration": 0,
               "redraw": false
              },
              "fromcurrent": true,
              "mode": "immediate",
              "transition": {
               "duration": 0,
               "easing": "linear"
              }
             }
            ],
            "label": "2003",
            "method": "animate"
           },
           {
            "args": [
             [
              "2004"
             ],
             {
              "frame": {
               "duration": 0,
               "redraw": false
              },
              "fromcurrent": true,
              "mode": "immediate",
              "transition": {
               "duration": 0,
               "easing": "linear"
              }
             }
            ],
            "label": "2004",
            "method": "animate"
           },
           {
            "args": [
             [
              "2005"
             ],
             {
              "frame": {
               "duration": 0,
               "redraw": false
              },
              "fromcurrent": true,
              "mode": "immediate",
              "transition": {
               "duration": 0,
               "easing": "linear"
              }
             }
            ],
            "label": "2005",
            "method": "animate"
           },
           {
            "args": [
             [
              "2006"
             ],
             {
              "frame": {
               "duration": 0,
               "redraw": false
              },
              "fromcurrent": true,
              "mode": "immediate",
              "transition": {
               "duration": 0,
               "easing": "linear"
              }
             }
            ],
            "label": "2006",
            "method": "animate"
           },
           {
            "args": [
             [
              "2007"
             ],
             {
              "frame": {
               "duration": 0,
               "redraw": false
              },
              "fromcurrent": true,
              "mode": "immediate",
              "transition": {
               "duration": 0,
               "easing": "linear"
              }
             }
            ],
            "label": "2007",
            "method": "animate"
           },
           {
            "args": [
             [
              "2008"
             ],
             {
              "frame": {
               "duration": 0,
               "redraw": false
              },
              "fromcurrent": true,
              "mode": "immediate",
              "transition": {
               "duration": 0,
               "easing": "linear"
              }
             }
            ],
            "label": "2008",
            "method": "animate"
           },
           {
            "args": [
             [
              "2009"
             ],
             {
              "frame": {
               "duration": 0,
               "redraw": false
              },
              "fromcurrent": true,
              "mode": "immediate",
              "transition": {
               "duration": 0,
               "easing": "linear"
              }
             }
            ],
            "label": "2009",
            "method": "animate"
           },
           {
            "args": [
             [
              "2010"
             ],
             {
              "frame": {
               "duration": 0,
               "redraw": false
              },
              "fromcurrent": true,
              "mode": "immediate",
              "transition": {
               "duration": 0,
               "easing": "linear"
              }
             }
            ],
            "label": "2010",
            "method": "animate"
           },
           {
            "args": [
             [
              "2011"
             ],
             {
              "frame": {
               "duration": 0,
               "redraw": false
              },
              "fromcurrent": true,
              "mode": "immediate",
              "transition": {
               "duration": 0,
               "easing": "linear"
              }
             }
            ],
            "label": "2011",
            "method": "animate"
           },
           {
            "args": [
             [
              "2012"
             ],
             {
              "frame": {
               "duration": 0,
               "redraw": false
              },
              "fromcurrent": true,
              "mode": "immediate",
              "transition": {
               "duration": 0,
               "easing": "linear"
              }
             }
            ],
            "label": "2012",
            "method": "animate"
           },
           {
            "args": [
             [
              "2013"
             ],
             {
              "frame": {
               "duration": 0,
               "redraw": false
              },
              "fromcurrent": true,
              "mode": "immediate",
              "transition": {
               "duration": 0,
               "easing": "linear"
              }
             }
            ],
            "label": "2013",
            "method": "animate"
           },
           {
            "args": [
             [
              "2014"
             ],
             {
              "frame": {
               "duration": 0,
               "redraw": false
              },
              "fromcurrent": true,
              "mode": "immediate",
              "transition": {
               "duration": 0,
               "easing": "linear"
              }
             }
            ],
            "label": "2014",
            "method": "animate"
           },
           {
            "args": [
             [
              "2015"
             ],
             {
              "frame": {
               "duration": 0,
               "redraw": false
              },
              "fromcurrent": true,
              "mode": "immediate",
              "transition": {
               "duration": 0,
               "easing": "linear"
              }
             }
            ],
            "label": "2015",
            "method": "animate"
           },
           {
            "args": [
             [
              "2016"
             ],
             {
              "frame": {
               "duration": 0,
               "redraw": false
              },
              "fromcurrent": true,
              "mode": "immediate",
              "transition": {
               "duration": 0,
               "easing": "linear"
              }
             }
            ],
            "label": "2016",
            "method": "animate"
           },
           {
            "args": [
             [
              "2017"
             ],
             {
              "frame": {
               "duration": 0,
               "redraw": false
              },
              "fromcurrent": true,
              "mode": "immediate",
              "transition": {
               "duration": 0,
               "easing": "linear"
              }
             }
            ],
            "label": "2017",
            "method": "animate"
           },
           {
            "args": [
             [
              "2018"
             ],
             {
              "frame": {
               "duration": 0,
               "redraw": false
              },
              "fromcurrent": true,
              "mode": "immediate",
              "transition": {
               "duration": 0,
               "easing": "linear"
              }
             }
            ],
            "label": "2018",
            "method": "animate"
           },
           {
            "args": [
             [
              "2019"
             ],
             {
              "frame": {
               "duration": 0,
               "redraw": false
              },
              "fromcurrent": true,
              "mode": "immediate",
              "transition": {
               "duration": 0,
               "easing": "linear"
              }
             }
            ],
            "label": "2019",
            "method": "animate"
           },
           {
            "args": [
             [
              "2020"
             ],
             {
              "frame": {
               "duration": 0,
               "redraw": false
              },
              "fromcurrent": true,
              "mode": "immediate",
              "transition": {
               "duration": 0,
               "easing": "linear"
              }
             }
            ],
            "label": "2020",
            "method": "animate"
           },
           {
            "args": [
             [
              "2021"
             ],
             {
              "frame": {
               "duration": 0,
               "redraw": false
              },
              "fromcurrent": true,
              "mode": "immediate",
              "transition": {
               "duration": 0,
               "easing": "linear"
              }
             }
            ],
            "label": "2021",
            "method": "animate"
           },
           {
            "args": [
             [
              "2022"
             ],
             {
              "frame": {
               "duration": 0,
               "redraw": false
              },
              "fromcurrent": true,
              "mode": "immediate",
              "transition": {
               "duration": 0,
               "easing": "linear"
              }
             }
            ],
            "label": "2022",
            "method": "animate"
           }
          ],
          "x": 0.1,
          "xanchor": "left",
          "y": 0,
          "yanchor": "top"
         }
        ],
        "template": {
         "data": {
          "bar": [
           {
            "error_x": {
             "color": "#2a3f5f"
            },
            "error_y": {
             "color": "#2a3f5f"
            },
            "marker": {
             "line": {
              "color": "#E5ECF6",
              "width": 0.5
             },
             "pattern": {
              "fillmode": "overlay",
              "size": 10,
              "solidity": 0.2
             }
            },
            "type": "bar"
           }
          ],
          "barpolar": [
           {
            "marker": {
             "line": {
              "color": "#E5ECF6",
              "width": 0.5
             },
             "pattern": {
              "fillmode": "overlay",
              "size": 10,
              "solidity": 0.2
             }
            },
            "type": "barpolar"
           }
          ],
          "carpet": [
           {
            "aaxis": {
             "endlinecolor": "#2a3f5f",
             "gridcolor": "white",
             "linecolor": "white",
             "minorgridcolor": "white",
             "startlinecolor": "#2a3f5f"
            },
            "baxis": {
             "endlinecolor": "#2a3f5f",
             "gridcolor": "white",
             "linecolor": "white",
             "minorgridcolor": "white",
             "startlinecolor": "#2a3f5f"
            },
            "type": "carpet"
           }
          ],
          "choropleth": [
           {
            "colorbar": {
             "outlinewidth": 0,
             "ticks": ""
            },
            "type": "choropleth"
           }
          ],
          "contour": [
           {
            "colorbar": {
             "outlinewidth": 0,
             "ticks": ""
            },
            "colorscale": [
             [
              0,
              "#0d0887"
             ],
             [
              0.1111111111111111,
              "#46039f"
             ],
             [
              0.2222222222222222,
              "#7201a8"
             ],
             [
              0.3333333333333333,
              "#9c179e"
             ],
             [
              0.4444444444444444,
              "#bd3786"
             ],
             [
              0.5555555555555556,
              "#d8576b"
             ],
             [
              0.6666666666666666,
              "#ed7953"
             ],
             [
              0.7777777777777778,
              "#fb9f3a"
             ],
             [
              0.8888888888888888,
              "#fdca26"
             ],
             [
              1,
              "#f0f921"
             ]
            ],
            "type": "contour"
           }
          ],
          "contourcarpet": [
           {
            "colorbar": {
             "outlinewidth": 0,
             "ticks": ""
            },
            "type": "contourcarpet"
           }
          ],
          "heatmap": [
           {
            "colorbar": {
             "outlinewidth": 0,
             "ticks": ""
            },
            "colorscale": [
             [
              0,
              "#0d0887"
             ],
             [
              0.1111111111111111,
              "#46039f"
             ],
             [
              0.2222222222222222,
              "#7201a8"
             ],
             [
              0.3333333333333333,
              "#9c179e"
             ],
             [
              0.4444444444444444,
              "#bd3786"
             ],
             [
              0.5555555555555556,
              "#d8576b"
             ],
             [
              0.6666666666666666,
              "#ed7953"
             ],
             [
              0.7777777777777778,
              "#fb9f3a"
             ],
             [
              0.8888888888888888,
              "#fdca26"
             ],
             [
              1,
              "#f0f921"
             ]
            ],
            "type": "heatmap"
           }
          ],
          "histogram": [
           {
            "marker": {
             "pattern": {
              "fillmode": "overlay",
              "size": 10,
              "solidity": 0.2
             }
            },
            "type": "histogram"
           }
          ],
          "histogram2d": [
           {
            "colorbar": {
             "outlinewidth": 0,
             "ticks": ""
            },
            "colorscale": [
             [
              0,
              "#0d0887"
             ],
             [
              0.1111111111111111,
              "#46039f"
             ],
             [
              0.2222222222222222,
              "#7201a8"
             ],
             [
              0.3333333333333333,
              "#9c179e"
             ],
             [
              0.4444444444444444,
              "#bd3786"
             ],
             [
              0.5555555555555556,
              "#d8576b"
             ],
             [
              0.6666666666666666,
              "#ed7953"
             ],
             [
              0.7777777777777778,
              "#fb9f3a"
             ],
             [
              0.8888888888888888,
              "#fdca26"
             ],
             [
              1,
              "#f0f921"
             ]
            ],
            "type": "histogram2d"
           }
          ],
          "histogram2dcontour": [
           {
            "colorbar": {
             "outlinewidth": 0,
             "ticks": ""
            },
            "colorscale": [
             [
              0,
              "#0d0887"
             ],
             [
              0.1111111111111111,
              "#46039f"
             ],
             [
              0.2222222222222222,
              "#7201a8"
             ],
             [
              0.3333333333333333,
              "#9c179e"
             ],
             [
              0.4444444444444444,
              "#bd3786"
             ],
             [
              0.5555555555555556,
              "#d8576b"
             ],
             [
              0.6666666666666666,
              "#ed7953"
             ],
             [
              0.7777777777777778,
              "#fb9f3a"
             ],
             [
              0.8888888888888888,
              "#fdca26"
             ],
             [
              1,
              "#f0f921"
             ]
            ],
            "type": "histogram2dcontour"
           }
          ],
          "mesh3d": [
           {
            "colorbar": {
             "outlinewidth": 0,
             "ticks": ""
            },
            "type": "mesh3d"
           }
          ],
          "parcoords": [
           {
            "line": {
             "colorbar": {
              "outlinewidth": 0,
              "ticks": ""
             }
            },
            "type": "parcoords"
           }
          ],
          "pie": [
           {
            "automargin": true,
            "type": "pie"
           }
          ],
          "scatter": [
           {
            "fillpattern": {
             "fillmode": "overlay",
             "size": 10,
             "solidity": 0.2
            },
            "type": "scatter"
           }
          ],
          "scatter3d": [
           {
            "line": {
             "colorbar": {
              "outlinewidth": 0,
              "ticks": ""
             }
            },
            "marker": {
             "colorbar": {
              "outlinewidth": 0,
              "ticks": ""
             }
            },
            "type": "scatter3d"
           }
          ],
          "scattercarpet": [
           {
            "marker": {
             "colorbar": {
              "outlinewidth": 0,
              "ticks": ""
             }
            },
            "type": "scattercarpet"
           }
          ],
          "scattergeo": [
           {
            "marker": {
             "colorbar": {
              "outlinewidth": 0,
              "ticks": ""
             }
            },
            "type": "scattergeo"
           }
          ],
          "scattergl": [
           {
            "marker": {
             "colorbar": {
              "outlinewidth": 0,
              "ticks": ""
             }
            },
            "type": "scattergl"
           }
          ],
          "scattermap": [
           {
            "marker": {
             "colorbar": {
              "outlinewidth": 0,
              "ticks": ""
             }
            },
            "type": "scattermap"
           }
          ],
          "scattermapbox": [
           {
            "marker": {
             "colorbar": {
              "outlinewidth": 0,
              "ticks": ""
             }
            },
            "type": "scattermapbox"
           }
          ],
          "scatterpolar": [
           {
            "marker": {
             "colorbar": {
              "outlinewidth": 0,
              "ticks": ""
             }
            },
            "type": "scatterpolar"
           }
          ],
          "scatterpolargl": [
           {
            "marker": {
             "colorbar": {
              "outlinewidth": 0,
              "ticks": ""
             }
            },
            "type": "scatterpolargl"
           }
          ],
          "scatterternary": [
           {
            "marker": {
             "colorbar": {
              "outlinewidth": 0,
              "ticks": ""
             }
            },
            "type": "scatterternary"
           }
          ],
          "surface": [
           {
            "colorbar": {
             "outlinewidth": 0,
             "ticks": ""
            },
            "colorscale": [
             [
              0,
              "#0d0887"
             ],
             [
              0.1111111111111111,
              "#46039f"
             ],
             [
              0.2222222222222222,
              "#7201a8"
             ],
             [
              0.3333333333333333,
              "#9c179e"
             ],
             [
              0.4444444444444444,
              "#bd3786"
             ],
             [
              0.5555555555555556,
              "#d8576b"
             ],
             [
              0.6666666666666666,
              "#ed7953"
             ],
             [
              0.7777777777777778,
              "#fb9f3a"
             ],
             [
              0.8888888888888888,
              "#fdca26"
             ],
             [
              1,
              "#f0f921"
             ]
            ],
            "type": "surface"
           }
          ],
          "table": [
           {
            "cells": {
             "fill": {
              "color": "#EBF0F8"
             },
             "line": {
              "color": "white"
             }
            },
            "header": {
             "fill": {
              "color": "#C8D4E3"
             },
             "line": {
              "color": "white"
             }
            },
            "type": "table"
           }
          ]
         },
         "layout": {
          "annotationdefaults": {
           "arrowcolor": "#2a3f5f",
           "arrowhead": 0,
           "arrowwidth": 1
          },
          "autotypenumbers": "strict",
          "coloraxis": {
           "colorbar": {
            "outlinewidth": 0,
            "ticks": ""
           }
          },
          "colorscale": {
           "diverging": [
            [
             0,
             "#8e0152"
            ],
            [
             0.1,
             "#c51b7d"
            ],
            [
             0.2,
             "#de77ae"
            ],
            [
             0.3,
             "#f1b6da"
            ],
            [
             0.4,
             "#fde0ef"
            ],
            [
             0.5,
             "#f7f7f7"
            ],
            [
             0.6,
             "#e6f5d0"
            ],
            [
             0.7,
             "#b8e186"
            ],
            [
             0.8,
             "#7fbc41"
            ],
            [
             0.9,
             "#4d9221"
            ],
            [
             1,
             "#276419"
            ]
           ],
           "sequential": [
            [
             0,
             "#0d0887"
            ],
            [
             0.1111111111111111,
             "#46039f"
            ],
            [
             0.2222222222222222,
             "#7201a8"
            ],
            [
             0.3333333333333333,
             "#9c179e"
            ],
            [
             0.4444444444444444,
             "#bd3786"
            ],
            [
             0.5555555555555556,
             "#d8576b"
            ],
            [
             0.6666666666666666,
             "#ed7953"
            ],
            [
             0.7777777777777778,
             "#fb9f3a"
            ],
            [
             0.8888888888888888,
             "#fdca26"
            ],
            [
             1,
             "#f0f921"
            ]
           ],
           "sequentialminus": [
            [
             0,
             "#0d0887"
            ],
            [
             0.1111111111111111,
             "#46039f"
            ],
            [
             0.2222222222222222,
             "#7201a8"
            ],
            [
             0.3333333333333333,
             "#9c179e"
            ],
            [
             0.4444444444444444,
             "#bd3786"
            ],
            [
             0.5555555555555556,
             "#d8576b"
            ],
            [
             0.6666666666666666,
             "#ed7953"
            ],
            [
             0.7777777777777778,
             "#fb9f3a"
            ],
            [
             0.8888888888888888,
             "#fdca26"
            ],
            [
             1,
             "#f0f921"
            ]
           ]
          },
          "colorway": [
           "#636efa",
           "#EF553B",
           "#00cc96",
           "#ab63fa",
           "#FFA15A",
           "#19d3f3",
           "#FF6692",
           "#B6E880",
           "#FF97FF",
           "#FECB52"
          ],
          "font": {
           "color": "#2a3f5f"
          },
          "geo": {
           "bgcolor": "white",
           "lakecolor": "white",
           "landcolor": "#E5ECF6",
           "showlakes": true,
           "showland": true,
           "subunitcolor": "white"
          },
          "hoverlabel": {
           "align": "left"
          },
          "hovermode": "closest",
          "mapbox": {
           "style": "light"
          },
          "paper_bgcolor": "white",
          "plot_bgcolor": "#E5ECF6",
          "polar": {
           "angularaxis": {
            "gridcolor": "white",
            "linecolor": "white",
            "ticks": ""
           },
           "bgcolor": "#E5ECF6",
           "radialaxis": {
            "gridcolor": "white",
            "linecolor": "white",
            "ticks": ""
           }
          },
          "scene": {
           "xaxis": {
            "backgroundcolor": "#E5ECF6",
            "gridcolor": "white",
            "gridwidth": 2,
            "linecolor": "white",
            "showbackground": true,
            "ticks": "",
            "zerolinecolor": "white"
           },
           "yaxis": {
            "backgroundcolor": "#E5ECF6",
            "gridcolor": "white",
            "gridwidth": 2,
            "linecolor": "white",
            "showbackground": true,
            "ticks": "",
            "zerolinecolor": "white"
           },
           "zaxis": {
            "backgroundcolor": "#E5ECF6",
            "gridcolor": "white",
            "gridwidth": 2,
            "linecolor": "white",
            "showbackground": true,
            "ticks": "",
            "zerolinecolor": "white"
           }
          },
          "shapedefaults": {
           "line": {
            "color": "#2a3f5f"
           }
          },
          "ternary": {
           "aaxis": {
            "gridcolor": "white",
            "linecolor": "white",
            "ticks": ""
           },
           "baxis": {
            "gridcolor": "white",
            "linecolor": "white",
            "ticks": ""
           },
           "bgcolor": "#E5ECF6",
           "caxis": {
            "gridcolor": "white",
            "linecolor": "white",
            "ticks": ""
           }
          },
          "title": {
           "x": 0.05
          },
          "xaxis": {
           "automargin": true,
           "gridcolor": "white",
           "linecolor": "white",
           "ticks": "",
           "title": {
            "standoff": 15
           },
           "zerolinecolor": "white",
           "zerolinewidth": 2
          },
          "yaxis": {
           "automargin": true,
           "gridcolor": "white",
           "linecolor": "white",
           "ticks": "",
           "title": {
            "standoff": 15
           },
           "zerolinecolor": "white",
           "zerolinewidth": 2
          }
         }
        },
        "title": {
         "text": "Population Density vs. MPI (2000–2022)"
        },
        "transition": {
         "duration": 500
        },
        "updatemenus": [
         {
          "buttons": [
           {
            "args": [
             null,
             {
              "frame": {
               "duration": 500,
               "redraw": false
              },
              "fromcurrent": true,
              "mode": "immediate",
              "transition": {
               "duration": 500,
               "easing": "linear"
              }
             }
            ],
            "label": "&#9654;",
            "method": "animate"
           },
           {
            "args": [
             [
              null
             ],
             {
              "frame": {
               "duration": 0,
               "redraw": false
              },
              "fromcurrent": true,
              "mode": "immediate",
              "transition": {
               "duration": 0,
               "easing": "linear"
              }
             }
            ],
            "label": "&#9724;",
            "method": "animate"
           }
          ],
          "direction": "left",
          "pad": {
           "r": 10,
           "t": 70
          },
          "showactive": false,
          "type": "buttons",
          "x": 0.1,
          "xanchor": "right",
          "y": 0,
          "yanchor": "top"
         }
        ],
        "xaxis": {
         "anchor": "y",
         "domain": [
          0,
          1
         ],
         "title": {
          "text": "Population Density (per km²)"
         }
        },
        "yaxis": {
         "anchor": "x",
         "domain": [
          0,
          1
         ],
         "range": [
          0,
          1
         ],
         "title": {
          "text": "Multidimensional Poverty Index (MPI)"
         }
        }
       }
      }
     },
     "metadata": {},
     "output_type": "display_data"
    }
   ],
   "source": [
    "import pandas as pd\n",
    "import plotly.express as px\n",
    "import warnings\n",
    "import numpy as np\n",
    "\n",
    "# Suppress deprecation warnings\n",
    "warnings.filterwarnings(\"ignore\", category=UserWarning)\n",
    "warnings.filterwarnings(\"ignore\", category=DeprecationWarning)\n",
    "\n",
    "# Load data\n",
    "df = pd.read_csv('povertyindex.csv')\n",
    "\n",
    "# Filter valid entries\n",
    "df = df[\n",
    "    (df['Year'].between(2000, 2022)) &\n",
    "    (df['MPI'] >= 0) & (df['MPI'] <= 1) &\n",
    "    (df['Population_Density'] > 0)\n",
    "].copy()\n",
    "\n",
    "# Remove outliers in Population_Density using percentiles\n",
    "lower_bound = df['Population_Density'].quantile(0.05)\n",
    "upper_bound = df['Population_Density'].quantile(0.95)\n",
    "\n",
    "df = df[\n",
    "    (df['Population_Density'] >= lower_bound) &\n",
    "    (df['Population_Density'] <= upper_bound)\n",
    "]\n",
    "\n",
    "# Create animated scatter plot\n",
    "fig = px.scatter(\n",
    "    df,\n",
    "    x='Population_Density',\n",
    "    y='MPI',\n",
    "    animation_frame='Year',\n",
    "    hover_name='Country',\n",
    "    size='Population_Density',\n",
    "    color='MPI',\n",
    "    color_continuous_scale='Inferno',\n",
    "    range_y=[0, 1],\n",
    "    size_max=40,\n",
    "    title='Population Density vs. MPI (2000–2022)',\n",
    "    labels={\n",
    "        'Population_Density': 'Population Density (per km²)',\n",
    "        'MPI': 'Multidimensional Poverty Index (MPI)'\n",
    "    }\n",
    ")\n",
    "\n",
    "# Improve layout\n",
    "fig.update_layout(\n",
    "    xaxis_title='Population Density (per km²)',\n",
    "    yaxis_title='Multidimensional Poverty Index (MPI)',\n",
    "    coloraxis_colorbar=dict(title='MPI'),\n",
    "    transition_duration=500\n",
    ")\n",
    "\n",
    "# Save and show\n",
    "fig.write_html('animated_mpi_vs_density.html')\n",
    "fig.show()\n"
   ]
  },
  {
   "cell_type": "code",
   "execution_count": 50,
   "id": "4ab63e3f",
   "metadata": {},
   "outputs": [],
   "source": [
    "\n",
    "df = pd.read_csv('povertyindex.csv')\n",
    "year = 2015\n",
    "low_density = df['Population_Density'] < 20\n",
    "high_mpi = df['MPI'] > 0.4\n",
    "mismatch = low_density & high_mpi\n",
    "\n",
    "filtered = df[df['Year'] == year].copy()\n",
    "filtered['Mismatch'] = ['Mismatch' if m else 'Normal' for m in mismatch[filtered.index]]\n",
    "\n",
    "fig = px.choropleth(\n",
    "    filtered,\n",
    "    locations='Country Code',\n",
    "    color='Mismatch',\n",
    "    hover_name='Country',\n",
    "    color_discrete_map={'Mismatch': 'orange', 'Normal': 'lightblue'},\n",
    "    title=f'Poverty-Density Mismatch Map ({year})'\n",
    ")\n",
    "fig.update_geos(showcoastlines=True, showland=True, fitbounds=\"locations\")\n",
    "fig.write_html('map_poverty_density_mismatch.html')\n"
   ]
  },
  {
   "cell_type": "code",
   "execution_count": 51,
   "id": "3ef774fd",
   "metadata": {},
   "outputs": [],
   "source": [
    "\n",
    "df = pd.read_csv('povertyindex.csv')\n",
    "year = 2015\n",
    "filtered = df[df['Year'] == year]\n",
    "\n",
    "fig = px.scatter_3d(\n",
    "    filtered,\n",
    "    x='Population_Density',\n",
    "    y='MPI',\n",
    "    z='GDP_Growth',\n",
    "    color='Region' if 'Region' in df.columns else 'Country',\n",
    "    hover_name='Country',\n",
    "    title='3D Relationship: Population Density, MPI, and GDP Growth'\n",
    ")\n",
    "fig.write_html('3d_density_mpi_gdp.html')\n"
   ]
  }
 ],
 "metadata": {
  "kernelspec": {
   "display_name": "Python 3",
   "language": "python",
   "name": "python3"
  },
  "language_info": {
   "codemirror_mode": {
    "name": "ipython",
    "version": 3
   },
   "file_extension": ".py",
   "mimetype": "text/x-python",
   "name": "python",
   "nbconvert_exporter": "python",
   "pygments_lexer": "ipython3",
   "version": "3.12.6"
  }
 },
 "nbformat": 4,
 "nbformat_minor": 5
}
